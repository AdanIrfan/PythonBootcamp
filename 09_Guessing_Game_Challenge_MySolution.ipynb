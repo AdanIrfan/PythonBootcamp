{
  "cells": [
    {
      "cell_type": "markdown",
      "metadata": {
        "id": "view-in-github",
        "colab_type": "text"
      },
      "source": [
        "<a href=\"https://colab.research.google.com/github/loubnakamalrady/Complete-Python-3-Bootcamp/blob/loubnakamalrady-patch-1/09_Guessing_Game_Challenge_MySolution.ipynb\" target=\"_parent\"><img src=\"https://colab.research.google.com/assets/colab-badge.svg\" alt=\"Open In Colab\"/></a>"
      ]
    },
    {
      "cell_type": "markdown",
      "metadata": {
        "id": "odKkepKz8faS"
      },
      "source": [
        "___\n",
        "\n",
        "<a href='https://www.udemy.com/user/joseportilla/'><img src='../Pierian_Data_Logo.png'/></a>\n",
        "___\n",
        "<center><em>Content Copyright by Pierian Data</em></center>"
      ]
    },
    {
      "cell_type": "markdown",
      "metadata": {
        "id": "j8_AGKYJ8faT"
      },
      "source": [
        "# Guessing Game Challenge\n",
        "\n",
        "Let's use `while` loops to create a guessing game.\n",
        "\n",
        "The Challenge:\n",
        "\n",
        "Write a program that picks a random integer from 1 to 100, and has players guess the number. The rules are:\n",
        "\n",
        "1. If a player's guess is less than 1 or greater than 100, say \"OUT OF BOUNDS\"\n",
        "2. On a player's first turn, if their guess is\n",
        " * within 10 of the number, return \"WARM!\"\n",
        " * further than 10 away from the number, return \"COLD!\"\n",
        "3. On all subsequent turns, if a guess is \n",
        " * closer to the number than the previous guess return \"WARMER!\"\n",
        " * farther from the number than the previous guess, return \"COLDER!\"\n",
        "4. When the player's guess equals the number, tell them they've guessed correctly *and* how many guesses it took!\n",
        "\n",
        "You can try this from scratch, or follow the steps outlined below. A separate Solution notebook has been provided. Good luck!\n"
      ]
    },
    {
      "cell_type": "markdown",
      "metadata": {
        "id": "BYe2ZQRZ8faU"
      },
      "source": [
        "#### First, pick a random integer from 1 to 100 using the random module and assign it to a variable\n",
        "\n",
        "Note: `random.randint(a,b)` returns a random integer in range `[a, b]`, including both end points."
      ]
    },
    {
      "cell_type": "code",
      "execution_count": 14,
      "metadata": {
        "collapsed": true,
        "id": "9NcTbZV_8faV"
      },
      "outputs": [],
      "source": [
        "import random\n",
        "rndm = random.randint(1,100)"
      ]
    },
    {
      "cell_type": "markdown",
      "metadata": {
        "id": "1ZfhJOQ_8faV"
      },
      "source": [
        "#### Next, print an introduction to the game and explain the rules"
      ]
    },
    {
      "cell_type": "code",
      "execution_count": 15,
      "metadata": {
        "collapsed": true,
        "colab": {
          "base_uri": "https://localhost:8080/"
        },
        "id": "stcxiNGU8faW",
        "outputId": "43a9af7c-9e61-4324-9b57-bfea8e9dfbe2"
      },
      "outputs": [
        {
          "output_type": "stream",
          "name": "stdout",
          "text": [
            "Welcome to the 'Guessing Game'\n",
            "if you guess numbers in between 1 and 100 you will recieve options of WARM COLD WARMER and COLDER\n",
            "Each time you guess a number one of these options will be appeared on your screen\n",
            "If you guessed a number that is greater than 100 or less than 1 you will recieve 'OUT OF BOUNDS!'\n"
          ]
        }
      ],
      "source": [
        "print(\"Welcome to the 'Guessing Game'\")\n",
        "print(\"if you guess numbers in between 1 and 100 you will recieve options of WARM COLD WARMER and COLDER\")\n",
        "print(\"Each time you guess a number one of these options will be appeared on your screen\")\n",
        "print(\"If you guessed a number that is greater than 100 or less than 1 you will recieve 'OUT OF BOUNDS!'\")"
      ]
    },
    {
      "cell_type": "markdown",
      "metadata": {
        "id": "6Ftz8MpY8faW"
      },
      "source": [
        "#### Create a list to store guesses\n",
        "\n",
        "Hint: zero is a good placeholder value. It's useful because it evaluates to \"False\""
      ]
    },
    {
      "cell_type": "code",
      "execution_count": 23,
      "metadata": {
        "collapsed": true,
        "id": "TIGdGGlT8faW"
      },
      "outputs": [],
      "source": [
        "rndm_list = [0]"
      ]
    },
    {
      "cell_type": "markdown",
      "metadata": {
        "id": "Y8g4dhgZ8faW"
      },
      "source": [
        "#### Write a `while` loop that asks for a valid guess. Test it a few times to make sure it works."
      ]
    },
    {
      "cell_type": "code",
      "execution_count": 25,
      "metadata": {
        "collapsed": true,
        "id": "NIDJu_xu8faX",
        "colab": {
          "base_uri": "https://localhost:8080/"
        },
        "outputId": "10cdf582-b92c-4f78-d629-be2864cd50fe"
      },
      "outputs": [
        {
          "name": "stdout",
          "output_type": "stream",
          "text": [
            "Please enter a number between 1 and 100200\n",
            "OUT OF BOUNDS\n",
            "Please enter a number between 1 and 10040\n"
          ]
        }
      ],
      "source": [
        "while True:\n",
        "    guessings = int(input(\"Please enter a number between 1 and 100\"))\n",
        "\n",
        "    if(guessings<1 or guessings>100):\n",
        "      print(\"OUT OF BOUNDS\")\n",
        "      continue\n",
        "    break"
      ]
    },
    {
      "cell_type": "markdown",
      "metadata": {
        "id": "jhdmodRi8faX"
      },
      "source": [
        "#### Write a `while` loop that compares the player's guess to our number. If the player guesses correctly, break from the loop. Otherwise, tell the player if they're warmer or colder, and continue asking for guesses.\n",
        "\n",
        "Some hints:\n",
        "* it may help to sketch out all possible combinations on paper first!\n",
        "* you can use the `abs()` function to find the positive difference between two numbers\n",
        "* if you append all new guesses to the list, then the previous guess is given as `guesses[-2]`"
      ]
    },
    {
      "cell_type": "code",
      "execution_count": null,
      "metadata": {
        "collapsed": true,
        "id": "GcYh_cXe8faY",
        "colab": {
          "base_uri": "https://localhost:8080/"
        },
        "outputId": "36de6c37-bcd4-43ee-9339-d1116381d54b"
      },
      "outputs": [
        {
          "output_type": "stream",
          "name": "stdout",
          "text": [
            "Please enter a number between 1 and 10020\n",
            "WARMER\n",
            "Please enter a number between 1 and 10010\n",
            "COLDER\n",
            "Please enter a number between 1 and 10050\n",
            "COLDER\n"
          ]
        }
      ],
      "source": [
        "while True:\n",
        "    guessings = int(input(\"Please enter a number between 1 and 100\"))\n",
        "\n",
        "    if(guessings<1 or guessings>100):\n",
        "      print(\"OUT OF BOUNDS\")\n",
        "      continue\n",
        "    if(guessings==rndm):\n",
        "      print(\"CONGRATS!!\")\n",
        "      break\n",
        "\n",
        "    rndm_list.append(guessings)\n",
        "\n",
        "    if rndm_list[-2]:\n",
        "      if(abs(rndm-guessings)<abs(rndm-rndm_list[-2])):\n",
        "        print(\"WARMER\")\n",
        "      else:\n",
        "        print(\"COLDER\")\n",
        "    else:\n",
        "      if (abs(rndm-guessings)<=10):\n",
        "        print(\"warm\")\n",
        "      elif (abs(rndm-guessings)>=10):\n",
        "        print(\"cold\")\n",
        "      else:\n",
        "        print(\"please enter a valid number\")"
      ]
    },
    {
      "cell_type": "markdown",
      "metadata": {
        "id": "ikxVt4OA8faY"
      },
      "source": [
        "That's it! You've just programmed your first game!\n",
        "\n",
        "In the next section we'll learn how to turn some of these repetitive actions into *functions* that can be called whenever we need them."
      ]
    },
    {
      "cell_type": "markdown",
      "metadata": {
        "id": "gy7ImFLv8faZ"
      },
      "source": [
        "### Good Job!"
      ]
    }
  ],
  "metadata": {
    "kernelspec": {
      "display_name": "Python 3",
      "language": "python",
      "name": "python3"
    },
    "language_info": {
      "codemirror_mode": {
        "name": "ipython",
        "version": 3
      },
      "file_extension": ".py",
      "mimetype": "text/x-python",
      "name": "python",
      "nbconvert_exporter": "python",
      "pygments_lexer": "ipython3",
      "version": "3.6.6"
    },
    "colab": {
      "name": "09-Guessing Game Challenge.ipynb",
      "provenance": [],
      "collapsed_sections": [],
      "include_colab_link": true
    }
  },
  "nbformat": 4,
  "nbformat_minor": 0
}