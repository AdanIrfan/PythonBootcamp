{
 "metadata": {
  "language_info": {
   "codemirror_mode": {
    "name": "ipython",
    "version": 3
   },
   "file_extension": ".py",
   "mimetype": "text/x-python",
   "name": "python",
   "nbconvert_exporter": "python",
   "pygments_lexer": "ipython3",
   "version": "3.8.5-final"
  },
  "orig_nbformat": 2,
  "kernelspec": {
   "name": "Python 3.8.5 32-bit",
   "display_name": "Python 3.8.5 32-bit",
   "metadata": {
    "interpreter": {
     "hash": "e9a5f96d5950404ddd7ee9ebc121106e3ffa790f35f2fdc18d61d79a07ab0454"
    }
   }
  }
 },
 "nbformat": 4,
 "nbformat_minor": 2,
 "cells": [
  {
   "cell_type": "code",
   "execution_count": 1,
   "metadata": {
    "tags": []
   },
   "outputs": [
    {
     "output_type": "stream",
     "name": "stdout",
     "text": "You lost :(\nYou should try again\n"
    }
   ],
   "source": [
    "\"\"\"THREE CUP MONTY\"\"\"\n",
    "import random\n",
    "\n",
    "def shuffle_list(my_list):\n",
    "    random.shuffle(my_list)\n",
    "    return(my_list)\n",
    "\n",
    "def checkguess(cup_list, guess):\n",
    "    if(cup_list[guess]=='0'):\n",
    "        print(\"You won!\")\n",
    "        return 1\n",
    "    else:\n",
    "        print(\"You lost :(\")\n",
    "        return -1\n",
    "\n",
    "def game_play1():\n",
    "    list1=[' ', '0',' ']\n",
    "    cup_list1=shuffle_list(list1)\n",
    "    choice=''\n",
    "    while choice not in [0, 1, 2] :\n",
    "    \n",
    "        choice=int(input(\"Enter your guess(0,1 or 2): \"))\n",
    "    \n",
    "    result=checkguess(cup_list1,choice)\n",
    "    return result\n",
    "\n",
    "\n",
    "def game_play2():\n",
    "    list2=[' ',' ','0',' ',' ']\n",
    "    cup_list2=shuffle_list(list2)\n",
    "    choice=''\n",
    "    while choice not in [0, 1, 2, 3, 4] :\n",
    "    \n",
    "        choice=int(input(\"Enter your guess(0,1, 2,3 or 4): \"))\n",
    "    \n",
    "    checkguess(cup_list2,choice)\n",
    "    \n",
    "\n",
    "res=game_play1()\n",
    "if res==1:\n",
    "    game_play2()\n",
    "else:\n",
    "    print(\"You should try again\")\n",
    "    "
   ]
  }
 ]
}