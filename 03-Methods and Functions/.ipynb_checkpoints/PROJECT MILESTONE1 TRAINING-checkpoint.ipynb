{
 "cells": [
  {
   "cell_type": "markdown",
   "id": "dd0392ca",
   "metadata": {},
   "source": [
    "****** DISPLAY INFO ******"
   ]
  },
  {
   "cell_type": "code",
   "execution_count": 2,
   "id": "21427f73",
   "metadata": {},
   "outputs": [],
   "source": [
    "def display(row1,row2,row3):\n",
    "    print(row1)\n",
    "    print(row2)\n",
    "    print(row3)\n",
    "    \n",
    "    "
   ]
  },
  {
   "cell_type": "code",
   "execution_count": 7,
   "id": "4a7daded",
   "metadata": {},
   "outputs": [],
   "source": [
    "row1 =[' ',' ' ,' ']\n",
    "row2 =[' ',' ' ,' ']\n",
    "row3 =[' ',' ' ,' ']"
   ]
  },
  {
   "cell_type": "code",
   "execution_count": 8,
   "id": "9ae38a34",
   "metadata": {},
   "outputs": [
    {
     "name": "stdout",
     "output_type": "stream",
     "text": [
      "[' ', ' ', ' ']\n",
      "[' ', ' ', ' ']\n",
      "[' ', ' ', ' ']\n"
     ]
    }
   ],
   "source": [
    "display(row1,row2,row3)"
   ]
  },
  {
   "cell_type": "code",
   "execution_count": 10,
   "id": "0713ff57",
   "metadata": {},
   "outputs": [],
   "source": [
    "row2[1] = 'X'"
   ]
  },
  {
   "cell_type": "code",
   "execution_count": 11,
   "id": "b4b7710b",
   "metadata": {},
   "outputs": [
    {
     "name": "stdout",
     "output_type": "stream",
     "text": [
      "[' ', ' ', ' ']\n",
      "[' ', 'X', ' ']\n",
      "[' ', ' ', ' ']\n"
     ]
    }
   ],
   "source": [
    "display(row1,row2,row3)"
   ]
  },
  {
   "cell_type": "markdown",
   "id": "baa60401",
   "metadata": {},
   "source": [
    "*******ACCEPTING INPUT*******\n"
   ]
  },
  {
   "cell_type": "code",
   "execution_count": 12,
   "id": "dd04dbab",
   "metadata": {},
   "outputs": [
    {
     "name": "stdout",
     "output_type": "stream",
     "text": [
      "Please enter a value: 2\n"
     ]
    },
    {
     "data": {
      "text/plain": [
       "'2'"
      ]
     },
     "execution_count": 12,
     "metadata": {},
     "output_type": "execute_result"
    }
   ],
   "source": [
    "input(\"Please enter a value: \")"
   ]
  },
  {
   "cell_type": "code",
   "execution_count": 13,
   "id": "b3232a2b",
   "metadata": {},
   "outputs": [
    {
     "name": "stdout",
     "output_type": "stream",
     "text": [
      "Please enter a value: 2\n"
     ]
    }
   ],
   "source": [
    "result = input(\"Please enter a value: \")"
   ]
  },
  {
   "cell_type": "code",
   "execution_count": 14,
   "id": "6ad0bcd7",
   "metadata": {},
   "outputs": [
    {
     "data": {
      "text/plain": [
       "str"
      ]
     },
     "execution_count": 14,
     "metadata": {},
     "output_type": "execute_result"
    }
   ],
   "source": [
    "type(result)"
   ]
  },
  {
   "cell_type": "code",
   "execution_count": 15,
   "id": "a1d10ee8",
   "metadata": {},
   "outputs": [],
   "source": [
    "result_int = int(result)"
   ]
  },
  {
   "cell_type": "code",
   "execution_count": 16,
   "id": "cbfd19f8",
   "metadata": {},
   "outputs": [
    {
     "data": {
      "text/plain": [
       "int"
      ]
     },
     "execution_count": 16,
     "metadata": {},
     "output_type": "execute_result"
    }
   ],
   "source": [
    "type(result_int)"
   ]
  },
  {
   "cell_type": "code",
   "execution_count": 17,
   "id": "60a34a27",
   "metadata": {},
   "outputs": [
    {
     "data": {
      "text/plain": [
       "2"
      ]
     },
     "execution_count": 17,
     "metadata": {},
     "output_type": "execute_result"
    }
   ],
   "source": [
    "result_int"
   ]
  },
  {
   "cell_type": "markdown",
   "id": "0f622512",
   "metadata": {},
   "source": [
    "**INPUTS always return a string"
   ]
  },
  {
   "cell_type": "code",
   "execution_count": 28,
   "id": "bac6fc16",
   "metadata": {},
   "outputs": [
    {
     "name": "stdout",
     "output_type": "stream",
     "text": [
      "Choose an index position: 4\n"
     ]
    }
   ],
   "source": [
    "position_index = int(input(\"Choose an index position: \"))"
   ]
  },
  {
   "cell_type": "code",
   "execution_count": 24,
   "id": "cf2f3c58",
   "metadata": {},
   "outputs": [
    {
     "data": {
      "text/plain": [
       "int"
      ]
     },
     "execution_count": 24,
     "metadata": {},
     "output_type": "execute_result"
    }
   ],
   "source": [
    "type(position_index)"
   ]
  },
  {
   "cell_type": "code",
   "execution_count": 26,
   "id": "72a119db",
   "metadata": {},
   "outputs": [
    {
     "data": {
      "text/plain": [
       "' '"
      ]
     },
     "execution_count": 26,
     "metadata": {},
     "output_type": "execute_result"
    }
   ],
   "source": [
    "row1[position_index]"
   ]
  },
  {
   "cell_type": "code",
   "execution_count": 29,
   "id": "0d36e166",
   "metadata": {},
   "outputs": [],
   "source": [
    "def user_choice():\n",
    "    \n",
    "    choice = input(\"Please enter a number (0-10): \")\n",
    "    \n",
    "    return int(choice)"
   ]
  },
  {
   "cell_type": "code",
   "execution_count": 31,
   "id": "b408e0a6",
   "metadata": {},
   "outputs": [
    {
     "name": "stdout",
     "output_type": "stream",
     "text": [
      "Please enter a number (0-10): 9\n"
     ]
    },
    {
     "data": {
      "text/plain": [
       "9"
      ]
     },
     "execution_count": 31,
     "metadata": {},
     "output_type": "execute_result"
    }
   ],
   "source": [
    "user_choice()\n"
   ]
  },
  {
   "cell_type": "markdown",
   "id": "acae4638",
   "metadata": {},
   "source": [
    "************************************MILESTONE PROJECT 1***********************************************************"
   ]
  },
  {
   "cell_type": "code",
   "execution_count": 1,
   "id": "795b395b",
   "metadata": {},
   "outputs": [
    {
     "ename": "NameError",
     "evalue": "name 'row0' is not defined",
     "output_type": "error",
     "traceback": [
      "\u001b[0;31m---------------------------------------------------------------------------\u001b[0m",
      "\u001b[0;31mNameError\u001b[0m                                 Traceback (most recent call last)",
      "\u001b[0;32m/var/folders/86/qn6vl22j3jjd3bjw57rl2h0w0000gn/T/ipykernel_64942/738341930.py\u001b[0m in \u001b[0;36m<module>\u001b[0;34m\u001b[0m\n\u001b[1;32m     63\u001b[0m \u001b[0;34m\u001b[0m\u001b[0m\n\u001b[1;32m     64\u001b[0m \u001b[0;31m#The command for drawing the board\u001b[0m\u001b[0;34m\u001b[0m\u001b[0;34m\u001b[0m\u001b[0;34m\u001b[0m\u001b[0m\n\u001b[0;32m---> 65\u001b[0;31m \u001b[0mdraw_the_board\u001b[0m\u001b[0;34m(\u001b[0m\u001b[0;34m'-'\u001b[0m\u001b[0;34m,\u001b[0m\u001b[0;36m10\u001b[0m\u001b[0;34m)\u001b[0m\u001b[0;34m\u001b[0m\u001b[0;34m\u001b[0m\u001b[0m\n\u001b[0m\u001b[1;32m     66\u001b[0m \u001b[0;34m\u001b[0m\u001b[0m\n\u001b[1;32m     67\u001b[0m \u001b[0;34m\u001b[0m\u001b[0m\n",
      "\u001b[0;32m/var/folders/86/qn6vl22j3jjd3bjw57rl2h0w0000gn/T/ipykernel_64942/738341930.py\u001b[0m in \u001b[0;36mdraw_the_board\u001b[0;34m(row, position)\u001b[0m\n\u001b[1;32m     23\u001b[0m         \u001b[0mrow10\u001b[0m\u001b[0;34m[\u001b[0m\u001b[0;36m2\u001b[0m\u001b[0;34m]\u001b[0m \u001b[0;34m=\u001b[0m \u001b[0mrow\u001b[0m\u001b[0;34m\u001b[0m\u001b[0;34m\u001b[0m\u001b[0m\n\u001b[1;32m     24\u001b[0m \u001b[0;34m\u001b[0m\u001b[0m\n\u001b[0;32m---> 25\u001b[0;31m     \u001b[0mprint\u001b[0m\u001b[0;34m(\u001b[0m\u001b[0mrow0\u001b[0m\u001b[0;34m)\u001b[0m\u001b[0;34m\u001b[0m\u001b[0;34m\u001b[0m\u001b[0m\n\u001b[0m\u001b[1;32m     26\u001b[0m     \u001b[0mprint\u001b[0m\u001b[0;34m(\u001b[0m\u001b[0mrow1\u001b[0m\u001b[0;34m)\u001b[0m\u001b[0;34m\u001b[0m\u001b[0;34m\u001b[0m\u001b[0m\n\u001b[1;32m     27\u001b[0m     \u001b[0mprint\u001b[0m\u001b[0;34m(\u001b[0m\u001b[0mrow2\u001b[0m\u001b[0;34m)\u001b[0m\u001b[0;34m\u001b[0m\u001b[0;34m\u001b[0m\u001b[0m\n",
      "\u001b[0;31mNameError\u001b[0m: name 'row0' is not defined"
     ]
    }
   ],
   "source": [
    "#display welcome message and board\n",
    "#Accept row and player choice from func change_row_char\n",
    "\n",
    "    \n",
    "def draw_the_board(row,position):\n",
    "    if position == 1:\n",
    "        row2[0] = row\n",
    "    elif position == 2:\n",
    "        row2[1] = row\n",
    "    elif position == 3:\n",
    "        row2[2] = row\n",
    "    elif position == 4:\n",
    "        row6[0] = row\n",
    "    elif position == 5:\n",
    "        row6[1] = row\n",
    "    elif position == 6:\n",
    "        row6[2] = row\n",
    "    elif position == 7:\n",
    "        row10[0] = row\n",
    "    elif position == 8:\n",
    "        row10[1] = row\n",
    "    elif position == 9:\n",
    "        row10[2] = row\n",
    "   \n",
    "    print(row0)\n",
    "    print(row1)\n",
    "    print(row2)\n",
    "    print(row3)\n",
    "    print(row4)\n",
    "    print(row5)\n",
    "    print(row6)\n",
    "    print(row7)\n",
    "    print(row8)\n",
    "    print(row9)\n",
    "    print(row10)\n",
    "    print(row11)\n",
    "\n",
    "#Still need to workout how to display O or X at position\n",
    "\n",
    "#pos1 = row2[0] ='     X      |'\n",
    "#pos2 = row2[1] ='     X       |'\n",
    "#pos3 = row2[2] ='     X     '\n",
    "#pos4 = row6[0] ='     X      |'\n",
    "#pos5 = row6[1] ='     X       |'\n",
    "#pos6 = row6[2] ='     X     '\n",
    "#pos7 = row10[0]='     X      |'\n",
    "#pos8 = row10[1]='     X       |'\n",
    "#pos9 = row10[2]='     X     '\n",
    "\n",
    "#pos1 = row2[0] ='     O      |'\n",
    "#pos2 = row2[1] ='     O       |'\n",
    "#pos3 = row2[2] ='     O     '\n",
    "#pos4 = row6[0] ='     O      |'\n",
    "#pos5 = row6[1] ='     O       |'\n",
    "#pos6 = row6[2] ='     O     '\n",
    "#pos7 = row10[0]='     O      |'\n",
    "#pos8 = row10[1]='     O       |'\n",
    "#pos9 = row10[2]='     O     '\n",
    "\n",
    " \n",
    "\n",
    "\n",
    "\n",
    "#The command for drawing the board\n",
    "draw_the_board('-',10)\n",
    "\n",
    "\n"
   ]
  },
  {
   "cell_type": "code",
   "execution_count": 2,
   "id": "f75ae6be",
   "metadata": {},
   "outputs": [
    {
     "name": "stdout",
     "output_type": "stream",
     "text": [
      "Pick a position to replace (0,1,2,3,4,5,6,7,8,9): 2\n"
     ]
    },
    {
     "data": {
      "text/plain": [
       "2"
      ]
     },
     "execution_count": 2,
     "metadata": {},
     "output_type": "execute_result"
    }
   ],
   "source": [
    "from IPython.display import clear_output\n",
    "#Accept user input\n",
    "\n",
    "def position_choice():\n",
    "    \n",
    "    # This original choice value can be anything that isn't an integer\n",
    "    choice = 'wrong'\n",
    "    \n",
    "    # While the choice is not a digit, keep asking for input.\n",
    "    while choice not in ['0','1','2','3','4','5','6','7','8','9']:\n",
    "        \n",
    "        # we shouldn't convert here, otherwise we get an error on a wrong input\n",
    "        choice = input(\"Pick a position to replace (0,1,2,3,4,5,6,7,8,9): \")\n",
    "        \n",
    "        if choice not in ['0','1','2','3','4','5','6','7','8','9']:\n",
    "            # THIS CLEARS THE CURRENT OUTPUT BELOW THE CELL\n",
    "            clear_output()\n",
    "            \n",
    "            print(\"Sorry, but you did not choose a valid position\")\n",
    "            \n",
    "    \n",
    "    # Optionally you can clear everything after running the function\n",
    "    # clear_output()\n",
    "    \n",
    "    # We can convert once the while loop above has confirmed we have a digit.\n",
    "    return int(choice)\n",
    "\n",
    "#This asks for input\n",
    "\n",
    "position_choice()\n",
    "\n",
    "\n",
    "# accept input player 1\n",
    "\n",
    "#def player1_input ():\n",
    "\n",
    "# update board\n",
    "\n",
    "\n",
    "#accept input player 2\n",
    "\n",
    "\n",
    "# updateboard\n",
    "\n",
    "\n",
    "#check game condition\n",
    "\n"
   ]
  },
  {
   "cell_type": "code",
   "execution_count": 3,
   "id": "e7121381",
   "metadata": {},
   "outputs": [],
   "source": [
    "# accept input (player passed in to decide what player symbol) \n",
    "\n",
    "def player_turn (player):\n",
    "    \n",
    "    if player == 1:\n",
    "        player_char = 'X'\n",
    "        \n",
    "    else:\n",
    "        player_char = 'O'\n",
    "        \n",
    "    print(f'YOU ARE PLAYER,{player} you are,{player_char}')\n",
    "    return(player_char)  \n",
    "    \n",
    "   "
   ]
  },
  {
   "cell_type": "code",
   "execution_count": 5,
   "id": "cd079e63",
   "metadata": {},
   "outputs": [
    {
     "name": "stdout",
     "output_type": "stream",
     "text": [
      "YOU ARE PLAYER,2 you are,O\n",
      "Pick a position to replace (0,1,2,3,4,5,6,7,8,9): 2\n",
      "You have chosen position,2\n"
     ]
    },
    {
     "data": {
      "text/plain": [
       "(2, 'O')"
      ]
     },
     "execution_count": 5,
     "metadata": {},
     "output_type": "execute_result"
    }
   ],
   "source": [
    "def player_choice(player_char)\n",
    " playerchoice = position_choice()\n",
    "    print (f'You have chosen position,{playerchoice}')\n",
    "    return playerchoice,player_char"
   ]
  },
  {
   "cell_type": "code",
   "execution_count": 4,
   "id": "bf785a9f",
   "metadata": {},
   "outputs": [],
   "source": [
    "#This changes the board state and accept (player_choice & player_char) from Function player_turn\n",
    " \n",
    "def change_row_char (player_choice,player_char):\n",
    "    row ='-'\n",
    "    if player_char == 'X':\n",
    "        if player_choice == 1 or player_choice == 4 or player_choice == 7:\n",
    "            row == '     X      |'\n",
    "        elif player_choice == 2 or player_choice == 5 or player_choice == 8:\n",
    "            row ='     X       |'\n",
    "        elif player_choice == 3 or player_choice == 6 or player_choice == 9:\n",
    "            row ='     X     '\n",
    "    \n",
    "    else:\n",
    "        if player_choice == 1 or player_choice == 4 or player_choice == 7:\n",
    "            row == '     O      |'\n",
    "        elif player_choice == 2 or player_choice == 5 or player_choice == 8:\n",
    "            row ='     O       |'\n",
    "        elif player_choice == 3 or player_choice == 6 or player_choice == 9:\n",
    "            row ='     O     '    \n",
    "    return row,player_choice    \n",
    "            \n",
    "\n",
    "\n",
    "\n",
    "\n"
   ]
  },
  {
   "cell_type": "code",
   "execution_count": null,
   "id": "93ff299f",
   "metadata": {},
   "outputs": [
    {
     "name": "stdout",
     "output_type": "stream",
     "text": [
      "-\n",
      "10\n",
      "['  TIK,TAC,TOE created by : Thomas McCann      ']\n",
      "['            |', '             |', '           ']\n",
      "['     1      |', '     2       |', '   3       ']\n",
      "['            |', '             |', '           ']\n",
      "['----------------------------------------------']\n",
      "['            |', '             |', '           ']\n",
      "['     4      |', '     5       |', '   6       ']\n",
      "['            |', '             |', '           ']\n",
      "['----------------------------------------------']\n",
      "['            |', '             |', '           ']\n",
      "['     7      |', '     8       |', '   9       ']\n",
      "['            |', '             |', '           ']\n",
      "YOU ARE PLAYER,1 you are,X\n",
      "Pick a position to replace (0,1,2,3,4,5,6,7,8,9): 2\n",
      "You have chosen position,2\n",
      "-\n",
      "10\n",
      "['  TIK,TAC,TOE created by : Thomas McCann      ']\n",
      "['            |', '             |', '           ']\n",
      "['     1      |', '     2       |', '   3       ']\n",
      "['            |', '             |', '           ']\n",
      "['----------------------------------------------']\n",
      "['            |', '             |', '           ']\n",
      "['     4      |', '     5       |', '   6       ']\n",
      "['            |', '             |', '           ']\n",
      "['----------------------------------------------']\n",
      "['            |', '             |', '           ']\n",
      "['     7      |', '     8       |', '   9       ']\n",
      "['            |', '             |', '           ']\n",
      "YOU ARE PLAYER,1 you are,X\n"
     ]
    }
   ],
   "source": [
    "#Start of calling functions\n",
    "player = 1\n",
    "turns = 0\n",
    "row = '-'\n",
    "player_choice = 10\n",
    "playerchar ='X'\n",
    "\n",
    "row0 =['  TIK,TAC,TOE'' created by : Thomas McCann      ']\n",
    "row1 =['            |','             |','           ']\n",
    "row2 =['     1      |','     2       |','   3       ']\n",
    "row3 =['            |','             |','           ']\n",
    "row4 =['----------------------------------------------']\n",
    "row5 =['            |','             |','           ']\n",
    "row6 =['     4      |','     5       |','   6       ']\n",
    "row7 =['            |','             |','           ']\n",
    "row8 =['----------------------------------------------']\n",
    "row9 =['            |','             |','           ']\n",
    "row10 =['     7      |','     8       |','   9       ']\n",
    "row11 =['            |','             |','           ']\n",
    "\n",
    "while turns < 9:\n",
    "    print (row)\n",
    "    print (player_choice)\n",
    "    draw_the_board(row,player_choice)\n",
    "    player_turn(player)\n",
    "    change_row_char(player_choice,playerchar)\n",
    "    \n",
    "print('End of game')\n",
    "    \n",
    "    "
   ]
  },
  {
   "cell_type": "code",
   "execution_count": null,
   "id": "425780a5",
   "metadata": {},
   "outputs": [],
   "source": []
  }
 ],
 "metadata": {
  "kernelspec": {
   "display_name": "Python 3 (ipykernel)",
   "language": "python",
   "name": "python3"
  },
  "language_info": {
   "codemirror_mode": {
    "name": "ipython",
    "version": 3
   },
   "file_extension": ".py",
   "mimetype": "text/x-python",
   "name": "python",
   "nbconvert_exporter": "python",
   "pygments_lexer": "ipython3",
   "version": "3.8.8"
  }
 },
 "nbformat": 4,
 "nbformat_minor": 5
}
