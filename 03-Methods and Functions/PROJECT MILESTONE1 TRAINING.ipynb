{
 "cells": [
  {
   "cell_type": "markdown",
   "id": "74b3d7f0",
   "metadata": {},
   "source": [
    "****** DISPLAY INFO ******"
   ]
  },
  {
   "cell_type": "code",
   "execution_count": 2,
   "id": "4d55ef70",
   "metadata": {},
   "outputs": [],
   "source": [
    "def display(row1,row2,row3):\n",
    "    print(row1)\n",
    "    print(row2)\n",
    "    print(row3)\n",
    "    \n",
    "    "
   ]
  },
  {
   "cell_type": "code",
   "execution_count": 7,
   "id": "22968b7e",
   "metadata": {},
   "outputs": [],
   "source": [
    "row1 =[' ',' ' ,' ']\n",
    "row2 =[' ',' ' ,' ']\n",
    "row3 =[' ',' ' ,' ']"
   ]
  },
  {
   "cell_type": "code",
   "execution_count": 8,
   "id": "3ea8e4a9",
   "metadata": {},
   "outputs": [
    {
     "name": "stdout",
     "output_type": "stream",
     "text": [
      "[' ', ' ', ' ']\n",
      "[' ', ' ', ' ']\n",
      "[' ', ' ', ' ']\n"
     ]
    }
   ],
   "source": [
    "display(row1,row2,row3)"
   ]
  },
  {
   "cell_type": "code",
   "execution_count": 10,
   "id": "721402c8",
   "metadata": {},
   "outputs": [],
   "source": [
    "row2[1] = 'X'"
   ]
  },
  {
   "cell_type": "code",
   "execution_count": 11,
   "id": "e82e9515",
   "metadata": {},
   "outputs": [
    {
     "name": "stdout",
     "output_type": "stream",
     "text": [
      "[' ', ' ', ' ']\n",
      "[' ', 'X', ' ']\n",
      "[' ', ' ', ' ']\n"
     ]
    }
   ],
   "source": [
    "display(row1,row2,row3)"
   ]
  },
  {
   "cell_type": "markdown",
   "id": "03a8b6f5",
   "metadata": {},
   "source": [
    "*******ACCEPTING INPUT*******\n"
   ]
  },
  {
   "cell_type": "code",
   "execution_count": 12,
   "id": "242414b9",
   "metadata": {},
   "outputs": [
    {
     "name": "stdout",
     "output_type": "stream",
     "text": [
      "Please enter a value: 2\n"
     ]
    },
    {
     "data": {
      "text/plain": [
       "'2'"
      ]
     },
     "execution_count": 12,
     "metadata": {},
     "output_type": "execute_result"
    }
   ],
   "source": [
    "input(\"Please enter a value: \")"
   ]
  },
  {
   "cell_type": "code",
   "execution_count": 13,
   "id": "850e245e",
   "metadata": {},
   "outputs": [
    {
     "name": "stdout",
     "output_type": "stream",
     "text": [
      "Please enter a value: 2\n"
     ]
    }
   ],
   "source": [
    "result = input(\"Please enter a value: \")"
   ]
  },
  {
   "cell_type": "code",
   "execution_count": 14,
   "id": "26c97b4b",
   "metadata": {},
   "outputs": [
    {
     "data": {
      "text/plain": [
       "str"
      ]
     },
     "execution_count": 14,
     "metadata": {},
     "output_type": "execute_result"
    }
   ],
   "source": [
    "type(result)"
   ]
  },
  {
   "cell_type": "code",
   "execution_count": 15,
   "id": "9ac549ec",
   "metadata": {},
   "outputs": [],
   "source": [
    "result_int = int(result)"
   ]
  },
  {
   "cell_type": "code",
   "execution_count": 16,
   "id": "f96470f7",
   "metadata": {},
   "outputs": [
    {
     "data": {
      "text/plain": [
       "int"
      ]
     },
     "execution_count": 16,
     "metadata": {},
     "output_type": "execute_result"
    }
   ],
   "source": [
    "type(result_int)"
   ]
  },
  {
   "cell_type": "code",
   "execution_count": 17,
   "id": "d1067411",
   "metadata": {},
   "outputs": [
    {
     "data": {
      "text/plain": [
       "2"
      ]
     },
     "execution_count": 17,
     "metadata": {},
     "output_type": "execute_result"
    }
   ],
   "source": [
    "result_int"
   ]
  },
  {
   "cell_type": "markdown",
   "id": "938d7eff",
   "metadata": {},
   "source": [
    "**INPUTS always return a string"
   ]
  },
  {
   "cell_type": "code",
   "execution_count": 28,
   "id": "935d54b6",
   "metadata": {},
   "outputs": [
    {
     "name": "stdout",
     "output_type": "stream",
     "text": [
      "Choose an index position: 4\n"
     ]
    }
   ],
   "source": [
    "position_index = int(input(\"Choose an index position: \"))"
   ]
  },
  {
   "cell_type": "code",
   "execution_count": 24,
   "id": "ea0a481e",
   "metadata": {},
   "outputs": [
    {
     "data": {
      "text/plain": [
       "int"
      ]
     },
     "execution_count": 24,
     "metadata": {},
     "output_type": "execute_result"
    }
   ],
   "source": [
    "type(position_index)"
   ]
  },
  {
   "cell_type": "code",
   "execution_count": 26,
   "id": "80f9ef4e",
   "metadata": {},
   "outputs": [
    {
     "data": {
      "text/plain": [
       "' '"
      ]
     },
     "execution_count": 26,
     "metadata": {},
     "output_type": "execute_result"
    }
   ],
   "source": [
    "row1[position_index]"
   ]
  },
  {
   "cell_type": "code",
   "execution_count": 29,
   "id": "ed763737",
   "metadata": {},
   "outputs": [],
   "source": [
    "def user_choice():\n",
    "    \n",
    "    choice = input(\"Please enter a number (0-10): \")\n",
    "    \n",
    "    return int(choice)"
   ]
  },
  {
   "cell_type": "code",
   "execution_count": 31,
   "id": "1b06b571",
   "metadata": {},
   "outputs": [
    {
     "name": "stdout",
     "output_type": "stream",
     "text": [
      "Please enter a number (0-10): 9\n"
     ]
    },
    {
     "data": {
      "text/plain": [
       "9"
      ]
     },
     "execution_count": 31,
     "metadata": {},
     "output_type": "execute_result"
    }
   ],
   "source": [
    "user_choice()\n"
   ]
  },
  {
   "cell_type": "markdown",
   "id": "36eafba5",
   "metadata": {},
   "source": [
    "************************************MILESTONE PROJECT 1***********************************************************"
   ]
  },
  {
   "cell_type": "code",
   "execution_count": 1,
   "id": "f487287c",
   "metadata": {},
   "outputs": [
    {
     "ename": "NameError",
     "evalue": "name 'row0' is not defined",
     "output_type": "error",
     "traceback": [
      "\u001b[0;31m---------------------------------------------------------------------------\u001b[0m",
      "\u001b[0;31mNameError\u001b[0m                                 Traceback (most recent call last)",
      "\u001b[0;32m/var/folders/86/qn6vl22j3jjd3bjw57rl2h0w0000gn/T/ipykernel_64942/738341930.py\u001b[0m in \u001b[0;36m<module>\u001b[0;34m\u001b[0m\n\u001b[1;32m     63\u001b[0m \u001b[0;34m\u001b[0m\u001b[0m\n\u001b[1;32m     64\u001b[0m \u001b[0;31m#The command for drawing the board\u001b[0m\u001b[0;34m\u001b[0m\u001b[0;34m\u001b[0m\u001b[0;34m\u001b[0m\u001b[0m\n\u001b[0;32m---> 65\u001b[0;31m \u001b[0mdraw_the_board\u001b[0m\u001b[0;34m(\u001b[0m\u001b[0;34m'-'\u001b[0m\u001b[0;34m,\u001b[0m\u001b[0;36m10\u001b[0m\u001b[0;34m)\u001b[0m\u001b[0;34m\u001b[0m\u001b[0;34m\u001b[0m\u001b[0m\n\u001b[0m\u001b[1;32m     66\u001b[0m \u001b[0;34m\u001b[0m\u001b[0m\n\u001b[1;32m     67\u001b[0m \u001b[0;34m\u001b[0m\u001b[0m\n",
      "\u001b[0;32m/var/folders/86/qn6vl22j3jjd3bjw57rl2h0w0000gn/T/ipykernel_64942/738341930.py\u001b[0m in \u001b[0;36mdraw_the_board\u001b[0;34m(row, position)\u001b[0m\n\u001b[1;32m     23\u001b[0m         \u001b[0mrow10\u001b[0m\u001b[0;34m[\u001b[0m\u001b[0;36m2\u001b[0m\u001b[0;34m]\u001b[0m \u001b[0;34m=\u001b[0m \u001b[0mrow\u001b[0m\u001b[0;34m\u001b[0m\u001b[0;34m\u001b[0m\u001b[0m\n\u001b[1;32m     24\u001b[0m \u001b[0;34m\u001b[0m\u001b[0m\n\u001b[0;32m---> 25\u001b[0;31m     \u001b[0mprint\u001b[0m\u001b[0;34m(\u001b[0m\u001b[0mrow0\u001b[0m\u001b[0;34m)\u001b[0m\u001b[0;34m\u001b[0m\u001b[0;34m\u001b[0m\u001b[0m\n\u001b[0m\u001b[1;32m     26\u001b[0m     \u001b[0mprint\u001b[0m\u001b[0;34m(\u001b[0m\u001b[0mrow1\u001b[0m\u001b[0;34m)\u001b[0m\u001b[0;34m\u001b[0m\u001b[0;34m\u001b[0m\u001b[0m\n\u001b[1;32m     27\u001b[0m     \u001b[0mprint\u001b[0m\u001b[0;34m(\u001b[0m\u001b[0mrow2\u001b[0m\u001b[0;34m)\u001b[0m\u001b[0;34m\u001b[0m\u001b[0;34m\u001b[0m\u001b[0m\n",
      "\u001b[0;31mNameError\u001b[0m: name 'row0' is not defined"
     ]
    }
   ],
   "source": [
    "#display welcome message and board\n",
    "#Accept row and player choice from func change_row_char\n",
    "\n",
    "    \n",
    "def draw_the_board(row,position):\n",
    "   \n",
    "\n",
    "draw_the_board('-',10)\n",
    "\n",
    "\n"
   ]
  },
  {
   "cell_type": "code",
   "execution_count": 2,
   "id": "a6010e58",
   "metadata": {},
   "outputs": [
    {
     "name": "stdout",
     "output_type": "stream",
     "text": [
      "Pick a position to replace (0,1,2,3,4,5,6,7,8,9): 2\n"
     ]
    },
    {
     "data": {
      "text/plain": [
       "2"
      ]
     },
     "execution_count": 2,
     "metadata": {},
     "output_type": "execute_result"
    }
   ],
   "source": [
    "from IPython.display import clear_output\n",
    "#Accept user input\n",
    "\n",
    "def position_choice():\n",
    "    \n",
    "    # This original choice value can be anything that isn't an integer\n",
    "    choice = 'wrong'\n",
    "    \n",
    "    # While the choice is not a digit, keep asking for input.\n",
    "    while choice not in ['0','1','2','3','4','5','6','7','8','9']:\n",
    "        \n",
    "        # we shouldn't convert here, otherwise we get an error on a wrong input\n",
    "        choice = input(\"Pick a position to replace (0,1,2,3,4,5,6,7,8,9): \")\n",
    "        \n",
    "        if choice not in ['0','1','2','3','4','5','6','7','8','9']:\n",
    "            # THIS CLEARS THE CURRENT OUTPUT BELOW THE CELL\n",
    "            clear_output()\n",
    "            \n",
    "            print(\"Sorry, but you did not choose a valid position\")\n",
    "            \n",
    "    \n",
    "    # Optionally you can clear everything after running the function\n",
    "    # clear_output()\n",
    "    \n",
    "    # We can convert once the while loop above has confirmed we have a digit.\n",
    "    return int(choice)\n",
    "\n",
    "#This asks for input\n",
    "\n",
    "position_choice()\n",
    "\n",
    "\n",
    "# accept input player 1\n",
    "\n",
    "#def player1_input ():\n",
    "\n",
    "# update board\n",
    "\n",
    "\n",
    "#accept input player 2\n",
    "\n",
    "\n",
    "# updateboard\n",
    "\n",
    "\n",
    "#check game condition\n",
    "\n"
   ]
  },
  {
   "cell_type": "code",
   "execution_count": 3,
   "id": "2663e4d3",
   "metadata": {},
   "outputs": [],
   "source": [
    "# accept input (player passed in to decide what player symbol) \n",
    "\n",
    "def player_turn (player):\n",
    "    \n",
    "    if player == 1:\n",
    "        player_char = 'X'\n",
    "        \n",
    "    else:\n",
    "        player_char = 'O'\n",
    "        \n",
    "    print(f'YOU ARE PLAYER,{player} you are,{player_char}')\n",
    "    return(player_char)  \n",
    "    \n",
    "   "
   ]
  },
  {
   "cell_type": "code",
   "execution_count": 5,
   "id": "fc28ca24",
   "metadata": {},
   "outputs": [
    {
     "name": "stdout",
     "output_type": "stream",
     "text": [
      "YOU ARE PLAYER,2 you are,O\n",
      "Pick a position to replace (0,1,2,3,4,5,6,7,8,9): 2\n",
      "You have chosen position,2\n"
     ]
    },
    {
     "data": {
      "text/plain": [
       "(2, 'O')"
      ]
     },
     "execution_count": 5,
     "metadata": {},
     "output_type": "execute_result"
    }
   ],
   "source": [
    "def player_choice(player_char)\n",
    " playerchoice = position_choice()\n",
    "    print (f'You have chosen position,{playerchoice}')\n",
    "    return playerchoice,player_char"
   ]
  },
  {
   "cell_type": "code",
   "execution_count": 4,
   "id": "784059c8",
   "metadata": {},
   "outputs": [],
   "source": [
    "#This changes the board state and accept (player_choice & player_char) from Function player_turn\n",
    " \n",
    "def change_row_char (player_choice,player_char):\n",
    "    row ='-'\n",
    "    if player_char == 'X':\n",
    "        if player_choice == 1 or player_choice == 4 or player_choice == 7:\n",
    "            row == '     X      |'\n",
    "        elif player_choice == 2 or player_choice == 5 or player_choice == 8:\n",
    "            row ='     X       |'\n",
    "        elif player_choice == 3 or player_choice == 6 or player_choice == 9:\n",
    "            row ='     X     '\n",
    "    \n",
    "    else:\n",
    "        if player_choice == 1 or player_choice == 4 or player_choice == 7:\n",
    "            row == '     O      |'\n",
    "        elif player_choice == 2 or player_choice == 5 or player_choice == 8:\n",
    "            row ='     O       |'\n",
    "        elif player_choice == 3 or player_choice == 6 or player_choice == 9:\n",
    "            row ='     O     '    \n",
    "    return row,player_choice    \n",
    "            \n",
    "\n",
    "\n",
    "\n",
    "\n"
   ]
  },
  {
   "cell_type": "code",
   "execution_count": null,
   "id": "a7363668",
   "metadata": {},
   "outputs": [],
   "source": [
    "#Start of calling functions\n",
    "player = 1\n",
    "turns = 0\n",
    "row = '-'\n",
    "player_choice = 10\n",
    "playerchar ='X'\n",
    "row1 =[' ',' ' ,' ']\n",
    "row2 =[' ',' ' ,' ']\n",
    "row3 =[' ',' ' ,' ']\n",
    "\n",
    "\n",
    "while turns < 9:\n",
    "    print (row)\n",
    "    print (player_choice)\n",
    "    draw_the_board(row,player_choice)\n",
    "    player_turn(player)\n",
    "    change_row_char(player_choice,playerchar)\n",
    "    \n",
    "print('End of game')\n",
    "    \n",
    "    "
   ]
  },
  {
   "cell_type": "code",
   "execution_count": null,
   "id": "68e02afe",
   "metadata": {},
   "outputs": [],
   "source": []
  },
  {
   "cell_type": "code",
   "execution_count": null,
   "id": "edb86f6c",
   "metadata": {},
   "outputs": [],
   "source": []
  }
 ],
 "metadata": {
  "kernelspec": {
   "display_name": "Python 3 (ipykernel)",
   "language": "python",
   "name": "python3"
  },
  "language_info": {
   "codemirror_mode": {
    "name": "ipython",
    "version": 3
   },
   "file_extension": ".py",
   "mimetype": "text/x-python",
   "name": "python",
   "nbconvert_exporter": "python",
   "pygments_lexer": "ipython3",
   "version": "3.8.8"
  }
 },
 "nbformat": 4,
 "nbformat_minor": 5
}
