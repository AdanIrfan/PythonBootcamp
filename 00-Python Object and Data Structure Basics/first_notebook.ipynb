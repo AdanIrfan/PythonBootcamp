{
 "cells": [
  {
   "cell_type": "markdown",
   "id": "53bc13b4-d5f8-4000-aaf7-cfc726b48d69",
   "metadata": {},
   "source": [
    "This is text Only, in particular, math: E = mc2"
   ]
  },
  {
   "cell_type": "code",
   "execution_count": 3,
   "id": "7854bd8e-40cd-427a-94fe-5766434acd55",
   "metadata": {},
   "outputs": [
    {
     "name": "stdout",
     "output_type": "stream",
     "text": [
      "hello\n",
      "Something blalala\n"
     ]
    }
   ],
   "source": [
    "print('hello')\n",
    "\n",
    "def greet(name):\n",
    "    print(f'Hi {name}')\n",
    "    \n",
    "print('Something blalala')\n",
    "\n",
    "def leave(name):\n",
    "    print(f'see u later very soon, {name}')"
   ]
  },
  {
   "cell_type": "code",
   "execution_count": 4,
   "id": "94983766-719b-45a9-86ae-54d35fda6104",
   "metadata": {},
   "outputs": [
    {
     "name": "stdout",
     "output_type": "stream",
     "text": [
      "see u later very soon, John\n"
     ]
    }
   ],
   "source": [
    "leave('John')"
   ]
  },
  {
   "cell_type": "code",
   "execution_count": 9,
   "id": "ade246a9-cbb5-4d21-8faa-9e2cf9230004",
   "metadata": {},
   "outputs": [
    {
     "name": "stdout",
     "output_type": "stream",
     "text": [
      "Hello hello from a file!\n",
      "Bye from there\n"
     ]
    }
   ],
   "source": [
    "# %load aaa.py\n",
    "print('Hello hello from a file!')\n",
    "print('Bye from there')\n"
   ]
  },
  {
   "cell_type": "code",
   "execution_count": 10,
   "id": "78829578-012c-41b5-a10e-6457082c7d39",
   "metadata": {},
   "outputs": [
    {
     "name": "stdout",
     "output_type": "stream",
     "text": [
      "Hello hello from a file!\n",
      "Bye from there\n"
     ]
    }
   ],
   "source": [
    "run aaa.py"
   ]
  },
  {
   "cell_type": "code",
   "execution_count": 13,
   "id": "d31a0a24-e711-4153-bb0d-12ffa24181a2",
   "metadata": {},
   "outputs": [
    {
     "name": "stderr",
     "output_type": "stream",
     "text": [
      "UsageError: %%writefile is a cell magic, but the cell body is empty.\n"
     ]
    }
   ],
   "source": [
    "%%writefile abc.py"
   ]
  },
  {
   "cell_type": "code",
   "execution_count": null,
   "id": "06980fdc-e69b-47eb-9f3e-e985b567b158",
   "metadata": {},
   "outputs": [],
   "source": []
  }
 ],
 "metadata": {
  "kernelspec": {
   "display_name": "Python 3 (ipykernel)",
   "language": "python",
   "name": "python3"
  },
  "language_info": {
   "codemirror_mode": {
    "name": "ipython",
    "version": 3
   },
   "file_extension": ".py",
   "mimetype": "text/x-python",
   "name": "python",
   "nbconvert_exporter": "python",
   "pygments_lexer": "ipython3",
   "version": "3.9.7"
  }
 },
 "nbformat": 4,
 "nbformat_minor": 5
}
