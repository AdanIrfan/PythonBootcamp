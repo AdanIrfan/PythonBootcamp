{
 "cells": [
  {
   "cell_type": "code",
   "execution_count": 1,
   "id": "d0df4669",
   "metadata": {},
   "outputs": [
    {
     "data": {
      "text/plain": [
       "'hello'"
      ]
     },
     "execution_count": 1,
     "metadata": {},
     "output_type": "execute_result"
    }
   ],
   "source": [
    "'hello'"
   ]
  },
  {
   "cell_type": "code",
   "execution_count": 2,
   "id": "4412d161",
   "metadata": {},
   "outputs": [
    {
     "data": {
      "text/plain": [
       "'world'"
      ]
     },
     "execution_count": 2,
     "metadata": {},
     "output_type": "execute_result"
    }
   ],
   "source": [
    "\"world\""
   ]
  },
  {
   "cell_type": "code",
   "execution_count": 3,
   "id": "fdabd004",
   "metadata": {},
   "outputs": [
    {
     "data": {
      "text/plain": [
       "'This is also a string'"
      ]
     },
     "execution_count": 3,
     "metadata": {},
     "output_type": "execute_result"
    }
   ],
   "source": [
    "'This is also a string'"
   ]
  },
  {
   "cell_type": "code",
   "execution_count": 5,
   "id": "839aaab2",
   "metadata": {},
   "outputs": [
    {
     "data": {
      "text/plain": [
       "\"I'm going on a run\""
      ]
     },
     "execution_count": 5,
     "metadata": {},
     "output_type": "execute_result"
    }
   ],
   "source": [
    "\"I'm going on a run\""
   ]
  },
  {
   "cell_type": "code",
   "execution_count": 6,
   "id": "682c7829",
   "metadata": {},
   "outputs": [
    {
     "name": "stdout",
     "output_type": "stream",
     "text": [
      "Hello\n"
     ]
    }
   ],
   "source": [
    "print('Hello')"
   ]
  },
  {
   "cell_type": "code",
   "execution_count": 8,
   "id": "e7bba8a9",
   "metadata": {},
   "outputs": [
    {
     "name": "stdout",
     "output_type": "stream",
     "text": [
      "Hello World One\n",
      "Hello World Two\n"
     ]
    }
   ],
   "source": [
    "print(\"Hello World One\")\n",
    "print(\"Hello World Two\")"
   ]
  },
  {
   "cell_type": "code",
   "execution_count": 10,
   "id": "9d2242b3",
   "metadata": {},
   "outputs": [
    {
     "name": "stdout",
     "output_type": "stream",
     "text": [
      "Hello\n",
      "World\n"
     ]
    }
   ],
   "source": [
    "print('Hello\\nWorld')"
   ]
  },
  {
   "cell_type": "code",
   "execution_count": 11,
   "id": "9c84e438",
   "metadata": {},
   "outputs": [
    {
     "name": "stdout",
     "output_type": "stream",
     "text": [
      "Hello\tWorld\n"
     ]
    }
   ],
   "source": [
    "print('Hello\\tWorld')"
   ]
  },
  {
   "cell_type": "code",
   "execution_count": 12,
   "id": "f79ad50a",
   "metadata": {},
   "outputs": [
    {
     "data": {
      "text/plain": [
       "4"
      ]
     },
     "execution_count": 12,
     "metadata": {},
     "output_type": "execute_result"
    }
   ],
   "source": [
    "len('blah')"
   ]
  },
  {
   "cell_type": "code",
   "execution_count": 13,
   "id": "8848b9ed",
   "metadata": {},
   "outputs": [],
   "source": [
    "blah = 'HiHiHiHiHi'"
   ]
  },
  {
   "cell_type": "code",
   "execution_count": 14,
   "id": "787a7cdd",
   "metadata": {},
   "outputs": [
    {
     "data": {
      "text/plain": [
       "10"
      ]
     },
     "execution_count": 14,
     "metadata": {},
     "output_type": "execute_result"
    }
   ],
   "source": [
    "len(blah)"
   ]
  },
  {
   "cell_type": "code",
   "execution_count": 15,
   "id": "7a4ae6b2",
   "metadata": {},
   "outputs": [],
   "source": [
    "mystring = 'Hello World'"
   ]
  },
  {
   "cell_type": "code",
   "execution_count": 16,
   "id": "ff849e88",
   "metadata": {},
   "outputs": [
    {
     "data": {
      "text/plain": [
       "'Hello World'"
      ]
     },
     "execution_count": 16,
     "metadata": {},
     "output_type": "execute_result"
    }
   ],
   "source": [
    "mystring"
   ]
  },
  {
   "cell_type": "code",
   "execution_count": 17,
   "id": "8dc710f1",
   "metadata": {},
   "outputs": [
    {
     "data": {
      "text/plain": [
       "'H'"
      ]
     },
     "execution_count": 17,
     "metadata": {},
     "output_type": "execute_result"
    }
   ],
   "source": [
    "mystring[0]"
   ]
  },
  {
   "cell_type": "code",
   "execution_count": 18,
   "id": "0fa1970e",
   "metadata": {},
   "outputs": [
    {
     "data": {
      "text/plain": [
       "'r'"
      ]
     },
     "execution_count": 18,
     "metadata": {},
     "output_type": "execute_result"
    }
   ],
   "source": [
    "mystring[8]"
   ]
  },
  {
   "cell_type": "code",
   "execution_count": 19,
   "id": "d76466d8",
   "metadata": {},
   "outputs": [
    {
     "data": {
      "text/plain": [
       "'l'"
      ]
     },
     "execution_count": 19,
     "metadata": {},
     "output_type": "execute_result"
    }
   ],
   "source": [
    "mystring[9]"
   ]
  },
  {
   "cell_type": "code",
   "execution_count": 21,
   "id": "58170a59",
   "metadata": {},
   "outputs": [
    {
     "data": {
      "text/plain": [
       "'l'"
      ]
     },
     "execution_count": 21,
     "metadata": {},
     "output_type": "execute_result"
    }
   ],
   "source": [
    "mystring[-2]"
   ]
  },
  {
   "cell_type": "code",
   "execution_count": 22,
   "id": "3c52f778",
   "metadata": {},
   "outputs": [],
   "source": [
    "mystring = 'abcdefghijk'"
   ]
  },
  {
   "cell_type": "code",
   "execution_count": 23,
   "id": "2672aaa3",
   "metadata": {},
   "outputs": [
    {
     "data": {
      "text/plain": [
       "'abcdefghijk'"
      ]
     },
     "execution_count": 23,
     "metadata": {},
     "output_type": "execute_result"
    }
   ],
   "source": [
    "mystring"
   ]
  },
  {
   "cell_type": "code",
   "execution_count": 25,
   "id": "5bbe1469",
   "metadata": {},
   "outputs": [
    {
     "data": {
      "text/plain": [
       "'cdefghijk'"
      ]
     },
     "execution_count": 25,
     "metadata": {},
     "output_type": "execute_result"
    }
   ],
   "source": [
    "mystring[2:]"
   ]
  },
  {
   "cell_type": "code",
   "execution_count": 26,
   "id": "ea1e44c4",
   "metadata": {},
   "outputs": [
    {
     "data": {
      "text/plain": [
       "'abc'"
      ]
     },
     "execution_count": 26,
     "metadata": {},
     "output_type": "execute_result"
    }
   ],
   "source": [
    "mystring[:3]"
   ]
  },
  {
   "cell_type": "code",
   "execution_count": 27,
   "id": "bda9c498",
   "metadata": {
    "scrolled": true
   },
   "outputs": [
    {
     "data": {
      "text/plain": [
       "'def'"
      ]
     },
     "execution_count": 27,
     "metadata": {},
     "output_type": "execute_result"
    }
   ],
   "source": [
    "mystring[3:6]"
   ]
  },
  {
   "cell_type": "code",
   "execution_count": 28,
   "id": "6592cfc9",
   "metadata": {},
   "outputs": [
    {
     "data": {
      "text/plain": [
       "'bc'"
      ]
     },
     "execution_count": 28,
     "metadata": {},
     "output_type": "execute_result"
    }
   ],
   "source": [
    "mystring[1:3]"
   ]
  },
  {
   "cell_type": "code",
   "execution_count": 30,
   "id": "48649100",
   "metadata": {},
   "outputs": [
    {
     "data": {
      "text/plain": [
       "'ghi'"
      ]
     },
     "execution_count": 30,
     "metadata": {},
     "output_type": "execute_result"
    }
   ],
   "source": [
    "mystring[-5:-2]"
   ]
  },
  {
   "cell_type": "code",
   "execution_count": 31,
   "id": "d1d0eaf8",
   "metadata": {},
   "outputs": [
    {
     "data": {
      "text/plain": [
       "'abcdefghijk'"
      ]
     },
     "execution_count": 31,
     "metadata": {},
     "output_type": "execute_result"
    }
   ],
   "source": [
    "mystring[::]"
   ]
  },
  {
   "cell_type": "code",
   "execution_count": 32,
   "id": "633f6f59",
   "metadata": {},
   "outputs": [
    {
     "data": {
      "text/plain": [
       "'acegik'"
      ]
     },
     "execution_count": 32,
     "metadata": {},
     "output_type": "execute_result"
    }
   ],
   "source": [
    "mystring[::2]"
   ]
  },
  {
   "cell_type": "code",
   "execution_count": 33,
   "id": "087f7e49",
   "metadata": {},
   "outputs": [
    {
     "data": {
      "text/plain": [
       "'ceg'"
      ]
     },
     "execution_count": 33,
     "metadata": {},
     "output_type": "execute_result"
    }
   ],
   "source": [
    "mystring[2:7:2]"
   ]
  },
  {
   "cell_type": "code",
   "execution_count": 34,
   "id": "8e97ac8d",
   "metadata": {},
   "outputs": [
    {
     "data": {
      "text/plain": [
       "'kjihgfedcba'"
      ]
     },
     "execution_count": 34,
     "metadata": {},
     "output_type": "execute_result"
    }
   ],
   "source": [
    "mystring[::-1]"
   ]
  },
  {
   "cell_type": "markdown",
   "id": "546cc7d7",
   "metadata": {},
   "source": [
    "### Immutability"
   ]
  },
  {
   "cell_type": "code",
   "execution_count": 43,
   "id": "cd419785",
   "metadata": {},
   "outputs": [],
   "source": [
    "name = 'Sam'"
   ]
  },
  {
   "cell_type": "code",
   "execution_count": 44,
   "id": "9c9ea00b",
   "metadata": {},
   "outputs": [],
   "source": [
    "# Baaaad\n",
    "# name[0] = 'P'"
   ]
  },
  {
   "cell_type": "code",
   "execution_count": 47,
   "id": "e3625e5c",
   "metadata": {},
   "outputs": [],
   "source": [
    "last_letters = name[1:]\n",
    "new_name = 'P' + last_letters"
   ]
  },
  {
   "cell_type": "code",
   "execution_count": 49,
   "id": "094313eb",
   "metadata": {},
   "outputs": [
    {
     "data": {
      "text/plain": [
       "'Pam'"
      ]
     },
     "execution_count": 49,
     "metadata": {},
     "output_type": "execute_result"
    }
   ],
   "source": [
    "new_name"
   ]
  },
  {
   "cell_type": "code",
   "execution_count": 53,
   "id": "8ffa27ad",
   "metadata": {},
   "outputs": [],
   "source": [
    "x = 'Hello World'"
   ]
  },
  {
   "cell_type": "code",
   "execution_count": 56,
   "id": "a30b007e",
   "metadata": {},
   "outputs": [],
   "source": [
    "x = x + ' it is beautiful outside today!'"
   ]
  },
  {
   "cell_type": "code",
   "execution_count": 57,
   "id": "97706478",
   "metadata": {},
   "outputs": [
    {
     "data": {
      "text/plain": [
       "'Hello World it is beautiful outside today! it is beautiful outside today!'"
      ]
     },
     "execution_count": 57,
     "metadata": {},
     "output_type": "execute_result"
    }
   ],
   "source": [
    "x"
   ]
  },
  {
   "cell_type": "code",
   "execution_count": 58,
   "id": "f57d2161",
   "metadata": {},
   "outputs": [],
   "source": [
    "letter = 'z'"
   ]
  },
  {
   "cell_type": "code",
   "execution_count": 59,
   "id": "c712fff4",
   "metadata": {},
   "outputs": [
    {
     "data": {
      "text/plain": [
       "'zzzzzzzzzz'"
      ]
     },
     "execution_count": 59,
     "metadata": {},
     "output_type": "execute_result"
    }
   ],
   "source": [
    "letter * 10"
   ]
  },
  {
   "cell_type": "code",
   "execution_count": 60,
   "id": "66c1821d",
   "metadata": {},
   "outputs": [
    {
     "data": {
      "text/plain": [
       "5"
      ]
     },
     "execution_count": 60,
     "metadata": {},
     "output_type": "execute_result"
    }
   ],
   "source": [
    "2 + 3"
   ]
  },
  {
   "cell_type": "code",
   "execution_count": 61,
   "id": "111e137b",
   "metadata": {},
   "outputs": [
    {
     "data": {
      "text/plain": [
       "'23'"
      ]
     },
     "execution_count": 61,
     "metadata": {},
     "output_type": "execute_result"
    }
   ],
   "source": [
    "'2' + '3'"
   ]
  },
  {
   "cell_type": "code",
   "execution_count": 62,
   "id": "c54f75c5",
   "metadata": {},
   "outputs": [],
   "source": [
    "x = 'Hello World'"
   ]
  },
  {
   "cell_type": "code",
   "execution_count": 66,
   "id": "6c80af4f",
   "metadata": {},
   "outputs": [
    {
     "data": {
      "text/plain": [
       "'HELLO WORLD'"
      ]
     },
     "execution_count": 66,
     "metadata": {},
     "output_type": "execute_result"
    }
   ],
   "source": [
    "x.upper()"
   ]
  },
  {
   "cell_type": "code",
   "execution_count": 68,
   "id": "f54a1d5e",
   "metadata": {},
   "outputs": [
    {
     "data": {
      "text/plain": [
       "'hello world'"
      ]
     },
     "execution_count": 68,
     "metadata": {},
     "output_type": "execute_result"
    }
   ],
   "source": [
    "x.lower()"
   ]
  },
  {
   "cell_type": "code",
   "execution_count": 69,
   "id": "a24eba48",
   "metadata": {},
   "outputs": [
    {
     "data": {
      "text/plain": [
       "['Hello', 'World']"
      ]
     },
     "execution_count": 69,
     "metadata": {},
     "output_type": "execute_result"
    }
   ],
   "source": [
    "x.split()"
   ]
  },
  {
   "cell_type": "code",
   "execution_count": 70,
   "id": "8411ee79",
   "metadata": {},
   "outputs": [],
   "source": [
    "y = 'Hi this is a string'"
   ]
  },
  {
   "cell_type": "code",
   "execution_count": 71,
   "id": "87dc8d4a",
   "metadata": {},
   "outputs": [
    {
     "data": {
      "text/plain": [
       "['Hi', 'this', 'is', 'a', 'string']"
      ]
     },
     "execution_count": 71,
     "metadata": {},
     "output_type": "execute_result"
    }
   ],
   "source": [
    "y.split()"
   ]
  },
  {
   "cell_type": "code",
   "execution_count": 72,
   "id": "08bb5d35",
   "metadata": {},
   "outputs": [
    {
     "data": {
      "text/plain": [
       "['H', ' th', 's ', 's a str', 'ng']"
      ]
     },
     "execution_count": 72,
     "metadata": {},
     "output_type": "execute_result"
    }
   ],
   "source": [
    "y.split('i')"
   ]
  },
  {
   "cell_type": "code",
   "execution_count": 73,
   "id": "16246722",
   "metadata": {},
   "outputs": [
    {
     "name": "stdout",
     "output_type": "stream",
     "text": [
      "hello\n"
     ]
    }
   ],
   "source": [
    "print('hello')"
   ]
  },
  {
   "cell_type": "code",
   "execution_count": null,
   "id": "7c734259",
   "metadata": {},
   "outputs": [],
   "source": []
  }
 ],
 "metadata": {
  "kernelspec": {
   "display_name": "Python 3 (ipykernel)",
   "language": "python",
   "name": "python3"
  },
  "language_info": {
   "codemirror_mode": {
    "name": "ipython",
    "version": 3
   },
   "file_extension": ".py",
   "mimetype": "text/x-python",
   "name": "python",
   "nbconvert_exporter": "python",
   "pygments_lexer": "ipython3",
   "version": "3.9.13"
  }
 },
 "nbformat": 4,
 "nbformat_minor": 5
}
