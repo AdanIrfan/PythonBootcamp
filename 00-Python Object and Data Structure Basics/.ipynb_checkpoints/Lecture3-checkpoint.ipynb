{
 "cells": [
  {
   "cell_type": "code",
   "execution_count": 1,
   "id": "eeee7dd9",
   "metadata": {},
   "outputs": [
    {
     "name": "stdout",
     "output_type": "stream",
     "text": [
      "How manty?2\n"
     ]
    },
    {
     "data": {
      "text/plain": [
       "'2'"
      ]
     },
     "execution_count": 1,
     "metadata": {},
     "output_type": "execute_result"
    }
   ],
   "source": [
    "input('How many?')"
   ]
  },
  {
   "cell_type": "code",
   "execution_count": 2,
   "id": "47066c3d",
   "metadata": {},
   "outputs": [
    {
     "name": "stdout",
     "output_type": "stream",
     "text": [
      "How muchh?100\n"
     ]
    },
    {
     "data": {
      "text/plain": [
       "100"
      ]
     },
     "execution_count": 2,
     "metadata": {},
     "output_type": "execute_result"
    }
   ],
   "source": [
    "n = input('How much?')\n",
    "n= int(n)\n",
    "n"
   ]
  },
  {
   "cell_type": "code",
   "execution_count": 6,
   "id": "ba04cc8b",
   "metadata": {},
   "outputs": [
    {
     "name": "stdout",
     "output_type": "stream",
     "text": [
      "AutoConvertion5-\n"
     ]
    },
    {
     "ename": "ValueError",
     "evalue": "invalid literal for int() with base 10: '5-'",
     "output_type": "error",
     "traceback": [
      "\u001b[1;31m---------------------------------------------------------------------------\u001b[0m",
      "\u001b[1;31mValueError\u001b[0m                                Traceback (most recent call last)",
      "\u001b[1;32m~\\AppData\\Local\\Temp/ipykernel_30964/2222392990.py\u001b[0m in \u001b[0;36m<module>\u001b[1;34m\u001b[0m\n\u001b[1;32m----> 1\u001b[1;33m \u001b[0mn\u001b[0m\u001b[1;33m=\u001b[0m  \u001b[0mint\u001b[0m\u001b[1;33m(\u001b[0m\u001b[0minput\u001b[0m\u001b[1;33m(\u001b[0m\u001b[1;34m'AutoConvertion'\u001b[0m\u001b[1;33m)\u001b[0m\u001b[1;33m)\u001b[0m\u001b[1;33m\u001b[0m\u001b[1;33m\u001b[0m\u001b[0m\n\u001b[0m\u001b[0;32m      2\u001b[0m \u001b[0mn\u001b[0m\u001b[1;33m\u001b[0m\u001b[1;33m\u001b[0m\u001b[0m\n",
      "\u001b[1;31mValueError\u001b[0m: invalid literal for int() with base 10: '5-'"
     ]
    }
   ],
   "source": [
    "n=  int(input('AutoConvertion'))\n",
    "n"
   ]
  },
  {
   "cell_type": "code",
   "execution_count": 13,
   "id": "f79abeda",
   "metadata": {},
   "outputs": [
    {
     "name": "stdout",
     "output_type": "stream",
     "text": [
      "How many games do you want to play?500\n",
      "500\n"
     ]
    }
   ],
   "source": [
    "try:\n",
    "    n= int(input('How many games do you want to play?'))\n",
    "    print(n)\n",
    "except ValueError:\n",
    "    print('SOrry!@@')"
   ]
  },
  {
   "cell_type": "code",
   "execution_count": 19,
   "id": "66689ee7",
   "metadata": {},
   "outputs": [],
   "source": [
    "while True:\n",
    "    try:\n",
    "        n= int(input('How many?'))\n",
    "        if n < 1:\n",
    "            print ('Has to bigger than 1');\n",
    "            raise ValueError\n",
    "        print(f'Good, keeping track that we will play{n} games')\n",
    "        break\n",
    "    except ValueError:\n",
    "        print('Sorry, no good, try again')"
   ]
  },
  {
   "cell_type": "code",
   "execution_count": 20,
   "id": "193708c5",
   "metadata": {},
   "outputs": [],
   "source": [
    "switching =True"
   ]
  },
  {
   "cell_type": "code",
   "execution_count": 29,
   "id": "ca64244e",
   "metadata": {},
   "outputs": [
    {
     "data": {
      "text/plain": [
       "(list, tuple, set)"
      ]
     },
     "execution_count": 29,
     "metadata": {},
     "output_type": "execute_result"
    }
   ],
   "source": [
    "L = ['A','B', 'C']\n",
    "# () can be ommited for  tuple\n",
    "T = 'A', 'B', 'C'\n",
    "S = {'A', 'B', 'C'}\n",
    "type(L), type(T), type(S)"
   ]
  },
  {
   "cell_type": "code",
   "execution_count": 23,
   "id": "d22a171f",
   "metadata": {},
   "outputs": [
    {
     "data": {
      "text/plain": [
       "('B', 'B')"
      ]
     },
     "execution_count": 23,
     "metadata": {},
     "output_type": "execute_result"
    }
   ],
   "source": [
    "L[1], T[1]"
   ]
  },
  {
   "cell_type": "code",
   "execution_count": 24,
   "id": "486e2360",
   "metadata": {},
   "outputs": [
    {
     "ename": "TypeError",
     "evalue": "'set' object is not subscriptable",
     "output_type": "error",
     "traceback": [
      "\u001b[1;31m---------------------------------------------------------------------------\u001b[0m",
      "\u001b[1;31mTypeError\u001b[0m                                 Traceback (most recent call last)",
      "\u001b[1;32m~\\AppData\\Local\\Temp/ipykernel_30964/2200405716.py\u001b[0m in \u001b[0;36m<module>\u001b[1;34m\u001b[0m\n\u001b[1;32m----> 1\u001b[1;33m \u001b[0mS\u001b[0m\u001b[1;33m[\u001b[0m\u001b[1;36m1\u001b[0m\u001b[1;33m]\u001b[0m\u001b[1;33m\u001b[0m\u001b[1;33m\u001b[0m\u001b[0m\n\u001b[0m",
      "\u001b[1;31mTypeError\u001b[0m: 'set' object is not subscriptable"
     ]
    }
   ],
   "source": [
    "S[1]"
   ]
  },
  {
   "cell_type": "code",
   "execution_count": 25,
   "id": "e1e9481d",
   "metadata": {},
   "outputs": [
    {
     "ename": "AttributeError",
     "evalue": "'set' object has no attribute 'get'",
     "output_type": "error",
     "traceback": [
      "\u001b[1;31m---------------------------------------------------------------------------\u001b[0m",
      "\u001b[1;31mAttributeError\u001b[0m                            Traceback (most recent call last)",
      "\u001b[1;32m~\\AppData\\Local\\Temp/ipykernel_30964/2667063957.py\u001b[0m in \u001b[0;36m<module>\u001b[1;34m\u001b[0m\n\u001b[1;32m----> 1\u001b[1;33m \u001b[0mS\u001b[0m\u001b[1;33m.\u001b[0m\u001b[0mget\u001b[0m\u001b[1;33m(\u001b[0m\u001b[1;36m1\u001b[0m\u001b[1;33m)\u001b[0m\u001b[1;33m\u001b[0m\u001b[1;33m\u001b[0m\u001b[0m\n\u001b[0m",
      "\u001b[1;31mAttributeError\u001b[0m: 'set' object has no attribute 'get'"
     ]
    }
   ],
   "source": [
    "S.get(1)"
   ]
  },
  {
   "cell_type": "code",
   "execution_count": 28,
   "id": "f09929b0",
   "metadata": {},
   "outputs": [
    {
     "data": {
      "text/plain": [
       "(True, True, True)"
      ]
     },
     "execution_count": 28,
     "metadata": {},
     "output_type": "execute_result"
    }
   ],
   "source": [
    "'B' in S,  'B' in T, 'B' in S"
   ]
  },
  {
   "cell_type": "code",
   "execution_count": 30,
   "id": "4f33151e",
   "metadata": {},
   "outputs": [
    {
     "data": {
      "text/plain": [
       "int"
      ]
     },
     "execution_count": 30,
     "metadata": {},
     "output_type": "execute_result"
    }
   ],
   "source": [
    "type((((1))))"
   ]
  },
  {
   "cell_type": "code",
   "execution_count": 31,
   "id": "c22b0d67",
   "metadata": {},
   "outputs": [],
   "source": [
    "doors = ['A','B','C']"
   ]
  },
  {
   "cell_type": "code",
   "execution_count": 32,
   "id": "45ac653b",
   "metadata": {},
   "outputs": [
    {
     "data": {
      "text/plain": [
       "['A', 'C']"
      ]
     },
     "execution_count": 32,
     "metadata": {},
     "output_type": "execute_result"
    }
   ],
   "source": [
    "doors.remove('B')\n",
    "doors"
   ]
  },
  {
   "cell_type": "code",
   "execution_count": 34,
   "id": "477e8cad",
   "metadata": {},
   "outputs": [
    {
     "data": {
      "text/plain": [
       "['A', 'B', 'C', 'D']"
      ]
     },
     "execution_count": 34,
     "metadata": {},
     "output_type": "execute_result"
    }
   ],
   "source": [
    "doors = ['A','B','C']\n",
    "doors.append('D')\n",
    "doors"
   ]
  },
  {
   "cell_type": "code",
   "execution_count": 35,
   "id": "484e551e",
   "metadata": {},
   "outputs": [],
   "source": [
    "doors = ['A', 'B', 'C']"
   ]
  },
  {
   "cell_type": "code",
   "execution_count": 36,
   "id": "fedb21b6",
   "metadata": {},
   "outputs": [],
   "source": [
    "from random import choice"
   ]
  },
  {
   "cell_type": "code",
   "execution_count": 42,
   "id": "702c64ac",
   "metadata": {},
   "outputs": [
    {
     "data": {
      "text/plain": [
       "'B'"
      ]
     },
     "execution_count": 42,
     "metadata": {},
     "output_type": "execute_result"
    }
   ],
   "source": [
    "choice(doors)\n"
   ]
  },
  {
   "cell_type": "code",
   "execution_count": 43,
   "id": "36d16974",
   "metadata": {},
   "outputs": [],
   "source": [
    "from IPython.core.interactiveshell import InteractiveShell\n",
    "InteractiveShell.ast_node_interactivity = \"all\""
   ]
  },
  {
   "cell_type": "code",
   "execution_count": 44,
   "id": "3bf025a0",
   "metadata": {},
   "outputs": [
    {
     "data": {
      "text/plain": [
       "'A'"
      ]
     },
     "execution_count": 44,
     "metadata": {},
     "output_type": "execute_result"
    },
    {
     "data": {
      "text/plain": [
       "'A'"
      ]
     },
     "execution_count": 44,
     "metadata": {},
     "output_type": "execute_result"
    },
    {
     "data": {
      "text/plain": [
       "'C'"
      ]
     },
     "execution_count": 44,
     "metadata": {},
     "output_type": "execute_result"
    },
    {
     "data": {
      "text/plain": [
       "'C'"
      ]
     },
     "execution_count": 44,
     "metadata": {},
     "output_type": "execute_result"
    }
   ],
   "source": [
    "choice(doors)\n",
    "choice(doors)\n",
    "choice(doors)\n",
    "choice(doors)\n"
   ]
  },
  {
   "cell_type": "code",
   "execution_count": 46,
   "id": "c42ddc94",
   "metadata": {},
   "outputs": [
    {
     "data": {
      "text/plain": [
       "'B'"
      ]
     },
     "execution_count": 46,
     "metadata": {},
     "output_type": "execute_result"
    }
   ],
   "source": [
    "doors = ['A', 'B', 'C']\n",
    "winning_door = choice(doors)\n",
    "winning_door"
   ]
  },
  {
   "cell_type": "code",
   "execution_count": 51,
   "id": "bd98c86f",
   "metadata": {},
   "outputs": [
    {
     "data": {
      "text/plain": [
       "['A', 'B']"
      ]
     },
     "execution_count": 51,
     "metadata": {},
     "output_type": "execute_result"
    }
   ],
   "source": [
    "L = ['A','B','C']\n",
    "L.remove(choice(L))\n",
    "L"
   ]
  },
  {
   "cell_type": "code",
   "execution_count": 56,
   "id": "279d3132",
   "metadata": {},
   "outputs": [
    {
     "data": {
      "text/plain": [
       "11"
      ]
     },
     "execution_count": 56,
     "metadata": {},
     "output_type": "execute_result"
    },
    {
     "data": {
      "text/plain": [
       "9"
      ]
     },
     "execution_count": 56,
     "metadata": {},
     "output_type": "execute_result"
    }
   ],
   "source": [
    "import random\n",
    "random.choice([10,11,12])\n",
    "random.randrange(10)"
   ]
  },
  {
   "cell_type": "code",
   "execution_count": 57,
   "id": "5003b98c",
   "metadata": {},
   "outputs": [
    {
     "data": {
      "text/plain": [
       "['betavariate',\n",
       " 'choice',\n",
       " 'choices',\n",
       " 'expovariate',\n",
       " 'gammavariate',\n",
       " 'gauss',\n",
       " 'getrandbits',\n",
       " 'getstate',\n",
       " 'lognormvariate',\n",
       " 'normalvariate',\n",
       " 'paretovariate',\n",
       " 'randbytes',\n",
       " 'randint',\n",
       " 'random',\n",
       " 'randrange',\n",
       " 'sample',\n",
       " 'seed',\n",
       " 'setstate',\n",
       " 'shuffle',\n",
       " 'triangular',\n",
       " 'uniform',\n",
       " 'vonmisesvariate',\n",
       " 'weibullvariate']"
      ]
     },
     "execution_count": 57,
     "metadata": {},
     "output_type": "execute_result"
    }
   ],
   "source": [
    "[f for f in dir(random) if f[0].islower()]"
   ]
  },
  {
   "cell_type": "code",
   "execution_count": 58,
   "id": "f8eb299b",
   "metadata": {},
   "outputs": [
    {
     "data": {
      "text/plain": [
       "['__add__',\n",
       " '__class__',\n",
       " '__contains__',\n",
       " '__delattr__',\n",
       " '__dir__',\n",
       " '__doc__',\n",
       " '__eq__',\n",
       " '__format__',\n",
       " '__ge__',\n",
       " '__getattribute__',\n",
       " '__getitem__',\n",
       " '__getnewargs__',\n",
       " '__gt__',\n",
       " '__hash__',\n",
       " '__init__',\n",
       " '__init_subclass__',\n",
       " '__iter__',\n",
       " '__le__',\n",
       " '__len__',\n",
       " '__lt__',\n",
       " '__mod__',\n",
       " '__mul__',\n",
       " '__ne__',\n",
       " '__new__',\n",
       " '__reduce__',\n",
       " '__reduce_ex__',\n",
       " '__repr__',\n",
       " '__rmod__',\n",
       " '__rmul__',\n",
       " '__setattr__',\n",
       " '__sizeof__',\n",
       " '__str__',\n",
       " '__subclasshook__',\n",
       " 'capitalize',\n",
       " 'casefold',\n",
       " 'center',\n",
       " 'count',\n",
       " 'encode',\n",
       " 'endswith',\n",
       " 'expandtabs',\n",
       " 'find',\n",
       " 'format',\n",
       " 'format_map',\n",
       " 'index',\n",
       " 'isalnum',\n",
       " 'isalpha',\n",
       " 'isascii',\n",
       " 'isdecimal',\n",
       " 'isdigit',\n",
       " 'isidentifier',\n",
       " 'islower',\n",
       " 'isnumeric',\n",
       " 'isprintable',\n",
       " 'isspace',\n",
       " 'istitle',\n",
       " 'isupper',\n",
       " 'join',\n",
       " 'ljust',\n",
       " 'lower',\n",
       " 'lstrip',\n",
       " 'maketrans',\n",
       " 'partition',\n",
       " 'removeprefix',\n",
       " 'removesuffix',\n",
       " 'replace',\n",
       " 'rfind',\n",
       " 'rindex',\n",
       " 'rjust',\n",
       " 'rpartition',\n",
       " 'rsplit',\n",
       " 'rstrip',\n",
       " 'split',\n",
       " 'splitlines',\n",
       " 'startswith',\n",
       " 'strip',\n",
       " 'swapcase',\n",
       " 'title',\n",
       " 'translate',\n",
       " 'upper',\n",
       " 'zfill']"
      ]
     },
     "execution_count": 58,
     "metadata": {},
     "output_type": "execute_result"
    }
   ],
   "source": [
    "dir(str)"
   ]
  },
  {
   "cell_type": "code",
   "execution_count": 61,
   "id": "5a477b7e",
   "metadata": {},
   "outputs": [
    {
     "data": {
      "text/plain": [
       "['capitalize',\n",
       " 'casefold',\n",
       " 'center',\n",
       " 'count',\n",
       " 'encode',\n",
       " 'endswith',\n",
       " 'expandtabs',\n",
       " 'find',\n",
       " 'format',\n",
       " 'format_map',\n",
       " 'index',\n",
       " 'isalnum',\n",
       " 'isalpha',\n",
       " 'isascii',\n",
       " 'isdecimal',\n",
       " 'isdigit',\n",
       " 'isidentifier',\n",
       " 'islower',\n",
       " 'isnumeric',\n",
       " 'isprintable',\n",
       " 'isspace',\n",
       " 'istitle',\n",
       " 'isupper',\n",
       " 'join',\n",
       " 'ljust',\n",
       " 'lower',\n",
       " 'lstrip',\n",
       " 'maketrans',\n",
       " 'partition',\n",
       " 'removeprefix',\n",
       " 'removesuffix',\n",
       " 'replace',\n",
       " 'rfind',\n",
       " 'rindex',\n",
       " 'rjust',\n",
       " 'rpartition',\n",
       " 'rsplit',\n",
       " 'rstrip',\n",
       " 'split',\n",
       " 'splitlines',\n",
       " 'startswith',\n",
       " 'strip',\n",
       " 'swapcase',\n",
       " 'title',\n",
       " 'translate',\n",
       " 'upper',\n",
       " 'zfill']"
      ]
     },
     "execution_count": 61,
     "metadata": {},
     "output_type": "execute_result"
    }
   ],
   "source": [
    "[f for f in dir(str) if not f.startswith('_')]"
   ]
  },
  {
   "cell_type": "code",
   "execution_count": 62,
   "id": "3645c293",
   "metadata": {},
   "outputs": [
    {
     "data": {
      "text/plain": [
       "['CAPITALIZE',\n",
       " 'CASEFOLD',\n",
       " 'CENTER',\n",
       " 'COUNT',\n",
       " 'ENCODE',\n",
       " 'ENDSWITH',\n",
       " 'EXPANDTABS',\n",
       " 'FIND',\n",
       " 'FORMAT',\n",
       " 'FORMAT_MAP',\n",
       " 'INDEX',\n",
       " 'ISALNUM',\n",
       " 'ISALPHA',\n",
       " 'ISASCII',\n",
       " 'ISDECIMAL',\n",
       " 'ISDIGIT',\n",
       " 'ISIDENTIFIER',\n",
       " 'ISLOWER',\n",
       " 'ISNUMERIC',\n",
       " 'ISPRINTABLE',\n",
       " 'ISSPACE',\n",
       " 'ISTITLE',\n",
       " 'ISUPPER',\n",
       " 'JOIN',\n",
       " 'LJUST',\n",
       " 'LOWER',\n",
       " 'LSTRIP',\n",
       " 'MAKETRANS',\n",
       " 'PARTITION',\n",
       " 'REMOVEPREFIX',\n",
       " 'REMOVESUFFIX',\n",
       " 'REPLACE',\n",
       " 'RFIND',\n",
       " 'RINDEX',\n",
       " 'RJUST',\n",
       " 'RPARTITION',\n",
       " 'RSPLIT',\n",
       " 'RSTRIP',\n",
       " 'SPLIT',\n",
       " 'SPLITLINES',\n",
       " 'STARTSWITH',\n",
       " 'STRIP',\n",
       " 'SWAPCASE',\n",
       " 'TITLE',\n",
       " 'TRANSLATE',\n",
       " 'UPPER',\n",
       " 'ZFILL']"
      ]
     },
     "execution_count": 62,
     "metadata": {},
     "output_type": "execute_result"
    }
   ],
   "source": [
    "[f.upper() for f in dir(str) if not f.startswith('_')]"
   ]
  },
  {
   "cell_type": "code",
   "execution_count": 63,
   "id": "08ddda42",
   "metadata": {},
   "outputs": [
    {
     "data": {
      "text/plain": [
       "'A'"
      ]
     },
     "execution_count": 63,
     "metadata": {},
     "output_type": "execute_result"
    }
   ],
   "source": [
    "doors = ['A', 'B', 'C']\n",
    "winning_door = choice(doors)\n",
    "winning_door"
   ]
  },
  {
   "cell_type": "code",
   "execution_count": 64,
   "id": "2f680cf0",
   "metadata": {},
   "outputs": [
    {
     "data": {
      "text/plain": [
       "(10, 15)"
      ]
     },
     "execution_count": 64,
     "metadata": {},
     "output_type": "execute_result"
    }
   ],
   "source": [
    "C = [10,12,13,15]\n",
    "c1 = choice(C)\n",
    "C.remove(c1)\n",
    "c2 = choice(C)\n",
    "c1, c2"
   ]
  },
  {
   "cell_type": "code",
   "execution_count": 65,
   "id": "0c1db2b0",
   "metadata": {},
   "outputs": [
    {
     "name": "stdout",
     "output_type": "stream",
     "text": [
      "Help on method choice in module random:\n",
      "\n",
      "choice(seq) method of random.Random instance\n",
      "    Choose a random element from a non-empty sequence.\n",
      "\n"
     ]
    }
   ],
   "source": [
    "help(choice)"
   ]
  },
  {
   "cell_type": "code",
   "execution_count": 67,
   "id": "19182f03",
   "metadata": {},
   "outputs": [
    {
     "data": {
      "text/plain": [
       "'C'"
      ]
     },
     "execution_count": 67,
     "metadata": {},
     "output_type": "execute_result"
    }
   ],
   "source": [
    "\n",
    "doors = ['A', 'B', 'C']\n",
    "winning_door = choice(doors)\n",
    "winning_door"
   ]
  },
  {
   "cell_type": "code",
   "execution_count": 70,
   "id": "df1aebe9",
   "metadata": {},
   "outputs": [
    {
     "data": {
      "text/plain": [
       "'A'"
      ]
     },
     "execution_count": 70,
     "metadata": {},
     "output_type": "execute_result"
    },
    {
     "data": {
      "text/plain": [
       "['B', 'C']"
      ]
     },
     "execution_count": 70,
     "metadata": {},
     "output_type": "execute_result"
    }
   ],
   "source": [
    "doors = ['A', 'B', 'C']\n",
    "winning_door = choice(doors)\n",
    "winning_door\n",
    "first_choice = choice(doors)\n",
    "doors.remove(first_choice)\n",
    "doors"
   ]
  },
  {
   "cell_type": "code",
   "execution_count": 72,
   "id": "6939347d",
   "metadata": {},
   "outputs": [],
   "source": [
    "L = [1] *50 \n"
   ]
  },
  {
   "cell_type": "code",
   "execution_count": 73,
   "id": "4b1a7840",
   "metadata": {},
   "outputs": [],
   "source": [
    "from random import randrange"
   ]
  },
  {
   "cell_type": "code",
   "execution_count": 80,
   "id": "16f0946d",
   "metadata": {},
   "outputs": [
    {
     "data": {
      "text/plain": [
       "2"
      ]
     },
     "execution_count": 80,
     "metadata": {},
     "output_type": "execute_result"
    },
    {
     "data": {
      "text/plain": [
       "2"
      ]
     },
     "execution_count": 80,
     "metadata": {},
     "output_type": "execute_result"
    },
    {
     "data": {
      "text/plain": [
       "0"
      ]
     },
     "execution_count": 80,
     "metadata": {},
     "output_type": "execute_result"
    },
    {
     "data": {
      "text/plain": [
       "1"
      ]
     },
     "execution_count": 80,
     "metadata": {},
     "output_type": "execute_result"
    },
    {
     "data": {
      "text/plain": [
       "2"
      ]
     },
     "execution_count": 80,
     "metadata": {},
     "output_type": "execute_result"
    },
    {
     "data": {
      "text/plain": [
       "2"
      ]
     },
     "execution_count": 80,
     "metadata": {},
     "output_type": "execute_result"
    },
    {
     "data": {
      "text/plain": [
       "0"
      ]
     },
     "execution_count": 80,
     "metadata": {},
     "output_type": "execute_result"
    },
    {
     "data": {
      "text/plain": [
       "1"
      ]
     },
     "execution_count": 80,
     "metadata": {},
     "output_type": "execute_result"
    }
   ],
   "source": [
    "randrange(3)\n",
    "randrange(3)\n",
    "randrange(3)\n",
    "randrange(3)\n",
    "randrange(3)\n",
    "randrange(3)\n",
    "randrange(3)\n",
    "randrange(3)"
   ]
  },
  {
   "cell_type": "code",
   "execution_count": 81,
   "id": "119f48c2",
   "metadata": {},
   "outputs": [
    {
     "data": {
      "text/plain": [
       "16"
      ]
     },
     "execution_count": 81,
     "metadata": {},
     "output_type": "execute_result"
    },
    {
     "data": {
      "text/plain": [
       "[10, 12, 15]"
      ]
     },
     "execution_count": 81,
     "metadata": {},
     "output_type": "execute_result"
    }
   ],
   "source": [
    "L = [10,12,15,16]\n",
    "L.pop()\n",
    "L"
   ]
  },
  {
   "cell_type": "code",
   "execution_count": 82,
   "id": "56c46ae5",
   "metadata": {},
   "outputs": [
    {
     "data": {
      "text/plain": [
       "15"
      ]
     },
     "execution_count": 82,
     "metadata": {},
     "output_type": "execute_result"
    },
    {
     "data": {
      "text/plain": [
       "[10, 12, 16]"
      ]
     },
     "execution_count": 82,
     "metadata": {},
     "output_type": "execute_result"
    }
   ],
   "source": [
    "L = [10,12,15,16]\n",
    "L.pop(2)\n",
    "L"
   ]
  },
  {
   "cell_type": "code",
   "execution_count": 85,
   "id": "c1a0f375",
   "metadata": {},
   "outputs": [
    {
     "ename": "NameError",
     "evalue": "name 'trye' is not defined",
     "output_type": "error",
     "traceback": [
      "\u001b[1;31m---------------------------------------------------------------------------\u001b[0m",
      "\u001b[1;31mNameError\u001b[0m                                 Traceback (most recent call last)",
      "\u001b[1;32m~\\AppData\\Local\\Temp/ipykernel_30964/195268948.py\u001b[0m in \u001b[0;36m<module>\u001b[1;34m\u001b[0m\n\u001b[1;32m----> 1\u001b[1;33m \u001b[0mswitches\u001b[0m \u001b[1;33m=\u001b[0m \u001b[0mtrye\u001b[0m\u001b[1;33m\u001b[0m\u001b[1;33m\u001b[0m\u001b[0m\n\u001b[0m\u001b[0;32m      2\u001b[0m \u001b[1;33m\u001b[0m\u001b[0m\n\u001b[0;32m      3\u001b[0m \u001b[0mdoors\u001b[0m \u001b[1;33m=\u001b[0m \u001b[1;33m[\u001b[0m\u001b[1;34m'A'\u001b[0m\u001b[1;33m,\u001b[0m \u001b[1;34m'B'\u001b[0m\u001b[1;33m,\u001b[0m \u001b[1;34m'C'\u001b[0m\u001b[1;33m]\u001b[0m\u001b[1;33m\u001b[0m\u001b[1;33m\u001b[0m\u001b[0m\n\u001b[0;32m      4\u001b[0m \u001b[0mwinning_door\u001b[0m \u001b[1;33m=\u001b[0m \u001b[0mchoice\u001b[0m\u001b[1;33m(\u001b[0m\u001b[0mdoors\u001b[0m\u001b[1;33m)\u001b[0m\u001b[1;33m\u001b[0m\u001b[1;33m\u001b[0m\u001b[0m\n\u001b[0;32m      5\u001b[0m \u001b[0mprint\u001b[0m\u001b[1;33m(\u001b[0m\u001b[1;34m'Winning door:'\u001b[0m\u001b[1;33m,\u001b[0m \u001b[0mwinning_door\u001b[0m\u001b[1;33m)\u001b[0m\u001b[1;33m\u001b[0m\u001b[1;33m\u001b[0m\u001b[0m\n",
      "\u001b[1;31mNameError\u001b[0m: name 'trye' is not defined"
     ]
    }
   ],
   "source": [
    "switches = True\n",
    "\n",
    "doors = ['A', 'B', 'C']\n",
    "winning_door = choice(doors)\n",
    "print('Winning door:', winning_door)\n",
    "# for peroformance reasons using randrange instead of choice  (contstants)\n",
    "first_choice = doors.pop(randrange(3))\n",
    "print('First Choice:', first_choice)\n",
    "doors\n",
    "\n",
    "if not switches:\n",
    "    second_choice = first_choice\n",
    "\n",
    "\n",
    "if first_choice == winning_door:\n",
    "    opened_door = doors.pop(randrange(2))\n",
    "    if switches:\n",
    "        second_choice = doors[0]\n",
    "    else:\n",
    "        second_choice = first_choice\n",
    "else:\n",
    "    doors.remove(winning_door)\n",
    "    opened_door = doors[0]\n",
    "    if switches:\n",
    "        second_choice = winning_door\n",
    "    else:\n",
    "        second_choice = first_choice\n",
    "        \n",
    "print('Opened door:',  opened_door)\n",
    "print('Second choice:', second_choice)"
   ]
  },
  {
   "cell_type": "code",
   "execution_count": null,
   "id": "51f10990",
   "metadata": {},
   "outputs": [],
   "source": []
  }
 ],
 "metadata": {
  "kernelspec": {
   "display_name": "Python 3 (ipykernel)",
   "language": "python",
   "name": "python3"
  },
  "language_info": {
   "codemirror_mode": {
    "name": "ipython",
    "version": 3
   },
   "file_extension": ".py",
   "mimetype": "text/x-python",
   "name": "python",
   "nbconvert_exporter": "python",
   "pygments_lexer": "ipython3",
   "version": "3.9.7"
  }
 },
 "nbformat": 4,
 "nbformat_minor": 5
}
