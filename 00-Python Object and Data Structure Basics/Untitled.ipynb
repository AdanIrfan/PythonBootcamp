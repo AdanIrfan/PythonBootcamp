{
 "cells": [
  {
   "cell_type": "code",
   "execution_count": 1,
   "id": "14951b29-265f-470f-8318-f5b13fc82219",
   "metadata": {},
   "outputs": [
    {
     "data": {
      "text/plain": [
       "'abc'"
      ]
     },
     "execution_count": 1,
     "metadata": {},
     "output_type": "execute_result"
    }
   ],
   "source": [
    "'abc'"
   ]
  },
  {
   "cell_type": "code",
   "execution_count": 2,
   "id": "2527ebac-9b2b-4fb4-85da-76537eec2552",
   "metadata": {},
   "outputs": [
    {
     "data": {
      "text/plain": [
       "'a'"
      ]
     },
     "execution_count": 2,
     "metadata": {},
     "output_type": "execute_result"
    }
   ],
   "source": [
    "'a'"
   ]
  },
  {
   "cell_type": "markdown",
   "id": "709d1271-925f-4d0a-9703-19b55864edfa",
   "metadata": {},
   "source": [
    "''\n",
    "'a'\n",
    "'ab'\n",
    "'abc'"
   ]
  },
  {
   "cell_type": "code",
   "execution_count": 5,
   "id": "19b8bee8-dc56-4412-8604-56a3be72e386",
   "metadata": {},
   "outputs": [
    {
     "data": {
      "text/plain": [
       "'abc'"
      ]
     },
     "execution_count": 5,
     "metadata": {},
     "output_type": "execute_result"
    }
   ],
   "source": [
    "''\n",
    "'a'\n",
    "'ab'\n",
    "'abc'\n"
   ]
  },
  {
   "cell_type": "markdown",
   "id": "2cb12f13-f9a7-41e7-8cbe-88a21966329d",
   "metadata": {},
   "source": [
    "''\n",
    "'a'\n",
    "'ab'\n",
    "'abc'"
   ]
  },
  {
   "cell_type": "code",
   "execution_count": 6,
   "id": "799aea80-4022-46d4-ad0e-b1e8d98c412a",
   "metadata": {},
   "outputs": [
    {
     "data": {
      "text/plain": [
       "'abc'"
      ]
     },
     "execution_count": 6,
     "metadata": {},
     "output_type": "execute_result"
    }
   ],
   "source": [
    "''\n",
    "'a'\n",
    "'ab'\n",
    "'abc'"
   ]
  },
  {
   "cell_type": "code",
   "execution_count": null,
   "id": "c6c540a1-be91-4750-816d-9319e9bd149d",
   "metadata": {},
   "outputs": [],
   "source": []
  },
  {
   "cell_type": "markdown",
   "id": "fc028121-62d8-4338-a1ce-829dec5fd95a",
   "metadata": {},
   "source": [
    "''\n",
    "'a'\n",
    "'ab'\n",
    "'abc'"
   ]
  },
  {
   "cell_type": "code",
   "execution_count": 7,
   "id": "dd4d971a-0ac6-4191-b253-ce39a9bf866f",
   "metadata": {},
   "outputs": [
    {
     "name": "stdout",
     "output_type": "stream",
     "text": [
      "\n",
      "a\n",
      "ab\n",
      "abc\n"
     ]
    }
   ],
   "source": [
    "print('')\n",
    "print('a')\n",
    "print('ab')\n",
    "print('abc')"
   ]
  },
  {
   "cell_type": "code",
   "execution_count": 8,
   "id": "894c6e7d-381d-4077-ba1c-d875a06fbcb6",
   "metadata": {},
   "outputs": [],
   "source": [
    "l = [1,2,4,5,6,7]"
   ]
  },
  {
   "cell_type": "code",
   "execution_count": 9,
   "id": "af0eaee5-9bcc-41de-9933-8957d26813ea",
   "metadata": {},
   "outputs": [
    {
     "data": {
      "text/plain": [
       "6"
      ]
     },
     "execution_count": 9,
     "metadata": {},
     "output_type": "execute_result"
    }
   ],
   "source": [
    "len(l)"
   ]
  },
  {
   "cell_type": "code",
   "execution_count": 10,
   "id": "8a8cd767-c949-43c7-b1b0-2c3b0897c0bb",
   "metadata": {},
   "outputs": [
    {
     "data": {
      "text/plain": [
       "list"
      ]
     },
     "execution_count": 10,
     "metadata": {},
     "output_type": "execute_result"
    }
   ],
   "source": [
    "type(l)"
   ]
  },
  {
   "cell_type": "code",
   "execution_count": 11,
   "id": "dff34468-a7b8-4466-80e4-3b301c90a79a",
   "metadata": {},
   "outputs": [
    {
     "data": {
      "text/plain": [
       "int"
      ]
     },
     "execution_count": 11,
     "metadata": {},
     "output_type": "execute_result"
    }
   ],
   "source": [
    "type(123)"
   ]
  },
  {
   "cell_type": "code",
   "execution_count": 12,
   "id": "bc2beab1-e259-4e2e-9a7c-71849d315b3d",
   "metadata": {},
   "outputs": [
    {
     "data": {
      "text/plain": [
       "str"
      ]
     },
     "execution_count": 12,
     "metadata": {},
     "output_type": "execute_result"
    }
   ],
   "source": [
    "type('Sasdasd')"
   ]
  },
  {
   "cell_type": "code",
   "execution_count": 13,
   "id": "50bd7ba0-fd78-4a99-921b-c9ab76cc30b9",
   "metadata": {},
   "outputs": [
    {
     "data": {
      "text/plain": [
       "[1, 2, 4, 5, 6, 7]"
      ]
     },
     "execution_count": 13,
     "metadata": {},
     "output_type": "execute_result"
    }
   ],
   "source": [
    "l"
   ]
  },
  {
   "cell_type": "code",
   "execution_count": 14,
   "id": "b7cffdba-84d8-4b90-9be6-987fb1e41836",
   "metadata": {},
   "outputs": [
    {
     "data": {
      "text/plain": [
       "7"
      ]
     },
     "execution_count": 14,
     "metadata": {},
     "output_type": "execute_result"
    }
   ],
   "source": [
    "l[-1]"
   ]
  },
  {
   "cell_type": "code",
   "execution_count": 15,
   "id": "83083b02-be43-441d-99db-a28d206939ac",
   "metadata": {},
   "outputs": [
    {
     "data": {
      "text/plain": [
       "[2, 4]"
      ]
     },
     "execution_count": 15,
     "metadata": {},
     "output_type": "execute_result"
    }
   ],
   "source": [
    "l[1:3]"
   ]
  },
  {
   "cell_type": "code",
   "execution_count": 16,
   "id": "5c5ed45d-6d75-4016-95a4-1abba5502656",
   "metadata": {},
   "outputs": [
    {
     "data": {
      "text/plain": [
       "2"
      ]
     },
     "execution_count": 16,
     "metadata": {},
     "output_type": "execute_result"
    }
   ],
   "source": [
    "l[-5]"
   ]
  },
  {
   "cell_type": "code",
   "execution_count": 19,
   "id": "dbe58966-b668-496a-bd13-71bfdd43ee00",
   "metadata": {},
   "outputs": [],
   "source": [
    "s= \"abc def\""
   ]
  },
  {
   "cell_type": "code",
   "execution_count": 20,
   "id": "0341fe1d-e99c-43ef-8a53-afc0fce7d8c6",
   "metadata": {},
   "outputs": [
    {
     "data": {
      "text/plain": [
       "7"
      ]
     },
     "execution_count": 20,
     "metadata": {},
     "output_type": "execute_result"
    }
   ],
   "source": [
    "len(s)"
   ]
  },
  {
   "cell_type": "code",
   "execution_count": 21,
   "id": "b068ccd7-e9ed-42fc-bd51-68f52dc28853",
   "metadata": {},
   "outputs": [
    {
     "data": {
      "text/plain": [
       "' '"
      ]
     },
     "execution_count": 21,
     "metadata": {},
     "output_type": "execute_result"
    }
   ],
   "source": [
    "s[3]"
   ]
  },
  {
   "cell_type": "code",
   "execution_count": 22,
   "id": "7f4a9978-a4d0-4067-a6e9-4efdfe0612f5",
   "metadata": {},
   "outputs": [
    {
     "data": {
      "text/plain": [
       "7"
      ]
     },
     "execution_count": 22,
     "metadata": {},
     "output_type": "execute_result"
    }
   ],
   "source": [
    "3+4"
   ]
  },
  {
   "cell_type": "code",
   "execution_count": 25,
   "id": "ab95722e-ff99-427b-a0b3-b502d177670d",
   "metadata": {},
   "outputs": [
    {
     "data": {
      "text/plain": [
       "'Jackfinona'"
      ]
     },
     "execution_count": 25,
     "metadata": {},
     "output_type": "execute_result"
    }
   ],
   "source": [
    "'Jack'     +   'finona'"
   ]
  },
  {
   "cell_type": "code",
   "execution_count": 26,
   "id": "3c963137-4211-4f1d-a29a-4774ef5fe9a7",
   "metadata": {},
   "outputs": [
    {
     "ename": "TypeError",
     "evalue": "can only concatenate str (not \"int\") to str",
     "output_type": "error",
     "traceback": [
      "\u001b[1;31m---------------------------------------------------------------------------\u001b[0m",
      "\u001b[1;31mTypeError\u001b[0m                                 Traceback (most recent call last)",
      "\u001b[1;32m~\\AppData\\Local\\Temp/ipykernel_34444/301549085.py\u001b[0m in \u001b[0;36m<module>\u001b[1;34m\u001b[0m\n\u001b[1;32m----> 1\u001b[1;33m \u001b[1;34m'Jack'\u001b[0m \u001b[1;33m+\u001b[0m\u001b[1;36m123\u001b[0m\u001b[1;33m\u001b[0m\u001b[1;33m\u001b[0m\u001b[0m\n\u001b[0m",
      "\u001b[1;31mTypeError\u001b[0m: can only concatenate str (not \"int\") to str"
     ]
    }
   ],
   "source": [
    "'Jack' +123"
   ]
  },
  {
   "cell_type": "code",
   "execution_count": 27,
   "id": "8fa7ae39-241a-4218-9e68-46dadda3dca7",
   "metadata": {},
   "outputs": [
    {
     "data": {
      "text/plain": [
       "[1, 2, 4, 5, 1, 2, 4, 5]"
      ]
     },
     "execution_count": 27,
     "metadata": {},
     "output_type": "execute_result"
    }
   ],
   "source": [
    "[1,2,4,5] *2"
   ]
  },
  {
   "cell_type": "code",
   "execution_count": 28,
   "id": "1caeb3e9-066f-466b-bf8e-9c62246c29f7",
   "metadata": {},
   "outputs": [
    {
     "data": {
      "text/plain": [
       "'JackJackJackJackJack'"
      ]
     },
     "execution_count": 28,
     "metadata": {},
     "output_type": "execute_result"
    }
   ],
   "source": [
    "'Jack' *5"
   ]
  },
  {
   "cell_type": "code",
   "execution_count": 29,
   "id": "9b77975c-537f-4d8f-93d1-ffc02c9a4e24",
   "metadata": {},
   "outputs": [
    {
     "ename": "TypeError",
     "evalue": "can only concatenate str (not \"int\") to str",
     "output_type": "error",
     "traceback": [
      "\u001b[1;31m---------------------------------------------------------------------------\u001b[0m",
      "\u001b[1;31mTypeError\u001b[0m                                 Traceback (most recent call last)",
      "\u001b[1;32m~\\AppData\\Local\\Temp/ipykernel_34444/1629285228.py\u001b[0m in \u001b[0;36m<module>\u001b[1;34m\u001b[0m\n\u001b[1;32m----> 1\u001b[1;33m \u001b[1;34m'Comp'\u001b[0m \u001b[1;33m+\u001b[0m \u001b[1;36m123\u001b[0m\u001b[1;33m\u001b[0m\u001b[1;33m\u001b[0m\u001b[0m\n\u001b[0m",
      "\u001b[1;31mTypeError\u001b[0m: can only concatenate str (not \"int\") to str"
     ]
    }
   ],
   "source": [
    "'Comp' + 123"
   ]
  },
  {
   "cell_type": "code",
   "execution_count": 30,
   "id": "43ecef33-081c-4a61-b4a2-5d474ddbabef",
   "metadata": {},
   "outputs": [
    {
     "data": {
      "text/plain": [
       "'compcompcompcompcompcompcompcomp'"
      ]
     },
     "execution_count": 30,
     "metadata": {},
     "output_type": "execute_result"
    }
   ],
   "source": [
    "'comp'*8"
   ]
  },
  {
   "cell_type": "code",
   "execution_count": 31,
   "id": "404e1d02-fe8f-4f27-82c7-078e41644ce6",
   "metadata": {},
   "outputs": [
    {
     "data": {
      "text/plain": [
       "''"
      ]
     },
     "execution_count": 31,
     "metadata": {},
     "output_type": "execute_result"
    }
   ],
   "source": [
    "''"
   ]
  },
  {
   "cell_type": "code",
   "execution_count": 32,
   "id": "e6c92629-d93e-4d43-82ef-9c9a22bedafd",
   "metadata": {},
   "outputs": [
    {
     "data": {
      "text/plain": [
       "[]"
      ]
     },
     "execution_count": 32,
     "metadata": {},
     "output_type": "execute_result"
    }
   ],
   "source": [
    "[1,2,3]*0"
   ]
  },
  {
   "cell_type": "code",
   "execution_count": 33,
   "id": "8a3761c9-5654-42be-a2df-de4aa474fcf5",
   "metadata": {},
   "outputs": [
    {
     "data": {
      "text/plain": [
       "[0, 0, 0, 1, 1, 1, 1, 1, 1, 1, 1, 1, 1, 1, 1, 0, 0, 0]"
      ]
     },
     "execution_count": 33,
     "metadata": {},
     "output_type": "execute_result"
    }
   ],
   "source": [
    "[0]*3 +[1]*12 +[0]*3"
   ]
  },
  {
   "cell_type": "code",
   "execution_count": 34,
   "id": "c2d8cab4-4a5f-4f0f-ac5b-53683560b79e",
   "metadata": {},
   "outputs": [
    {
     "data": {
      "text/plain": [
       "''"
      ]
     },
     "execution_count": 34,
     "metadata": {},
     "output_type": "execute_result"
    }
   ],
   "source": [
    "'comp' *-1"
   ]
  },
  {
   "cell_type": "code",
   "execution_count": null,
   "id": "3c9df396-6468-41a9-a940-b6de213eb748",
   "metadata": {},
   "outputs": [],
   "source": []
  },
  {
   "cell_type": "code",
   "execution_count": 47,
   "id": "9463724f-9e99-458e-8d49-4ff050f1720f",
   "metadata": {},
   "outputs": [],
   "source": [
    "def greet(name):\n",
    "    print(f'Hi {name}!')\n",
    "    return 123"
   ]
  },
  {
   "cell_type": "code",
   "execution_count": 39,
   "id": "2708e534-9fc6-41de-ba3d-6584aaddf0ed",
   "metadata": {},
   "outputs": [
    {
     "name": "stdout",
     "output_type": "stream",
     "text": [
      "Hi Fiona!\n"
     ]
    }
   ],
   "source": [
    "greet('Fiona')"
   ]
  },
  {
   "cell_type": "code",
   "execution_count": 40,
   "id": "d42e55cd-79eb-4529-bd08-ea6b4e75a272",
   "metadata": {},
   "outputs": [],
   "source": [
    "draw_tape()"
   ]
  },
  {
   "cell_type": "code",
   "execution_count": 48,
   "id": "857d6ac2-a8ce-4d49-8f6e-06304944f4c2",
   "metadata": {},
   "outputs": [
    {
     "name": "stdout",
     "output_type": "stream",
     "text": [
      "None\n"
     ]
    }
   ],
   "source": [
    "print(draw_tape())"
   ]
  },
  {
   "cell_type": "code",
   "execution_count": 46,
   "id": "4b9c93b3-28ff-41c4-8f15-a6ba0e622483",
   "metadata": {},
   "outputs": [
    {
     "name": "stdout",
     "output_type": "stream",
     "text": [
      "Hi Jack!\n",
      "123\n"
     ]
    }
   ],
   "source": [
    "print(greet('Jack'))"
   ]
  },
  {
   "cell_type": "code",
   "execution_count": 89,
   "id": "9a0e4913-df86-4b7f-8582-9ab94c0651d9",
   "metadata": {},
   "outputs": [],
   "source": [
    "def draw():\n",
    "    draw_b()\n",
    "    draw_content()\n",
    "    draw_b()\n",
    "def draw_b():\n",
    "    print('-'*(2*len(tape)+1))\n",
    "def draw_content():\n",
    "    print('|','|'.join(str(e) for e in tape),'|', sep='')"
   ]
  },
  {
   "cell_type": "code",
   "execution_count": 90,
   "id": "b8a20f25-7570-4c1f-8f9c-644be9e73cdc",
   "metadata": {},
   "outputs": [
    {
     "name": "stdout",
     "output_type": "stream",
     "text": [
      "-------------------------------------\n",
      "|0|0|0|1|1|1|1|1|1|1|1|1|1|1|1|0|0|0|\n",
      "-------------------------------------\n"
     ]
    }
   ],
   "source": [
    "draw()"
   ]
  },
  {
   "cell_type": "code",
   "execution_count": 61,
   "id": "7f1ce89f-4433-4356-973f-0d1e39fb5e6d",
   "metadata": {},
   "outputs": [
    {
     "data": {
      "text/plain": [
       "[1, 1, 1, 3, 3, 3, 3, 3, 3, 3, 3, 3, 3, 3, 3, 1, 1, 1]"
      ]
     },
     "execution_count": 61,
     "metadata": {},
     "output_type": "execute_result"
    }
   ],
   "source": [
    "[2*x+1 for x in tape]"
   ]
  },
  {
   "cell_type": "code",
   "execution_count": 92,
   "id": "3203d7c8-a575-4a65-b11b-af48a4230389",
   "metadata": {},
   "outputs": [
    {
     "data": {
      "text/plain": [
       "generator"
      ]
     },
     "execution_count": 92,
     "metadata": {},
     "output_type": "execute_result"
    }
   ],
   "source": []
  },
  {
   "cell_type": "code",
   "execution_count": 63,
   "id": "34c83301-e271-4918-a963-ad257d789313",
   "metadata": {},
   "outputs": [
    {
     "data": {
      "text/plain": [
       "'0***0***0***1***1***1***1***1***1***1***1***1***1***1***1***0***0***0'"
      ]
     },
     "execution_count": 63,
     "metadata": {},
     "output_type": "execute_result"
    }
   ],
   "source": [
    "'***'.join([str(e) for e in tape])"
   ]
  },
  {
   "cell_type": "code",
   "execution_count": 66,
   "id": "352d2261-e8b6-4063-a8a4-7dfbd7053c48",
   "metadata": {},
   "outputs": [
    {
     "data": {
      "text/plain": [
       "'|0|0|0|1|1|1|1|1|1|1|1|1|1|1|1|0|0|0|'"
      ]
     },
     "execution_count": 66,
     "metadata": {},
     "output_type": "execute_result"
    }
   ],
   "source": [
    "'|'+'|'.join([str(e) for e in tape])+'|'"
   ]
  },
  {
   "cell_type": "code",
   "execution_count": 97,
   "id": "5fff3da7-a513-4309-880d-6e90afe3df28",
   "metadata": {},
   "outputs": [
    {
     "data": {
      "text/plain": [
       "['0',\n",
       " '0',\n",
       " '0',\n",
       " '1',\n",
       " '1',\n",
       " '1',\n",
       " '1',\n",
       " '1',\n",
       " '1',\n",
       " '1',\n",
       " '1',\n",
       " '1',\n",
       " '1',\n",
       " '1',\n",
       " '1',\n",
       " '0',\n",
       " '0',\n",
       " '0']"
      ]
     },
     "execution_count": 97,
     "metadata": {},
     "output_type": "execute_result"
    }
   ],
   "source": [
    "# Generator expression \n",
    "E = (str(e) for e in tape)\n",
    "list(E)"
   ]
  },
  {
   "cell_type": "code",
   "execution_count": null,
   "id": "a5733c3d-c78a-4857-a6c0-5b1f367e979f",
   "metadata": {},
   "outputs": [
    {
     "data": {
      "text/plain": [
       "generator"
      ]
     },
     "execution_count": 94,
     "metadata": {},
     "output_type": "execute_result"
    }
   ],
   "source": [
    "type(E)"
   ]
  },
  {
   "cell_type": "code",
   "execution_count": 98,
   "id": "0e755e00-ba35-4a10-812d-fe203b776262",
   "metadata": {},
   "outputs": [
    {
     "data": {
      "text/plain": [
       "'C:\\\\Users\\\\chy34\\\\PythonLearning\\\\Complete-Python-3-Bootcamp\\\\00-Python Object and Data Structure Basics'"
      ]
     },
     "execution_count": 98,
     "metadata": {},
     "output_type": "execute_result"
    }
   ],
   "source": [
    "pwd\n"
   ]
  },
  {
   "cell_type": "code",
   "execution_count": 107,
   "id": "ac1ec0e7-7542-438f-8b9a-3a571b09ae32",
   "metadata": {},
   "outputs": [
    {
     "name": "stdout",
     "output_type": "stream",
     "text": [
      "print('Hello hello from a file!')\n",
      "print('Bye from there')\n"
     ]
    }
   ],
   "source": [
    "with open('aaa.py') as s1:\n",
    "    for line in s1:\n",
    "        print(line, end='')"
   ]
  },
  {
   "cell_type": "code",
   "execution_count": 100,
   "id": "af8bf9b8-833f-45ea-99a5-12a5d0dca21e",
   "metadata": {},
   "outputs": [
    {
     "data": {
      "text/plain": [
       "'C:\\\\Users\\\\chy34\\\\PythonLearning\\\\Complete-Python-3-Bootcamp\\\\00-Python Object and Data Structure Basics'"
      ]
     },
     "execution_count": 100,
     "metadata": {},
     "output_type": "execute_result"
    }
   ],
   "source": [
    "pwd\n"
   ]
  },
  {
   "cell_type": "code",
   "execution_count": 114,
   "id": "1b497b57-1915-4620-8f4f-c36df592ae37",
   "metadata": {},
   "outputs": [
    {
     "data": {
      "text/plain": [
       "'Abc'"
      ]
     },
     "execution_count": 114,
     "metadata": {},
     "output_type": "execute_result"
    }
   ],
   "source": [
    "a= 'abc'.capitalize()\n",
    "a"
   ]
  },
  {
   "cell_type": "code",
   "execution_count": 111,
   "id": "7278e3bb-7d8b-448e-868e-452178537ebb",
   "metadata": {},
   "outputs": [
    {
     "data": {
      "text/plain": [
       "False"
      ]
     },
     "execution_count": 111,
     "metadata": {},
     "output_type": "execute_result"
    }
   ],
   "source": [
    "'abc'.startswith('b')"
   ]
  },
  {
   "cell_type": "code",
   "execution_count": 116,
   "id": "11f84e38-1da7-4f66-a946-85c47b399396",
   "metadata": {},
   "outputs": [
    {
     "data": {
      "text/plain": [
       "'  \\n \\t'"
      ]
     },
     "execution_count": 116,
     "metadata": {},
     "output_type": "execute_result"
    }
   ],
   "source": [
    "'  \\n \\t'.isspace()\n",
    "'  \\n \\t'"
   ]
  },
  {
   "cell_type": "code",
   "execution_count": 117,
   "id": "f95372d2-aeff-4911-87d8-27f231f4df64",
   "metadata": {},
   "outputs": [
    {
     "data": {
      "text/plain": [
       "['ab', 'asdas', 'asd', 'wqwe', 'asdas']"
      ]
     },
     "execution_count": 117,
     "metadata": {},
     "output_type": "execute_result"
    }
   ],
   "source": [
    "'ab asdas asd  wqwe asdas'.split()"
   ]
  },
  {
   "cell_type": "code",
   "execution_count": 118,
   "id": "2243a8a3-0558-4c3a-aaf4-2c4d921a2e74",
   "metadata": {},
   "outputs": [],
   "source": [
    "dic1 = {0: 'zero'}"
   ]
  },
  {
   "cell_type": "code",
   "execution_count": 120,
   "id": "cd560ca0-5576-4d03-8c0e-ffc50835ce21",
   "metadata": {},
   "outputs": [
    {
     "data": {
      "text/plain": [
       "dict_items([(0, 'zero')])"
      ]
     },
     "execution_count": 120,
     "metadata": {},
     "output_type": "execute_result"
    }
   ],
   "source": [
    "dic1.items()"
   ]
  },
  {
   "cell_type": "code",
   "execution_count": 121,
   "id": "7ddfdf49-5279-43a1-8e47-cff3b8b0efc0",
   "metadata": {},
   "outputs": [
    {
     "data": {
      "text/plain": [
       "'zero'"
      ]
     },
     "execution_count": 121,
     "metadata": {},
     "output_type": "execute_result"
    }
   ],
   "source": [
    "dic1[0]"
   ]
  },
  {
   "cell_type": "code",
   "execution_count": 122,
   "id": "edd7323d-543a-4dd0-afb3-ca9ac3e7f01d",
   "metadata": {},
   "outputs": [],
   "source": [
    "dic1[1] = 'One'"
   ]
  },
  {
   "cell_type": "code",
   "execution_count": 123,
   "id": "1c68a8d4-2b66-472e-9a48-32e2fd80111d",
   "metadata": {},
   "outputs": [],
   "source": [
    "dic1[2] = 'Two'"
   ]
  },
  {
   "cell_type": "code",
   "execution_count": 129,
   "id": "180c54e1-a1a4-41e8-8bf4-a20ed0c9685d",
   "metadata": {},
   "outputs": [],
   "source": [
    "dic1[2] = 'Twoo' "
   ]
  },
  {
   "cell_type": "code",
   "execution_count": 128,
   "id": "94703299-1684-4184-997c-131a9a98a1c7",
   "metadata": {},
   "outputs": [
    {
     "name": "stdout",
     "output_type": "stream",
     "text": [
      "I have Two oragnes\n"
     ]
    }
   ],
   "source": [
    "print(f'I have {dic1[2]} oragnes')"
   ]
  },
  {
   "cell_type": "code",
   "execution_count": 130,
   "id": "c3827ce7-b163-4522-9f1e-752d80357a6a",
   "metadata": {},
   "outputs": [
    {
     "data": {
      "text/plain": [
       "{0: 'zero', 1: 'One', 2: 'Twoo'}"
      ]
     },
     "execution_count": 130,
     "metadata": {},
     "output_type": "execute_result"
    }
   ],
   "source": [
    "dic1"
   ]
  },
  {
   "cell_type": "code",
   "execution_count": 131,
   "id": "8aa8809f-5472-4e82-b635-d390f83af971",
   "metadata": {},
   "outputs": [
    {
     "ename": "NameError",
     "evalue": "name 'pd' is not defined",
     "output_type": "error",
     "traceback": [
      "\u001b[1;31m---------------------------------------------------------------------------\u001b[0m",
      "\u001b[1;31mNameError\u001b[0m                                 Traceback (most recent call last)",
      "\u001b[1;32m~\\AppData\\Local\\Temp/ipykernel_34444/4087964647.py\u001b[0m in \u001b[0;36m<module>\u001b[1;34m\u001b[0m\n\u001b[1;32m----> 1\u001b[1;33m \u001b[0mpd\u001b[0m\u001b[1;33m.\u001b[0m\u001b[0moptions\u001b[0m\u001b[1;33m.\u001b[0m\u001b[0mdisplay\u001b[0m\u001b[1;33m.\u001b[0m\u001b[0mmax_rows\u001b[0m \u001b[1;33m=\u001b[0m \u001b[1;36m4000\u001b[0m\u001b[1;33m\u001b[0m\u001b[1;33m\u001b[0m\u001b[0m\n\u001b[0m",
      "\u001b[1;31mNameError\u001b[0m: name 'pd' is not defined"
     ]
    }
   ],
   "source": [
    "pd.options.display.max_rows = 4000"
   ]
  },
  {
   "cell_type": "code",
   "execution_count": 132,
   "id": "2d751743-03ab-4acc-87d6-03157dcf64d5",
   "metadata": {},
   "outputs": [],
   "source": [
    "from IPython.core.interactiveshell import InteractiveShell\n",
    "InteractiveShell.ast_node_interactivity = \"all\""
   ]
  },
  {
   "cell_type": "code",
   "execution_count": 135,
   "id": "d905d6f8-331c-4a02-bfbe-c7392ee4b828",
   "metadata": {},
   "outputs": [
    {
     "data": {
      "text/plain": [
       "''"
      ]
     },
     "execution_count": 135,
     "metadata": {},
     "output_type": "execute_result"
    },
    {
     "data": {
      "text/plain": [
       "'a'"
      ]
     },
     "execution_count": 135,
     "metadata": {},
     "output_type": "execute_result"
    },
    {
     "data": {
      "text/plain": [
       "'ab'"
      ]
     },
     "execution_count": 135,
     "metadata": {},
     "output_type": "execute_result"
    },
    {
     "data": {
      "text/plain": [
       "'abc'"
      ]
     },
     "execution_count": 135,
     "metadata": {},
     "output_type": "execute_result"
    }
   ],
   "source": [
    "''\n",
    "'a'\n",
    "'ab'\n",
    "'abc'"
   ]
  },
  {
   "cell_type": "code",
   "execution_count": 136,
   "id": "4e0f1842-d257-4e06-af56-b0a229dae898",
   "metadata": {},
   "outputs": [
    {
     "data": {
      "text/plain": [
       "2.5"
      ]
     },
     "execution_count": 136,
     "metadata": {},
     "output_type": "execute_result"
    }
   ],
   "source": [
    "5/2"
   ]
  },
  {
   "cell_type": "code",
   "execution_count": 137,
   "id": "876a2ba3-7ed3-4eaf-9c08-1f0998dc0cdd",
   "metadata": {},
   "outputs": [
    {
     "data": {
      "text/plain": [
       "2"
      ]
     },
     "execution_count": 137,
     "metadata": {},
     "output_type": "execute_result"
    }
   ],
   "source": [
    "int(5/2)"
   ]
  },
  {
   "cell_type": "code",
   "execution_count": 138,
   "id": "7d9dab82-57fd-4014-8764-374c51cf2f65",
   "metadata": {},
   "outputs": [],
   "source": [
    "intList = [2,4,1,5]\n"
   ]
  },
  {
   "cell_type": "code",
   "execution_count": 139,
   "id": "970db475-06ac-44f3-b83c-aad0e1d430db",
   "metadata": {},
   "outputs": [],
   "source": [
    " cList = [9-x for x in intList]"
   ]
  },
  {
   "cell_type": "code",
   "execution_count": 140,
   "id": "abbda932-c15b-405e-a386-158d8dbc8067",
   "metadata": {},
   "outputs": [
    {
     "ename": "NameError",
     "evalue": "name 'clist' is not defined",
     "output_type": "error",
     "traceback": [
      "\u001b[1;31m---------------------------------------------------------------------------\u001b[0m",
      "\u001b[1;31mNameError\u001b[0m                                 Traceback (most recent call last)",
      "\u001b[1;32m~\\AppData\\Local\\Temp/ipykernel_34444/4023288871.py\u001b[0m in \u001b[0;36m<module>\u001b[1;34m\u001b[0m\n\u001b[1;32m----> 1\u001b[1;33m \u001b[0mclist\u001b[0m\u001b[1;33m\u001b[0m\u001b[1;33m\u001b[0m\u001b[0m\n\u001b[0m",
      "\u001b[1;31mNameError\u001b[0m: name 'clist' is not defined"
     ]
    }
   ],
   "source": [
    "clist\n"
   ]
  },
  {
   "cell_type": "code",
   "execution_count": 141,
   "id": "f0a56f73-7672-4354-a40f-0bc9c364b219",
   "metadata": {},
   "outputs": [
    {
     "data": {
      "text/plain": [
       "[7, 5, 8, 4]"
      ]
     },
     "execution_count": 141,
     "metadata": {},
     "output_type": "execute_result"
    }
   ],
   "source": [
    "cList"
   ]
  },
  {
   "cell_type": "code",
   "execution_count": 142,
   "id": "23145ba0-31c1-4b8c-9f70-f9d73aeeace2",
   "metadata": {},
   "outputs": [
    {
     "ename": "TypeError",
     "evalue": "sequence item 0: expected str instance, int found",
     "output_type": "error",
     "traceback": [
      "\u001b[1;31m---------------------------------------------------------------------------\u001b[0m",
      "\u001b[1;31mTypeError\u001b[0m                                 Traceback (most recent call last)",
      "\u001b[1;32m~\\AppData\\Local\\Temp/ipykernel_34444/1906064631.py\u001b[0m in \u001b[0;36m<module>\u001b[1;34m\u001b[0m\n\u001b[1;32m----> 1\u001b[1;33m \u001b[1;34m'-'\u001b[0m\u001b[1;33m.\u001b[0m\u001b[0mjoin\u001b[0m\u001b[1;33m(\u001b[0m\u001b[0mcList\u001b[0m\u001b[1;33m)\u001b[0m\u001b[1;33m\u001b[0m\u001b[1;33m\u001b[0m\u001b[0m\n\u001b[0m",
      "\u001b[1;31mTypeError\u001b[0m: sequence item 0: expected str instance, int found"
     ]
    }
   ],
   "source": [
    "'-'.join(cList)"
   ]
  },
  {
   "cell_type": "code",
   "execution_count": 145,
   "id": "9882105e-9d69-4c6d-b89e-387b1bd9cc07",
   "metadata": {},
   "outputs": [],
   "source": [
    "str1 = 'There are spaces on each side of the star.'\n"
   ]
  },
  {
   "cell_type": "code",
   "execution_count": 146,
   "id": "74d30f58-f48c-4198-acf3-eaf3a577a694",
   "metadata": {},
   "outputs": [
    {
     "data": {
      "text/plain": [
       "'There are spaces on each side of the star.'"
      ]
     },
     "execution_count": 146,
     "metadata": {},
     "output_type": "execute_result"
    }
   ],
   "source": [
    "str1"
   ]
  },
  {
   "cell_type": "code",
   "execution_count": 155,
   "id": "484e496e-eb11-4ae1-b73f-d2d4180aa3ac",
   "metadata": {},
   "outputs": [
    {
     "data": {
      "text/plain": [
       "['There', 'are', 'spaces', 'on', 'each', 'side', 'of', 'the', 'star.']"
      ]
     },
     "execution_count": 155,
     "metadata": {},
     "output_type": "execute_result"
    }
   ],
   "source": [
    "str1.split(\" \")"
   ]
  },
  {
   "cell_type": "code",
   "execution_count": 153,
   "id": "fdff9c67-b16f-447d-877b-7f22150181c7",
   "metadata": {},
   "outputs": [],
   "source": []
  },
  {
   "cell_type": "code",
   "execution_count": null,
   "id": "156cb6ce-8249-4988-9d6b-e0e64f175b4b",
   "metadata": {},
   "outputs": [],
   "source": []
  }
 ],
 "metadata": {
  "kernelspec": {
   "display_name": "Python 3 (ipykernel)",
   "language": "python",
   "name": "python3"
  },
  "language_info": {
   "codemirror_mode": {
    "name": "ipython",
    "version": 3
   },
   "file_extension": ".py",
   "mimetype": "text/x-python",
   "name": "python",
   "nbconvert_exporter": "python",
   "pygments_lexer": "ipython3",
   "version": "3.9.7"
  }
 },
 "nbformat": 4,
 "nbformat_minor": 5
}
