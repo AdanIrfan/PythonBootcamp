{
 "cells": [
  {
   "cell_type": "code",
   "execution_count": 2,
   "id": "261cb893",
   "metadata": {},
   "outputs": [],
   "source": [
    "from selenium import webdriver\n",
    "from selenium.webdriver.common.by import By\n",
    "import requests\n",
    "\n",
    "url ='https://docs.cpuc.ca.gov/advancedsearchform.aspx'\n",
    "proceeding_id = 'r2211013'\n",
    "\n",
    "driver = webdriver.Chrome()\n",
    "driver.get(url) \n",
    "\n",
    "proceeding_num = driver.find_element(By.ID, \"ProcNum\")\n",
    "proceeding_num.send_keys(proceeding_id)      # Filling in the search term in the corresponding input text field\n",
    "search_button = driver.find_element(By.ID, \"SearchButton\")\n",
    "search_button.click()     # Initiating the search\n"
   ]
  },
  {
   "cell_type": "code",
   "execution_count": null,
   "id": "73e7cf14",
   "metadata": {},
   "outputs": [],
   "source": [
    "i = 1\n",
    "\n",
    "while True:  \n",
    "    \n",
    "    all_results = driver.find_elements(\"link text\", \"PDF\") \n",
    "    # Retrieve all Selenium webElements that contains links to the pdf docoments to be downloaded\n",
    "\n",
    "    pdf_url_list = []\n",
    "    for result in all_results:\n",
    "        pdf_url_list.append(result.get_attribute('href')) # Generate a list of urls to download the pdf documents from\n",
    "\n",
    "    # Requests URL and get response object\n",
    "    for pdf_url in pdf_url_list:\n",
    "        pdf_response = requests.get(pdf_url) # retrieve the pdf document content from the server\n",
    "\n",
    "        url_list_tmp = pdf_url.split('/')\n",
    "        pdf_id = url_list_tmp[-1]  # extract the name of the pdf file from the url\n",
    "\n",
    "        with open(pdf_id, 'wb') as pdf_handle:\n",
    "            pdf_handle.write(pdf_response.content) # write the pdf content into a file \n",
    "        \n",
    "    print(f'Page {i} pdf files have finished downloading!')\n",
    "    i += 1   # Update counter to track which page we are currently downloading from \n",
    "    \n",
    "    if driver.find_elements(By.ID, 'lnkNextPage'): # check if the \"Next Page\" link exists (not the last page)\n",
    "    # webdriver find_elements methods do not raise an error when an item is not found. \n",
    "    # Instead it generates an empty list which would evaluate as False\n",
    "        driver.find_element(By.ID, 'lnkNextPage').click() # Navigate to the next page \n",
    "    else:\n",
    "        print(\"This is the last page for all the found pdf files!\")\n",
    "        break"
   ]
  },
  {
   "cell_type": "code",
   "execution_count": null,
   "id": "1d823a11",
   "metadata": {},
   "outputs": [],
   "source": []
  },
  {
   "cell_type": "code",
   "execution_count": null,
   "id": "a31bf5c3",
   "metadata": {},
   "outputs": [],
   "source": []
  }
 ],
 "metadata": {
  "kernelspec": {
   "display_name": "Python 3 (ipykernel)",
   "language": "python",
   "name": "python3"
  },
  "language_info": {
   "codemirror_mode": {
    "name": "ipython",
    "version": 3
   },
   "file_extension": ".py",
   "mimetype": "text/x-python",
   "name": "python",
   "nbconvert_exporter": "python",
   "pygments_lexer": "ipython3",
   "version": "3.11.5"
  }
 },
 "nbformat": 4,
 "nbformat_minor": 5
}
