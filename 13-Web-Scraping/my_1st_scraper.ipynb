{
 "cells": [
  {
   "cell_type": "code",
   "execution_count": 5,
   "id": "493c0827",
   "metadata": {},
   "outputs": [],
   "source": [
    "import requests"
   ]
  },
  {
   "cell_type": "code",
   "execution_count": 6,
   "id": "4a6e6de9",
   "metadata": {},
   "outputs": [],
   "source": [
    "import bs4"
   ]
  },
  {
   "cell_type": "code",
   "execution_count": 7,
   "id": "b49b4fee",
   "metadata": {},
   "outputs": [],
   "source": [
    "import re"
   ]
  },
  {
   "cell_type": "code",
   "execution_count": 8,
   "id": "bdcf2a29",
   "metadata": {},
   "outputs": [],
   "source": [
    "response = requests.get(\"http://www.example.com/\")"
   ]
  },
  {
   "cell_type": "code",
   "execution_count": 9,
   "id": "ab4c7342",
   "metadata": {},
   "outputs": [
    {
     "data": {
      "text/plain": [
       "requests.models.Response"
      ]
     },
     "execution_count": 9,
     "metadata": {},
     "output_type": "execute_result"
    }
   ],
   "source": [
    "type(response)"
   ]
  },
  {
   "cell_type": "code",
   "execution_count": 10,
   "id": "e618ebf7",
   "metadata": {},
   "outputs": [
    {
     "data": {
      "text/plain": [
       "'<!doctype html>\\n<html>\\n<head>\\n    <title>Example Domain</title>\\n\\n    <meta charset=\"utf-8\" />\\n    <meta http-equiv=\"Content-type\" content=\"text/html; charset=utf-8\" />\\n    <meta name=\"viewport\" content=\"width=device-width, initial-scale=1\" />\\n    <style type=\"text/css\">\\n    body {\\n        background-color: #f0f0f2;\\n        margin: 0;\\n        padding: 0;\\n        font-family: -apple-system, system-ui, BlinkMacSystemFont, \"Segoe UI\", \"Open Sans\", \"Helvetica Neue\", Helvetica, Arial, sans-serif;\\n        \\n    }\\n    div {\\n        width: 600px;\\n        margin: 5em auto;\\n        padding: 2em;\\n        background-color: #fdfdff;\\n        border-radius: 0.5em;\\n        box-shadow: 2px 3px 7px 2px rgba(0,0,0,0.02);\\n    }\\n    a:link, a:visited {\\n        color: #38488f;\\n        text-decoration: none;\\n    }\\n    @media (max-width: 700px) {\\n        div {\\n            margin: 0 auto;\\n            width: auto;\\n        }\\n    }\\n    </style>    \\n</head>\\n\\n<body>\\n<div>\\n    <h1>Example Domain</h1>\\n    <p>This domain is for use in illustrative examples in documents. You may use this\\n    domain in literature without prior coordination or asking for permission.</p>\\n    <p><a href=\"https://www.iana.org/domains/example\">More information...</a></p>\\n</div>\\n</body>\\n</html>\\n'"
      ]
     },
     "execution_count": 10,
     "metadata": {},
     "output_type": "execute_result"
    }
   ],
   "source": [
    "response.text"
   ]
  },
  {
   "cell_type": "code",
   "execution_count": 11,
   "id": "bac658b2",
   "metadata": {},
   "outputs": [],
   "source": [
    "soup = bs4.BeautifulSoup(response.text, \"lxml\")"
   ]
  },
  {
   "cell_type": "code",
   "execution_count": 12,
   "id": "8494c2fe",
   "metadata": {},
   "outputs": [
    {
     "data": {
      "text/plain": [
       "<!DOCTYPE html>\n",
       "<html>\n",
       "<head>\n",
       "<title>Example Domain</title>\n",
       "<meta charset=\"utf-8\"/>\n",
       "<meta content=\"text/html; charset=utf-8\" http-equiv=\"Content-type\"/>\n",
       "<meta content=\"width=device-width, initial-scale=1\" name=\"viewport\"/>\n",
       "<style type=\"text/css\">\n",
       "    body {\n",
       "        background-color: #f0f0f2;\n",
       "        margin: 0;\n",
       "        padding: 0;\n",
       "        font-family: -apple-system, system-ui, BlinkMacSystemFont, \"Segoe UI\", \"Open Sans\", \"Helvetica Neue\", Helvetica, Arial, sans-serif;\n",
       "        \n",
       "    }\n",
       "    div {\n",
       "        width: 600px;\n",
       "        margin: 5em auto;\n",
       "        padding: 2em;\n",
       "        background-color: #fdfdff;\n",
       "        border-radius: 0.5em;\n",
       "        box-shadow: 2px 3px 7px 2px rgba(0,0,0,0.02);\n",
       "    }\n",
       "    a:link, a:visited {\n",
       "        color: #38488f;\n",
       "        text-decoration: none;\n",
       "    }\n",
       "    @media (max-width: 700px) {\n",
       "        div {\n",
       "            margin: 0 auto;\n",
       "            width: auto;\n",
       "        }\n",
       "    }\n",
       "    </style>\n",
       "</head>\n",
       "<body>\n",
       "<div>\n",
       "<h1>Example Domain</h1>\n",
       "<p>This domain is for use in illustrative examples in documents. You may use this\n",
       "    domain in literature without prior coordination or asking for permission.</p>\n",
       "<p><a href=\"https://www.iana.org/domains/example\">More information...</a></p>\n",
       "</div>\n",
       "</body>\n",
       "</html>"
      ]
     },
     "execution_count": 12,
     "metadata": {},
     "output_type": "execute_result"
    }
   ],
   "source": [
    "soup"
   ]
  },
  {
   "cell_type": "code",
   "execution_count": 13,
   "id": "d52b3848",
   "metadata": {},
   "outputs": [
    {
     "data": {
      "text/plain": [
       "[<title>Example Domain</title>]"
      ]
     },
     "execution_count": 13,
     "metadata": {},
     "output_type": "execute_result"
    }
   ],
   "source": [
    "soup.select('title')"
   ]
  },
  {
   "cell_type": "code",
   "execution_count": 14,
   "id": "0d1d85a1",
   "metadata": {},
   "outputs": [
    {
     "data": {
      "text/plain": [
       "[<p>This domain is for use in illustrative examples in documents. You may use this\n",
       "     domain in literature without prior coordination or asking for permission.</p>,\n",
       " <p><a href=\"https://www.iana.org/domains/example\">More information...</a></p>]"
      ]
     },
     "execution_count": 14,
     "metadata": {},
     "output_type": "execute_result"
    }
   ],
   "source": [
    "soup.select('p')"
   ]
  },
  {
   "cell_type": "code",
   "execution_count": 15,
   "id": "ec792987",
   "metadata": {},
   "outputs": [
    {
     "data": {
      "text/plain": [
       "[<h1>Example Domain</h1>]"
      ]
     },
     "execution_count": 15,
     "metadata": {},
     "output_type": "execute_result"
    }
   ],
   "source": [
    "soup.select('h1')"
   ]
  },
  {
   "cell_type": "code",
   "execution_count": 16,
   "id": "12b7aeb6",
   "metadata": {},
   "outputs": [
    {
     "data": {
      "text/plain": [
       "'Example Domain'"
      ]
     },
     "execution_count": 16,
     "metadata": {},
     "output_type": "execute_result"
    }
   ],
   "source": [
    "soup.select('title')[0].getText()"
   ]
  },
  {
   "cell_type": "code",
   "execution_count": 17,
   "id": "840c51cd",
   "metadata": {},
   "outputs": [],
   "source": [
    "site_paragraphs = soup.select('p')"
   ]
  },
  {
   "cell_type": "code",
   "execution_count": 18,
   "id": "cf4030b6",
   "metadata": {},
   "outputs": [
    {
     "data": {
      "text/plain": [
       "bs4.element.Tag"
      ]
     },
     "execution_count": 18,
     "metadata": {},
     "output_type": "execute_result"
    }
   ],
   "source": [
    "type(site_paragraphs[0])"
   ]
  },
  {
   "cell_type": "code",
   "execution_count": 19,
   "id": "895a0e83",
   "metadata": {},
   "outputs": [
    {
     "data": {
      "text/plain": [
       "'This domain is for use in illustrative examples in documents. You may use this\\n    domain in literature without prior coordination or asking for permission.'"
      ]
     },
     "execution_count": 19,
     "metadata": {},
     "output_type": "execute_result"
    }
   ],
   "source": [
    "site_paragraphs[0].getText()"
   ]
  },
  {
   "cell_type": "code",
   "execution_count": 20,
   "id": "a00c61c6",
   "metadata": {},
   "outputs": [
    {
     "data": {
      "text/plain": [
       "'More information...'"
      ]
     },
     "execution_count": 20,
     "metadata": {},
     "output_type": "execute_result"
    }
   ],
   "source": [
    "site_paragraphs[1].getText()"
   ]
  },
  {
   "cell_type": "code",
   "execution_count": 21,
   "id": "68512a11",
   "metadata": {},
   "outputs": [],
   "source": [
    "jss_url = \"https://en.wikipedia.org/wiki/John_Singer_Sargent\""
   ]
  },
  {
   "cell_type": "code",
   "execution_count": 22,
   "id": "32f75247",
   "metadata": {},
   "outputs": [],
   "source": [
    "response_jss = requests.get(jss_url)"
   ]
  },
  {
   "cell_type": "code",
   "execution_count": 23,
   "id": "debd679f",
   "metadata": {},
   "outputs": [],
   "source": [
    "soup_jss = bs4.BeautifulSoup(response_jss.text, \"lxml\")"
   ]
  },
  {
   "cell_type": "code",
   "execution_count": 24,
   "id": "7534782d",
   "metadata": {},
   "outputs": [],
   "source": [
    "# soup_jss"
   ]
  },
  {
   "cell_type": "code",
   "execution_count": 25,
   "id": "91d356e4",
   "metadata": {},
   "outputs": [
    {
     "data": {
      "text/plain": [
       "[<div class=\"vector-toc-text\">(Top)</div>,\n",
       " <div class=\"vector-toc-text\">\n",
       " <span class=\"vector-toc-numb\">1</span>Early life</div>,\n",
       " <div class=\"vector-toc-text\">\n",
       " <span class=\"vector-toc-numb\">2</span>Training</div>,\n",
       " <div class=\"vector-toc-text\">\n",
       " <span class=\"vector-toc-numb\">3</span>Early career</div>,\n",
       " <div class=\"vector-toc-text\">\n",
       " <span class=\"vector-toc-numb\">4</span>Works</div>,\n",
       " <div class=\"vector-toc-text\">\n",
       " <span class=\"vector-toc-numb\">4.1</span>Portraits</div>,\n",
       " <div class=\"vector-toc-text\">\n",
       " <span class=\"vector-toc-numb\">4.1.1</span>Nineteenth-century portraits</div>,\n",
       " <div class=\"vector-toc-text\">\n",
       " <span class=\"vector-toc-numb\">4.1.2</span>Twentieth century portraits</div>,\n",
       " <div class=\"vector-toc-text\">\n",
       " <span class=\"vector-toc-numb\">4.2</span>Watercolors</div>,\n",
       " <div class=\"vector-toc-text\">\n",
       " <span class=\"vector-toc-numb\">4.3</span>Other work</div>,\n",
       " <div class=\"vector-toc-text\">\n",
       " <span class=\"vector-toc-numb\">5</span>Relationships and personal life</div>,\n",
       " <div class=\"vector-toc-text\">\n",
       " <span class=\"vector-toc-numb\">6</span>Critical assessment</div>,\n",
       " <div class=\"vector-toc-text\">\n",
       " <span class=\"vector-toc-numb\">7</span>Later life</div>,\n",
       " <div class=\"vector-toc-text\">\n",
       " <span class=\"vector-toc-numb\">8</span>Sales</div>,\n",
       " <div class=\"vector-toc-text\">\n",
       " <span class=\"vector-toc-numb\">9</span>In popular culture</div>,\n",
       " <div class=\"vector-toc-text\">\n",
       " <span class=\"vector-toc-numb\">10</span>Citations</div>,\n",
       " <div class=\"vector-toc-text\">\n",
       " <span class=\"vector-toc-numb\">11</span>General sources</div>,\n",
       " <div class=\"vector-toc-text\">\n",
       " <span class=\"vector-toc-numb\">12</span>Further reading</div>,\n",
       " <div class=\"vector-toc-text\">\n",
       " <span class=\"vector-toc-numb\">13</span>External links</div>]"
      ]
     },
     "execution_count": 25,
     "metadata": {},
     "output_type": "execute_result"
    }
   ],
   "source": [
    "soup_jss.select('.vector-toc-text')"
   ]
  },
  {
   "cell_type": "code",
   "execution_count": 26,
   "id": "6052b1a6",
   "metadata": {},
   "outputs": [
    {
     "data": {
      "text/plain": [
       "bs4.element.Tag"
      ]
     },
     "execution_count": 26,
     "metadata": {},
     "output_type": "execute_result"
    }
   ],
   "source": [
    "type(soup_jss.select('.vector-toc-text')[0])"
   ]
  },
  {
   "cell_type": "code",
   "execution_count": 27,
   "id": "5eda9a42",
   "metadata": {},
   "outputs": [
    {
     "data": {
      "text/plain": [
       "['(Top)']"
      ]
     },
     "execution_count": 27,
     "metadata": {},
     "output_type": "execute_result"
    }
   ],
   "source": [
    "toc_items = []\n",
    "toc_items.append(soup_jss.select('.vector-toc-text')[0].text)\n",
    "toc_items"
   ]
  },
  {
   "cell_type": "code",
   "execution_count": 28,
   "id": "5bd66bd3",
   "metadata": {},
   "outputs": [
    {
     "data": {
      "text/plain": [
       "['(Top)', '\\n1Early life']"
      ]
     },
     "execution_count": 28,
     "metadata": {},
     "output_type": "execute_result"
    }
   ],
   "source": [
    "toc_items.append(soup_jss.select('.vector-toc-text')[1].text)\n",
    "toc_items"
   ]
  },
  {
   "cell_type": "code",
   "execution_count": 29,
   "id": "ffad5be9",
   "metadata": {},
   "outputs": [
    {
     "name": "stdout",
     "output_type": "stream",
     "text": [
      "(Top)\n",
      "1Early life\n",
      "2Training\n",
      "3Early career\n",
      "4Works\n",
      "4.1Portraits\n",
      "4.1.1Nineteenth-century portraits\n",
      "4.1.2Twentieth century portraits\n",
      "4.2Watercolors\n",
      "4.3Other work\n",
      "5Relationships and personal life\n",
      "6Critical assessment\n",
      "7Later life\n",
      "8Sales\n",
      "9In popular culture\n",
      "10Citations\n",
      "11General sources\n",
      "12Further reading\n",
      "13External links\n",
      "['(Top)', '1Early life', '2Training', '3Early career', '4Works', '4.1Portraits', '4.1.1Nineteenth-century portraits', '4.1.2Twentieth century portraits', '4.2Watercolors', '4.3Other work', '5Relationships and personal life', '6Critical assessment', '7Later life', '8Sales', '9In popular culture', '10Citations', '11General sources', '12Further reading', '13External links']\n"
     ]
    }
   ],
   "source": [
    "toc_texts = []\n",
    "\n",
    "for item in soup_jss.select('.vector-toc-text'):\n",
    "    print(item.text.strip())\n",
    "    toc_texts.append(item.text.strip())\n",
    "\n",
    "print(toc_texts)"
   ]
  },
  {
   "cell_type": "code",
   "execution_count": 30,
   "id": "79593208",
   "metadata": {},
   "outputs": [
    {
     "data": {
      "text/plain": [
       "[<img alt=\"\" aria-hidden=\"true\" class=\"mw-logo-icon\" height=\"50\" src=\"/static/images/icons/wikipedia.png\" width=\"50\"/>,\n",
       " <img alt=\"Wikipedia\" class=\"mw-logo-wordmark\" src=\"/static/images/mobile/copyright/wikipedia-wordmark-en.svg\" style=\"width: 7.5em; height: 1.125em;\"/>,\n",
       " <img alt=\"The Free Encyclopedia\" class=\"mw-logo-tagline\" height=\"13\" src=\"/static/images/mobile/copyright/wikipedia-tagline-en.svg\" style=\"width: 7.3125em; height: 0.8125em;\" width=\"117\"/>,\n",
       " <img class=\"mw-file-element\" data-file-height=\"810\" data-file-width=\"608\" decoding=\"async\" height=\"293\" src=\"//upload.wikimedia.org/wikipedia/commons/thumb/a/a5/John_Singer_Sargent_1903.jpg/220px-John_Singer_Sargent_1903.jpg\" srcset=\"//upload.wikimedia.org/wikipedia/commons/thumb/a/a5/John_Singer_Sargent_1903.jpg/330px-John_Singer_Sargent_1903.jpg 1.5x, //upload.wikimedia.org/wikipedia/commons/thumb/a/a5/John_Singer_Sargent_1903.jpg/440px-John_Singer_Sargent_1903.jpg 2x\" width=\"220\"/>,\n",
       " <img class=\"mw-file-element\" data-file-height=\"2004\" data-file-width=\"2002\" decoding=\"async\" height=\"220\" src=\"//upload.wikimedia.org/wikipedia/commons/thumb/9/96/The_Daughters_of_Edward_Darley_Boit%2C_John_Singer_Sargent%2C_1882_%28unfree_frame_crop%29.jpg/220px-The_Daughters_of_Edward_Darley_Boit%2C_John_Singer_Sargent%2C_1882_%28unfree_frame_crop%29.jpg\" srcset=\"//upload.wikimedia.org/wikipedia/commons/thumb/9/96/The_Daughters_of_Edward_Darley_Boit%2C_John_Singer_Sargent%2C_1882_%28unfree_frame_crop%29.jpg/330px-The_Daughters_of_Edward_Darley_Boit%2C_John_Singer_Sargent%2C_1882_%28unfree_frame_crop%29.jpg 1.5x, //upload.wikimedia.org/wikipedia/commons/thumb/9/96/The_Daughters_of_Edward_Darley_Boit%2C_John_Singer_Sargent%2C_1882_%28unfree_frame_crop%29.jpg/440px-The_Daughters_of_Edward_Darley_Boit%2C_John_Singer_Sargent%2C_1882_%28unfree_frame_crop%29.jpg 2x\" width=\"220\"/>,\n",
       " <img class=\"mw-file-element\" data-file-height=\"1453\" data-file-width=\"1153\" decoding=\"async\" height=\"277\" src=\"//upload.wikimedia.org/wikipedia/commons/thumb/a/ad/Miss_Frances_Sherborne_Ridley_Watts.jpg/220px-Miss_Frances_Sherborne_Ridley_Watts.jpg\" srcset=\"//upload.wikimedia.org/wikipedia/commons/thumb/a/ad/Miss_Frances_Sherborne_Ridley_Watts.jpg/330px-Miss_Frances_Sherborne_Ridley_Watts.jpg 1.5x, //upload.wikimedia.org/wikipedia/commons/thumb/a/ad/Miss_Frances_Sherborne_Ridley_Watts.jpg/440px-Miss_Frances_Sherborne_Ridley_Watts.jpg 2x\" width=\"220\"/>,\n",
       " <img class=\"mw-file-element\" data-file-height=\"3975\" data-file-width=\"4849\" decoding=\"async\" height=\"180\" src=\"//upload.wikimedia.org/wikipedia/commons/thumb/a/a9/John_Singer_Sargent_-_An_Out-of-Doors_Study_-_Google_Art_Project.jpg/220px-John_Singer_Sargent_-_An_Out-of-Doors_Study_-_Google_Art_Project.jpg\" srcset=\"//upload.wikimedia.org/wikipedia/commons/thumb/a/a9/John_Singer_Sargent_-_An_Out-of-Doors_Study_-_Google_Art_Project.jpg/330px-John_Singer_Sargent_-_An_Out-of-Doors_Study_-_Google_Art_Project.jpg 1.5x, //upload.wikimedia.org/wikipedia/commons/thumb/a/a9/John_Singer_Sargent_-_An_Out-of-Doors_Study_-_Google_Art_Project.jpg/440px-John_Singer_Sargent_-_An_Out-of-Doors_Study_-_Google_Art_Project.jpg 2x\" width=\"220\"/>,\n",
       " <img class=\"mw-file-element\" data-file-height=\"2028\" data-file-width=\"3000\" decoding=\"async\" height=\"176\" src=\"//upload.wikimedia.org/wikipedia/commons/thumb/9/92/EL_JALEO-SINGER.jpg/260px-EL_JALEO-SINGER.jpg\" srcset=\"//upload.wikimedia.org/wikipedia/commons/thumb/9/92/EL_JALEO-SINGER.jpg/390px-EL_JALEO-SINGER.jpg 1.5x, //upload.wikimedia.org/wikipedia/commons/thumb/9/92/EL_JALEO-SINGER.jpg/520px-EL_JALEO-SINGER.jpg 2x\" width=\"260\"/>,\n",
       " <img class=\"mw-file-element\" data-file-height=\"2750\" data-file-width=\"2041\" decoding=\"async\" height=\"202\" src=\"//upload.wikimedia.org/wikipedia/commons/thumb/8/82/Venetianonionseller.jpg/150px-Venetianonionseller.jpg\" srcset=\"//upload.wikimedia.org/wikipedia/commons/thumb/8/82/Venetianonionseller.jpg/225px-Venetianonionseller.jpg 1.5x, //upload.wikimedia.org/wikipedia/commons/thumb/8/82/Venetianonionseller.jpg/300px-Venetianonionseller.jpg 2x\" width=\"150\"/>,\n",
       " <img class=\"mw-file-element\" data-file-height=\"3148\" data-file-width=\"4141\" decoding=\"async\" height=\"167\" src=\"//upload.wikimedia.org/wikipedia/commons/thumb/9/95/John_Singer_Sargent_in_atelier.jpg/220px-John_Singer_Sargent_in_atelier.jpg\" srcset=\"//upload.wikimedia.org/wikipedia/commons/thumb/9/95/John_Singer_Sargent_in_atelier.jpg/330px-John_Singer_Sargent_in_atelier.jpg 1.5x, //upload.wikimedia.org/wikipedia/commons/thumb/9/95/John_Singer_Sargent_in_atelier.jpg/440px-John_Singer_Sargent_in_atelier.jpg 2x\" width=\"220\"/>,\n",
       " <img class=\"mw-file-element\" data-file-height=\"3680\" data-file-width=\"1895\" decoding=\"async\" height=\"330\" src=\"//upload.wikimedia.org/wikipedia/commons/thumb/a/a4/Madame_X_%28Madame_Pierre_Gautreau%29%2C_John_Singer_Sargent%2C_1884_%28unfree_frame_crop%29.jpg/170px-Madame_X_%28Madame_Pierre_Gautreau%29%2C_John_Singer_Sargent%2C_1884_%28unfree_frame_crop%29.jpg\" srcset=\"//upload.wikimedia.org/wikipedia/commons/thumb/a/a4/Madame_X_%28Madame_Pierre_Gautreau%29%2C_John_Singer_Sargent%2C_1884_%28unfree_frame_crop%29.jpg/255px-Madame_X_%28Madame_Pierre_Gautreau%29%2C_John_Singer_Sargent%2C_1884_%28unfree_frame_crop%29.jpg 1.5x, //upload.wikimedia.org/wikipedia/commons/thumb/a/a4/Madame_X_%28Madame_Pierre_Gautreau%29%2C_John_Singer_Sargent%2C_1884_%28unfree_frame_crop%29.jpg/340px-Madame_X_%28Madame_Pierre_Gautreau%29%2C_John_Singer_Sargent%2C_1884_%28unfree_frame_crop%29.jpg 2x\" width=\"170\"/>,\n",
       " <img class=\"mw-file-element\" data-file-height=\"6829\" data-file-width=\"3291\" decoding=\"async\" height=\"374\" src=\"//upload.wikimedia.org/wikipedia/commons/thumb/4/4b/Pozzi%2C_Samuel_-_Par_Sargent.jpg/180px-Pozzi%2C_Samuel_-_Par_Sargent.jpg\" srcset=\"//upload.wikimedia.org/wikipedia/commons/thumb/4/4b/Pozzi%2C_Samuel_-_Par_Sargent.jpg/270px-Pozzi%2C_Samuel_-_Par_Sargent.jpg 1.5x, //upload.wikimedia.org/wikipedia/commons/thumb/4/4b/Pozzi%2C_Samuel_-_Par_Sargent.jpg/360px-Pozzi%2C_Samuel_-_Par_Sargent.jpg 2x\" width=\"180\"/>,\n",
       " <img class=\"mw-file-element\" data-file-height=\"3762\" data-file-width=\"3330\" decoding=\"async\" height=\"249\" src=\"//upload.wikimedia.org/wikipedia/commons/thumb/e/ed/John_Singer_Sargent_-_Carnation%2C_Lily%2C_Lily%2C_Rose_-_Google_Art_Project.jpg/220px-John_Singer_Sargent_-_Carnation%2C_Lily%2C_Lily%2C_Rose_-_Google_Art_Project.jpg\" srcset=\"//upload.wikimedia.org/wikipedia/commons/thumb/e/ed/John_Singer_Sargent_-_Carnation%2C_Lily%2C_Lily%2C_Rose_-_Google_Art_Project.jpg/330px-John_Singer_Sargent_-_Carnation%2C_Lily%2C_Lily%2C_Rose_-_Google_Art_Project.jpg 1.5x, //upload.wikimedia.org/wikipedia/commons/thumb/e/ed/John_Singer_Sargent_-_Carnation%2C_Lily%2C_Lily%2C_Rose_-_Google_Art_Project.jpg/440px-John_Singer_Sargent_-_Carnation%2C_Lily%2C_Lily%2C_Rose_-_Google_Art_Project.jpg 2x\" width=\"220\"/>,\n",
       " <img class=\"mw-file-element\" data-file-height=\"2528\" data-file-width=\"1992\" decoding=\"async\" height=\"216\" src=\"//upload.wikimedia.org/wikipedia/commons/thumb/f/fe/Edinburgh_NGS_Singer_Sargent_Lady_Agnew.JPG/170px-Edinburgh_NGS_Singer_Sargent_Lady_Agnew.JPG\" srcset=\"//upload.wikimedia.org/wikipedia/commons/thumb/f/fe/Edinburgh_NGS_Singer_Sargent_Lady_Agnew.JPG/255px-Edinburgh_NGS_Singer_Sargent_Lady_Agnew.JPG 1.5x, //upload.wikimedia.org/wikipedia/commons/thumb/f/fe/Edinburgh_NGS_Singer_Sargent_Lady_Agnew.JPG/340px-Edinburgh_NGS_Singer_Sargent_Lady_Agnew.JPG 2x\" width=\"170\"/>,\n",
       " <img class=\"mw-file-element\" data-file-height=\"1536\" data-file-width=\"1111\" decoding=\"async\" height=\"235\" src=\"//upload.wikimedia.org/wikipedia/commons/thumb/a/a9/Almina_Daughter_of_Asher_Wertheimer_by_J_S_Sargent.jpg/170px-Almina_Daughter_of_Asher_Wertheimer_by_J_S_Sargent.jpg\" srcset=\"//upload.wikimedia.org/wikipedia/commons/thumb/a/a9/Almina_Daughter_of_Asher_Wertheimer_by_J_S_Sargent.jpg/255px-Almina_Daughter_of_Asher_Wertheimer_by_J_S_Sargent.jpg 1.5x, //upload.wikimedia.org/wikipedia/commons/thumb/a/a9/Almina_Daughter_of_Asher_Wertheimer_by_J_S_Sargent.jpg/340px-Almina_Daughter_of_Asher_Wertheimer_by_J_S_Sargent.jpg 2x\" width=\"170\"/>,\n",
       " <img class=\"mw-file-element\" data-file-height=\"1057\" data-file-width=\"1280\" decoding=\"async\" height=\"182\" src=\"//upload.wikimedia.org/wikipedia/commons/thumb/f/fe/John_Singer_Sargent_-_Repose.jpg/220px-John_Singer_Sargent_-_Repose.jpg\" srcset=\"//upload.wikimedia.org/wikipedia/commons/thumb/f/fe/John_Singer_Sargent_-_Repose.jpg/330px-John_Singer_Sargent_-_Repose.jpg 1.5x, //upload.wikimedia.org/wikipedia/commons/thumb/f/fe/John_Singer_Sargent_-_Repose.jpg/440px-John_Singer_Sargent_-_Repose.jpg 2x\" width=\"220\"/>,\n",
       " <img class=\"mw-file-element\" data-file-height=\"2401\" data-file-width=\"1603\" decoding=\"async\" height=\"225\" src=\"//upload.wikimedia.org/wikipedia/commons/thumb/3/3e/John_Singer_Sargent_-_Nude_Study_of_Thomas_E._McKeller.jpg/150px-John_Singer_Sargent_-_Nude_Study_of_Thomas_E._McKeller.jpg\" srcset=\"//upload.wikimedia.org/wikipedia/commons/thumb/3/3e/John_Singer_Sargent_-_Nude_Study_of_Thomas_E._McKeller.jpg/225px-John_Singer_Sargent_-_Nude_Study_of_Thomas_E._McKeller.jpg 1.5x, //upload.wikimedia.org/wikipedia/commons/thumb/3/3e/John_Singer_Sargent_-_Nude_Study_of_Thomas_E._McKeller.jpg/300px-John_Singer_Sargent_-_Nude_Study_of_Thomas_E._McKeller.jpg 2x\" width=\"150\"/>,\n",
       " <img class=\"mw-file-element\" data-file-height=\"640\" data-file-width=\"893\" decoding=\"async\" height=\"158\" src=\"//upload.wikimedia.org/wikipedia/commons/thumb/2/23/Brooklyn_Museum_-_Gourds_-_John_Singer_Sargent.jpg/220px-Brooklyn_Museum_-_Gourds_-_John_Singer_Sargent.jpg\" srcset=\"//upload.wikimedia.org/wikipedia/commons/thumb/2/23/Brooklyn_Museum_-_Gourds_-_John_Singer_Sargent.jpg/330px-Brooklyn_Museum_-_Gourds_-_John_Singer_Sargent.jpg 1.5x, //upload.wikimedia.org/wikipedia/commons/thumb/2/23/Brooklyn_Museum_-_Gourds_-_John_Singer_Sargent.jpg/440px-Brooklyn_Museum_-_Gourds_-_John_Singer_Sargent.jpg 2x\" width=\"220\"/>,\n",
       " <img class=\"mw-file-element\" data-file-height=\"1136\" data-file-width=\"912\" decoding=\"async\" height=\"187\" src=\"//upload.wikimedia.org/wikipedia/commons/thumb/6/6d/John_Singer_Sargent_-_The_Chess_Game.jpg/150px-John_Singer_Sargent_-_The_Chess_Game.jpg\" srcset=\"//upload.wikimedia.org/wikipedia/commons/thumb/6/6d/John_Singer_Sargent_-_The_Chess_Game.jpg/225px-John_Singer_Sargent_-_The_Chess_Game.jpg 1.5x, //upload.wikimedia.org/wikipedia/commons/thumb/6/6d/John_Singer_Sargent_-_The_Chess_Game.jpg/300px-John_Singer_Sargent_-_The_Chess_Game.jpg 2x\" width=\"150\"/>,\n",
       " <img class=\"mw-file-element\" data-file-height=\"1322\" data-file-width=\"1324\" decoding=\"async\" height=\"170\" src=\"//upload.wikimedia.org/wikipedia/commons/thumb/3/3d/John_Singer_Sargent_-_Atlas_and_the_Hesperides%2C_1922-1925.jpg/170px-John_Singer_Sargent_-_Atlas_and_the_Hesperides%2C_1922-1925.jpg\" srcset=\"//upload.wikimedia.org/wikipedia/commons/thumb/3/3d/John_Singer_Sargent_-_Atlas_and_the_Hesperides%2C_1922-1925.jpg/255px-John_Singer_Sargent_-_Atlas_and_the_Hesperides%2C_1922-1925.jpg 1.5x, //upload.wikimedia.org/wikipedia/commons/thumb/3/3d/John_Singer_Sargent_-_Atlas_and_the_Hesperides%2C_1922-1925.jpg/340px-John_Singer_Sargent_-_Atlas_and_the_Hesperides%2C_1922-1925.jpg 2x\" width=\"170\"/>,\n",
       " <img class=\"mw-file-element\" data-file-height=\"1920\" data-file-width=\"1271\" decoding=\"async\" height=\"227\" src=\"//upload.wikimedia.org/wikipedia/commons/thumb/6/65/John_Singer_Sargent%2C_Synagogue%2C_1919.jpg/150px-John_Singer_Sargent%2C_Synagogue%2C_1919.jpg\" srcset=\"//upload.wikimedia.org/wikipedia/commons/thumb/6/65/John_Singer_Sargent%2C_Synagogue%2C_1919.jpg/225px-John_Singer_Sargent%2C_Synagogue%2C_1919.jpg 1.5x, //upload.wikimedia.org/wikipedia/commons/thumb/6/65/John_Singer_Sargent%2C_Synagogue%2C_1919.jpg/300px-John_Singer_Sargent%2C_Synagogue%2C_1919.jpg 2x\" width=\"150\"/>,\n",
       " <img alt=\"Rosina, 1878, depicting Rosina Ferrara\" class=\"mw-file-element\" data-file-height=\"4968\" data-file-width=\"2353\" decoding=\"async\" height=\"200\" src=\"//upload.wikimedia.org/wikipedia/commons/thumb/2/26/Sargent_-_Rosina.jpg/94px-Sargent_-_Rosina.jpg\" srcset=\"//upload.wikimedia.org/wikipedia/commons/thumb/2/26/Sargent_-_Rosina.jpg/142px-Sargent_-_Rosina.jpg 1.5x, //upload.wikimedia.org/wikipedia/commons/thumb/2/26/Sargent_-_Rosina.jpg/189px-Sargent_-_Rosina.jpg 2x\" width=\"94\"/>,\n",
       " <img alt=\"Bartolomeo Magagnosco, c. 1875\" class=\"mw-file-element\" data-file-height=\"900\" data-file-width=\"716\" decoding=\"async\" height=\"200\" src=\"//upload.wikimedia.org/wikipedia/commons/thumb/5/51/Bartolomeo_Magagnosco_by_John_Singer_Sargent_1875.jpg/159px-Bartolomeo_Magagnosco_by_John_Singer_Sargent_1875.jpg\" srcset=\"//upload.wikimedia.org/wikipedia/commons/thumb/5/51/Bartolomeo_Magagnosco_by_John_Singer_Sargent_1875.jpg/239px-Bartolomeo_Magagnosco_by_John_Singer_Sargent_1875.jpg 1.5x, //upload.wikimedia.org/wikipedia/commons/thumb/5/51/Bartolomeo_Magagnosco_by_John_Singer_Sargent_1875.jpg/318px-Bartolomeo_Magagnosco_by_John_Singer_Sargent_1875.jpg 2x\" width=\"159\"/>,\n",
       " <img alt=\"Albert de Belleroche, c. 1882\" class=\"mw-file-element\" data-file-height=\"300\" data-file-width=\"206\" decoding=\"async\" height=\"200\" src=\"//upload.wikimedia.org/wikipedia/commons/thumb/a/a4/Albert_de_Belleroche.jpg/137px-Albert_de_Belleroche.jpg\" srcset=\"//upload.wikimedia.org/wikipedia/commons/a/a4/Albert_de_Belleroche.jpg 1.5x\" width=\"137\"/>,\n",
       " <img alt=\"Olimpio Fusco, c. 1905–1915\" class=\"mw-file-element\" data-file-height=\"655\" data-file-width=\"473\" decoding=\"async\" height=\"200\" src=\"//upload.wikimedia.org/wikipedia/commons/thumb/0/0a/Sargent%2C_John_Singer_%281856-1925%29_-_1905_o_1915_-_Olimpio_Fusco.jpg/144px-Sargent%2C_John_Singer_%281856-1925%29_-_1905_o_1915_-_Olimpio_Fusco.jpg\" srcset=\"//upload.wikimedia.org/wikipedia/commons/thumb/0/0a/Sargent%2C_John_Singer_%281856-1925%29_-_1905_o_1915_-_Olimpio_Fusco.jpg/217px-Sargent%2C_John_Singer_%281856-1925%29_-_1905_o_1915_-_Olimpio_Fusco.jpg 1.5x, //upload.wikimedia.org/wikipedia/commons/thumb/0/0a/Sargent%2C_John_Singer_%281856-1925%29_-_1905_o_1915_-_Olimpio_Fusco.jpg/289px-Sargent%2C_John_Singer_%281856-1925%29_-_1905_o_1915_-_Olimpio_Fusco.jpg 2x\" width=\"144\"/>,\n",
       " <img class=\"mw-file-element\" data-file-height=\"2362\" data-file-width=\"2501\" decoding=\"async\" height=\"208\" src=\"//upload.wikimedia.org/wikipedia/commons/thumb/d/d6/Ars%C3%A8ne_Vigeant-John_Singer_Sargent_mg_9497.jpg/220px-Ars%C3%A8ne_Vigeant-John_Singer_Sargent_mg_9497.jpg\" srcset=\"//upload.wikimedia.org/wikipedia/commons/thumb/d/d6/Ars%C3%A8ne_Vigeant-John_Singer_Sargent_mg_9497.jpg/330px-Ars%C3%A8ne_Vigeant-John_Singer_Sargent_mg_9497.jpg 1.5x, //upload.wikimedia.org/wikipedia/commons/thumb/d/d6/Ars%C3%A8ne_Vigeant-John_Singer_Sargent_mg_9497.jpg/440px-Ars%C3%A8ne_Vigeant-John_Singer_Sargent_mg_9497.jpg 2x\" width=\"220\"/>,\n",
       " <img class=\"mw-file-element\" data-file-height=\"1265\" data-file-width=\"1536\" decoding=\"async\" height=\"181\" src=\"//upload.wikimedia.org/wikipedia/commons/thumb/7/7c/Sargent_MonetPainting.jpg/220px-Sargent_MonetPainting.jpg\" srcset=\"//upload.wikimedia.org/wikipedia/commons/thumb/7/7c/Sargent_MonetPainting.jpg/330px-Sargent_MonetPainting.jpg 1.5x, //upload.wikimedia.org/wikipedia/commons/thumb/7/7c/Sargent_MonetPainting.jpg/440px-Sargent_MonetPainting.jpg 2x\" width=\"220\"/>,\n",
       " <img class=\"mw-file-element\" data-file-height=\"2800\" data-file-width=\"2675\" decoding=\"async\" height=\"178\" src=\"//upload.wikimedia.org/wikipedia/commons/thumb/b/bf/John_Singer_Sargent_Grave_2016.jpg/170px-John_Singer_Sargent_Grave_2016.jpg\" srcset=\"//upload.wikimedia.org/wikipedia/commons/thumb/b/bf/John_Singer_Sargent_Grave_2016.jpg/255px-John_Singer_Sargent_Grave_2016.jpg 1.5x, //upload.wikimedia.org/wikipedia/commons/thumb/b/bf/John_Singer_Sargent_Grave_2016.jpg/340px-John_Singer_Sargent_Grave_2016.jpg 2x\" width=\"170\"/>,\n",
       " <img alt=\"\" class=\"mw-file-element\" data-file-height=\"1376\" data-file-width=\"1024\" decoding=\"async\" height=\"40\" src=\"//upload.wikimedia.org/wikipedia/en/thumb/4/4a/Commons-logo.svg/30px-Commons-logo.svg.png\" srcset=\"//upload.wikimedia.org/wikipedia/en/thumb/4/4a/Commons-logo.svg/45px-Commons-logo.svg.png 1.5x, //upload.wikimedia.org/wikipedia/en/thumb/4/4a/Commons-logo.svg/59px-Commons-logo.svg.png 2x\" width=\"30\"/>,\n",
       " <img alt=\"Edit this at Wikidata\" class=\"mw-file-element\" data-file-height=\"20\" data-file-width=\"20\" decoding=\"async\" height=\"10\" src=\"//upload.wikimedia.org/wikipedia/en/thumb/8/8a/OOjs_UI_icon_edit-ltr-progressive.svg/10px-OOjs_UI_icon_edit-ltr-progressive.svg.png\" srcset=\"//upload.wikimedia.org/wikipedia/en/thumb/8/8a/OOjs_UI_icon_edit-ltr-progressive.svg/15px-OOjs_UI_icon_edit-ltr-progressive.svg.png 1.5x, //upload.wikimedia.org/wikipedia/en/thumb/8/8a/OOjs_UI_icon_edit-ltr-progressive.svg/20px-OOjs_UI_icon_edit-ltr-progressive.svg.png 2x\" width=\"10\"/>,\n",
       " <img alt=\"\" height=\"1\" src=\"https://login.wikimedia.org/wiki/Special:CentralAutoLogin/start?type=1x1\" style=\"border: none; position: absolute;\" width=\"1\"/>,\n",
       " <img alt=\"Wikimedia Foundation\" height=\"31\" loading=\"lazy\" src=\"/static/images/footer/wikimedia-button.png\" srcset=\"/static/images/footer/wikimedia-button-1.5x.png 1.5x, /static/images/footer/wikimedia-button-2x.png 2x\" width=\"88\"/>,\n",
       " <img alt=\"Powered by MediaWiki\" height=\"31\" loading=\"lazy\" src=\"/static/images/footer/poweredby_mediawiki_88x31.png\" srcset=\"/static/images/footer/poweredby_mediawiki_132x47.png 1.5x, /static/images/footer/poweredby_mediawiki_176x62.png 2x\" width=\"88\"/>]"
      ]
     },
     "execution_count": 30,
     "metadata": {},
     "output_type": "execute_result"
    }
   ],
   "source": [
    "soup_jss.select('img')"
   ]
  },
  {
   "cell_type": "code",
   "execution_count": 31,
   "id": "48f2a027",
   "metadata": {},
   "outputs": [
    {
     "data": {
      "text/plain": [
       "[<img class=\"mw-file-element\" data-file-height=\"810\" data-file-width=\"608\" decoding=\"async\" height=\"293\" src=\"//upload.wikimedia.org/wikipedia/commons/thumb/a/a5/John_Singer_Sargent_1903.jpg/220px-John_Singer_Sargent_1903.jpg\" srcset=\"//upload.wikimedia.org/wikipedia/commons/thumb/a/a5/John_Singer_Sargent_1903.jpg/330px-John_Singer_Sargent_1903.jpg 1.5x, //upload.wikimedia.org/wikipedia/commons/thumb/a/a5/John_Singer_Sargent_1903.jpg/440px-John_Singer_Sargent_1903.jpg 2x\" width=\"220\"/>,\n",
       " <img class=\"mw-file-element\" data-file-height=\"2004\" data-file-width=\"2002\" decoding=\"async\" height=\"220\" src=\"//upload.wikimedia.org/wikipedia/commons/thumb/9/96/The_Daughters_of_Edward_Darley_Boit%2C_John_Singer_Sargent%2C_1882_%28unfree_frame_crop%29.jpg/220px-The_Daughters_of_Edward_Darley_Boit%2C_John_Singer_Sargent%2C_1882_%28unfree_frame_crop%29.jpg\" srcset=\"//upload.wikimedia.org/wikipedia/commons/thumb/9/96/The_Daughters_of_Edward_Darley_Boit%2C_John_Singer_Sargent%2C_1882_%28unfree_frame_crop%29.jpg/330px-The_Daughters_of_Edward_Darley_Boit%2C_John_Singer_Sargent%2C_1882_%28unfree_frame_crop%29.jpg 1.5x, //upload.wikimedia.org/wikipedia/commons/thumb/9/96/The_Daughters_of_Edward_Darley_Boit%2C_John_Singer_Sargent%2C_1882_%28unfree_frame_crop%29.jpg/440px-The_Daughters_of_Edward_Darley_Boit%2C_John_Singer_Sargent%2C_1882_%28unfree_frame_crop%29.jpg 2x\" width=\"220\"/>,\n",
       " <img class=\"mw-file-element\" data-file-height=\"1453\" data-file-width=\"1153\" decoding=\"async\" height=\"277\" src=\"//upload.wikimedia.org/wikipedia/commons/thumb/a/ad/Miss_Frances_Sherborne_Ridley_Watts.jpg/220px-Miss_Frances_Sherborne_Ridley_Watts.jpg\" srcset=\"//upload.wikimedia.org/wikipedia/commons/thumb/a/ad/Miss_Frances_Sherborne_Ridley_Watts.jpg/330px-Miss_Frances_Sherborne_Ridley_Watts.jpg 1.5x, //upload.wikimedia.org/wikipedia/commons/thumb/a/ad/Miss_Frances_Sherborne_Ridley_Watts.jpg/440px-Miss_Frances_Sherborne_Ridley_Watts.jpg 2x\" width=\"220\"/>,\n",
       " <img class=\"mw-file-element\" data-file-height=\"3975\" data-file-width=\"4849\" decoding=\"async\" height=\"180\" src=\"//upload.wikimedia.org/wikipedia/commons/thumb/a/a9/John_Singer_Sargent_-_An_Out-of-Doors_Study_-_Google_Art_Project.jpg/220px-John_Singer_Sargent_-_An_Out-of-Doors_Study_-_Google_Art_Project.jpg\" srcset=\"//upload.wikimedia.org/wikipedia/commons/thumb/a/a9/John_Singer_Sargent_-_An_Out-of-Doors_Study_-_Google_Art_Project.jpg/330px-John_Singer_Sargent_-_An_Out-of-Doors_Study_-_Google_Art_Project.jpg 1.5x, //upload.wikimedia.org/wikipedia/commons/thumb/a/a9/John_Singer_Sargent_-_An_Out-of-Doors_Study_-_Google_Art_Project.jpg/440px-John_Singer_Sargent_-_An_Out-of-Doors_Study_-_Google_Art_Project.jpg 2x\" width=\"220\"/>,\n",
       " <img class=\"mw-file-element\" data-file-height=\"2028\" data-file-width=\"3000\" decoding=\"async\" height=\"176\" src=\"//upload.wikimedia.org/wikipedia/commons/thumb/9/92/EL_JALEO-SINGER.jpg/260px-EL_JALEO-SINGER.jpg\" srcset=\"//upload.wikimedia.org/wikipedia/commons/thumb/9/92/EL_JALEO-SINGER.jpg/390px-EL_JALEO-SINGER.jpg 1.5x, //upload.wikimedia.org/wikipedia/commons/thumb/9/92/EL_JALEO-SINGER.jpg/520px-EL_JALEO-SINGER.jpg 2x\" width=\"260\"/>,\n",
       " <img class=\"mw-file-element\" data-file-height=\"2750\" data-file-width=\"2041\" decoding=\"async\" height=\"202\" src=\"//upload.wikimedia.org/wikipedia/commons/thumb/8/82/Venetianonionseller.jpg/150px-Venetianonionseller.jpg\" srcset=\"//upload.wikimedia.org/wikipedia/commons/thumb/8/82/Venetianonionseller.jpg/225px-Venetianonionseller.jpg 1.5x, //upload.wikimedia.org/wikipedia/commons/thumb/8/82/Venetianonionseller.jpg/300px-Venetianonionseller.jpg 2x\" width=\"150\"/>,\n",
       " <img class=\"mw-file-element\" data-file-height=\"3148\" data-file-width=\"4141\" decoding=\"async\" height=\"167\" src=\"//upload.wikimedia.org/wikipedia/commons/thumb/9/95/John_Singer_Sargent_in_atelier.jpg/220px-John_Singer_Sargent_in_atelier.jpg\" srcset=\"//upload.wikimedia.org/wikipedia/commons/thumb/9/95/John_Singer_Sargent_in_atelier.jpg/330px-John_Singer_Sargent_in_atelier.jpg 1.5x, //upload.wikimedia.org/wikipedia/commons/thumb/9/95/John_Singer_Sargent_in_atelier.jpg/440px-John_Singer_Sargent_in_atelier.jpg 2x\" width=\"220\"/>,\n",
       " <img class=\"mw-file-element\" data-file-height=\"3680\" data-file-width=\"1895\" decoding=\"async\" height=\"330\" src=\"//upload.wikimedia.org/wikipedia/commons/thumb/a/a4/Madame_X_%28Madame_Pierre_Gautreau%29%2C_John_Singer_Sargent%2C_1884_%28unfree_frame_crop%29.jpg/170px-Madame_X_%28Madame_Pierre_Gautreau%29%2C_John_Singer_Sargent%2C_1884_%28unfree_frame_crop%29.jpg\" srcset=\"//upload.wikimedia.org/wikipedia/commons/thumb/a/a4/Madame_X_%28Madame_Pierre_Gautreau%29%2C_John_Singer_Sargent%2C_1884_%28unfree_frame_crop%29.jpg/255px-Madame_X_%28Madame_Pierre_Gautreau%29%2C_John_Singer_Sargent%2C_1884_%28unfree_frame_crop%29.jpg 1.5x, //upload.wikimedia.org/wikipedia/commons/thumb/a/a4/Madame_X_%28Madame_Pierre_Gautreau%29%2C_John_Singer_Sargent%2C_1884_%28unfree_frame_crop%29.jpg/340px-Madame_X_%28Madame_Pierre_Gautreau%29%2C_John_Singer_Sargent%2C_1884_%28unfree_frame_crop%29.jpg 2x\" width=\"170\"/>,\n",
       " <img class=\"mw-file-element\" data-file-height=\"6829\" data-file-width=\"3291\" decoding=\"async\" height=\"374\" src=\"//upload.wikimedia.org/wikipedia/commons/thumb/4/4b/Pozzi%2C_Samuel_-_Par_Sargent.jpg/180px-Pozzi%2C_Samuel_-_Par_Sargent.jpg\" srcset=\"//upload.wikimedia.org/wikipedia/commons/thumb/4/4b/Pozzi%2C_Samuel_-_Par_Sargent.jpg/270px-Pozzi%2C_Samuel_-_Par_Sargent.jpg 1.5x, //upload.wikimedia.org/wikipedia/commons/thumb/4/4b/Pozzi%2C_Samuel_-_Par_Sargent.jpg/360px-Pozzi%2C_Samuel_-_Par_Sargent.jpg 2x\" width=\"180\"/>,\n",
       " <img class=\"mw-file-element\" data-file-height=\"3762\" data-file-width=\"3330\" decoding=\"async\" height=\"249\" src=\"//upload.wikimedia.org/wikipedia/commons/thumb/e/ed/John_Singer_Sargent_-_Carnation%2C_Lily%2C_Lily%2C_Rose_-_Google_Art_Project.jpg/220px-John_Singer_Sargent_-_Carnation%2C_Lily%2C_Lily%2C_Rose_-_Google_Art_Project.jpg\" srcset=\"//upload.wikimedia.org/wikipedia/commons/thumb/e/ed/John_Singer_Sargent_-_Carnation%2C_Lily%2C_Lily%2C_Rose_-_Google_Art_Project.jpg/330px-John_Singer_Sargent_-_Carnation%2C_Lily%2C_Lily%2C_Rose_-_Google_Art_Project.jpg 1.5x, //upload.wikimedia.org/wikipedia/commons/thumb/e/ed/John_Singer_Sargent_-_Carnation%2C_Lily%2C_Lily%2C_Rose_-_Google_Art_Project.jpg/440px-John_Singer_Sargent_-_Carnation%2C_Lily%2C_Lily%2C_Rose_-_Google_Art_Project.jpg 2x\" width=\"220\"/>,\n",
       " <img class=\"mw-file-element\" data-file-height=\"2528\" data-file-width=\"1992\" decoding=\"async\" height=\"216\" src=\"//upload.wikimedia.org/wikipedia/commons/thumb/f/fe/Edinburgh_NGS_Singer_Sargent_Lady_Agnew.JPG/170px-Edinburgh_NGS_Singer_Sargent_Lady_Agnew.JPG\" srcset=\"//upload.wikimedia.org/wikipedia/commons/thumb/f/fe/Edinburgh_NGS_Singer_Sargent_Lady_Agnew.JPG/255px-Edinburgh_NGS_Singer_Sargent_Lady_Agnew.JPG 1.5x, //upload.wikimedia.org/wikipedia/commons/thumb/f/fe/Edinburgh_NGS_Singer_Sargent_Lady_Agnew.JPG/340px-Edinburgh_NGS_Singer_Sargent_Lady_Agnew.JPG 2x\" width=\"170\"/>,\n",
       " <img class=\"mw-file-element\" data-file-height=\"1536\" data-file-width=\"1111\" decoding=\"async\" height=\"235\" src=\"//upload.wikimedia.org/wikipedia/commons/thumb/a/a9/Almina_Daughter_of_Asher_Wertheimer_by_J_S_Sargent.jpg/170px-Almina_Daughter_of_Asher_Wertheimer_by_J_S_Sargent.jpg\" srcset=\"//upload.wikimedia.org/wikipedia/commons/thumb/a/a9/Almina_Daughter_of_Asher_Wertheimer_by_J_S_Sargent.jpg/255px-Almina_Daughter_of_Asher_Wertheimer_by_J_S_Sargent.jpg 1.5x, //upload.wikimedia.org/wikipedia/commons/thumb/a/a9/Almina_Daughter_of_Asher_Wertheimer_by_J_S_Sargent.jpg/340px-Almina_Daughter_of_Asher_Wertheimer_by_J_S_Sargent.jpg 2x\" width=\"170\"/>,\n",
       " <img class=\"mw-file-element\" data-file-height=\"1057\" data-file-width=\"1280\" decoding=\"async\" height=\"182\" src=\"//upload.wikimedia.org/wikipedia/commons/thumb/f/fe/John_Singer_Sargent_-_Repose.jpg/220px-John_Singer_Sargent_-_Repose.jpg\" srcset=\"//upload.wikimedia.org/wikipedia/commons/thumb/f/fe/John_Singer_Sargent_-_Repose.jpg/330px-John_Singer_Sargent_-_Repose.jpg 1.5x, //upload.wikimedia.org/wikipedia/commons/thumb/f/fe/John_Singer_Sargent_-_Repose.jpg/440px-John_Singer_Sargent_-_Repose.jpg 2x\" width=\"220\"/>,\n",
       " <img class=\"mw-file-element\" data-file-height=\"2401\" data-file-width=\"1603\" decoding=\"async\" height=\"225\" src=\"//upload.wikimedia.org/wikipedia/commons/thumb/3/3e/John_Singer_Sargent_-_Nude_Study_of_Thomas_E._McKeller.jpg/150px-John_Singer_Sargent_-_Nude_Study_of_Thomas_E._McKeller.jpg\" srcset=\"//upload.wikimedia.org/wikipedia/commons/thumb/3/3e/John_Singer_Sargent_-_Nude_Study_of_Thomas_E._McKeller.jpg/225px-John_Singer_Sargent_-_Nude_Study_of_Thomas_E._McKeller.jpg 1.5x, //upload.wikimedia.org/wikipedia/commons/thumb/3/3e/John_Singer_Sargent_-_Nude_Study_of_Thomas_E._McKeller.jpg/300px-John_Singer_Sargent_-_Nude_Study_of_Thomas_E._McKeller.jpg 2x\" width=\"150\"/>,\n",
       " <img class=\"mw-file-element\" data-file-height=\"640\" data-file-width=\"893\" decoding=\"async\" height=\"158\" src=\"//upload.wikimedia.org/wikipedia/commons/thumb/2/23/Brooklyn_Museum_-_Gourds_-_John_Singer_Sargent.jpg/220px-Brooklyn_Museum_-_Gourds_-_John_Singer_Sargent.jpg\" srcset=\"//upload.wikimedia.org/wikipedia/commons/thumb/2/23/Brooklyn_Museum_-_Gourds_-_John_Singer_Sargent.jpg/330px-Brooklyn_Museum_-_Gourds_-_John_Singer_Sargent.jpg 1.5x, //upload.wikimedia.org/wikipedia/commons/thumb/2/23/Brooklyn_Museum_-_Gourds_-_John_Singer_Sargent.jpg/440px-Brooklyn_Museum_-_Gourds_-_John_Singer_Sargent.jpg 2x\" width=\"220\"/>,\n",
       " <img class=\"mw-file-element\" data-file-height=\"1136\" data-file-width=\"912\" decoding=\"async\" height=\"187\" src=\"//upload.wikimedia.org/wikipedia/commons/thumb/6/6d/John_Singer_Sargent_-_The_Chess_Game.jpg/150px-John_Singer_Sargent_-_The_Chess_Game.jpg\" srcset=\"//upload.wikimedia.org/wikipedia/commons/thumb/6/6d/John_Singer_Sargent_-_The_Chess_Game.jpg/225px-John_Singer_Sargent_-_The_Chess_Game.jpg 1.5x, //upload.wikimedia.org/wikipedia/commons/thumb/6/6d/John_Singer_Sargent_-_The_Chess_Game.jpg/300px-John_Singer_Sargent_-_The_Chess_Game.jpg 2x\" width=\"150\"/>,\n",
       " <img class=\"mw-file-element\" data-file-height=\"1322\" data-file-width=\"1324\" decoding=\"async\" height=\"170\" src=\"//upload.wikimedia.org/wikipedia/commons/thumb/3/3d/John_Singer_Sargent_-_Atlas_and_the_Hesperides%2C_1922-1925.jpg/170px-John_Singer_Sargent_-_Atlas_and_the_Hesperides%2C_1922-1925.jpg\" srcset=\"//upload.wikimedia.org/wikipedia/commons/thumb/3/3d/John_Singer_Sargent_-_Atlas_and_the_Hesperides%2C_1922-1925.jpg/255px-John_Singer_Sargent_-_Atlas_and_the_Hesperides%2C_1922-1925.jpg 1.5x, //upload.wikimedia.org/wikipedia/commons/thumb/3/3d/John_Singer_Sargent_-_Atlas_and_the_Hesperides%2C_1922-1925.jpg/340px-John_Singer_Sargent_-_Atlas_and_the_Hesperides%2C_1922-1925.jpg 2x\" width=\"170\"/>,\n",
       " <img class=\"mw-file-element\" data-file-height=\"1920\" data-file-width=\"1271\" decoding=\"async\" height=\"227\" src=\"//upload.wikimedia.org/wikipedia/commons/thumb/6/65/John_Singer_Sargent%2C_Synagogue%2C_1919.jpg/150px-John_Singer_Sargent%2C_Synagogue%2C_1919.jpg\" srcset=\"//upload.wikimedia.org/wikipedia/commons/thumb/6/65/John_Singer_Sargent%2C_Synagogue%2C_1919.jpg/225px-John_Singer_Sargent%2C_Synagogue%2C_1919.jpg 1.5x, //upload.wikimedia.org/wikipedia/commons/thumb/6/65/John_Singer_Sargent%2C_Synagogue%2C_1919.jpg/300px-John_Singer_Sargent%2C_Synagogue%2C_1919.jpg 2x\" width=\"150\"/>,\n",
       " <img alt=\"Rosina, 1878, depicting Rosina Ferrara\" class=\"mw-file-element\" data-file-height=\"4968\" data-file-width=\"2353\" decoding=\"async\" height=\"200\" src=\"//upload.wikimedia.org/wikipedia/commons/thumb/2/26/Sargent_-_Rosina.jpg/94px-Sargent_-_Rosina.jpg\" srcset=\"//upload.wikimedia.org/wikipedia/commons/thumb/2/26/Sargent_-_Rosina.jpg/142px-Sargent_-_Rosina.jpg 1.5x, //upload.wikimedia.org/wikipedia/commons/thumb/2/26/Sargent_-_Rosina.jpg/189px-Sargent_-_Rosina.jpg 2x\" width=\"94\"/>,\n",
       " <img alt=\"Bartolomeo Magagnosco, c. 1875\" class=\"mw-file-element\" data-file-height=\"900\" data-file-width=\"716\" decoding=\"async\" height=\"200\" src=\"//upload.wikimedia.org/wikipedia/commons/thumb/5/51/Bartolomeo_Magagnosco_by_John_Singer_Sargent_1875.jpg/159px-Bartolomeo_Magagnosco_by_John_Singer_Sargent_1875.jpg\" srcset=\"//upload.wikimedia.org/wikipedia/commons/thumb/5/51/Bartolomeo_Magagnosco_by_John_Singer_Sargent_1875.jpg/239px-Bartolomeo_Magagnosco_by_John_Singer_Sargent_1875.jpg 1.5x, //upload.wikimedia.org/wikipedia/commons/thumb/5/51/Bartolomeo_Magagnosco_by_John_Singer_Sargent_1875.jpg/318px-Bartolomeo_Magagnosco_by_John_Singer_Sargent_1875.jpg 2x\" width=\"159\"/>,\n",
       " <img alt=\"Albert de Belleroche, c. 1882\" class=\"mw-file-element\" data-file-height=\"300\" data-file-width=\"206\" decoding=\"async\" height=\"200\" src=\"//upload.wikimedia.org/wikipedia/commons/thumb/a/a4/Albert_de_Belleroche.jpg/137px-Albert_de_Belleroche.jpg\" srcset=\"//upload.wikimedia.org/wikipedia/commons/a/a4/Albert_de_Belleroche.jpg 1.5x\" width=\"137\"/>,\n",
       " <img alt=\"Olimpio Fusco, c. 1905–1915\" class=\"mw-file-element\" data-file-height=\"655\" data-file-width=\"473\" decoding=\"async\" height=\"200\" src=\"//upload.wikimedia.org/wikipedia/commons/thumb/0/0a/Sargent%2C_John_Singer_%281856-1925%29_-_1905_o_1915_-_Olimpio_Fusco.jpg/144px-Sargent%2C_John_Singer_%281856-1925%29_-_1905_o_1915_-_Olimpio_Fusco.jpg\" srcset=\"//upload.wikimedia.org/wikipedia/commons/thumb/0/0a/Sargent%2C_John_Singer_%281856-1925%29_-_1905_o_1915_-_Olimpio_Fusco.jpg/217px-Sargent%2C_John_Singer_%281856-1925%29_-_1905_o_1915_-_Olimpio_Fusco.jpg 1.5x, //upload.wikimedia.org/wikipedia/commons/thumb/0/0a/Sargent%2C_John_Singer_%281856-1925%29_-_1905_o_1915_-_Olimpio_Fusco.jpg/289px-Sargent%2C_John_Singer_%281856-1925%29_-_1905_o_1915_-_Olimpio_Fusco.jpg 2x\" width=\"144\"/>,\n",
       " <img class=\"mw-file-element\" data-file-height=\"2362\" data-file-width=\"2501\" decoding=\"async\" height=\"208\" src=\"//upload.wikimedia.org/wikipedia/commons/thumb/d/d6/Ars%C3%A8ne_Vigeant-John_Singer_Sargent_mg_9497.jpg/220px-Ars%C3%A8ne_Vigeant-John_Singer_Sargent_mg_9497.jpg\" srcset=\"//upload.wikimedia.org/wikipedia/commons/thumb/d/d6/Ars%C3%A8ne_Vigeant-John_Singer_Sargent_mg_9497.jpg/330px-Ars%C3%A8ne_Vigeant-John_Singer_Sargent_mg_9497.jpg 1.5x, //upload.wikimedia.org/wikipedia/commons/thumb/d/d6/Ars%C3%A8ne_Vigeant-John_Singer_Sargent_mg_9497.jpg/440px-Ars%C3%A8ne_Vigeant-John_Singer_Sargent_mg_9497.jpg 2x\" width=\"220\"/>,\n",
       " <img class=\"mw-file-element\" data-file-height=\"1265\" data-file-width=\"1536\" decoding=\"async\" height=\"181\" src=\"//upload.wikimedia.org/wikipedia/commons/thumb/7/7c/Sargent_MonetPainting.jpg/220px-Sargent_MonetPainting.jpg\" srcset=\"//upload.wikimedia.org/wikipedia/commons/thumb/7/7c/Sargent_MonetPainting.jpg/330px-Sargent_MonetPainting.jpg 1.5x, //upload.wikimedia.org/wikipedia/commons/thumb/7/7c/Sargent_MonetPainting.jpg/440px-Sargent_MonetPainting.jpg 2x\" width=\"220\"/>,\n",
       " <img class=\"mw-file-element\" data-file-height=\"2800\" data-file-width=\"2675\" decoding=\"async\" height=\"178\" src=\"//upload.wikimedia.org/wikipedia/commons/thumb/b/bf/John_Singer_Sargent_Grave_2016.jpg/170px-John_Singer_Sargent_Grave_2016.jpg\" srcset=\"//upload.wikimedia.org/wikipedia/commons/thumb/b/bf/John_Singer_Sargent_Grave_2016.jpg/255px-John_Singer_Sargent_Grave_2016.jpg 1.5x, //upload.wikimedia.org/wikipedia/commons/thumb/b/bf/John_Singer_Sargent_Grave_2016.jpg/340px-John_Singer_Sargent_Grave_2016.jpg 2x\" width=\"170\"/>,\n",
       " <img alt=\"\" class=\"mw-file-element\" data-file-height=\"1376\" data-file-width=\"1024\" decoding=\"async\" height=\"40\" src=\"//upload.wikimedia.org/wikipedia/en/thumb/4/4a/Commons-logo.svg/30px-Commons-logo.svg.png\" srcset=\"//upload.wikimedia.org/wikipedia/en/thumb/4/4a/Commons-logo.svg/45px-Commons-logo.svg.png 1.5x, //upload.wikimedia.org/wikipedia/en/thumb/4/4a/Commons-logo.svg/59px-Commons-logo.svg.png 2x\" width=\"30\"/>,\n",
       " <img alt=\"Edit this at Wikidata\" class=\"mw-file-element\" data-file-height=\"20\" data-file-width=\"20\" decoding=\"async\" height=\"10\" src=\"//upload.wikimedia.org/wikipedia/en/thumb/8/8a/OOjs_UI_icon_edit-ltr-progressive.svg/10px-OOjs_UI_icon_edit-ltr-progressive.svg.png\" srcset=\"//upload.wikimedia.org/wikipedia/en/thumb/8/8a/OOjs_UI_icon_edit-ltr-progressive.svg/15px-OOjs_UI_icon_edit-ltr-progressive.svg.png 1.5x, //upload.wikimedia.org/wikipedia/en/thumb/8/8a/OOjs_UI_icon_edit-ltr-progressive.svg/20px-OOjs_UI_icon_edit-ltr-progressive.svg.png 2x\" width=\"10\"/>]"
      ]
     },
     "execution_count": 31,
     "metadata": {},
     "output_type": "execute_result"
    }
   ],
   "source": [
    "soup_jss.select('.mw-file-element')"
   ]
  },
  {
   "cell_type": "code",
   "execution_count": 32,
   "id": "68173f97",
   "metadata": {},
   "outputs": [],
   "source": [
    "jss_01 = soup_jss.select('.mw-file-element')[0]"
   ]
  },
  {
   "cell_type": "code",
   "execution_count": 33,
   "id": "c2e7871e",
   "metadata": {},
   "outputs": [
    {
     "data": {
      "text/plain": [
       "bs4.element.Tag"
      ]
     },
     "execution_count": 33,
     "metadata": {},
     "output_type": "execute_result"
    }
   ],
   "source": [
    "type(jss_01)"
   ]
  },
  {
   "cell_type": "code",
   "execution_count": 34,
   "id": "2db06ec4",
   "metadata": {},
   "outputs": [
    {
     "data": {
      "text/plain": [
       "['mw-file-element']"
      ]
     },
     "execution_count": 34,
     "metadata": {},
     "output_type": "execute_result"
    }
   ],
   "source": [
    "jss_01['class']"
   ]
  },
  {
   "cell_type": "code",
   "execution_count": 35,
   "id": "d4ed8ba3",
   "metadata": {},
   "outputs": [
    {
     "data": {
      "text/plain": [
       "'//upload.wikimedia.org/wikipedia/commons/thumb/a/a5/John_Singer_Sargent_1903.jpg/220px-John_Singer_Sargent_1903.jpg'"
      ]
     },
     "execution_count": 35,
     "metadata": {},
     "output_type": "execute_result"
    }
   ],
   "source": [
    "jss_01['src']"
   ]
  },
  {
   "cell_type": "markdown",
   "id": "97433865",
   "metadata": {},
   "source": [
    "<img src= '//upload.wikimedia.org/wikipedia/commons/thumb/a/a5/John_Singer_Sargent_1903.jpg/220px-John_Singer_Sargent_1903.jpg'>"
   ]
  },
  {
   "cell_type": "code",
   "execution_count": 36,
   "id": "5b875a36",
   "metadata": {},
   "outputs": [
    {
     "data": {
      "text/plain": [
       "b'\\xff\\xd8\\xff\\xe2\\x02\\x1cICC_PROFILE\\x00\\x01\\x01\\x00\\x00\\x02\\x0clcms\\x02\\x10\\x00\\x00mntrRGB XYZ \\x07\\xdc\\x00\\x01\\x00\\x19\\x00\\x03\\x00)\\x009acspAPPL\\x00\\x00\\x00\\x00\\x00\\x00\\x00\\x00\\x00\\x00\\x00\\x00\\x00\\x00\\x00\\x00\\x00\\x00\\x00\\x00\\x00\\x00\\x00\\x00\\x00\\x00\\xf6\\xd6\\x00\\x01\\x00\\x00\\x00\\x00\\xd3-lcms\\x00\\x00\\x00\\x00\\x00\\x00\\x00\\x00\\x00\\x00\\x00\\x00\\x00\\x00\\x00\\x00\\x00\\x00\\x00\\x00\\x00\\x00\\x00\\x00\\x00\\x00\\x00\\x00\\x00\\x00\\x00\\x00\\x00\\x00\\x00\\x00\\x00\\x00\\x00\\x00\\x00\\x00\\x00\\x00\\x00\\x00\\x00\\ndesc\\x00\\x00\\x00\\xfc\\x00\\x00\\x00^cprt\\x00\\x00\\x01\\\\\\x00\\x00\\x00\\x0bwtpt\\x00\\x00\\x01h\\x00\\x00\\x00\\x14bkpt\\x00\\x00\\x01|\\x00\\x00\\x00\\x14rXYZ\\x00\\x00\\x01\\x90\\x00\\x00\\x00\\x14gXYZ\\x00\\x00\\x01\\xa4\\x00\\x00\\x00\\x14bXYZ\\x00\\x00\\x01\\xb8\\x00\\x00\\x00\\x14rTRC\\x00\\x00\\x01\\xcc\\x00\\x00\\x00@gTRC\\x00\\x00\\x01\\xcc\\x00\\x00\\x00@bTRC\\x00\\x00\\x01\\xcc\\x00\\x00\\x00@desc\\x00\\x00\\x00\\x00\\x00\\x00\\x00\\x03c2\\x00\\x00\\x00\\x00\\x00\\x00\\x00\\x00\\x00\\x00\\x00\\x00\\x00\\x00\\x00\\x00\\x00\\x00\\x00\\x00\\x00\\x00\\x00\\x00\\x00\\x00\\x00\\x00\\x00\\x00\\x00\\x00\\x00\\x00\\x00\\x00\\x00\\x00\\x00\\x00\\x00\\x00\\x00\\x00\\x00\\x00\\x00\\x00\\x00\\x00\\x00\\x00\\x00\\x00\\x00\\x00\\x00\\x00\\x00\\x00\\x00\\x00\\x00\\x00\\x00\\x00\\x00\\x00\\x00\\x00\\x00\\x00\\x00\\x00\\x00\\x00\\x00\\x00\\x00\\x00\\x00\\x00text\\x00\\x00\\x00\\x00FB\\x00\\x00XYZ \\x00\\x00\\x00\\x00\\x00\\x00\\xf6\\xd6\\x00\\x01\\x00\\x00\\x00\\x00\\xd3-XYZ \\x00\\x00\\x00\\x00\\x00\\x00\\x03\\x16\\x00\\x00\\x033\\x00\\x00\\x02\\xa4XYZ \\x00\\x00\\x00\\x00\\x00\\x00o\\xa2\\x00\\x008\\xf5\\x00\\x00\\x03\\x90XYZ \\x00\\x00\\x00\\x00\\x00\\x00b\\x99\\x00\\x00\\xb7\\x85\\x00\\x00\\x18\\xdaXYZ \\x00\\x00\\x00\\x00\\x00\\x00$\\xa0\\x00\\x00\\x0f\\x84\\x00\\x00\\xb6\\xcfcurv\\x00\\x00\\x00\\x00\\x00\\x00\\x00\\x1a\\x00\\x00\\x00\\xcb\\x01\\xc9\\x03c\\x05\\x92\\x08k\\x0b\\xf6\\x10?\\x15Q\\x1b4!\\xf1)\\x902\\x18;\\x92F\\x05Qw]\\xedkpz\\x05\\x89\\xb1\\x9a|\\xaci\\xbf}\\xd3\\xc3\\xe90\\xff\\xff\\xff\\xdb\\x00C\\x00\\x04\\x03\\x03\\x04\\x03\\x03\\x04\\x04\\x03\\x04\\x05\\x04\\x04\\x05\\x06\\n\\x07\\x06\\x06\\x06\\x06\\r\\t\\n\\x08\\n\\x0f\\r\\x10\\x10\\x0f\\r\\x0f\\x0e\\x11\\x13\\x18\\x14\\x11\\x12\\x17\\x12\\x0e\\x0f\\x15\\x1c\\x15\\x17\\x19\\x19\\x1b\\x1b\\x1b\\x10\\x14\\x1d\\x1f\\x1d\\x1a\\x1f\\x18\\x1a\\x1b\\x1a\\xff\\xc0\\x00\\x0b\\x08\\x01%\\x00\\xdc\\x01\\x01\"\\x00\\xff\\xc4\\x00\\x1d\\x00\\x00\\x00\\x07\\x01\\x01\\x01\\x00\\x00\\x00\\x00\\x00\\x00\\x00\\x00\\x00\\x00\\x01\\x02\\x03\\x04\\x05\\x06\\x07\\x00\\x08\\t\\xff\\xc4\\x00C\\x10\\x00\\x02\\x01\\x02\\x05\\x01\\x05\\x05\\x07\\x03\\x04\\x02\\x00\\x04\\x07\\x00\\x01\\x02\\x11\\x03!\\x00\\x04\\x05\\x121A\\x06\\x13\"Qa\\x072q\\x81\\x91\\x14B\\xa1\\xb1\\xc1\\xd1\\xf0#R\\xe1\\x08\\x15b\\xf13r\\x16$C\\x92%4DTs\\xb2\\xc2\\xff\\xda\\x00\\x08\\x01\\x01\\x00\\x00?\\x00\\xf2pc\\x066\\xb7\\x94\\xf0\\x06\\n\\xac\\x0f\\xa0\\xeb\\xeb\\x81\\x17\\x91\\xb8\\xfcH\\xe9\\xe81\\xde&$\\xde\\xfc\\xc7\\xf2p\\n\\xbb\\xa4\\x02\\x0f\\xa7\\x96\\x0b^\\x9b\\xc1\\x02\\xfbD\\xed\\x02/\\xe5\\x18d\\x90\\xcb-\\xcf68\\x01\\x05a\\xc1\\x89\\xb5\\xe7\\x02\\x16\\xe0\\x98 \\x9f>1\\xc6\\xcc\\x14\\xfb\\x82x\\x189\\n\\x18\\xdc\\x89\\xbcu\\x1e\\x98M\\x94\\xa9\\xb1\\x03\\xa5\\xaf\\x81pB\\xc0\\x1b\\xed\\xe58*\\xae\\xd6P\\ta\\xe5\"\\x7f\\x1c\\x1cX+.\\xe8\\xf2&\\'\\x04\\xdc\\x18\\x92\\xb1 \\xf9\\xe0MZN@D\\xe3\\xef\\x03c\\x80\\xde\\xaa\\xa2,L\\xdd\\x9aF\\x13\\xdcZ\\xe2\\x0f\\xa4\\x12\\x06\\x0e\\\\\\x10B\\xc3\\x05\\xf3\\x17\\x03\\x04. \\xf7d\\xad\\xb8\\x02F\\x0e\\x9e\\x1apG&\\xed\\xce\\x145\\x02\\xae\\xd4P\\xdb\\x8f^\\x98\\x14}\\xeb}\\xab\\x1ef\\xc3\\xe1\\xf1\\xc1\\x03\\xdc\\xc0\\xdaM\\xa4\\x89\\xc0\\x15\\x1e%\\x0b\\x00_\\x9c\\x05\\xb7yE\\xb7\\x1f\\xc0`\\xbb<\\xf7}1\\'\\x11\\xbew\\x00#\\xac\\x9c\\t\\x990I$pO\\xd3\\x02\\x01+$\\x07\\x04\\xde<\\xbf\\xef\\x02\\x15M66\\x92zH\\'\\xd7\\x05\\x98\\xb2\\xc4\\x82\\x0cL\\xe0L\\xcf\\x8b\\x829>~\\x83\\t\\x94\\xde\\x04\\xc8=-\\x18\\xea\\x99r<J\\xa5\\x8fP-\\xf3\\xc2\\x04n\\xa6\\x15\\xc1h\\xf7I\\x13\\x804\\x8a\\xa8+ \\xff\\x00\\'\\x05\\x05\\xc0\\x00\\x11\\xfd\\xc0z\\xfe\\xb8\\x00\\xb6!\\xd4\\x86\\x02L\\xdb\\x05\\xbcI[\\xcd\\xba\\xe06\\xc3\\xa9<z\\xfaz\\xe0{\\xb7\\xaa\\xc4{\\xc7\\x8b`\\x8e\\x85A\\x0c\\x08\\xb4_\\xa5\\xaf\\xc6\\x00Re\\nv\\xc9n\\x06\\x00\\x80O\\x07q\\x10\\x7f|\\t7&\\t\\'\\xd3\\xf98\\x17\\x07j(\\x1cI\\xc1\\xa6D\\x03h\\x02I\"\\x7fs\\x82\\xab\\x02\\xa0\\x10@\\xf3\\x8bF8\\x9d\\xd2H7\\xe45\\xa7\\xe5\\xce\\x00\\x19\"@\\x07\\x80y\\xc2\\xcc\\xdb\\xe09i\\x1eb``\\xa5I@\\x01`\\xa4\\xfd\\xec\\x1cS*\\xbbjX\\x83\\xcf\\'\\xeb\\x83w\\r\\xff\\x00\\x1f\\xae\\x1dA \\x88\\xda \\xc0\\x8b\\xff\\x00\\xde\\x14ZD\\x92B4\\x15\\xddq\\xd0t\\xc0=6W\\xf1{\\xd1\\x11\\xb8q\\x82\\xb3I\\xe8\\xc7\\x82#\\x9c\\x08\\r\\xc7\\x01\\xba\\x1f\\xa7=0f\\x0c\\x8c\\xc8\\xc1H\\xe4A\\x9f\\xc7\\x04\\x12\\xc4\\r\\xc1\\x087\\x9b\\x1c\\x15\\x95\\xe1K{\\xa6~\\xe8\\xf8\\xf3\\xf4\\xc1]\\x8a(\\x966\\x9ft\\x9f>0\\x99\\x05K(\\xdf\\xb8[h=F\\x04Sg~\\x0e\\xd3p\\xcd\\xd2G\\xe5\\x82\\x00\\xc0n*Y\\x0fY\\xeb\\xf1\\xc0+MF$\\x00\\xfdO\\x97\\xf9\\xc2\\xb4\\xf2\\xf5\\x1c\\x06\\xa9F\\xb0A\\xf7\\xbb\\xb3\\x00\\xff\\x00\\x0e\\x10\\x93\\xc0$7C\\xb6\\xf1\\x82\\x15\\xa8#\\xbcg]\\xc2\\xc1\\xa4H\\xc0\\xd3\\x1b\\t\\x80/y\\xe6p%71fc \\xf9s\\x84\\x8a\\x02T\\x1e\\x96\\x9e\\x0e\\x04\\x03\\x1b\\xae<\\xa3\\xae\\x0c\\x1c\\xec\\x02G\\xcc\\xf01\\xdbB\\xb1\\xdb\\xb2M\\xcd\\xb0\\x9d\\xc3\\r\\xc0\\xdc\\xd8\\x83\\'\\x05fe\\xb3\\x10b\\xc4M\\xf0\\xba\\xd3\\xdc\\xbe)\\x177\\xf3\\xc1\\xc2\\x8f\\x10df\\x9f\\x9caP6\\xf8[\\x88\\x8e\\x7f\\x97\\xc2\\x85\\xa9}\\xe0\\xe0\\xf9ae\\x85b%x\\x13#\\n0\\x7f\\n\\xb8\\x03u\\xc0\\x9c\"\\xeb\\xb5\\x98I\\x00\\xf5\\x90>?\\x1c\\x02\\x90\\x00+\\xd4M\\xafoS\\x83\\xef\\xf7H$\\x90$\\x18\\xb6\\x13n`\\x90\\xb1\\xc0\\x18QL\\x93\\xb0\\x1d\\xaa/{\\x0f\\x96\\x08A-\\x08I\\x04\\xd8\\x8b\\x8c\\x06\\xe2\\x08$\\x84\\x92DA1\\xfaG\\xed\\x8e\\x04)m\\xb4\\x80\\x8e$A\\x1dg\\xe1\\x87y\\r&\\xbey\\xca\\xe4\\xe8\\xbdU$\\x06q\\xe1I7\\xdb8\\xb0e\\xbb5\\x92\\xcb\\xd6\\xcb\\x8c\\xe3f5*\\xc7\\x9a\\t\\xbb\\xbb\\x11\\xff\\x00\\xad\\xdb\\xea\\x07\\xae&\\x8e\\x99O!DS\\xa3C/\\x97\\xaaP\\x17f^\\xf0\\xa2\\xc5\\x80\\x00X\\xcf\\xc0z\\x9eq\\x1d\\x9f :%\\x1c\\xad\\\\\\xd5V\\x00Uz\\xd5\\x96\\x95=\\xdc\\x95\\n\\x08;x\\xe4\\x9e8\\xc5~\\xbdL\\xa5\\x17\\xee\\xf3:E&a!\\x02\\xd7t+<\\x81r#\\xe18\\xac\\x8c\\xc6H2\\xb2\\xf7\\x99=\\xac@m\\xbb\\x94A\\xb1\\x851\\xf3\\xe3\\xf2\\xc2\\xb4u\\n;\\xa6\\xa5I\\xa6\\x1bk;+S\\r\\xff\\x00\\xb1\"\\x07\\xd7\\x0fke\\xbb\\xaf\\t^\\xee\\x04\\x85\\xdcD\\xaf\\x9c\\xf0G\\xa8\\xc3hdw\\x11\\x0e\\xad,LH\\xc1E\\xcd\\xe4\\xc1$u\\xff\\x00\\xac\\x13b\\xc1`\\xbbV E\\x818\\x06E\\x12\\\\\\x9b\\xd8\\x10\">1\\x82\\r\\xab\\x1e\\x19\\x06\\x01\\x83\\xcf\\xeb\\x80)\\xbb\\xdd\\xdco\\x02\\xdf\\xcb\\xe0\\xd4\\xd4\\x93 \\xb4s\\xc7L8F;\\xa5I\\x8f.c\\xd7\\n\\xabmR\\x15\\xf6\\x94\\x1d=|\\xbc\\xba\\xe1&\\xd9m\\xfe\"\\x07,o\\x89J\\xf4W\\xde>(\\xe6\\xf6\\xc2R\\x01(\\xbb\\t&\\xd3\\xcd\\xbe~\\xb8\\x04\\x91;\\xc2\\xb4\\x0b\\x90|Q\\xe7\\x80c\\xbaJ \\x04\\x99\\x00\\xf5\\xc0\\xbax@\\x1b\\x80\\xb5\\xb0@\\xa4\\\\B\\xb1\\xf2\\xb7\\xcf\\x06\\xdc\\xc6-\\xe2\\x03\\x80$\\x9f\\x86\\x14b\\x04D\\xaa\\xad\\x8a\\xa9\\xdaI\\xf3\\x8c%\\xb4\\xa7\\x04A\\x91>F:\\xe2\\xc1\\xa2vS5\\xab\\xbd:\\x95MJh\\xe7\\xc3\\xfd\\xce\"\\xe4y\\x00.I\\xc6\\x93\\xa5h\\xd4t\\x8d22T\\xc8|\\xc1e\\xa7(X\\x85\\x8f|\\x0e|]\\t\\x8b_\\x8c4\\xc9\\xb9\\xcb\\xd7\\x14\\x127V\\xaa\\x16\\xb3\\x88*\\xd7\\xf7~S1\\xe7\\xcd\\xf8\\xaf\\xf6\\xe3_\\xafKR\\xaf\\xa7i\\x1e\"\\x95\\nT\\xae\\xb5X\\x8d\\xe3\\x95\\x1b`\\x1fR[\\x9b_\\x15\\xbd\\'\\xb1\\x9d\\xa5\\xd6\\xe8\\xd3l\\x86\\x99J\\xba{\\xdd\\xe5L\\xa2\\xb13i\\xddby\\xf38\\xb0\\xd4\\xf63\\xda\\x8a\\xf9\"\\xd5t\\xde\\xf0(\\x12h\\x8d\\xa6\\xdc\\x10\\t\\xeb\\xf2\\xc5\\x17?\\xd8\\xfdcO\\xcd\\x1ay\\xdc\\x9ep\\xd5\\x07\\xc5\\xfd\\x16^\\xbd|\\xfe\\xb8\\n=\\x91\\xd5Q\\t\\xa1C2\\xa0\\x8b\\x02\\x86\\x07\\xc7\\xcf\\xe9\\x85\\x9fD\\xed6G-\\xde\\xe62\\x15\\xf3\\x19*w#\\xb9\\xde\\x88|\\xe0\\x8f\\xcb\\r\\xeb\\xd1\\x07aUjt\\x9aaO\\xe5\\xfc\\xbe\\x1b\\x9a \\x02@h\\x9b^\\'\\xfca8\\xf1\\x92T\\x02\\xa7\\xa78\\x13\\xdex\\xca\\x9d\\xa4\\xa9\\x90L[\\xcb\\x00d\\xb4\\xb1Y\\x06\\xc4\\x113\\xe5\\xf1\\xc00RX\\x8b\\x9e\\x80\\xc8\\xf9\\xe0\\xbd\\xdf\\xf5z\\x0bX\\xf5#\\x06D\\x04x@$M\\xa6/\\xe7\\x87%M0\\xc4\\x13\\xc4\\x93\\xd3\\r\\xabTU\\xa8\\xc1\\x80R9\\x17\\xfd\\xf1-TZbRn0@\\xc5D\\x02\\x0f\\xfcXx\\xb8\\xc2K\\xe2`U\\xcc\\x808\\xbf=0ufE\\x89p\\x18\\x82a|\\xbe8\\xe1P6\\xe9\\x07\\x8e\\x98\\xe0U\\x89\\x13*,<\\xbe8\\x1a\\x8d\\x10\\t\\x00\\x0e\\xb3\\xc7\\xc8\\xe1F\\xa6\\xdbN\\xc4\\x02H\\x83\\x7f\\xe7\\\\[\\xbb\\x1d\\xd8\\xea\\xba\\xbd/\\xf7\\x0c\\xf53\\xf6dy\\xa7\\x02\\x03\\x05\\xe4\\x9e\\x9c\\x9ci9\\xcc\\xad\\x1d\\x0e\\x9b\\xbed\\x8a\\x1d\\xe8Z6hm\\x86\\xec\"&X\\xdb\\xe0=p\\xce\\x9e\\xa7\\x97\\xd4\\xfe\\xd7\\x9b\\xcd\\x9aY\\\\\\xae]\\nV \\x1d\\xcef\\xca\\x04\\xf8\\xd8\\xf4Q\\xe5-a\\x84t>\\xc8\\xea\\xbd\\xac\\xd5\\x13+\\xa2\\xe4\\xcd\\x10r\\xf5\\n\\xf7d\\x92\\x84\\xf9\\x93\\xc0\\xfe\\xe7\\xe2l&#\\x1a\\x87\\xb3?biZ\\xb3\\x9e\\xd1d\\x9a\\x9ek\"\\xc6\\x95`\\xca\\x18T`\\xde\\xf2\\xf9\\x82#\\xeaq\\xbc\\xe5;#\\xa6i\\xb4\\xd7nZ\\x95\\x1d\\xa2\\x08\\x02\\xca:@\\xfd\\xb0\\xa5l\\x86\\\\\\xa9#o\\x86g\\xc2?(\\xc4^c\\xb3Zf\\xf6\\xa9S/L\\x1ef\\x05\\xc6\\x18\\xe64\\x0c\\x836\\xe5\\xa1MLF\\xe5Q?\\x86\"u\\r\\x1bOJ%\\x16\\x8aS\\x01J\\x10b\\x08\\x1c\\xfcq\\x82\\xfbN\\xf6w\\x92\\xad\\x93\\xccg\\xf4\\\\\\xb2.g.\\x0bW\\xa0\\x92;\\xda`]\\x90q\\xbdy\\xf5\\x13\\x8f;\\xd4\\xa7p\\xb5X\\x128\\x8b\\x18\\xf3\\x9c7(6\\x9b\\xa8\\xf1\\\\O\\x1f<\\x13h\\xb8#wX\\xdf\\x82)\\x0e\\xe1Z\\xe4\\xf4<`\\xca\\xa41\\xeb\\xccOK`\\xec\\xbdX\\x05\\x11\\x12?N\\x98\\xe8\\x97\\x10,\\xde\\xe9\\x9d\\xb1\\xf3\\x16\\xc0w\\x9b\\x9c\\xc1,\\xa1y\\x07\\x9f\\x94\\xff\\x00#\\x03+\\xfc\\x8cI\\x16y\\x17\\x81\\xc0\\xf5\\x1f\\x0f\\x96\\x13ue\\xe6\\t<\\x08\\xb8\\xf9\\xe0*\\x10*0C\\x04t+\\xc6\\x00\\x97\\xda`\\xdc\\xf3nN\\x13\\x08\\x05\\xd8\\xb4\\x01\\xe5\\x07\\xe1n\\x9c\\xe1M\\x80\\xaf \\x01\\xeb\\x1f\\x1c\\x1e\\x00eRf\\xfc\\xf9|\\xf0\\xf7I\\xd3[U\\xd64\\xfd>\\x95]\\xad\\x9a\\xac\\xb4\\xd9\\xe0\\xf8T\\xf2c\\xd0cr\\xed\\x15J=\\x9a\\xd3rYl\\x953Mj\\xd4jtip\\x11\\x14\\x00\\\\\\xfa\\x92W\\xf1\\xc5[\\'Y\\xb5\\x9dn\\x8a\\xd4\\x0ee\\xf6S.\\x86\\xd6\\xbb\\xb0\\x89\\x93\\xcc|:N=M\\xec\\xab\\xd9_g\\xf3\\xbd\\x9b\\xef\\xb5\\xbc\\x85,\\xebw\\xbb\\x95*(\\x82\\xa0\\xc8\\'\\xcey\\x8f\\\\k\\x1a\\x17f\\xb4\\x8e\\xcde\\xeaS\\xd14\\xfa\\x19A]\\xcdJ\\xd5\\x15Iz\\xad\\xeaO\\xc6\\xc3\\x81\\xd3\\x0e\\xda\\x9d:&QG\\xf7\\x00\\x16.z\\xff\\x00\\x9cG\\xe6\\xdeI\\x10C^\\xfeX\\x82\\xaa\\xe5k\\x1d\\xae\\xa0\\xc9\\xf0\\x91\\xbb\\xf2\\xc2/\\x99\\xf0\\xc4\\xaam\\x1cn\\x93\\xcf\\xe7\\x88\\xfc\\xc3\\x9ab7\\x00XXn\\x83\\xf4\\xc5oVg\\x01\\x99*\\\\\\x89,\\xcd\\x02<\\xf1B\\xd4\\xd9\\xe9\\xb9e\\xbb)\\xb7\\x87\\x9e\\x911\\xe5\\x03\\x1eg\\xed\\xee\\x84tM~\\xa9\\xa0\\xaa2\\x19\\x8f\\x1d\\x13\\x16\\x03\\xc8\\xf4\\xb5\\xc7\\xcb\\x15:\\x8a\\x0f\\x88\\xed\\xdba|%\"Lx\\x84q\\xd0`\\xaeA\\xda\\x08\\x95\\xea\\x05\\xb1\\xcb\\x10F\\xd2\\r\\xa3\\xa8\\x180\\x01\\x93\\x8d\\xc0\\xf9~X\\x07T\\xdb3\\x05D\\x89\\xf5\\xfc\\xf0U\\nA$\\xf4\\x90x\\xc1\\t\\xbf\\xbd\\xc7\\x918\\x95\\xa9\\x04\\x02\\xdc0\\xbd\\xe3\\twr\\xe0\\x95\\xb8\\xbd\\xda\\xdfO\\xe7\\x18\\x16;H\\xd87y\\xfc}pu\\x01\\xa2\\x00\\x82\\x07\\x86?A\\x81\\xda\\xa8w\\x18\\x88\\xb9\\x00c\\x97i\\xf0\\xa4\\x147\\x13\\x7f\\xa6\\x0c\\xc9\\xb8\\x18\\xe88\\x91\\xe7\\xd3\\x17\\x0ff9zu;N\\x95\\xeb*\\xff\\x00F\\x8b\\x1alo\\xb6\\xd7\\'\\xa7\\x00\\xe2\\xe7\\xadf\\x1f[\\xcfW\\xcc\\xbdM\\xf9j5X(J\\x91\\x1b\\x84\\xf8O\\x9c\\x91\\xeb\\x89>\\xcf\\xb6^\\x9e\\xa3K)\\xb8U\\xa8\\xcc\\x1b1V\\x92\\xc3\\xd4m\\xbcI\\xbc\\x1f\\xdf\\xcf\\x1e\\xbe\\xec6\\xa3Lh\\xb9z%\\xd5]\\x08\\x04\\x029\"OH\\x9fO,[\\xe9\\x9b\\xa4\\xac\\xaf\\x00O?\\x1cuPG$/\\xaf\\x11\\x18\\x8f\\xac\\x11\\x98n]\\xa3\\xd6#\\x0c35AU\\x04\\x80\\xa1`G\\x86\\xdf\\x0f\\xe4\\x9c@\\xe7\\xb3\\x94Q\\x8a(V\\xf1\\x12dL\\x9f\\xa78f+\\x82\\x90\\xbb9\\x93\\xe1^<\\xf8\\x98\\xb6\"\\xb5\"\\xb5\\x12I\\x1bT\\x11\\x04\\xff\\x00\\x0e3\\xfdW.\\xbe6\\xdc\\xac\\xbdg\\x91\\xf0>_\\xbe1\\xefhzo\\xda\\xb2%7\\x8a[T\\xec \\x01\\xe2\\x17\\xe7\\xd6?\\x1cb.I$\\xa0\\xef\\x03p\\xf3\\xf3\\x920\\x8c\\x1d\\xa0\\x00\\x8az\\x9eg\\x06ay\\x16*9\\x9c&\\xceV\\x1402\\'\\xe3\\xe9\\x80D\\xe5LG\\x91\\xbf\\xd3\\x00\\xe4\\x91\"~V\\x180~$\\x1f b\\x7f\\x83\\x00\\xc9R}\\xc3\\xff\\x00\\xdc1\\'\\xb4\\xa8;`\\xac\\xcd\\x8e\\x10\\xd8A\\x10@_\\x8d\\xfe\\xb8R\\x19\\xa44\\xc7\\x00\\xc7>\\x93\\x8eU\\xd8\\x12H\\x04\\xdc\\x19\\x91\\x81j\\xb2\\xcc\\x06\\xf28 ^N:\\x03-\\xde\\x0f7[\\x8fOL(\\xb4\\xcdc*A u\\x03\\x8c[;+P\\xe9\\xfa?h3R\\xab\\x984ie\\xd0\\x8ef\\xa3E\\x87\\x98\\xf4\\xc4\\xa6\\x99\\x98\\xcc\\xbewO\\xd3\\xa8\\x96\\xabR\\xb5@\\x1d\\x94\\x1d\\xb4\\xc1\\x80X\\x01\\xd4CK\\x1f3\\x8b\\x8fb\\xf4\\xb5\\xcafW9V\\xa5L\\xda .\\x08Xz\\xa2\\xf1=\\x00\\x85\\xb0?\\x13\\x03\\x1e\\x82\\xf6a\\xabV\\xd4\\xc5F\\x14\\xc1Ep\\x8fQ\\x1aP1\\xf7\\xe2y\\x02B\\x83\\xe9\\xeb\\x8d\\x84UZ\\nL\\x9e\\xec\\x98\\x98\\xfaO\\xf0\\xe2\\x17Y\\xed\\xb6\\x97\\xa3.\\xddC5O.L\\x15\\xef\\x03\\\\\\x11\\xe9\\xc9\\xc5\\x13?\\xed\\x9b\\xb3\\xa9W0\\xaf\\x9e#\\xbb\\x1b\\x88\\x14\\x89R:\\xf8\\x85\\xa7\\r\\xe9{E\\xd2\\xb5\\xbc\\xa9\\xad\\xa7giT\\x97\\x83\\xba\\xa0V\\x07\\xfbv\\x983\\xf2\\xc46k\\xb4\\x15\\x1d\\x8b\\x92YX\\xc8\\xf5\\x13\\xc7\\xe9\\x81\\xcav\\x86\\xa5Z)\\xde8\\xfe\\xa8\\r\\xf0\\x12y\\xc3L\\xf7h\\x12\\xa5qE*.\\xfb\\x86\\x1b\\xc5\\x87\\x9f\\xe1\\x8a^\\xb5\\xda\\xba\\x19V\\xa8\\xb9\\x9a\\xa0\\xbe\\xd2N\\xc1\\xbc\\x0b\\xf0H\\xe81A\\xed\\xa6\\xa1K?\\xa1j\\x19\\x9d2\\xbaUl\\xb2\\x8a\\xb2\\x1a@\\x86\\x06\\xfeV\\x9ca\\xf5\\ti\\xa8\\'c_\\xcb\\x93\\xe5\\xd3\\x04F(`3\\x01\\xcc\\xc4\\xe3\\x802I\\xb8\\x83$O\\xe3\\x80\\xff\\x00\\xc6\\xb2\\x08\\x02d\\x93i\\xfdp\\x1b\\xcb\\x03\\x0b3\\xf5\\x18\\xe0\\xd7\\x88\\xbc\\xf0F\\n\\xb2\\x8c (\\xe9\\xc7\\x1f<\\x1c\\x18\\xb1Pc\\x89\\x03\\x12\\x86\\xb3\\x00\\xc6B\\xb1\\x06O\\x9f\\xfd\\xe1\\x10\\x19U\\x94n\\xb0\\x81\\x1d\\'\\xf5\\x9c\\x00\\x05\\x81\\x87`O@\\xa6>8+H\\x91\\xb9\\x98\\x10\\x04\\xc0\\xb7\\x9d\\xbe\\xb8:\\x88\\x10\\xaf\\xb7\\xc8\\x1ep \\x80}\\xc6\\x01\\x85\\x94I\\xff\\x006\\x8c*\\x892P4u\\x00s\\xfeqi\\xec\\x8eQ\\xeb\\xadG\\xa9QW*\\x95\\x14\\xd5\\xdd>\"gm\\xfe1lL\\xd4\\xd27g\\xb39\\x9a\\xc6\\xadJ\\x95\\xaa\\xf7j\\xb4\\xd8\\xa9\\xa8@\\x1b\\xa3l\\x08\\x07\\xcf\\xc8y\\xe3A\\xd1\\xb4\\rO5\\x9a\\xcc\\xe9\\xb9P7V\\x10N\\xe0\\x08;\\xa9\\xac\\x1b\\xd8\\x85\\xbf\\x18\\xf5\\x96\\x87\\xa0e\\xbb)\\xa5Q\\xd3\\xf2c\\xc1E@fb$\\xb1\\xb9>d\\xcc\\x9b\\xe0\\x9a\\xa6\\xaf\\xf6,\\xab\\xb28j\\xff\\x00s\\xcbq\\xf3\\xc69\\xab\\xfb8N\\xd2\\x9a\\x95\\xf5\\xaa\\xf5\\t\\xde\\\\\\x9e\\xf0\\xab1?\\xf2^\\x82O8\\xcd\\xbbG\\xec\\x87N\\xd3\\x14\\xd2\\xca\\xf6\\x89\\xf2$\\r\\xcb\\x96\\xaa\\xfd\\xeb\\x13\\x7f\\x11N~p1\\x9b\\xe7\\xf4\\x0c\\xdeC:\\x84\\xeats\\x82\\x9a\\x80^\\x9a\\xb2\\x9d\\xb3i\\x04\\x03\\xcf^\\x98\\xbfh\\x1a\\xbez\\xad\\nYjn\\xf9\\x97\\x00\\x83#\\x81<N.z\\xc6c1\\xa6h\\xaf\\x9a\\xccS\\xa8\\x16\\x92\\x06 G\\x88\\x0e/\\xd0L|\\xa7\\x18f\\xad\\xda\\xcdC7U\\xe9\\xe4\\xeb\\xb1\\xa8d)0YA\\x9f\\x80\\x1c\\xf5\\xc3\\x1a\\xba?h*\\xe4\\xcf\\xfb\\x8e\\xa0(\\xd2\\xab\\x13\\xbeE\\xc4mbv\\xed\\x91\\x1eg\\x11\\xb5\\xb4L\\xfe\\x9dX\\x04\\xcc\\xa5Zu\\xa8\\xd4\\x00\\xa0\\x040*d1\\xeb0o\\xf4\\xc5Cn\\xd0\\xbc\\xb8 I`>\\xbc\\xe0\\x17\\xc3%\\x80\\xdcM\\xf0;\\x82\\xed10m1|\\x00\\xa8\\xa5\\x83-\\xa3\\x81\\xcc`*\\x95{\\xd2\\xe7\\xaf\\x86\\xff\\x00\\\\\\x04\\x00\\xa0\\x00\\'\\xca`\\xfa\\xe0\\xcc\\xc2\\x00\\x94\\xf2 \\x8f\\xc6pBb<;\\xad\\xce\\xc9\\xc4\\x82n(JLX\\xf3\\xd3\\n(;$\\xac\\x08\\xb1\\ng\\xf98)\\xde\\xe6\\t\\x04\\x9b\\x95\\x1dO\\xc4`\\xbc\\x18+\\n8,E\\x8e\\x06C8ow\\xce\\x07\\xe9\\x8e\\xa7Kq\\x85X\\nfwE\\xf0\\xe9Qb\\x14\\r\\xe0\\xdf\\x9b}qk\\xece#Z\\xb6~\\x9b\\x06\\x14\\x82SwI\\x80\\xd0\\xc2O\\xcb\\x17\\xae\\xcd\\xb5=H\\x9c\\xbd\\x1c\\xb4\\xd4|\\xc6\\xf6h>\\x14<(\\xfc\\x00\\xf8\\x1cm>\\xca\\xfb+F\\x8fh\\xa8\\xd5\\xaf\\x955\\xaaRj\\x95\\x8b4\\x99k\\x11s\\xfd\\xaao\\xff\\x00\\xbf\\x9e7l\\xda\\xab\\xbbnE\\x11#\\xc4\\xc4\\x7f\\xd8\\x9cP\\xf5\\x83\\x98z\\xa7m-\\xca/\\xee\\x82\\x05\\xed\\xf8~\\xb8\\xcf\\xb5\\x1e\\xd2j\\xf9\\xfdV\\xbeOJ\\xd3s\\xd9\\xbc\\x86MwTl\\x9d2*f\\x18r\\x89P\\x80\\xb4\\xd0}\\xea\\x97k\\xedR.qG\\xed\\xbfh\\xbbO\\xa0\\xe9\\x94\\xd7E:~\\x8e3\\x8a\\xcd\\xb3)Qh\\xaa6\\xef\\x12\\xd4\\xac\\xf2\\xd5\\x1c\\x083+7\\xb1\\xc6]\\xacW\\xd6s\\xf42\\xcdZ\\xa5}f\\xb5wb\\x8dN\\x96\\xd6[\\xc0\\xa9<\\x00z\\x13\\x13\\x8d\\x87\\xd8\\xf7b\\xf3\\x19\\\\\\xaaf5PZ\\xbdJ\\x85\\xc0I\\xdb\\xb6\\xd0=L\\xcc\\xf4\\xf8\\xe3g\\xed/d)k\\xbd\\x99\\xccdk\\xaa\\xa8\\xcdQjL\\xd1pH\\xb3\\x00:\\xac\\xce<\\x83\\xd8\\xae\\xc0v\\x97N\\xd7\\xf3y\\x169\\x0c\\xa6\\xa5\\x96\\xa8\\xd4\\xdf=\\x99\\x8a\\x9b\\xd8\\x1ei\\xa1\\x04\\r\\xc3\\xa9\\x9ex\\xb6\\x15\\xce\\xea]\\xa5\\xd4\\xf5\\xcc\\xdd\\x1c\\xde\\xad\\x99\\xc8\\xd1\\xc9\\xd2P\\xd9w\\xcd\\xb5g\\xb7\\xfeR\\xea@\\x08,x\\x10m\\x1c\\xe2\\xbd\\xa4fjg\\xf5\\n.\\xea\\x05\\x17em\\xaa\\xb6\\x07\\x83\\x1d \\x80\\x08\\xb7$\\xe2\\x89\\x9c\\xa0\\xf9\\\\\\xdeg.\\xec\\xc0\\xd1\\xac\\xe8\\xbe\\x973\\xf0\\xb4a\\xb1EY\\x04\\x81\\x1f\\x0f\\xe1\\xc7\\x19\\xbe\\xd1\\x1dI\\xb7\\x18\\xe2v\\x8f\\x14\\xb1\\xdb\\xc1\\x9c\\x00\\x1e+\\x80ngh6\\xc71\\x0cK\\x1d\\xa9+\\x17\\x04H\\xc7A\\xda\\xa7\\xc2\\x006`m\\x1f\\xb69\\x8bO\\xf4\\xc0\\x0b\\xe8\\xd0?\\x1c?\\xa6\\x9bv\\x96\\xebc0G\\xa6\\x0c\\xd5D \\x1b\\x97\\xaf3~\\xbf\\x968\\xa6\\xe9\"C\\x12`\\x1f\\xd3\\x05kr,.I\\xb6\\x14\\xdam\\x03q\\x1eX\\x1at\\xd9\\xb9_\\x94\\xf3\\xe5\\x18Z\\xa2\\x9a4\\x9e\\xab2\\xb2\\xa8\\xdcAx-\\x8fOh\\xb4\\xfd\\x92\\xfb\\x16\\xcbi\\xba\\x1fnt\\xb7\\xed_l\\xf5L\\xa53\\xabw*\\xf9\\x93\\x97\\xefT0\\xa2\\x94\\x95\\x80E\\x00\\x81\\xba\\x0b1\\x93\\xe5\\x8d3\\xb2\\xbd\\x85\\xf6g\\xaa\\xb5MW\\xb0\\xa2\\xbe\\x99R\\xe8\\x13\\xed5\\x1a\\x9a4F\\xd6\\xa7R\\xeb\\xc8\\xb5\\xb1;\\xd9]>\\xb6\\x91\\x9c\\xcdf\\xb3\\x14\\xca\\xe6sU\\xddj.\\xdf\\n\\xd3S`\\xa4t\\x17>\\xbb\\x97\\xcb\\x13\\xd5\\xb3\\xe40S\\x16\\x82\\x06\\xe9\\x8b\\xc7N<\\xf1+\\x96\\xc9\\x1dR\\x8a\\xa3\\x01\\xb4\\x93\\xbbrH\\x00\\xf2\"0\\xcfZ\\xcaS\\xc9\\xe4*ehQ\"\\x80\\x1b\\x8e\\xce~==E\\xbac\\x16\\xedm<\\xe3S\\xa9J\\x9d*Y\\x9aD\\xcb-D\\xa7Sm\\xc7\\x98\\x16\\xe3\\xcc\\xe2\\x0b\\xb1\\xbd\\x83\\xcc\\xf6\\x87U\\xa5[P\\x96\\xca\\xd3m\\xdb\\x14\\x00\\x8b\\xd7\\x85\\x00cp\\xc8\\xe8T\\xb2d\\x9aH\\x02-\\x80\\x17\\x82\\x00\\xe9\\xc6-9\\x9c\\x8b\\x1d8\\xd4y\"\\t\\xe4\\x81\\x18\\xf3\\'\\xb4\\xfd-\\xf2}\\xa7\\x19\\xbc\\xab5\\x1e\\xfdN\\xfd\\xb2C0\\xeb\\x1dO\\xd3\\x14l\\xc5:\\xb9\\x94jU7\\xe6\\x18\\x80\\xa4\\x90\\x1a~6\\xbd\\xfc\\xfc\\xb9\\xc3j=\\x9el\\xb5&\\xccW\\x10\\xe4\\x12\\x06\\xc8$\\x9cc}\\xa4%\\xf5\\xdc\\xfb\\x89\\x08_\\x98\\xf4\\xfd\\xc6\"\\x0co\\x87\\xe6<\\xa3\\xe7\\x80*&m\\xeb\\xfc<\\xe0\\x08\\x81\\xbbqX\\xe9\\xfb\\x0c\\x00bH\\xf2\\xe9\\xb8\\xfe8\\xe3\\xe2\\x1e\\xe0\\xe8v\\xab\\x0f\\x9e\\x07b=S\\xd6\\xdc\\x81n9\\xbe\\r\\xbc(\\x1e\\x1af\\xdfx\\xa8\\xc3\\xbb\\x85\"\\xe0\\x13i\\xc0\\x80Yv\\x83\\xc5\\xee?\\x0f\\\\\\x18>\\xe9\\xdd\\xb5A\\x1dx\\xc1\"l74\\xcf\\x07\\xf2\\xc3\\x94B\\x8a\\x05\\x8d\\xe6\\x0e\\x0fg\\xb2\\x86\\nd\\x83\\xd7\\x05*M*\\x88\\x00F\\xa8\\x84\\x02d\\xf4\\xb5\\xbe\\x98\\xf6\\x07f\\xf4-\\x1f\\xb4\\xde\\xd1r=\\xb44\\xe9\\xd6m[I\\xc9\\xe6\\xc30\\x11)LS`=A\\x18\\x95\\xf6\\x97\\xdb\\xee\\xca\\xf6\\x1a\\x9b\\xd5\\xd2\\xe8f\\x1bT\\xaf\\x99N\\xf1\\xa9,\\xcaH\\x05\\x8d\\xaf\\x02O\\x9d\\x864\\\\\\xca\\xe6\\xf2M\\x95\\xfbUD\\xa9\\x99\\x19z\\x15j\\x14\\x04\\xaa\\x07R!\\xa2\\xd7\\xff\\x00\\xfc\\xfac\\xaa\\xd1\\xdc\\x8a\\xea\\xfb\\x83\\x00mo\\xe1\\xbf8{\\xa7\\xea\\r\\x95\\xda\\x14\\x80\\x07\\x90&\\xd6\\xb0\\x8c;\\xcdg\\xe9f\\xe8\\xedm\\xae\\xc6\\xe0E\\x87\\xe3\\x8a\\xbd]\\x13+\\x9d\\xab5i\\x02\\x9dAQp`\\xf9b~\\x87\\xd8\\xf4L\\xa3\\xb0E\\xa6\\xbbwxDH\\x8f\\x87O\\xd7\\n\\xe5\\xaa\\x83\\x97\\xfb^a\\xc2S#p3h\\xb7N\\x91\\x89*\\xbd\\xac\\xd2SN+Z\\xb3)E O\\xe7\\x8f1{W\\xed\\x8eJ\\xb6`-\\x17\\xefY\\xaa\\xf8\\x00\\xb4m\\xeaq\\x03\\xa6g)U\\xd8\\xc3k)\\xbd\\xcc\\xee\\xf9\\x19\\xfe~\\n\\xeb\\xb9\\xc5|\\xb3\\x05\\xdfM\\x95L\\x08\\xb1\\xf5#\\x1ep\\xd5]\\xaajy\\xce\\xf3\\xc2\\xbd\\xf3\\x82>~X\\x8e1r\\xc2H6\\x93\\x13\\xe5\\x85\\x15\\xcc\\x1d\\xd0X\\x8b\\x99\\xe0~\\x98!M\\xf0n\\xa5L\\x8b\\x83\\xff\\x00x#\\xa1Sp|\\xbc\\xb1\\xcc\\xa5\\x9c\\x97\\xf1n\\x8b\\xc4\\x9f\\xa68\\x85b\\xc3p*9\\x1f\\xa8\\xc01@Hv\\xb8\\xe0\\xa9\\xb1\\xf5\\xc4\\xb0,\\xcaI\\xba%\\x80\\x81c\\xe9\\xe9\\x804\\xc4\\x9e\\xe8\\x12O\\x89\\x96\\xe2>X-\\x893;M\\xa4\\x10x\\xe6\\xe3\\xe3\\x833\\x82\\xb2\\x84Dy\\xf1<\\xf4\\xc7%An \\xdczz\\xc6\\x17I&E\\xd4\\xf5\\xe0\\xfc}p]\\x80\\xcb(\"\\xf6\\x1e\\x7f\\x0cz[\\xfd8\\xf6\\x97\\xed\\xba+\\xe99\\x87=\\xff\\x00g\\xf3c1F\\xe2~\\xc5X\\x9d\\xfe\\xbe\\n\\x82m\\xd1\\xb1\\xa3Q\\xf6uK\\xb4]\\xbeo\\xf7C\\xbe\\x8d*U+Q\\x00\\x08i\\xf7Xy\\xd9\\xa7\\x17\\xbdO5V\\xa6\\xa7\\x93\\xc9T\\xa1\\xb05\\x10k\\x96\\x07kwr\\xb4\\xe3\\xce\\xd1oL:\\xa9\\x9b\\xee\\xe9\\x94}\\xae\\x19v\\xab-8\\xe0\\xce\\xdb~\\x9d\\x0e\\x19Tr\\xe4\\xaa\\xb4\\x13e;n#\\xfe\\xc7\\xc7\\x02\\xbbV!\\xa4\\x10%w\\x0f\\x17\\x90\\xf5\\xb6\\x13l\\xe8\\xa0\\xc5\\x94\\x90W\\xee\\xda\\xdd-\\xd7\\xf7\\xf2\\xc5g[\\xd5\\xeb\\xea\\xd5_-\\x96Z\\x8bJ\\xfe\\xf2\\xc0i\\xf3\\xfeyb\\x95\\xede;{[\\xb3\\xcb\\xa2h\\xa2\\x96A\\xeb\\x18l\\xe5,\\xda\\x03J\\x98\\x17%\\t\\xddi\\xe8\\t1o,b\\xba\\xce\\x8d\\xda\\x1fg]\\x9d\\xa6\\x17\\xb5y\\xcdU\\xf3\\x8a\\xa1\\xbb\\xfc\\xd3\\xbd\\x85\\xf7\\x05i\\xd8\\x0c\\x9bO\\x1c\\xccc;\\xa1\\x9e\\xd55\\x1d^\\xa0\\xcd\\x9c\\xe2S+\\xb3.*S\\xf0\\x92E\\xdag\\x92x\\xe0cO\\xec\\xdeu\\xfb\\xb4\\xa6\\xecK(\\x00\\xa8\\x17\\x1es\\xfbbk[\\xa8\\x1f.\\xc6\\x930#\\x9b\\xc4y[\\xcf\\x9ca\\x1a\\xaa\\xb0\\xcef\\x96\\xa9\\xdc\\xfd\\xeb\\x8b\\xf43\\xcd\\xb1\\x1c\\xd7> \\xc7\\xa91o\\x96\\x0b\\xe5\\x1e\\x15\\xf2\\x07\\x0b\\x15%D\\xb9\\x92m<\\x9e\\x96\\xc1V\\xc4\\x96\\x04\\xc0\\xb9\\x18\\r\\xa4\\xa8a\\x00LX\\xcc\\x1c\\x17l\\x88\\x04\\x05\\x9f\\x97\\xe1\\x83\\xc8\\x16bV\\t\\x80\\xa0[\\xea\\x0e%\\x02\\x18\\x82\\xa2\\xd7\\xb9\\nA\\xf9\\xe3\\x8e\\xd5F\\xd9\\xef\\x89\\xc25\\x00\\x89;T\\x10\\x08\\xe9h\\xb5\\xf0E\\xdc\\\\m\\xdf1 \\x83sk\\xe1QD\\xb0R\\xa4\\x03\\x04\\xd9\\xa2\\x7f\\x9c\\xe1ZQ\\xb4N\\xe5b`@\\xbe\\x14\\x1bI\\x040(m\\xe2\\x1dqi\\xf6y\\xdbC\\xec\\xf7\\xb6\\x1av\\xb2\\xab\\xbf%M\\xcd-B\\x8b\\x19\\x15r\\xaf\\xe1\\xa8\\x08\\xf3\\x03\\xc4=W\\x1fA4=/3\\x94U\\xa9\\x93\\xcc\\xe5\\xb5,\\xa2\\xa0\\xad\\xa7Te\\x87\\xd8\\xc2T+\\x83u \\xf5\\xc4\\x0fh\\xd2\\xb8\\xd7\\xb2\\xd5s\\x9b)\\xbf\\xd8BT\\x000\\x01\\xcb3x<\\xc4\\x02&\\x7flD\\xbeo7J\\xb9\\\\\\xbd\\x16($I\\xaa&H\\x91\\xd29\\xb4\\x9f_<IdJ\\xb9bf\\xa0\\xddv\\xdaE\\xaf\\xc5\\xef\\xd7\\xae\\x1d\\xee\\xfe\\x99 \\x82\\x18\\\\\\x83\"O\\x9fLBf\\xa6\\xa1\\xda\\xed\\xb4rO6\\x8f\\xe7_\\xcb\\x11\\x9a\\x96\\xb7\\x91\\xec\\x86\\\\\\xe6\\xe2\\x9dL\\xd9\\xa6M*j\\xf2\\xcb\\xcf\\x88\\x0e\\t\\x98\\xc6)\\xda\\xee\\xd33\\xeau3\\x8d\\x9e&\\x96a\\xdd\\x8eh{\\xf9p\\xa7b\\xa2\\xc7\\xfc\\xe2\\x18\\x01i\\xb5\\x895mG[mW/\\x9b\\xa5\\xa9\\xba\\xa5<\\xbeS\\xbf\\xa5Q|\\xf7+%0\\xa2\\xde\\x10\\xac\\x0c\\xcd\\x99\\xa2\\xd15\\xac\\xbeo!\\x9b\\xa7Q24\\x0b\\xf7\\xd3Mh\\x1a\\xc4\\xa51\\xb6\\x19\\x86\\xe0`(e#\\x88\\x91\\xd2F\\x14\\xec\\xee\\xa7N\\xb9J\\xe8\\x02#\\xaa3\\x8e\\xe9\\x82\\xd8A31&\\xc6\\xd2.x#\\x13\\x9a\\xae\\xa5N\\xbd\\x02\\x80\\x92\\xdf{\\xc3pLX\\xf4\\xe0\\xf9\\xfcq\\x90\\xe6\\x1c\\xbdz\\xacae\\xc9\\x1292p\\x83\\xacH\\x03h\\xea#\\x8c$@\\x028#\\xf3\\xc0m\\xdc,N\\xe0x\\xb5\\xfd02g\\xc2\\xb2G\\x11\\xd3\\xf7\\xc0\\x89\\x89\\x04\\xa5\\xaeo{\\xe0Z\\xa1\\x99r\\xaf\"\\xd3\\xfe04\\xc0t\\x04\\xf2,y\\xc4\\x9e\\xc8 \\x98k\\x10\\x0c\\x1b~\\xd8-\\xc9]\\x82>$N\\x13-\\xb8\\x8eL\\x88\\xbd\\xf1\\xd4\\xe9\\xee\\x16\\x1bB\\x91-\\x12>\\x98^>\\xe9\\x10\"\\x18O\\x96\\x04\\x95UR\\x04\\x93 A\\xe7\\x06\\xb8P\\x05\\xfa\\x00z\\x0e\\xb8+\\xb0V\\x12\\xdb\\x98\\xf5\\x89\\x1cp\\x7f\\xeb\\x1e\\x84\\xf6Y\\xfe\\xa4s\\xfd\\x9c\\xec\\xce\\x9f\\xd9\\x9dS!K:\\xd9 2\\xda~q\\x9f\\xff\\x00\\xa7>\\x14\\xa97\\xf0\\xcc\\x06\\x1d\\x00\\x11lhY\\xce\\xd0k\\xb9\\x8dWRn\\xd4>Y\\xf3Yg\\xa5R\\x92\\xe5\\x9c\\xc2\\xd2*A\\x1b\\x98\\t\\x82z\\x0f?LM\\xe4\\xf5`r\\xb5\\x9e\\xb6b\\x9d:\\x89N\\x03\\x05\\x11\\x17\\x08>v?1\\xc6\\x15\\xa3\\xa8W\\xaa\\xabU\\xeb\\xb2VP\\x18!\\xa7\\xe1\\x92. M\\xc4X\\\\M\\xcd\\xb0\\xfc\\xebLZ\\xab\\xca\\x80\\xa9\\xb9\\xa6XG\\xc4qc\\xd7\\xcf\\xae(]\\xa0\\xed\\xe3\\xe9YbQ\\x1e\\xa6j\\xaa\\xf7\\xb9vg\\x9a[H$\\x1fR \\xad\\xb8\\x9bN3\\\\\\xd6\\xb1]\\x96\\xbe\\xa3\\x98G9\\xb0\\x81\\xeb\\x16\\xa7\\xe1\\x0c\\x89N\\xb3\\xb0\\'\\x8d\\xa0\\xaa\\xed\\x1c\\xdc\\x9e\\xb8\\xcc\\xf3\\xfd\\xaczj\\xf9w\\xccU\\xaa\\x89J\\xaea\\xc8]\\x8c\\xa2i\\x9ac\\xc3\\'\\xde\\x91\\xc7\\xde\\xf5\\xc5k9\\xda\\x9c\\xcdsIPfw\\xd2\\xa5\\xfdW\\xcb\\xd3\\x07\\xfa\\xa4C\\x10GA$\\x01\\xea|\\xb0\\x96G[\\xa9\\x95\\xa3\\x9a\\xa5\\x97\\xef\\xbb\\xcc\\xe2S\\xa5Ws\\x88\\x08\\xa5K\\xb1\\x9b\\xa0!@\\xfdl\\x06\\x1f\\xe5\\xf5a\\x96\\xc9&n\\x97{XR\\x9e\\xe8\\x08\\xf0\\xd3pT\\x93\\xd6%D\\xff\\x00\\xea=q \\xba\\x9dJ\\xf97\\xccR\\xa4\\xbb\\xcb\\x10T9\\'r\\xc9b\\x0f[G\\xf0N*\\xe6\\xbd`\\x10V\\xa4i\\xaa\\xad\\x8b)\\x1fO\\xdf\\t\\x92\\xe4m&m\\xcc\\xf20N6\\xc1\\xd8G\\xaf\\\\\\x19\\xe0D\\x8b\\x1f.q\\xcb\\xb5\\xe4\\xa9?#l\\x04\\x9d\\xdb\\x98\\x97Rn\\x06\\x01\\x9d\\xd8x|M\\xc5\\xd7\\xa1\\xfc\\x07\\xf9\\xc7A[3\\x91\\xe5~\\x9f\\\\K\\x9b\\x00L\\x12\\xd7;G\\xe7\\x84\\xd5@\\x91b\\xad26\\xdf\\xf2\\xc7@@\\n\\xd9\\x8f\\x05[\\xf4\\xc1Y\\xd5\\xbc%\\x80\\x81\\xc97\\x03\\x07\\xdcK\\x0e\\xedv\\x9f\\xbb\\x03\\xa7\\x9e9*\\x06\\x02\\xe3i\\'\\x9fL\\x1dA\"L\\x02X\\x88\\xdc \\xff\\x00\\x8c8\\xb4\\xc0R$\\x15X\\xe2$a\\xc6P\\x0c\\xaeg+Y\\x14\\xa1J\\xf4\\x98\\x1bA\\x87[\\xfac\\xdc\\xdd\\xaa\\xd1\\xa9\\xd6\\xccV\\xcf\\x01\\xce\\xe2\\xd1`T\\x03\\xe1c\\xc9\\x06b<\\xb1\\x98\\xd4\\xd4\\xeaT\\xd624s\\x0c\\xa8*\\xd1\\xde\\x1d\\xfc>\\x04O\\x12y\\x08 }<\\xf1e\\xcd\\xd7,\\x9fj\\xa3\\xbe\\x92\\xa5\\r\\xfb\\xd8\\x18W\\x0b\\xe2\\xb9\\xeb\\x17\\x89\\x90\\x0e)\\xfa\\xcfi\\x96iV\\\\\\xca\\xe6\\x8d\\nsY\\x1e\\xa1!\\x84\\xf3\\x02\\xc2<\\xbd88\\xce\\xfb_\\xad\\xd2\\xcd\\xabw\\xcc\\x94\\xf7\\x15/\\xbe\\xb6\\xe5\\xa53\\xf7y\\x04\\xc0#\\x88\\xc5;9\\xadW\\xcd\\xe9\\xe7!\\xa6\\xd6\\xa9C.\\xab\\xdcS\\xa9T\\xb1\\xd9H\\x08%A\\'\\xdei\\xb1\\xe8o\\x8a\\xbeKNJ!\\x8c\\x83N\\xaf\\x8a\\xa5Cr\\xf0g\\xc4,m\\xcf\\xaf\\xd3\\x13\\xdan\\x9bR\\x9ef\\x90|\\xdeV\\x9d\\x1a\\x8e\\xcb\\x15(Co\\x90.\\xde[\\xa5D\\x02-\\x86\\x1d\\xa7\\xec\\xae\\xf4\\xa82\\xdb\\xa9+\\x92\\xcdEWj\\xb1\\x89\\x07i\\x1e+yM\\xaf\\x8af^\\xabiy\\xe0\\xb9\\x8f\\x15%\\xaa+\\xbbS\\x04\\xc8\\x06\\x1a\\x08\\x1d77\\x02\\xdf\\\\\\\\SNz\\xc9\\x9c\\xa6\\xccs4im\\xa6kR\\xa4\\xcfL6\\xed\\xa7\\x85\\x00\\x88\\x1e\\xf1\\'\\xde\\xf4\\xc4\\x1e\\xa9\\x90|\\x85QF\\xb0\\xa6X\\x90\\xd3L\\x92\\x14\\x90-\\xe5\\xf4>\\xb8o\\xbc\\x06;\\x0f\\xbb\\x13\\xd4\\x0c\\x08,\\xf7_\\x15\\xfat\\xc1\\x99l\\x1eB\\xee\\xeaM\\xf0Q\\n\\x0c\\x8e\\xbd\\x0f8\\x13\\xbc.\\xe5\\xf1\\xc5\\xe4\\x0e>xM\\x88e\\xf7du\\x9e\\x98\\xe2\\xd2e\\xcd\\xcf\\x05D\\x0217\\x02\\xf0\\t\\x81\\x10\\x0ct\\x8c&Aq\\x08#\\xd0q\\xfc\\x8c\"\\xccWtJ\\x93\\xe5ka7k\\xfd\\xe0\\xbcn\"-\\xe6\\x06\\x14\\xb1\\xbd2\\x18\\x9fx/\\xe38Q%\\x88\\x0c\\xad33\\xd7\\x8f.:aTY+\\x10\\x03X\\x83{\\x9f\\\\=JL\\xb2C9\\x9e\\x8c \\x18\\xfc\\xf15\\xd9\\xde\\xcdf\\xfbc\\xafi=\\x9d\\xd2UF\\x7fV\\xcd\\xd3\\xcaRnvn>\\'\\x8f%P\\xce}\\x14\\xe3\\xde\\xfd\\xaa\\xd2_\\xb3\\x052\\xf4\\xea=|\\x9a\"\\xa5,\\xc5q\\xb9\\xabR\\xda\\x11\\xa6 o\\x06\\t\\xb0\\xb5\\xf1\\x8av\\x87O\\xaf\\x91\\x15\\xeber\\xa2\\xabP\\xf0\"\\xadEd\\x03q\\x9a\\xcc>\\xeb@\\x1282=q\\x18\\xda\\x8b\\xd4\\xd3\\xd5\\xd8\\xb5=\\xd9a\\xb9\\xb7x)\\xd2\\x04\\x05\\xa6\\xaaX]\\xaf\\xf1\\xf58\\xce\\xfbO^\\x9d\\x0c\\xd5\\\\\\xb6V\\xa8j\\x19\\x97$\\x05_\\x0b\\xa1\\x8e\\xbc\\xca\\x92\\x04[\\x99\\xe9\\x8a\\x1ew.u7!R\\xbd@\\x94\\xdf\\xbcwh\\xdd\\x1e!\\x04Y@\\x88\\x04\\xcc\\xf4\\x9b\\xc1\\xf4\\xbd*\\xbei\\xeaes\\x0ei-\\x03\\xdd\\xb4\\x1d\\xaa*\\x16\\x00\\x8e&\\x011\\xd6}\\x01\\xc4\\x85\\x1d\\x06\\x96J\\xad\\x1dA\\xb7\\x9ayzS\\xb5\\xc4\\x02\\x17\\xde\\x91\\xccz\\xf2$F\\x10Z\\xdd\\xddl\\xc56ZMW-\\x97T\\xdbV\\x80t5\\x19d\\xb1P\\x0f\\x87w\\x86@\\x8f\\r\\xfd\\xe9\\xc0kY\\x9ay\\x8aT\\xf6\\xd3|\\x8dJ\\xbbf\\x95f\\xda\\xb4^\"U\\xbf\\xb4\\xac\\x19\\x9e-q|S\\xf3N\\x95\\xe8\\xad,\\xcd:o\\x98\\xde\\xc8\\xed\\xbbc+\\x89\\x1bO\\x10O\\x13\\xc1&\\xf3\\x17\\x88X\\xcb\\xe7\\xaa\\xd1\\xfbV\\xf0\\xa1\\x97\\xbc\\xa9\\xbc\\x85P\\xd6\\xa7\\xc4\\x9e\\x01\\xdc\\x04t\\x81|+S2\\xb5U\\x10\\x18S\\xb4n,\\xc0\\x08\\x07\\xeb\\xf1\\x89\\xe3\\x08\\x16\\xde\\x002UA\\xb9\\xe0z`\\xe1\\x10\\x01\\xba\\xcd1\\xf3\\xc1\\xb7\\x80\\xde.\\x87\\xc8|\\xf1\\xca\\xe0\\x0f\\x04\\xc7\\x91\\x03\\x9c\\x0e\\xf6\\xdb\\x1e \\x05\\x80\\x9f\\x9e\\x07y`\\xb0\\xc7\\xc3\\xc6\\xdb\\x1cpz\\x80O~P\\x92I\\x00\\x1f<I;\\x12%I;G1\\x1f\\xc1\\x82<\\xdbw\\xba|\\xfa\\xc7\\x9681\"$\\xf0-\\x17\\x8f\\x8e\\x0b\\x113\\xba&\\xf1\\xd28\\xbe\\x00\\x85f\\x80\\xa1\\xbf9\\xf2\\xc2\\xa8\\x84\\t\\x7fz8\\xb5\\x86\\x16\\x0cA\\x9aM\\x00\\xa5\\x8a\\xf4\\x1e\\x87\\x0f\\xf2\\xbf\\xd4\\xaa\\xaa\\x88Y\\xdc\\x85U&\\xe4\\x9e?<z\\xf3\\xfd)\\xfb2\\xcbe{O\\x9e\\xed>k63y\\xed/&(Q\\xa2\\xa2\\x16\\x95Z\\xf2\\x19\\xc7[\"\\xb2\\xc9\\xfe\\xe3\\x8fU\\xea9\\x0c\\xb6\\xab\\x91\\xab\\x94\\xd4h\\xaec,\\xe2J\\x0bA\\xe8A\\xe8}~X\\xf3o\\xb4\\xce\\xc8\\xe7\\xbb\\x19\\xdf\\x1c\\xfa\\xd3\\xad\\xa2f\\x9ar\\xba\\x80\\xa7\\xe0G\\x0b\\x0bF\\xb7;\\t\\x107\\x1f\\t \\x1f1\\x8cCY\\xad[?\\xa5f\\x0eS\\xba\\xa3\\x98\\x0e\\x95\\r6\\x80\\x00Y\\xe9\\x12\\x08\\xdd\\xcf\\xaf\\x90\\xc6m[S\\xa1\\x9aZ\\xc7;\\xdf\\x05\\x08\\xc4\\n\\x06\\x187\\x10\\xb1e&\\xe7\\xe9\\xf0\\xc4\\xaen\\xae\\x7fX\\xc9\\xb6_\")\\xd1\\x1d\\xebP.\\x8b\\xfd:\\x956\\xef\\xf0\\x10H\\x16\\x80\\x05\\xcf\\x84\\xf1`\\x1bd\\xf3\\tO%J\\x8dj\\x88\\x95*\\xbf~\\xfb\\x99_uD\\x047>|\\xfc\\xefs\\x87Z\\x96\\xb1\\x9b9L\\xda\\xd5\\xca\\xf75\\xa8\\xa9\\xae\\x82@\\x00@\\x01=d\\x82\\xc2g\\x8cW+f\\\\g_SWf\\xa8\\x94\\xf7B\\x83\\xb5H\\x04\\xb2\\xd4\\x02\\xea#x\\x8b^\\xd8\\x8f\\xceg\\x86[&\\xbbk&t\\xb0\\x06\\x9d:U\\xc5C\\xdd\\x9f\\xb9\\x1eqy\\x1eM\\xe7\\x88\\n\\x95*\\xe5*\\xd4\\xceQ\\n\\xf9\\x83Nh\\xa9R\\xe9X\\x99`/\\xc8\\x88&n\"\\xf7\\xc4FZ\\x8beh\\xec\\r}\\xdb\\xd8\\xb4\\x92I\\xbc\\x9f1\\x8732\\xce\\x15\\x8827u\\xf4\\xc03\\xb3\\x10\\xc5L\\xde\\t\\x18\\x05v\\x8ed\\xed\\x8b\\x8e\\x93\\x83\\xdcD\\x18\\xbf\\x86/\\x07\\xe1\\x81\\x00\\x83\\xe2Po8\\x00\\xe0\\xb0\\x1b\\x98O&&\\xde\\x98:<\\x82IX\\x1c\\xdeg\\n\\x10O\\xb9\\xb5\\xc0\\xea\\xcag\\x12L\\x16\\xdbL\\xbcZp\\x93\\xcb\\x08e\\x1e#y\\\\\\x18T\\x16$\\xdcO\\x03\\x9f\\x87\\xd3\\x00\\xc4\\x14c7s\\xc4~\\xbf\\xa6\\x08\\xe0\\x92\\x02\\x891\\x11\\xe5\\xfc\\xe7\\x07(\\x16\\xe2\\x0c\\xdc_\\x9f\\xc7\\x0b\\xab\\r\\xdb\\xa9\\x12@\\xf2\\xe8}q~\\xec^\\x85\\xdd\\xd3]_>\\x1a\\x9b\\xba\\x7f\\xf2\\xb4X\\xc5\\x88\\xff\\x00\\xc8GO!8\\xd5{\\x05\\xdb\\x8c\\xff\\x00\\xb3\\xfd~\\x86\\xaf\\xa7\\x06\\xae\\x14wy\\x9c\\xabT\\x85\\xcdP>\\xf53\\xe4z\\xa9\\xbc\\x10:H\\xc7\\xb7;=\\xafi\\xbd\\xa8\\xd1\\xf2\\x9a\\xc6\\x87\\x98\\x19\\xbc\\x96q7\\xd3sf\\x11\\xef#\\x0e\\x8c\\xa6\\xc4t8\\x91\\xadB\\x8eb\\x95\\\\\\xbej\\x8d*\\xd4+)J\\xb4\\xaa\\xa2\\xbd7B.\\xac\\r\\x88\\xf4\\xc7\\x9a}\\xa8\\xff\\x00\\xa7mEj\\x1dS\\xd9\\x96\\xdc\\xe6Y\\xc9j\\xda-Z\\xe2\\x9bS\\xe3\\xff\\x00\\xcb\\xd4 \\x06\\x11>\\x07 \\x81\\xc1\"\\xd8\\xf2Gi\\xb4l\\xc6SQ\\xcces\\xd9\\x1a\\xb9|\\xe5\\x12\\x12\\xbeR\\xb5\\x16\\xa5Z\\x93\\x0e\\x03+\\x00D\\xda\\xf1\\xf5\\xc7Q\\xed\\x0f\\xfb*\\x0c\\xb6o\\'\\x97\\xce\\x86eaZ\\xa5f\\xa6\\xf9v\\xda\\xc3r01m\\xec\\xa4\\x11\\x0c\\xa6\\xf1\\x00\\xe1\\xceWM\\xa3\\xdaL\\xad|\\x9bh\\xb5i\\xd4\\xcb\\x94\\xccQ\\xaf\\x96\\xcd&Z\\x90\\x02?\\xa5\\xb1\\xcb\\xaa\\xa9\\xda.I\\xb8\\x1d0\\xc7P\\xd2\\xf3\\xfa6j\\xb2\\xea:v\\xa7Q\\xaa\\xa3\\xab#Pl\\xc0\\x0c\\xc9\\xb9\\x10\\xed;\\x84\\x92\\xcaO\\xa1 \\x91aZ\\xa3E\\x85\\'J\\x08je\\x9bw}R\\xae\\xd6\\xe1C\\x14{\\r\\xac,\\xe3x\\x03\\xc2OC1\\x94h&\\\\f\\x86m\\xa8\\x84+V\\x88\\x15P-UY\\xdc\\x0c\\x08\\x10\\x07\\n#\\x92/l0qN\\xb6g\\xbc\\xa6])\\x85!77\\x88(2I\\xf5$\\x9e0QL\\x12\\t\\xf1\\x16\\xe8\\'\\xf1\\xf4\\xc1\\x19J\\x990\\xa6\\xe4@\\xc0\\xb3\\xb0\\x82\\xca\\x18\\x1f\\xa9\\xfd\\xf0\\x00\\xb4\\xc8\\x81?,r\\x92\\xd7U\\x8b\\x80~>X\\x00\\xa1\\xed\\xba~& \\xe3\\xb6\\xaa\\xb8\\xda\\xd2\\xb3\\'m\\xfe\\x98R\\x92\\xb0\\xa8B\\x02\\xb2G^p\\xe2\\xf0\\n\\xf8\\x81\\xeb\\x07\\x0f\\xe4\\x98m\\xbf\"\"p\\x07v\\xdb\\x83\\xb8\\xf0bg\\xe5\\x8e\\x82\\xcc\\xa0\\x9d\\xc4\\x81$\\x8b\\xfc\\xfd\\x7fl\\x15[\\xbbc\\xb7\\x89\\x86\\xbcO\\xf9\\xc7*\\x88$H\\xfe\\xe0\\x011?\\xa6\\x07\\xee-@\\t\\x1f\\xf1\\x9b\\xf4\\x8f\\x8e.\\xfd\\x9c\\xecF`\\xd5\\xa7\\x9b\\xd7\\xd5h\\xd0\\x04:\\xe4\\xcbK\\xd4\\xea\\x03\\xc7\\xba\\xbe\\x9c\\x9e1w\\xa9\\x9a%\\xc1\\xf0\\xee\\xe9\\xc7\\xe1\\x82\\xbd^\\xae\\xd3\\n\\t\"\\xd8\\xd0\\xfd\\x91{X\\xcd{8\\xd5\\x18f\\x8dL\\xd7g3\\x84\\rC(\\x97(x\\x15\\xe9\\x7f\\xcc\\x01u\\xe1\\x94G \\x1c{SN\\xcf\\xe4\\xf5\\\\\\x8e[=\\xa3\\xe6S7\\x90\\xcdR\\x15\\xa8\\xe6)6\\xe5\\xa8\\x87\\x82\\x0f\\xef~\\x98U\\xe9\\xcc\\x17\\xda[\\xa4\\xfc\\xfdqQ\\xed\\xcf\\xb3\\xce\\xcc{A\\xc9\\xf7=\\xb1\\xd2(j&\\x8a\\x9at3S\\xb2\\xbd\\x0f\\xff\\x00\\x8e\\xaa\\xf8\\x96\\xf7\\x8b\\x8fK\\xe3\\xc8\\x1e\\xd6\\x7f\\xd36\\xa9\\xd8\\xcc\\xaes\\\\\\xec&\\xa0\\xfd\\xa5\\xd1r\\xc8\\xd5sy:\\xf4\\xc0\\xcf\\xd0\\xa4\\x04\\x97\\x01ak\\xa8\\x03\\xc5\\x01X\\x01;[\\x1ex\\xd3\\xaa\\x1c\\xbe`UW\\xa9\\x98\\xcaV\\xcaw5(\\x96\\x0c\\x95r\\xc4\\x08\\xa6-\\xc0\\x80\\xcb\\xcd\\xc0\\xf5\\xc3\\xfc\\x8e\\xb1\\x98\\xca\\xe4\\xbe\\xc3\\x9dZu2MM\\x95~\\xcc\\xbb+Qf\\xdb-Kq(\\x84\\x80\\tP\\xa0\\x12&\\xc4\\x0c!\\x9d\\xd5s\\xc7.R\\x8df\\xce\\xbbnP\\xf5Q\\xe9\\xd6k@j\\x9bHF u \\xc8\\x89\\x9b\\xe2\\xa6\\xd5\\x05]\\x7f%\\x95\\xac\\xa9UEItc\\xbdSrm\\xbe\\xee\\xb6\\x07\\xccG\\x96\\x08\\xb4\\xdd*\\xb2U\\xb3\\x82U\\x94\\xd8\\x08$\\x11\\x8e\\x00*\\xee,\\x05\\xe0\\x1b\\xfd?<\\x03\\xd3\\nUxh\\x10b\\xe4`\\x8c61\\x1b\\x80\\xbf\\x13\\xd7\\xae\\x03~\\xd3\\xe0^\\x86\\xf38\\x00\\xc5\\x8c6\\xd2\\x01\\x8f2}pc\\xb4\\xd4*\\xc0\\x88\\xe2N\\x0e)\\xb0\\x07h\\xbc_\\xac\\xfd?\\x9c\\xe0U\\n\\xb1\\xef\\x08\\x05\\x8d\\xe3\\x91\\x83\\xadM\\x927\\x00f\\xfb\\xf9\\xc4\\x99ab\\xab\\x07\\xa0\\x16\\x83\\x8e\\xdc\\xfbZ \\x83\\xd3\\x99=x\\xc17@\\x13\\xeft\\xb9\\xe3\\x0er\\xf9L\\xce\\x7f02\\xfa}\\n\\x99\\x8a\\xccg\\xbb\\xa5}\\xa3\\xae\\xe3\\xc2\\x8cX\\xb2\\xbd\\x80\\xcdT@\\xda\\x96n\\x8d\\x00O\\xb9A{\\xd6\\xfa\\xd8}\\'\\x13\\x99\\x0e\\xca\\xe9\\xbaujy\\x84\\xa7[5\\x99\\xa6C\\xd3j\\xaf\\xc1\\x1fx \\x81\\xd3\\x13Y\\x92\\xd5\\x94g)o\\n\\xc7mO\\x10\\x9d\\xc7\\xa9\\xc0}\\xa4\\xd3-\\xb8\\x86\\x81\\x17=c\\xf9\\xf5\\xc0\\xefWBT\\xaa\\xd8\\x98&\\xd3\\xe5\\x81\\xf1S$\\x92\\xa0\\x81\\xc8\\xb4\\xf5\\xc6\\x9d\\xec\\x8b\\xdb6s\\xd9\\xb6{\\xecz\\xa0\\xab\\x9c\\xec\\xbem\\xf7f2\\xf4\\xce\\xea\\x99W15\\xa9\\x0f\\xff\\x00\\xb2u\\xe4x\\xb9\\xf6v\\x93\\xaa\\xe4u\\xed3\\'\\xa9\\xe8\\xb9\\xday\\xed76\\x86\\xae_3G\\x8a\\x8b\\xc7\\xca.\\x080A\\x17\\x18V\\xaa\\x85\\xdd3\\xbc\\xfd\\xe9\\x83\\xf18\\x89\\xabM{\\xeay\\x85Q\\xf6\\x8a-\\xb9\\\\X\\x82\\x0fR9\\x1f\\x1e\\x98\\xf0G\\xb7_d\\x94=\\x9b\\xf6\\xcf3SF\\xa2\\xcb\\xd9}[0k\\xe4T\\r\\xa3*\\xf5\\x01~\\xe3\\xd1n\\xdb=\\x14\\xafA\\x8c\\xe2\\x86\\x92\\x830\\\\\\xad2\\xc5\\x06\\xc6a$z\\xf9~\\x91\\x81\\xd6\\xbb\\x8d\\x1b\"\\xf5\\x89\\x06\\xa2\\x0f\\x0e\\xe9\\xb1\\xb4G\\x90\\x9cC\\xfb/\\xec\\x85ms5\\x9a\\xd43\\x03r\\x07,\\xacW\\xa01c\\xf1\\xb7\\xcb\\x07\\xf6\\x97\\xd9\\xdf\\xf6>\\xda\\xe7\\xb2\\xe8;\\xbaY\\xaat\\xb3\\xb4\\xa7\\x8d\\xb5\\x17\\xc4>L\\xac1S\\xa8\\xa9\\xf7\\x94\\xb01\\x05~\\xbc\\xfc\\xf1\\xcc\\x80+5K\\x80`\\x8fQ\\xd7\\xd3\\x08\\x8aMc\\xf7\\xa7\\x91\\x8e\\x14\\xd4\\xa92I\\x0bn\\x93\\xf0\\xc1\\xd4\\x96X0\\x07\\xa1\\xb7\\xc21\\xcdv\\xfe\\x9c\\xee\\x17n\\x04`74\\x83\\xbaT\\x9bL\\x02m\\x8e\\x12\\xd3\\xb8\\x18\\x8f\\x9e\\x0e\\x03\\t\\x1b\\xd8\\x0e\\x96\\'\\x12\\x8c\\x83f\\xe6\\x00A\\x92I\\x1c\\xfe\\x98\\x95\\xd3;;\\xa9\\xea\\xc8*d\\xf2\\xac\\xb9q\\xff\\x00\\xea+\\xb7wLz\\x82D\\xb7\\xc8b\\xc7\\x95\\xec6^\\x83#\\xea\\xb9\\xca\\x99\\xa6\\x02\\r<\\xba\\x1ai\\xf0,o\\x1fN\\x98\\xb5e\\x12\\x86O/\\xdcd\\xe9\\xd2\\xa1\\x97\\x1f\\xfd*k\\xb0\\x13\\xeb\\xd4\\x9f\\x8e\\x13j\\xea^\\r\\xe2|\\x85\\xbd\\x06\\x0c\\xcd\\xb4\\xb9[\\x16\\x16\\x90\\x07\\xcf\\x01I\\x89,**\\x9aUWk\\x81\\xf9\\xcf\\xc3\\x11\\xac\\xf5)Vz&\\x1a\\xa2\\xbc\\x10D\\x90>?,$*\\x95\\xa9\\xde\\xd2b\\x16H\\x82\\x14_\\x9b\\xf9\\x8c:\\xa5\\x9a\\x0cav\\xaa\\xccJ\\xad\\x8f\\x9d\\xf0\\xf3}7H\\x0b\\xb9OPc\\x8e\\x0f\\xa6/\\xbe\\xca=\\xb3\\xe7\\xfd\\x95j\\xf5)fhf\\xf5n\\xcdg\\x08\\xfbF\\x9dF\\xa2\\x87Z\\xac\\xca;\\xea[\\xc8\\x05\\xe0AYP\\xc0\\xdc\\xc8\\x18\\xf5\\xcfb}\\xa7\\xf6O\\xdafTU\\xec^\\xb7\\x95\\xd4j\\x05\\xdfW&\\xc7\\xba\\xcdQ\\xb5\\xf7Qo\\x18\\xb9\\x89\\x00\\x8brq;\\\\\\x8b\\x92e\\x87\\x998\\xcf=\\xa6\\xf6W%\\xdb\\x0e\\xcbf2\\x9a\\xbd\\x0e\\xf3.\\xa4\\xd0\\xaePC-*\\x86Q\\xd4\\xff\\x00rU\\x00\\x83\\xd3w\\xc7\\x1e\\x1f\\xd5\\xf4|\\xf7c\\xb5,\\xee\\x91\\xac\\x80sY2\\nTQ\\x02\\xba\\x1fr\\xaa\\xcf\\xdda\\xd3\\xa1\\x91\\xd3\\x15\\x9d/\\xb2\\xda\\xa7\\xb5\\x8e\\xdb\\xe9\\x9d\\x9c\\xd3*2S\\xcc\\xb3>b\\xaa\\xd8e\\xf2\\xc9\\x06\\xadS\\xf0\\x10\\x07\\x99e\\xc7\\xact\\xdff\\x1a\\x7fg\\xf2\\xd4\\xf2ZNUi\\xe5\\xe9\\xa8T\\x02\\xe4\\x81a\\'\\xae3\\x8f\\xf5\\x15\\xec\\xf9\\xbf\\xf8?N\\xed>U\\x0fy\\xa2U\\xfb6wo\\xff\\x00\\xb5\\xacaX\\xff\\x00\\xe9Wl\\xf9\\x078\\xf3=J;D\\x03\\xb5o\\x10d\\x029\\xc36\\xa6\\x08\\x05ao0\\xb7\\xfcpR\\xbbI\\x99B\\x0f=N\\x00\\xc4\\xedp\\x08?xyz`\\x08\\x96$+Z\\xd1\\x1d>v\\xc2\\x9b\\x1d\\xa1YWj\\x98\\x81\\xc3z\\x1f<!\\xbe\\xe7\\xc5\\xb8\\x0bL\\x9b`P\\x80\\x08\\xe3\\xa1\\xf5\\xc1\\xf7\\x9e\\x8d\\xf8\\xe3j\\xd2\\xbb)\\xa4\\xe8\\xdb*5/\\xb7\\xe6TI\\xccfTD\\xff\\x00\\xc58_\\xc4\\xfa\\xe2Z\\xb5V\\x93,K-\\x89\\xe6=p\\xde\\xa9\\x82x7\\x98\\xe9\\xe9\\xf9\\xe1\\xa1\\xdd}\\x88L\\x19>@\\xfczt?<#R\\xb2\\x81\\xb9\\x94\\x80M\\xae-\\xf1\\xc0\\xd2\\xcd\\n\\x81N\\xef\\xea\\x11<L\\xe1w2\\x9bi\\xeeb\\x04\\xf1}\\xc3\\xfe\\xbf\\x91\\x88\\xfdUN\\xf5\\xac/J\\xa0\\x13\\xb4\\xc4\\xb7\\xa7\\xca\\'\\xe3\\x865*\\x12\\n\\xab\\xcd\\xe4\\x89\\x90x\\x81\\xf0\\xb6\\x00Uec\\x12\\xed{3q|>\\xa5P\\xb0\\x90C\\x13k7\\xe9\\xd7\\n0Z\\x86\\x90DV!\\xb7\\xf2W\\xdd\\xbd\\xfc\\xe4\\xc7\\xd7\\x15\\x0c\\xddv\\xd2u<\\xb6s+Y\\xf2\\xecj\\x8d\\x95i\\xd4(\\xf4+\\xc7\\xbc\\xac \\xac\\xf9\\x82.\\x0e6N\\xc8\\x7f\\xaa\\xfe\\xdb\\xf6B\\xa5\\x0c\\xa7h\\nv\\xc7M\\x00\\x0e\\xefR\\xa9\\xdd\\xe6\\x95g\\xeef\\xd4I\\xea\\x7f\\xa8\\xad\\xf1\\xc7\\xa6\\xbd\\x9d{]\\xec_\\xb5\\xe7|\\x8fg\\xb3\\xcd\\x96\\xd4\\xb34Z\\x9ecI\\xcf*\\xd3\\xcc\\xa2\\x90?\\xa8\\x90J\\xd5Um\\xa7r\\x13\\x1d@\\xc6I\\xed\\xf3\\xb15\\xb5\\xbe\\xcd6\\xb1\\xa6S55}\\x08Tj\\xd4\\xd2\\x0bV\\xcb\\x03\\xfdd\\xb7%\\x08\\xef\\x00\\xe6\\xcc:\\xe2{\\xfd.{:\\xa7\\xa1v\\x15\\xbbS\\xa8Q\\xee\\xf5^\\xd4\\xaaU\\xa7\\xbb\\x9azz\\xff\\x00\\xe1_M\\xe6j\\x1f\\x8a\\xf9clm\\x1a\\x9dC\\xe0F`<\\x84\\xce\\x10\\xd4\\xfb#\\x94\\xd7\\xb4\\xbdCF\\xd72\\x95\\x1fM\\xd4r\\xb52\\x99\\x95T>*u\\x06\\xd2@\\x8eD\\xc8\\xf5\\x03\\x1f1{G\\xa0g{\\x17\\xda\\x9dk\\xb2\\xdd\\xa0Bu\\x1d\\x178\\xf9:\\xaeX\\x8e\\xf8\\x0fr\\xa7\\xc1\\x94\\xab\\x0e=\\xecET\\x9b\\xcb\\t \\x1bG\\xd2\\xff\\x00\\x96\\x11\\x0c\\xaeHf\\x1by\\xb87\\x18I\\x80\\xb9*\\x1a\\xdf\\xdd\\xd2,p,$\\xc1\\xdcL\\xc1\\xf4\\xb6\\x13\\r\\xe2\\xf1\\xccu\\x00s\\x83\\x02\\x1c\\x12\\xfb\\xa2&b/\\xe5\\x80\\'c#!*I\\x80\\x078\\x15\\x98\\x13c\\xff\\x00\\xa9\\xc6\\xf4\\xd5\\xea9m\\xcc\\x0c\\xd8\\x19\\x80~\\x18G\\xed \\xa1\\x82E\\xef\\xb8\\xf5\\xeb\\xfa~8\\xe6\\xaa\\xe1\\x8f \\x88\\x91\\xcc\\x8f\\x9f\\xf2\\xd8%j\\xa4\\xd3;%o&#\\xce~\\x9c\\xf9a\\x85f\\xde\\xc4K\\x07\\x93\\'t\\x99\\x18N\\x85VR\\x04\\x00\\xa4\\xcf\\xad\\xad\\xfb\\xfe\\xb8\\x7fF\\xb0u\\t\\x00\\x80A\\x02,\\x0f\\xa7\\\\!\\x98\\xca\\xb5|\\xbde\\xa6\\x85\\x9f.EO\\x08\\x98\\x1f\\xf4E\\xfd1\\x11\\x97\\xb0PF\\xe3\\x1dx\\x9b\\xdc\\x0f?\\xdb\\x04u#p\\x89\\x06\\xed0=fz\\xf3\\x83\\xd1\\xa8\\x1bq^T\\x0b\\x82D\\xb7\\xeb\\xf3\\xfdp\\xef#\\x995\\xea\\xd5r\\x14\\x8d\\xfd\\xda\\xb1&@\\x1c\\x89\\xf8\\x91\\xff\\x00\\xdb\\x88}k\"\\xb9\\xcc\\xa5j\\x15\\x835\\x1a\\xeaQ\\x9c\\x01*\\'\\xc2\\xc3\\xd4\\x1b\\x8fLR\\x179\\xabij\\xf9*\\xa7#\\xa8\\nD!\\xa7R\\xa2\\x87\\xeb\\xe2\\x83\\x1d \\xf3\\xf2\\xc4\\xd6\\x97\\xfe\\xc5G\\xec\\xd9\\xc7\\xd4u\\x9e\\xcdk\\xb4s{\\xe9>]\\x92\\xba \\x85\\xdbY\\\\2\\x94*w\\x02\\x03LA\\xbf\\x07\\xd2\\x1d\\x97\\xff\\x00U\\xf9\\xdd3\\xb0\\x99*\\xdd\\xa8\\xecR\\xf6\\x9f\\xb45]\\xd2\\x86n\\x8eb\\x8eW/\\x9a\\xcb\\xab\\x14\\xef\\xaa\\x80\\xac\\xc9P\\x90D*\\xc3\\x81\\xbb\\xc3\"j=\\xa3\\xff\\x00X\\xde\\xd0)\\xd3\\x19N\\xca\\xe8}\\x9c\\xec\\xa6R\\x92\\x04\\xa7\\xdd\\xe5\\xdf=Z\\x9a(\\x80\\x03U;,<\\x93\\xa63\\x0e\\xd5\\xff\\x00\\xa8/k\\xb9\\xec\\xe7q\\xa8\\xfbF\\xd7\\xa9\\xa3\\xd3\\x15)>N\\xba\\xe4\\x95\\x91\\x84\\xa9\\x8a*\\xb3kF+\\xb4=\\xb0{B`\\x15\\xbd\\xa1\\xf6\\xbd\\x8cI\\xff\\x00\\xf1\\xea\\xf3\\xcf\\xfe\\xdf\\x8e#3\\x9a\\xbeo[\\xd4+\\xeaZ\\xf6\\x7f9\\xaajU\\xd86c5\\x9a\\xae\\xd5\\xabU\\x80\\x00,\\xeds`\\x05\\xfc\\xb0\\x1fh\\xdc\\xa2\\x1e\\xe3\\xc9G\\xe7\\x81r\\xc7q\\x0c\\x01\\x07\\x8c\\x0e\\xe0\\xc1\\x9d\\xb7\\x110&\\xe2:\\x0f\\x96\\x00\\xba\\x90D\\x8d\\xfe\\x91\\xf9\\xe0\\x85\\xa3\\xde\\x02\\'\\x92\\x0e\\n\\xc0\\xb6\\xd29o\\x10\\xbc\\xdey\\xc7\\x10\\xca\\xc4\\xd4m\\xbeS\\xfaF\\x04\\xb59\\x82\\r\\xb1\\xba\\xb2\\xf8\\xc9\\x01Z\\x05\\xad\\x02>\\x1dp\\x8dp\\xa8\\xa4\\x9d\\xc7\\xd45\\xcf\\x95\\xb0\\xd0f\\x18{\\xe8O\\xf6\\x9ed|\\xbf<(\\xf5\\xd9\\x92\\xdb@\\x1cA\\x92#\\xe5{a\\x80b\\xec\\x18I&\\xc3q2>xl\\xd5;\\xa7\\x17\\xf7l?\\xef\\x8c?\\xca\\xd7F\\xfb\\x85A\\xe0\\xc0 s?\\x85\\xf0:\\xb6\\x9bKV\\xca\\xb5:\\x8c\\xd2\\xa3\\xc2\\xcav2\\x9e\\x84\\x1fOLS\\xaa\\xa7j4V\\xfe\\x93e5l\\xb2\\x9b\\x9c\\xc0\\xdbZ-n\\xf0u\\xe2\\xe7\\t\\xa7l\\xa8\\xe7\\x1e\\x9eSQ\\xc8\\xe6t\\xec\\xf3\\xa8\\x08\\x95Hds\\xe8\\xf6\\xbf\\xa1\\x03\\x0f\\xa9\\xe7\\x87\\xd9\\xc7u\\xe2\\xccU\\x1bU`Ibl\\x0f\\x1f\\x13\\xf08\\x93\\xc8\\xed\\xa0i\\xd2\\xa7\\xe2 r.x\\xe7\\x8e\\xbc\\xfdq#\\x9c\\xa63\\x14\\x1a\\x95S\\x01\\xb8$^~>v\\xfcp\\x7ff\\xdd\\x89\\xd1\\xfb{\\xda\\xb4\\xec\\xc7h3\\x8d\\xa6\\xe6\\xb3\\x94\\xca\\xe9\\xb9\\x87@\\xe8\\xf9\\x95\\xbfp\\xe0\\xf5e\\x9d\\x87\\xfb\\x97o\\xde\\x18\\xd7\\xaa\\x7f\\xa3\\xfc\\xd6[N\\xd4\\xc6\\x89\\xa9R\\xa5\\x9cj=\\xeeO\\xfaA\\xa8\\xd4\\xaa\\x0c2\\xb0`\\xdb\\tI*\\xc2@#\\x8c`]\\xa6\\xd2\\xb5\\xefg\\xba\\xe8\\xd3{]\\xa7\\xe624\\xaa\\xd2-N\\xa9\\xaa\\x85M5\\x01\\x0b+\\x01\\xb4\\xfa\\x08\\xb17\\x1eo\\xfbi\\x9b\\xd03\\xda\\x02W\\xd1\\xf4G\\xd2k0\\xa3\\xddP\\xaf\\x95CY\\x15A/P\\xd5\\x06Hr\\xc0m\"m6\\x10\\xb8\\xab\\xea\\xfd\\x98\\xcev\\x93\\xd9\\xa6\\x95\\xafdr\\xee\\x1bI\\xadS#Y@\\x13V\\x9aAV\\x8em\\xbe\\x0f\\xc3\\x19\\xc3\\xe5\\x8a\\xe6V\\xa9hV L\\x91\\x1e\\xb6\\xf5\\xfc\\xf1a\\xa5\\x93\"\\x88\\n\\x14\\x0e\\x8b\\x04\\xf4\\xe9\\x83.]\\x08\\x10v\\xb0\\x88\\x9920\\xb0\\xa7\\xbaQ\\x92*\\x92l:|0\\x1fc\\xadU\\x0bSQQA \\xf9\\xce\\x10\\xa9\\x97\\xa9Kwx\\x85P\\xf06\\xc8\\x9f)8(\\xdaI\"@\\xe8A\\x91\\x8e;X0\\x0b\\x12fpu+\\xd0\\x18a\\x10\\x04q|\\x01\\x17=\\xd8\\xda<\\x81\\x8cm\\xd9|\\xda\\xe6)\\xc5)\\x04y|\\xb0\\xd32\\x0e\\xfeI^\\x90l \\xe1,\\xc0\\x15(\\xec\\x04\\x00?\\xb6\\xd7\\xf48aO>\\xcd4\\xab\\t1\\x0cM\\xe6z\\xfex}\\x90QR7\\x00\\xbf\\x01\\x1f\\x9e\"\\xf5\\x02\\xa9\\x992T\\xa97\\x95\\xc2\\xd9J\\xac\\x86M\\xed\\x10\\xc4~\\x9f,LPr\\xe8\\xa4}\\xde\\x80\\xcf\\xd6=pL\\xc0.\\xaeA\\xbc\\x10v\\xdf\\xe6\\x7f\\x9d1U\\xd7tjY\\xdc\\xb3S\\xac\\x15\\xc4\\xc9\\x81\\x05L\\xcc\\xfaa\\xaeK-_-Hfu\\x01J\\xa1\\xbd:H\\x18\\x98\\x11=\\xe1\\x1cna?#\\xeb\\x87\\xb9j\\xbbX0X\\x99\\xb1nG\\xcc\\x8bbv\\x9b\\x92\\x14\\x90\\t\\x8d\\xc2\\xf6#\\xe5\\xc6\"\\xb5L\\xab\\xd3\\xccS\\xcd\\xe5k\\xbeS1N\\xa2T\\xa5^\\x94\\xadJU\\x15\\x83#\\xa9\\x1c\\x15`\\x08>c\\x1f@=\\x8d\\xfbJ\\xa3\\xedG\\xb0\\xd9-j\\xbfuKV\\xa6\\xe7)\\xacR\\xa6<4\\xb3\\x88\\x01f\\x03\\xa2\\xd4\\x04T^l\\xe4t\\xc5w\\xfdC{+\\xa7\\xed\\x17\\xb09\\xdc\\xbeK(\\xb55\\xfd)\\xbf\\xdc4v\\xda\\x01j\\x89v\\xa31\\x04:\\xc8\\x83\\xf7\\x82\\x9e\\x98\\xf0\\xc5\\x0f\\xb0\\xebZ:\\n\\xb9\\xfa4\\x05joWuUf*\\x17\\xa1T\\x96\\x12@Rb\\x017 N7\\xefc]\\x96\\xd2_\\xb29\\xfd;K\\xd4rz\\xce\\x91\\x98\\xcb\\xe4s\\xa6\\xad\\x17faZ\\xbd\\x17J\\xfd\\xe21\\x9aD\\xd4\\xcb\\x90\\x13\\xa6\\xd2E\\x98c\\xca\\x1d\\xb2\\xec\\xeb\\xf6{\\xb4z\\xee\\x85X\\x81\\xf6\\x1c\\xdb\"\\x92$\\x94\\xf7\\x92\\x07\\xfe\\xa7\\x05\\xd1\\\\\\xe72)\\xdem\\x0c\\x17k}c\\xf9\\xf1\\xc2\\xf5)\\x9d\\xca\\xa2L\\x0b\\x8d\\x96=\\'\\x04\\xb0b]J\\x83x\\x04\\xad\\xfe8M\\xab\\xf7uU\\x90\\x14\\x1bbG_<\\'\\xf6\\xfa\\xd4\\x88\\xefW\\xbc\\xa6Z$\\x8b\\xaf\\xf3\\xf1\\xc0V\\xa0VjP \\xa3\\\\qo\\xdb\\x08n\\n#\\xdd\\x13q\\xd7\\xf9|\\t\\x10@\"\\xf1{\\xcf\\xf3\\x8c\\n\\x85*7\\x02\\x0f\\xa1\\x03\\xf3\\xc6\\xc9[!\\xdc\\x82h\\x02\\x17\\xde\\x857\\x17\\xf5\\xc1V\\xaa\\xb4\\xa9!\\x88\\xb7\\x87\\x93\\x84\\xb3+\\t(I>\\x9d1^\\xcf\\xd4z\\x1f\\xd6V\\x10\\x86\\\\7\\x11\\xe7<\\xdb\\x13\\x99\\x1c\\xc2\\xb5\\x12\\xc1\\x966\\xc8\\xb7_\\x8e\"3n[0\\xdb\\x84\\x83c\\x13\\xc6\\x02\\x9ea\\x9c\\xd8\\x9d\\xc0\\x80\\xc4\\x13h?\\x1e\\xb1\\x8b\\x06Z\\xaf\\xf4K;\\x10\\xc4\\xc9Y\\x98\\xe7\\x93\\xd0\\xfexY\\xa5\\xeeA\\x12\\tR\\xb3\\xcd\\xfc\\xbf<EW\\xa0\\x95j\\x01Uf\\x955/R,\\x19@\\xe3\\xe6Lb\\xbd_0\\xf9\\xfc\\xd3U\\xda\\x02\\x91\\xe0Q`\\x16:aj4\\xcc\\x82\\x10!\\xdd\\xc1\\xb8<N\\'\\xa8Pd\\x11\\x05v\\xaf\\xbd\\xc0\\x1d\\x7f\\x96\\xc1\\xebS\\\\\\xcd=\\x81\\x99f\\xf7\\xb7\\xcf\\xfcbO\\xd9\\x97\\xb5\\rW\\xd8\\xf7j\\x0e\\xab\\x95\\xa7[9\\xa4\\xe6\\xd5)k\\x19\\r\\xde,\\xc5%$\\xab\\xa1&\\x16\\xaanb\\xa4\\xd8\\xc9S\\x00\\xdb\\xe8\\x06\\x87\\xae\\xe9\\xbd\\xad\\xd0\\xb4\\xae\\xd1vk:\\xb9\\xfd\\'?LT\\xcb\\xe6\\xa9\\x92\\x03)0ASue`C)\\xba\\xb4\\x83\\xc6<\\x13\\xdb]3O\\xca\\xfbO\\xed\\x9d\\x0f\\xb2}\\x8b-\\xfe\\xfb\\x98\\xa1Pe\\x11K\\xf7\"\\xa3\\x12\\x020\\xda$\\xb9x&\\xe4\\xf1p0\\x86\\x9d\\xdbm?\\xd9wo\\xfb/\\xaa\\xe9z\\x8esT\\xd2\\xdfO:~\\xad\\x91|\\xef\\xda\\x9a\\x86L0\\x03\\xbaP\\xab\\xb0)=\\xe2\\xd3*\\x08(@\\xb3a?\\xf57\\xa1\\xd0\\xc9v\\xdbM\\xd6\\xf4\\xca\\xb4sZ~\\xbd\\xa5\\xa5z9\\x9aM)X\\xa9\\x1b]OPQ\\x94\\xe3\\x13\\xd2\\xea}\\x9bT|\\xb9 %_\\x19V\\xfe\\xee9\\xf8b\\xc7Z\\x96\\xf5/\\x00\\x91\\xc0\\xb8\\xdd\\xe9\\xeb\\xe7\\x86kM{\\xb0\\xc0\\xabGV?\\xcf\\xe1\\xc2n\\xa0H\\x82\\xe2\\x007\\x04\\x1fA\\x86UD\\x02\\x84\\x17W\\x17\\r\\xc8\\xf9\\xe1\\x8eW;\\xf6L\\xc3\\xd2\\xcd\\xb3\\xbd\\xc8F\\x80<>^_,>\\xaa@\\xfe\\xa2\\x86\\x136\\xb4\\x1f\\x87\\xa6\\x13 \\xb2\\x86\\nf8\\xf8\\x8f\\xa6\\x03\\xbb\\x0cN\\xe4$\\x8bq8\\xdc\\x8bX,\\xeeH\\x83>~XC5\\x93\\xa4AjrA\\xbf_\\xc3\\x11Ui\\xb2\\x86\\x88R\\x0f\\x13\\xc6!\\xb3`f\\x0b\\xf8\\xbf\\xf6\\x83\\xc88k\\xd9\\xec\\xf5J\\xd9g\\xa4\\xe2j\\xe5\\xea\\x14o\\x888\\x7f\\x9b(\\xa0\\x92>6\\x8f\\x88\\x1f\\x86#(W5\\xaa\\xae\\xd5\\x90\\x14KGK\\xfa\\xe2s#\\x9aj\\xb5\\xb6\\xbc\\x94@\\x01\\xbcG\\xd7\\x13\\x9b\\x87vU\\x06\\xe5\\x02$pG\\xf2q\\r\\xaa\\xe6M\\n\\x15\\x15\\x18\\xc1R\\x95OR\\xa6$|\\xa0\\x1fX\\x18\\xaeS*\\xb4vS\\xf1\\x96\\xe0\\x8e\\xa3\\x0fR\\xbbSQ \\x880dL\\x0eg\\x12t3\\xbd\\xf2\\xa8s\\xb8\\x9b\\x02lny\\xf5\\xc3\\xd4\\xa8\\xc2\\x02\\xff\\x00w,\\xd8g\\xaa*\\x14\\xdcf\\n\\xc7\\xa1\\xfd\\xf1r\\xf6\\x1b\\xed\\xb1\\xbd\\x8d\\xeb\\xd9\\x8d7;F\\xb6\\x7f\\xb2Z\\xb3\\x8a\\x99\\xcc\\xbe\\\\\\xcdL\\xbdp#\\xed\\x14\\x94\\x98$\\x88\\x0e\\x87\\xdf\\x01L\\x82\\xb0`\\xbbQ\\xda|\\x8fj{g\\xda}sL\\xa9P\\xe5\\xf5MV\\xb6j\\x81\\xccR4\\xaalv\\x05eL\\xed0#\\xe5\\x8a?h\\xb3B\\x8e\\xaf\\xa6f\\x1e\\xa1Z2\\xf4\\xc1\\xddpI\\x90Lq\\x8e\\xed\\x0fi\\xf3y\\xee\\xcfi\\xdd\\x99\\xd4\\x97\\xbd\\xcaiY\\xea\\xb9\\xad&\\xb1o\\x15\\nuDU\\xcb\\xc7T\\xdf\\x0e\\xa3\\xa1.8\"*9\\xe6\\xfb5JY\\xaa0\\xe2\\x93\\x82\\xdbmc\\xe7\\xea|\\xbd1o\\xa2>\\xd1\\x95B \\x86\\x1d-\\x7f\\xe0\\xc4{\\xd3z.Q\\x82\\xf5\\x8f\\r\\xf0L\\xdd\\x07Ex\\x08O\\x12\\xb3\\x7f\\xe7\\x18f\\x034\\x98\\xe2G\\xa4t\\xc3\\\\\\xdd\"\\x19\\x99N\\xfa\\x94L\\xfb\\xb6\\x8f\\xd3\\x0bS\\xad\\xde\\x04`\\xa1D\\xdeD\\xdf\\xf5\\xc1*\\xa8O@b\\xc6-\\xe8c\\x04\\x95^\\t\\xf9\\x0ci\\x94u\\xc2\\x8c\\x12\\xab\\x92?\\xb6\\xd1\\xeb\\x89z:\\xba\\x95\\x00\\x95\\xf7d\\x83?I\\xc3\\x1c\\xd6n\\x8dU\\xf0wk\\x03\\xce\\'\\xf0\\xc5k6J\\xd5\\x94\\xf3\\xb1\\x1fw\\xf8?<Fi5\\x8e_Z\\xcd\\xa1RMeZ\\xb16\\x98\\x83\\xeax\\xc4\\xceu\\x9d\\xaa\\x10\\xb3\\xe5\\x04\\xc7\\xfda\\xb1E\\x04o\\xdc?\\xb6/\\x00a\\xde^\\xb1\\xa7Z\\x9a\\xb4\\x89?\\xddx\\xc5\\x9e\\x82\\xc50\\x03Y\\xad D\\xf9\\\\\\xe1\\x96t\\x16,\\x18\\x80\\r\\xaeg\\xaf<b\\xb4\\xfb\\xa9W\\xee\\x99\\x95C\\x83\\xdc\\xb3\\x13w\\x9e\\t\\xfc\\xbexR\\x99{\\x17Q3\\x04(\\x92\\x08\\xfe\\x11\\x879hB\\n\\xb1m\\xc3\\x80\\x05\\x8f\\xa6%\\xd6\\xb8\\x0eD\\xec#\\xfbo\\xf8t\\xc0\\xd4EzE\\t\\xf1r\\x1b\\xf1\\xe0\\xe2\\xad\\xacd\\x8b+\\xbd;\\x1bA\\xe9\\xbb\\xe7\\xe9\\x864\\x99s\\xb4\\x90\\xe6\\x1a\\xb5 \\xa5EG\\xa5;\\x95I\\xb8\\x13\\xe9<\\xf5\\xc4\\xd7ms9<\\xde\\x95\\xa2\\xd6\\xa5@e\\x8e\\xda\\xcdQhQT\\xd8\\xa9Qvm;\\x01kO$\\x933\"qG\\xcegM Q\\x94T\\x152\\xec\\x10\\xd4ye2\\x08\\x8b\\xc0\\xb8\\x8f\\x86\\x02\\xa6\\xd0\\x95i\\xf7{\\x94\\x93\\x0e\\x07\\x1f?\\x8e&\\xfb1W\\xbe\\xca\\xf7/\\xb8TO\\t\\xf8\\x8eO\\x1eQ\\x87\\xb9\\xda\"A\\xf7\\x80\\xe6\\x0f?<%\\xb5\\x8a@&`E\\xe7\\xe6#\\r\\x9a\\x9c\\x16\\x04\\x17\\x02.\\xb8\\x8a\\xa8\\xfbso\\xd2\\x0f\\x94\\xfc\\xf0Z;\\x96\\xadEb\\x9d\\xd8\\xb8\\x9b|\\xbe\\x18\\x16\\xa8\\x18\\xa9\\x92\\x17\\x89\\x9eL\\xce\\n\\xef&\\xc5\\x80\\x1e\\x98\\xd13H\\x8f\\xbd\\x87\\xabE\\xe4\\x1f\\xe7\\xe9\\x86t\\xaa\\xece\\xa7P\\x90\\x07\\xf3\\xa6\\x1e\\xd34\\xca\\x92\\x01\\r\\xc4\\x0eq\\x15\\xaa\\xb0\\xcb\\x01\\x04\\xb0\\xe0\\x88\\x8cW\\x174\\xbf\\xee\\xb9j\\xaaeJ\\x952y\\xf2\\xc5\\x8a\\x9b\\x17\\xa8\\xacQ\\x00 \\xde>\\x9f\\xae\\x0e\\x01?\\xf8\\xd9I[\\xf8D\\xc1\\xc0Vb\\x95\\xa8\\xc1~Ib\\xad\\xd3\\x9c[r\\xac\\xa2\\x805D6\\xd0 \\x13\\x7f\\\\#\\x99\\xa6\\x03\\r\\xed\\xb8\\x99\\xb9\\x13\\xfeq[\\xd72\\xf4\\xea\\xe5\\x8a0B\\x1cD\\xa8\\xf7O\\xa4u\\xeb\\x86\\xf9,\\xcdL\\xcb}\\x9f9QFuT\\x15`\\n\\x8c\\xc2\\x8b\\xee\\x1f\\xf2\\x16\\x91\\xf4\\xc4\\x8e^\\x922\\x95`\\x86\\x04\\x91\\x1cG\\x98\\xe7\\x0f\\xe9\\x80\\xa0#\\x00\\xcaE\\xc1h\\xbf\\xf3\\xa6\\x1d(\\x08\\x18\\x0f\\xee\\x91\\xe1\\xdd\\xcfON\\xbcb?R\\xc9w\\xa1\\x8d\\xae\\xa6I\\xc5?8\\xe7+\\x9a\\xdc\\xe4\\x95&v(\\xf0\\xee\\xfc=<\\xf0\\x86}j\\xd5\\xcb3e\\xb7V\\xae\\xaa\\n\\xae\\xf2K\\xac\\xc9\\x02\\xferq\\x13\\xa9e\\x8d}\\x1e\\x8dFB\\xd5\\x197\\xa8 \\xdaf8\\xeb\\xd3\\x0bQTl\\xb5\\n\\xac\\xbb;\\xeah\\xd4\\xe1x1q?\\x0c=\\xd0\\x9f\\xec\\xba\\x9dU\\x8f\\x03\\xae\\xe2\\xc4\\xd8\\x11c~\\x9f\\xe3\\x16\\x9c\\xe5\\x0e\\xfa\\x99iW\\xda$\\xc3\\x1f\\x10\\xf2\\xfcq\\x0b\\xb3k=\\x88Q\\xc0\\r\\x02\\xd8N\\xb0bI\\x13\\xba\\xe7\\xd0\\x12<\\xbe\\xb8\\x86j\\x8c\\xd9\\x8a\\xe8[t=\\xc4t\\xe3\\xf81\\xcc\\xc6\\x98\\xdf\\xcd\\xfc3o\\xc2pJU\\x0b=IO\\n\\x9b@\\x8b\\xe0\\xdd\\xe1\\x16*\\xb29\\x95\\x03\\xf5\\xc6\\x97\\x9aRX\\xb2\\x84\\xdf\\xc9\\xb9;\\xaf\\xe5\\xe7\\x88\\xfa\\xfd\\xddd\\xf0\\x9f\\x14\\xdc\\x81\\xf8\\x1ba:U\\x1a\\x97\\xddS\\xe2\\xb1\\x9b\\x93\\xeb\\xd3\\x0cu\\x94l\\xceU\\xd4\\x00\\tS\\xc9\\xbe)\\x19\\x07f\\xcd\\xe5\\x96\\r2\\xb2\\t$\\x91c\\xc7\\x1e}q{\\xcb\\xb84\\xd5h\\xc5\\xfd\\xe2#\\xf2\\xc4\\x89\\n\\x1f\\xc4e\\xc0\\x05G\\xfd\\x8cE\\xead\"\\xee\\x83+\\xd0\\x1byN-zC\\xb5L\\xa58f\\x0eE\\xa7\\x89\\xe7\\x0e\\xab*\\x0b\\xee\\xf0\\xfd\\xe0\\xab\\x11o\\xe0\\xc5wTM\\xd3\\xb9\\xcf;g\\xd7\\xf3?\\xe7\\x11\\xd5\\xb2b\\xbd\\x15\\nY*\\xa3JUV2\\x87\\xccG\\x18\\x7f\\xa6\\xea\\xab\\x9b\\xcc}\\x979\\xb2\\x96\\xa4:\\x15\\xda\\xb5\\xfc\\x98y\\x1fO\\xa6\\'\\x12\\x9c\\x10\\xb57-Bd\\xee_\\xd7\\xcb\\x06\\x15\\r2K(\"\\xe4x\\xbeV\\x07\\xcf\\x06\\xa8\\xa2\\xa2\\xc2\\x85\\x81\\x1c\\t\\xb6*z\\xf6\\x9b\\xde3\\x00\\x82L\\x93 \\x08 ~\\x87\\x10\\x14\\xeb\\x01MR!\\x90\\x89c\\x00\\x8fBz\\xe0+\\xe6jd\\x8d\\r\\xcb\\xde\\xd3J\\x88\\xe8\\xaa\\x00\\x88`B\\xfe\\x07\\xe7\\x81\\xa7N\\x97\\xfb6\\x9c\\xd4)\\x97\\xa6V\\xaa\\xa3\\xcfAQ\\xa2\\xf7\\xb4~\\xd8cZ\\xa3e\\xaa\\xd2\\xce#n\\xee\\x98X\\xc80y\\x068\\x91\\xd7\\x1a&R\\xa0\\xcd\\xd2\\x14\\xd8\\xcb\\x90\\x00$\\xcf\\xd7\\xf58\\x82\\xce(\\xa5]\\x80P\\xd3\\x11\"\\xc4\\x0c$\\x91\\xb1\\x8b\\x90v\\x02E\\xc9\\x80\\x04\\x9f\\x96*yz\\xe6\\xad%\\xcc8\\x1b\\x9d\\xc9h\\x00X\\x93\\x16>\\x98Z\\xa5DU`\\xee6\\xc4\\x06\\x16\\x9bH\\xf8\\xe1<\\x9b\\x97,Kw\\x9e-\\xc2\\xfbLaWO\\x1bm>\\x1e\\x96\\x99\\xf9\\xe3@J\\xeaB\\x88\\xa6\\xa4\\x88&#\\xf1\\xc2y\\xaa \\xa2\\xd4C\\x067m\\x06\\xe7\\x08\\x9a\\x9b\\xd0\\x10\\x18\\x9bI+l1\\xce\\x16\\x14X52@>\\xf1\\xe89\\xf3\\xc5;+Le\\xb5j\\xb5\\xa9Y\\x08\\x90\\x01\\x8b\\x1f/.\\xb8\\xb3\\xe5\\xab+\\xe6Gv\\xac\\x14\\x1efH\\x9f\\xcf\\x13[\\xa1X\\xb0`\\xc4G\\xef\\xf1\\xc3|\\xe2\\x9a\\xe2\\x0b\\r\\x84I\\x11a\\xfc\\xe3\\x12\\xba=W\\xa9I\\x15J\\xb0\\x00\\x00y\\xfc|\\xb1,_r\\xb9\\xdb\\xd6\\xf0x\\xf4\\xc4\\x16\\xa4\\xe5\\x19\\xbf\\xb4\\x1e\\t\\x9b\\x1e\\xb8oB\\xac\\xca\\x82\\xed\"\\x01\\xdb\\xf8O\\xf20\\x9e\\x7f)G:\\nU\\xf0\\xb8iS0P\\x8e\\xa0\\xfa}p\\x96G\\xb5M\\xa6\\x13\\x94\\xd7\\xfb\\xca\\xb4\\x84\\x04\\xcem\\x97Q\\xd3\\xbc\\x11\\xe2\\xebq~&y\\xc5\\xb3ad\\xa3T\\x15\\xa9\\x97\\xa8\\x03S\\xa8\\x8d*\\xcb<\\x8c8\\xa8\\xaa\\xc2\\x03\\xb3\\x08\\xf1\\x8brE\\x84\\xfd?\\x1cG\\xe72\\x8bQ\\n\\x95\\xdf\\x1d\\t\\x06\\xe4}qA\\xd5r\\xf4\\xf2U\\xd1\\x9a\\x17sl> \\xbb\\x9f\\xeb\\xcc~XN\\xb6\\xc6\\xa0Q\\x81+PD\\xb7 \\xcfX\\xff\\x00?\\xa6\\x16\\xcbe\\xeb/g\\xf4\\xeaj\\xecE\\x07\\xacX2\\xddWy\\xf9\\xf5\\xc4n\\xa5^\\x95<\\xbdY\\x83I\\x9b\\x86\\x1e&n\\x83\\xe2}=qd\\xecv\\xa4\\xf9\\x8c\\x96_\\xbeX\\xa8\\xa3\\xbbp\\t\\x92GI\\xe9\"1-\\xace\\xb7\\xa9g\\x98#q\\xdb<\\xdf\\x15\\xdc\\xedF\\xcb\\xe4sU*=9JD\\xab\\x12\\x04\\x92,1\\x07\\x90\\xa7\\xded;\\xb6q\\xee\\x01!\\x81\\x83\\xfc\\x18mZ\\xb5@\\xa7\\xbc\\x92\\xc8J\\xb9\\'\\x81\\xd3\\xe1\\xfepl\\xa3\\x86\\xa6\\x95\\x9a|~\\x13f\\xb0\\xe9q\\x87\\x9b\\x8a\\x92\\xac\\xc5\\n\\xd8\\x80\\xe7\\x17*\\x19\\x83\\xb1\\x99\\xc9\\x89\\x9f\\xe0\\xfa`{\\xc6d\\xf1\\x11\\xb5\\x84\\x0f3\\xf4\\xc3`\\xe4\\xb4Tm\\xbbI\\x83\\x11\\xe5\\xc7\\xed\\x82\\xd5\\r\\x17\\x86\\xa6\\xcb!\\x82\\x98\\x1eX\\xa9j]\\xdeS>\\xae\\xb0U\\xaf\\xb6\\xe6`\\xff\\x00\\x9c?\\xd2\\x9d\\xaaf\\x07\\xbev\\x8e\\xa0[\\x93\\x18\\xb4{\\x89\\xcc\\x9d\\xb7\\x808\\xe4\\x9c2\\xafP(\\xfe\\xb6\\xc8\\xddan\\x0f\\xc7\\x12=\\x99\\rU\\xea\\x89\\xdc\\xbb\\xb6\\x96\\xb7\\xbb\\xd2\\xe2\\xd8\\x9f\\xac\\xf3QI\\xff\\x00\\xc8\\t\\x05\\xe2d\\x11\\x88\\x1c\\xf5zf\\xa2\\x83\\xb8\\x1e \\xc1\\x99\\x9f\\x17\\xf2y\\xc24\\xe5KN\\xe6\\xe1c\\xf7\\xfd\\xf0v\\xccnBV\\xa4\\xf2\\x08\\x80\\x07\\x95\\x80\\x17\\xc3l\\xde^\\x85L\\xb7\\x8dv\\xc8\\x8d\\xca\\xdbH#\\x8byb\\xbf\\x92\\xd4\\xf3\\xfd\\x98\\xa8FJ\\xa2\\xd4\\xca\\xb9&\\xae^\\xb0\\xdfM\\x8f\\x9cL\\xa9\\x99\\xb8\\xf8\\xe2\\xe9\\xa4\\xf6\\xcfL\\xd5\\x90#8\\xd2\\xb3d\\x11\\xf6j\\xec \\xb7\\xfc_\\xa8\\xb7X\\xc5\\x81\\xe9\\xf7.\\xdd\\xfd\\x1d\\x8fb\\xa4\\x83`<\\xb1P\\xed&\\x9bO8\\x8c*\\xa2:\\x18\\x0c\\x1e\\xe0\\x10-\\x8aE*Y\\x9c\\xa8d\\xcaU+E\\x98M\\n\\xa4\\xba\\x03\\xd6>\\xf0\\xf9y\\xe2E\\xb57]+%N\\xae\\xf7\\xafIk=ZH\\xf2\\xea\\xa9$\\x92ma\\xeb\\xf8\\xc6 )f\\x0e\\xab\\x99\\x15s\\x87\\xba*\"\\x8a\\x0b\\xaa\\x0e>d\\xf58\\xb0\\xf6v\\xb7\\xd9\\xf3\\xd5h\\x88\\xa6\\xb5\\x17\\xbcR\\x1b\\xa8\\xb3s\\xc5\\x88\\xc5\\xe1\\x88\\xaf\\x95X\\x08\\xe68\\x02\\xff\\x00\\t\\xf2\\xc5;\\\\\\xcb\\x15\\xd25\"\\xb1\\xe1\\xa7%J\\xf07\\t\\xc4NI\\x95\\x15e\\xf7)\\x89\\x92$u\\x1f\\xa6\\x14\\xcf!\\xa7\\x98\\xef\\x1fr\\x06R\\r\\xbe\\xf4[\\xf3\\xeb8g\\x93U}>\\x14\\x10z\\x13\\xc4\\xe1sE@]\\xd4\\xd41\\x12DN.l\\x9bA\\xdc\\x1dv\\xc0\\x01\\x87\\x03\\xe9\\x84\\xc5ui%\\xa5\\x89\\x06Z\\x04\\x8f^\\xb8i\\x9dn\\xea\\xa2\\xd5i\\xd8\\xa7\\xc4\\x00\\x83\\xc7LJR\\x14\\xb3\\x14N\\xe32\\xb73\\xcd\\xad\\xc6)\\x1d\\xac\\xa2r\\xd9\\xda!\\te\\x12\\x0e\\xe6<\\x9eH\\xfc8\\xc3\\x8e\\xce\\xb3Twa\\xb8O\\xbbso;\\x9f\\x86-\\xc6\\r0Q\\xa4\\xd8\\x95\\x1e\\x7f<DU\\r^\\xbe\\xc4]\\xfbA&X\\xcf\\xe7\\xc5\\xb1a\\xec\\xceL\\xd2\\xa5\\xb3m\\xd8\\x83p\"g\\xa7LIgHWbH\\x9f0/=m\\x8a\\xdeq\\xe7\\xc2\\xe2\\xc0\\x88a6c\\x7f\\x97<\\xdf\\x1c\\x9b\\xb61@|V=d\\x0f\\xe7\\x18r\\x840\\xdc\\x83\\xde7\\x83{zq\\x85\\xd8\\x06\\xca\\xc8\\xf0\\x95>/3\\xc7\\xe3\\x8a\\xde\\xb3\\x94\\x05d\\x81\\xe2$]\\x04\\xc8\\x1d\\x7f\\xeb\\x14\\x9dF\\x88J\\x85^\\x1c\\x81\\x07\\xc0\\x04\\xf5\\xe9\\xf1\\xea19\\xd9\\xce\\xd9g\\xb4T\\\\\\xbec\\xbc\\xce\\xe4E\\xd2\\x91\\xa9\\xb8\\xd3\\x91\\x16\\x99\\x1f,h\\xb9\\\\\\xf6SY\\xc8\\x9c\\xce\\x9c\\xec\\xe9\\x07\\xbcG\\x81V\\x97\\x91a\\xd4z\\xe2\\x99\\xa9\\xe5\\xc6[0\\xec\\x03\\x00O&.~X\\x8b\\xa2\\xcdS+\\x9aZN\\x82\\xa8,\\xb2L\\x02\\xac$\\xac\\xfa\\xdcys\\x84\\xe8Q\\xae\\x01\\xcdfs\\x15\\x12\\xads.\\xbb\\xb8\\xf9\\xdeA\\x8e\\x98p\\x19r\\xf9\\x9a\\x15\\xa1\\x15\\xa9T\\x1e A\\x1bM\\x8f\\xc3\\x9c_2\\x19\\x96\\xa9E\\xe9\\xc1Q0\\x04\\x99\\xb7\\x9f\\xf3\\xcb\\r\\xb5\\xdaHt\\xcdH\\xb0\\xf0\\xb5\\x12\\ta\\xd4\\x8b^}1G\\xcb\\x19\\n\\xb5*\\x84jk\\x17X\\x9f\\x89?\\x9e\\x1f\\xe6\\xa8/r;\\xc1u\\x86\\xbc\\xf4\\xf8y\\xf9\\xe1\\x82\\x05\\xa7L\\x84R\\x81\\x18\\x86\\x9f\\xdb\\x93\\xfepQ[w\\xbfD\\xee\\xeb|_\\x1c!\\xb0\\xa8Z\\xd2L\\xe1\\x85G\\xd9X\\xa8i\\x00\\x99\\x11\\xce\\r\\x9b\\xa7\\xdfR\\xaa\\xcf\\xb8m\\x16!\\xa3o\\xe9\\x84ry\\xb2\\x94B\\xb3J\\xa9>\\xea\\xf9\\xf9\\xe2\\xaf\\xdaz\\x8b_7H\\xecR\\xc3s\\x01\\xd1\\xba\\xdf\\x9e1#\\xd9\\xd5b\\xb4\\xdbh D}\\xe0:O\\xa6,5\\x8d5\\xa6\\x02\\xa9\\r\\xdd\\xfb\\xbc\\x89\\x9f\\xc3\\x11\\xdah\\xfbFb\\xa3*3\\xde\\xc0\\x92\\x00>dp9\\xb0\\xc5\\xea\\x93\\x9a9x\\xee\\xd4\\x82\\x0cO\\x87\\xe7\\x18\\x8a\\xd43[\\x94\\xa4(pl\\xd0/\\xfc\\xb6!d\\x95\\x01\\xc0\\xf7\\xaeD\\x11\\xf1\\x8f\\x8e\\x0c\\n\\xb8\\x94`Lq0~<q\\x87Id%\\x86\\xdd\\xc28\\xdb\\x87J\\xcdM.\\xd2\\x18O\\x98>\\xa3\\x10\\xda\\x82\\x92\\n\\x81y\\xb1\\xb0\\'\\xf7\\xf8\\xe2\\xb3\\x9f\\xc9\\xf7\\xb0\\xaa\\xbbI\\x01\\x88\\xeb\\x00\\xf2>}1\\x02):\\xe6\\xf6=2\\x10\\x92\\xa2\\xde]~>x\\x96\\xd2\\x1e\\xb6\\x9f\\xa8\\xe5\\xb3T\\xf3\\x07\"\\x94\\xea\\x7fR\\xa1FuT \\x86,\\xab%\\x97\\x8b\\x00O\\'\\x13\\xf9\\xcc\\xd5-gK\\xcb\\xea\\x99%DWcN\\xb50I\\xee\\xaa/\"\\xdd\\x08\\xb8\\xf8\\x8c@\\xe5\\xaa\\xb5\\x1dE\\x01`\\xebTD\\x87\\x9b\\xf2\\x05\\xbe}0\\xe2\\xa1;\\x87x\\x18S\\xf2\\x02\\xea\\x07L%\\x99\\x87\\xa0\\xca\\x9b \\x9d\\xab\\xb8\\\\7\\xc7\\xe7\\x8bF\\x93\\x9d\\x15ie\\xb31\\xb4\\xd4Iy \\xc1\\x9b\\x81\\xe7\\xd3\\xe9\\x87\\xbd\\xac\\xa9\\xdd\\xf6W:\\xf1\\x06\\xa3\\xaa-\\xedv\\x03\\x9f\\x81\\xc57+R\\x9cn\\x1e\\x19_\\x10&\\xe4\\xcf\\xe7\\xfbbB\\x95p\\xf1\\xbb\\x9b\\xaf3o(\\xe8?\\x1cF\\xe6)\\x95~\\xf1@\\x02\\xa4\\xab\\xf5\\x82m?L4l\\xafy\\xb4\\x9a\\xaa\\x18\\x08=o\\x8b\\xfe_\\xfa\\xcaK\\xc9\\xdav\\xf4\\xf8\\xe1<\\xc2\\xb5-\\xac\\x1c\\xf8\\x89&-\\xc7L\\rb\\x06\\\\6\\xd5\\xdd\\x06Ls\\xc6#\\x12\\x9fwQo+P5\\xa2#\\xf98\\xae\\xf6\\x82\\x94\\xe6\\xb2\\xb0n\\x01\\x06D\\x83\\x04t\\xf9\\xe2\\xc1\\xa6RJ`\\xd2\\xda\\x0b/\\x840\\xb7\\x03\\xfcbb\\xaao\\xa7N\\xf0YA\\x07\\xca\\xe6\\xde\\xbca\\x9e\\x90wUH\\xf0\\x95\\x10H\\xfb\\xdct\\xe3\\x16\\xe2\\xdb\\xd2\\xc3h\\x80\\x04b\\x070\\xe7\\xbf`\\xd7\\xda\\xd0`\\xc4\\xdf\\r\\xb3\\x02\\xcc\\xd7=\\xd4\\x10\\x0e\\x0ch!E\\x0c\\x01\\x05C\\x01\\x1ca\\xc50^\\x91\\xdc\\xc4\\xed\\x9eo\\x85\\xa9\\xa0\\xa7\\x10\\x01\\x98\\xe9\\x869\\xa7*\\x11\\xbe\\xf6\\xe6\\xdaG+lCfhB\\xd7!\\xcf\\xf4\\xc8\\x12y$\\xdeg\\xd2?\\x1cAg\\x15\\x86e\\x14\\xb7\\xdd\\x0c`D\\xdc\\xf3\\xf8\\xe1\\xe6IdS*HbE\\xc9&\\x0e&\\xb4\\xdc\\xa5\\x05\\xd3\\xf3\\xf4\\xd2\\x98\\xa6\\xafO\\xbe;\\x04x\\xc4\\x80qN\\xcd!\\x08\\xa4\\x11\\xba\\x9b)S\\x1e\\xb8\\x91c9\\xbd\\x82|rd\\xde\\xe0`\\x086\\x06!\\xaf\\x00y\\xe2cA\\xae\\x16\\x85zH\\x80\\nU\\x9d\\x14\\x9b\\x98\\xb1\\xfc\\xce\\x1e\\xf6\\xe7u>\\xcb\\xae\\xe6\\xdc>\\xddD\\x11\\x116s\\xf1\\xe9\\x8a\\xaeV\\x9f\\xf4\\x82\\x18\\x80A\\x98\\xb9>\\xbex\\x91\\xa0\\xf7\\x92\\xaaN\\xd13\\xd6D\\xe1\\xaef\\xb1E!z\\x92&}1\\x11\\xf6\\x8a\\xb0.\\xbcy\\x1f\\xdf\\x1f\\xff\\xd9'"
      ]
     },
     "execution_count": 36,
     "metadata": {},
     "output_type": "execute_result"
    }
   ],
   "source": [
    "jss_image_01_link = 'https://upload.wikimedia.org/wikipedia/commons/thumb/a/a5/John_Singer_Sargent_1903.jpg/220px-John_Singer_Sargent_1903.jpg'\n",
    "jss_image_01_obj = requests.get(jss_image_01_link)\n",
    "jss_image_01_obj.content"
   ]
  },
  {
   "cell_type": "code",
   "execution_count": 37,
   "id": "a57d2819",
   "metadata": {},
   "outputs": [
    {
     "name": "stdout",
     "output_type": "stream",
     "text": [
      "All done!\n"
     ]
    }
   ],
   "source": [
    "with open('C:\\\\Users\\\\arena\\\\Tech\\\\Python\\\\Projects\\\\web_scraping\\\\Sargent_Img_01.jpg','wb') as image:\n",
    "    image.write(jss_image_01_obj.content)\n",
    "    \n",
    "print('All done!')"
   ]
  },
  {
   "cell_type": "code",
   "execution_count": 38,
   "id": "e2463b8e",
   "metadata": {},
   "outputs": [
    {
     "data": {
      "text/plain": [
       "'C:\\\\Users\\\\arena\\\\Tech\\\\Python\\\\Projects\\\\web_scraping'"
      ]
     },
     "execution_count": 38,
     "metadata": {},
     "output_type": "execute_result"
    }
   ],
   "source": [
    "pwd"
   ]
  },
  {
   "cell_type": "code",
   "execution_count": 39,
   "id": "6056549c",
   "metadata": {},
   "outputs": [
    {
     "data": {
      "text/plain": [
       "'//upload.wikimedia.org/wikipedia/commons/thumb/a/a5/John_Singer_Sargent_1903.jpg/330px-John_Singer_Sargent_1903.jpg 1.5x, //upload.wikimedia.org/wikipedia/commons/thumb/a/a5/John_Singer_Sargent_1903.jpg/440px-John_Singer_Sargent_1903.jpg 2x'"
      ]
     },
     "execution_count": 39,
     "metadata": {},
     "output_type": "execute_result"
    }
   ],
   "source": [
    "jss_01['srcset']"
   ]
  },
  {
   "cell_type": "code",
   "execution_count": 40,
   "id": "6d994e1a",
   "metadata": {},
   "outputs": [
    {
     "data": {
      "text/plain": [
       "<img class=\"mw-file-element\" data-file-height=\"810\" data-file-width=\"608\" decoding=\"async\" height=\"293\" src=\"//upload.wikimedia.org/wikipedia/commons/thumb/a/a5/John_Singer_Sargent_1903.jpg/220px-John_Singer_Sargent_1903.jpg\" srcset=\"//upload.wikimedia.org/wikipedia/commons/thumb/a/a5/John_Singer_Sargent_1903.jpg/330px-John_Singer_Sargent_1903.jpg 1.5x, //upload.wikimedia.org/wikipedia/commons/thumb/a/a5/John_Singer_Sargent_1903.jpg/440px-John_Singer_Sargent_1903.jpg 2x\" width=\"220\"/>"
      ]
     },
     "execution_count": 40,
     "metadata": {},
     "output_type": "execute_result"
    }
   ],
   "source": [
    "jss_01"
   ]
  },
  {
   "cell_type": "code",
   "execution_count": 41,
   "id": "eff72ff9",
   "metadata": {},
   "outputs": [
    {
     "data": {
      "text/plain": [
       "[<a class=\"mw-file-description\" href=\"/wiki/File:John_Singer_Sargent_1903.jpg\"><img class=\"mw-file-element\" data-file-height=\"810\" data-file-width=\"608\" decoding=\"async\" height=\"293\" src=\"//upload.wikimedia.org/wikipedia/commons/thumb/a/a5/John_Singer_Sargent_1903.jpg/220px-John_Singer_Sargent_1903.jpg\" srcset=\"//upload.wikimedia.org/wikipedia/commons/thumb/a/a5/John_Singer_Sargent_1903.jpg/330px-John_Singer_Sargent_1903.jpg 1.5x, //upload.wikimedia.org/wikipedia/commons/thumb/a/a5/John_Singer_Sargent_1903.jpg/440px-John_Singer_Sargent_1903.jpg 2x\" width=\"220\"/></a>,\n",
       " <a class=\"mw-file-description\" href=\"/wiki/File:The_Daughters_of_Edward_Darley_Boit,_John_Singer_Sargent,_1882_(unfree_frame_crop).jpg\"><img class=\"mw-file-element\" data-file-height=\"2004\" data-file-width=\"2002\" decoding=\"async\" height=\"220\" src=\"//upload.wikimedia.org/wikipedia/commons/thumb/9/96/The_Daughters_of_Edward_Darley_Boit%2C_John_Singer_Sargent%2C_1882_%28unfree_frame_crop%29.jpg/220px-The_Daughters_of_Edward_Darley_Boit%2C_John_Singer_Sargent%2C_1882_%28unfree_frame_crop%29.jpg\" srcset=\"//upload.wikimedia.org/wikipedia/commons/thumb/9/96/The_Daughters_of_Edward_Darley_Boit%2C_John_Singer_Sargent%2C_1882_%28unfree_frame_crop%29.jpg/330px-The_Daughters_of_Edward_Darley_Boit%2C_John_Singer_Sargent%2C_1882_%28unfree_frame_crop%29.jpg 1.5x, //upload.wikimedia.org/wikipedia/commons/thumb/9/96/The_Daughters_of_Edward_Darley_Boit%2C_John_Singer_Sargent%2C_1882_%28unfree_frame_crop%29.jpg/440px-The_Daughters_of_Edward_Darley_Boit%2C_John_Singer_Sargent%2C_1882_%28unfree_frame_crop%29.jpg 2x\" width=\"220\"/></a>,\n",
       " <a class=\"mw-file-description\" href=\"/wiki/File:Miss_Frances_Sherborne_Ridley_Watts.jpg\"><img class=\"mw-file-element\" data-file-height=\"1453\" data-file-width=\"1153\" decoding=\"async\" height=\"277\" src=\"//upload.wikimedia.org/wikipedia/commons/thumb/a/ad/Miss_Frances_Sherborne_Ridley_Watts.jpg/220px-Miss_Frances_Sherborne_Ridley_Watts.jpg\" srcset=\"//upload.wikimedia.org/wikipedia/commons/thumb/a/ad/Miss_Frances_Sherborne_Ridley_Watts.jpg/330px-Miss_Frances_Sherborne_Ridley_Watts.jpg 1.5x, //upload.wikimedia.org/wikipedia/commons/thumb/a/ad/Miss_Frances_Sherborne_Ridley_Watts.jpg/440px-Miss_Frances_Sherborne_Ridley_Watts.jpg 2x\" width=\"220\"/></a>,\n",
       " <a class=\"mw-file-description\" href=\"/wiki/File:John_Singer_Sargent_-_An_Out-of-Doors_Study_-_Google_Art_Project.jpg\"><img class=\"mw-file-element\" data-file-height=\"3975\" data-file-width=\"4849\" decoding=\"async\" height=\"180\" src=\"//upload.wikimedia.org/wikipedia/commons/thumb/a/a9/John_Singer_Sargent_-_An_Out-of-Doors_Study_-_Google_Art_Project.jpg/220px-John_Singer_Sargent_-_An_Out-of-Doors_Study_-_Google_Art_Project.jpg\" srcset=\"//upload.wikimedia.org/wikipedia/commons/thumb/a/a9/John_Singer_Sargent_-_An_Out-of-Doors_Study_-_Google_Art_Project.jpg/330px-John_Singer_Sargent_-_An_Out-of-Doors_Study_-_Google_Art_Project.jpg 1.5x, //upload.wikimedia.org/wikipedia/commons/thumb/a/a9/John_Singer_Sargent_-_An_Out-of-Doors_Study_-_Google_Art_Project.jpg/440px-John_Singer_Sargent_-_An_Out-of-Doors_Study_-_Google_Art_Project.jpg 2x\" width=\"220\"/></a>,\n",
       " <a class=\"mw-file-description\" href=\"/wiki/File:EL_JALEO-SINGER.jpg\"><img class=\"mw-file-element\" data-file-height=\"2028\" data-file-width=\"3000\" decoding=\"async\" height=\"176\" src=\"//upload.wikimedia.org/wikipedia/commons/thumb/9/92/EL_JALEO-SINGER.jpg/260px-EL_JALEO-SINGER.jpg\" srcset=\"//upload.wikimedia.org/wikipedia/commons/thumb/9/92/EL_JALEO-SINGER.jpg/390px-EL_JALEO-SINGER.jpg 1.5x, //upload.wikimedia.org/wikipedia/commons/thumb/9/92/EL_JALEO-SINGER.jpg/520px-EL_JALEO-SINGER.jpg 2x\" width=\"260\"/></a>,\n",
       " <a class=\"mw-file-description\" href=\"/wiki/File:Venetianonionseller.jpg\"><img class=\"mw-file-element\" data-file-height=\"2750\" data-file-width=\"2041\" decoding=\"async\" height=\"202\" src=\"//upload.wikimedia.org/wikipedia/commons/thumb/8/82/Venetianonionseller.jpg/150px-Venetianonionseller.jpg\" srcset=\"//upload.wikimedia.org/wikipedia/commons/thumb/8/82/Venetianonionseller.jpg/225px-Venetianonionseller.jpg 1.5x, //upload.wikimedia.org/wikipedia/commons/thumb/8/82/Venetianonionseller.jpg/300px-Venetianonionseller.jpg 2x\" width=\"150\"/></a>,\n",
       " <a class=\"mw-file-description\" href=\"/wiki/File:John_Singer_Sargent_in_atelier.jpg\"><img class=\"mw-file-element\" data-file-height=\"3148\" data-file-width=\"4141\" decoding=\"async\" height=\"167\" src=\"//upload.wikimedia.org/wikipedia/commons/thumb/9/95/John_Singer_Sargent_in_atelier.jpg/220px-John_Singer_Sargent_in_atelier.jpg\" srcset=\"//upload.wikimedia.org/wikipedia/commons/thumb/9/95/John_Singer_Sargent_in_atelier.jpg/330px-John_Singer_Sargent_in_atelier.jpg 1.5x, //upload.wikimedia.org/wikipedia/commons/thumb/9/95/John_Singer_Sargent_in_atelier.jpg/440px-John_Singer_Sargent_in_atelier.jpg 2x\" width=\"220\"/></a>,\n",
       " <a class=\"mw-file-description\" href=\"/wiki/File:Madame_X_(Madame_Pierre_Gautreau),_John_Singer_Sargent,_1884_(unfree_frame_crop).jpg\"><img class=\"mw-file-element\" data-file-height=\"3680\" data-file-width=\"1895\" decoding=\"async\" height=\"330\" src=\"//upload.wikimedia.org/wikipedia/commons/thumb/a/a4/Madame_X_%28Madame_Pierre_Gautreau%29%2C_John_Singer_Sargent%2C_1884_%28unfree_frame_crop%29.jpg/170px-Madame_X_%28Madame_Pierre_Gautreau%29%2C_John_Singer_Sargent%2C_1884_%28unfree_frame_crop%29.jpg\" srcset=\"//upload.wikimedia.org/wikipedia/commons/thumb/a/a4/Madame_X_%28Madame_Pierre_Gautreau%29%2C_John_Singer_Sargent%2C_1884_%28unfree_frame_crop%29.jpg/255px-Madame_X_%28Madame_Pierre_Gautreau%29%2C_John_Singer_Sargent%2C_1884_%28unfree_frame_crop%29.jpg 1.5x, //upload.wikimedia.org/wikipedia/commons/thumb/a/a4/Madame_X_%28Madame_Pierre_Gautreau%29%2C_John_Singer_Sargent%2C_1884_%28unfree_frame_crop%29.jpg/340px-Madame_X_%28Madame_Pierre_Gautreau%29%2C_John_Singer_Sargent%2C_1884_%28unfree_frame_crop%29.jpg 2x\" width=\"170\"/></a>,\n",
       " <a class=\"mw-file-description\" href=\"/wiki/File:Pozzi,_Samuel_-_Par_Sargent.jpg\"><img class=\"mw-file-element\" data-file-height=\"6829\" data-file-width=\"3291\" decoding=\"async\" height=\"374\" src=\"//upload.wikimedia.org/wikipedia/commons/thumb/4/4b/Pozzi%2C_Samuel_-_Par_Sargent.jpg/180px-Pozzi%2C_Samuel_-_Par_Sargent.jpg\" srcset=\"//upload.wikimedia.org/wikipedia/commons/thumb/4/4b/Pozzi%2C_Samuel_-_Par_Sargent.jpg/270px-Pozzi%2C_Samuel_-_Par_Sargent.jpg 1.5x, //upload.wikimedia.org/wikipedia/commons/thumb/4/4b/Pozzi%2C_Samuel_-_Par_Sargent.jpg/360px-Pozzi%2C_Samuel_-_Par_Sargent.jpg 2x\" width=\"180\"/></a>,\n",
       " <a class=\"mw-file-description\" href=\"/wiki/File:John_Singer_Sargent_-_Carnation,_Lily,_Lily,_Rose_-_Google_Art_Project.jpg\"><img class=\"mw-file-element\" data-file-height=\"3762\" data-file-width=\"3330\" decoding=\"async\" height=\"249\" src=\"//upload.wikimedia.org/wikipedia/commons/thumb/e/ed/John_Singer_Sargent_-_Carnation%2C_Lily%2C_Lily%2C_Rose_-_Google_Art_Project.jpg/220px-John_Singer_Sargent_-_Carnation%2C_Lily%2C_Lily%2C_Rose_-_Google_Art_Project.jpg\" srcset=\"//upload.wikimedia.org/wikipedia/commons/thumb/e/ed/John_Singer_Sargent_-_Carnation%2C_Lily%2C_Lily%2C_Rose_-_Google_Art_Project.jpg/330px-John_Singer_Sargent_-_Carnation%2C_Lily%2C_Lily%2C_Rose_-_Google_Art_Project.jpg 1.5x, //upload.wikimedia.org/wikipedia/commons/thumb/e/ed/John_Singer_Sargent_-_Carnation%2C_Lily%2C_Lily%2C_Rose_-_Google_Art_Project.jpg/440px-John_Singer_Sargent_-_Carnation%2C_Lily%2C_Lily%2C_Rose_-_Google_Art_Project.jpg 2x\" width=\"220\"/></a>,\n",
       " <a class=\"mw-file-description\" href=\"/wiki/File:Edinburgh_NGS_Singer_Sargent_Lady_Agnew.JPG\"><img class=\"mw-file-element\" data-file-height=\"2528\" data-file-width=\"1992\" decoding=\"async\" height=\"216\" src=\"//upload.wikimedia.org/wikipedia/commons/thumb/f/fe/Edinburgh_NGS_Singer_Sargent_Lady_Agnew.JPG/170px-Edinburgh_NGS_Singer_Sargent_Lady_Agnew.JPG\" srcset=\"//upload.wikimedia.org/wikipedia/commons/thumb/f/fe/Edinburgh_NGS_Singer_Sargent_Lady_Agnew.JPG/255px-Edinburgh_NGS_Singer_Sargent_Lady_Agnew.JPG 1.5x, //upload.wikimedia.org/wikipedia/commons/thumb/f/fe/Edinburgh_NGS_Singer_Sargent_Lady_Agnew.JPG/340px-Edinburgh_NGS_Singer_Sargent_Lady_Agnew.JPG 2x\" width=\"170\"/></a>,\n",
       " <a class=\"mw-file-description\" href=\"/wiki/File:Almina_Daughter_of_Asher_Wertheimer_by_J_S_Sargent.jpg\"><img class=\"mw-file-element\" data-file-height=\"1536\" data-file-width=\"1111\" decoding=\"async\" height=\"235\" src=\"//upload.wikimedia.org/wikipedia/commons/thumb/a/a9/Almina_Daughter_of_Asher_Wertheimer_by_J_S_Sargent.jpg/170px-Almina_Daughter_of_Asher_Wertheimer_by_J_S_Sargent.jpg\" srcset=\"//upload.wikimedia.org/wikipedia/commons/thumb/a/a9/Almina_Daughter_of_Asher_Wertheimer_by_J_S_Sargent.jpg/255px-Almina_Daughter_of_Asher_Wertheimer_by_J_S_Sargent.jpg 1.5x, //upload.wikimedia.org/wikipedia/commons/thumb/a/a9/Almina_Daughter_of_Asher_Wertheimer_by_J_S_Sargent.jpg/340px-Almina_Daughter_of_Asher_Wertheimer_by_J_S_Sargent.jpg 2x\" width=\"170\"/></a>,\n",
       " <a class=\"mw-file-description\" href=\"/wiki/File:John_Singer_Sargent_-_Repose.jpg\"><img class=\"mw-file-element\" data-file-height=\"1057\" data-file-width=\"1280\" decoding=\"async\" height=\"182\" src=\"//upload.wikimedia.org/wikipedia/commons/thumb/f/fe/John_Singer_Sargent_-_Repose.jpg/220px-John_Singer_Sargent_-_Repose.jpg\" srcset=\"//upload.wikimedia.org/wikipedia/commons/thumb/f/fe/John_Singer_Sargent_-_Repose.jpg/330px-John_Singer_Sargent_-_Repose.jpg 1.5x, //upload.wikimedia.org/wikipedia/commons/thumb/f/fe/John_Singer_Sargent_-_Repose.jpg/440px-John_Singer_Sargent_-_Repose.jpg 2x\" width=\"220\"/></a>,\n",
       " <a class=\"mw-file-description\" href=\"/wiki/File:John_Singer_Sargent_-_Nude_Study_of_Thomas_E._McKeller.jpg\"><img class=\"mw-file-element\" data-file-height=\"2401\" data-file-width=\"1603\" decoding=\"async\" height=\"225\" src=\"//upload.wikimedia.org/wikipedia/commons/thumb/3/3e/John_Singer_Sargent_-_Nude_Study_of_Thomas_E._McKeller.jpg/150px-John_Singer_Sargent_-_Nude_Study_of_Thomas_E._McKeller.jpg\" srcset=\"//upload.wikimedia.org/wikipedia/commons/thumb/3/3e/John_Singer_Sargent_-_Nude_Study_of_Thomas_E._McKeller.jpg/225px-John_Singer_Sargent_-_Nude_Study_of_Thomas_E._McKeller.jpg 1.5x, //upload.wikimedia.org/wikipedia/commons/thumb/3/3e/John_Singer_Sargent_-_Nude_Study_of_Thomas_E._McKeller.jpg/300px-John_Singer_Sargent_-_Nude_Study_of_Thomas_E._McKeller.jpg 2x\" width=\"150\"/></a>,\n",
       " <a class=\"mw-file-description\" href=\"/wiki/File:Brooklyn_Museum_-_Gourds_-_John_Singer_Sargent.jpg\"><img class=\"mw-file-element\" data-file-height=\"640\" data-file-width=\"893\" decoding=\"async\" height=\"158\" src=\"//upload.wikimedia.org/wikipedia/commons/thumb/2/23/Brooklyn_Museum_-_Gourds_-_John_Singer_Sargent.jpg/220px-Brooklyn_Museum_-_Gourds_-_John_Singer_Sargent.jpg\" srcset=\"//upload.wikimedia.org/wikipedia/commons/thumb/2/23/Brooklyn_Museum_-_Gourds_-_John_Singer_Sargent.jpg/330px-Brooklyn_Museum_-_Gourds_-_John_Singer_Sargent.jpg 1.5x, //upload.wikimedia.org/wikipedia/commons/thumb/2/23/Brooklyn_Museum_-_Gourds_-_John_Singer_Sargent.jpg/440px-Brooklyn_Museum_-_Gourds_-_John_Singer_Sargent.jpg 2x\" width=\"220\"/></a>,\n",
       " <a class=\"mw-file-description\" href=\"/wiki/File:John_Singer_Sargent_-_The_Chess_Game.jpg\"><img class=\"mw-file-element\" data-file-height=\"1136\" data-file-width=\"912\" decoding=\"async\" height=\"187\" src=\"//upload.wikimedia.org/wikipedia/commons/thumb/6/6d/John_Singer_Sargent_-_The_Chess_Game.jpg/150px-John_Singer_Sargent_-_The_Chess_Game.jpg\" srcset=\"//upload.wikimedia.org/wikipedia/commons/thumb/6/6d/John_Singer_Sargent_-_The_Chess_Game.jpg/225px-John_Singer_Sargent_-_The_Chess_Game.jpg 1.5x, //upload.wikimedia.org/wikipedia/commons/thumb/6/6d/John_Singer_Sargent_-_The_Chess_Game.jpg/300px-John_Singer_Sargent_-_The_Chess_Game.jpg 2x\" width=\"150\"/></a>,\n",
       " <a class=\"mw-file-description\" href=\"/wiki/File:John_Singer_Sargent_-_Atlas_and_the_Hesperides,_1922-1925.jpg\"><img class=\"mw-file-element\" data-file-height=\"1322\" data-file-width=\"1324\" decoding=\"async\" height=\"170\" src=\"//upload.wikimedia.org/wikipedia/commons/thumb/3/3d/John_Singer_Sargent_-_Atlas_and_the_Hesperides%2C_1922-1925.jpg/170px-John_Singer_Sargent_-_Atlas_and_the_Hesperides%2C_1922-1925.jpg\" srcset=\"//upload.wikimedia.org/wikipedia/commons/thumb/3/3d/John_Singer_Sargent_-_Atlas_and_the_Hesperides%2C_1922-1925.jpg/255px-John_Singer_Sargent_-_Atlas_and_the_Hesperides%2C_1922-1925.jpg 1.5x, //upload.wikimedia.org/wikipedia/commons/thumb/3/3d/John_Singer_Sargent_-_Atlas_and_the_Hesperides%2C_1922-1925.jpg/340px-John_Singer_Sargent_-_Atlas_and_the_Hesperides%2C_1922-1925.jpg 2x\" width=\"170\"/></a>,\n",
       " <a class=\"mw-file-description\" href=\"/wiki/File:John_Singer_Sargent,_Synagogue,_1919.jpg\"><img class=\"mw-file-element\" data-file-height=\"1920\" data-file-width=\"1271\" decoding=\"async\" height=\"227\" src=\"//upload.wikimedia.org/wikipedia/commons/thumb/6/65/John_Singer_Sargent%2C_Synagogue%2C_1919.jpg/150px-John_Singer_Sargent%2C_Synagogue%2C_1919.jpg\" srcset=\"//upload.wikimedia.org/wikipedia/commons/thumb/6/65/John_Singer_Sargent%2C_Synagogue%2C_1919.jpg/225px-John_Singer_Sargent%2C_Synagogue%2C_1919.jpg 1.5x, //upload.wikimedia.org/wikipedia/commons/thumb/6/65/John_Singer_Sargent%2C_Synagogue%2C_1919.jpg/300px-John_Singer_Sargent%2C_Synagogue%2C_1919.jpg 2x\" width=\"150\"/></a>,\n",
       " <a class=\"mw-file-description\" href=\"/wiki/File:Sargent_-_Rosina.jpg\" title=\"Rosina, 1878, depicting Rosina Ferrara\"><img alt=\"Rosina, 1878, depicting Rosina Ferrara\" class=\"mw-file-element\" data-file-height=\"4968\" data-file-width=\"2353\" decoding=\"async\" height=\"200\" src=\"//upload.wikimedia.org/wikipedia/commons/thumb/2/26/Sargent_-_Rosina.jpg/94px-Sargent_-_Rosina.jpg\" srcset=\"//upload.wikimedia.org/wikipedia/commons/thumb/2/26/Sargent_-_Rosina.jpg/142px-Sargent_-_Rosina.jpg 1.5x, //upload.wikimedia.org/wikipedia/commons/thumb/2/26/Sargent_-_Rosina.jpg/189px-Sargent_-_Rosina.jpg 2x\" width=\"94\"/></a>,\n",
       " <a class=\"mw-file-description\" href=\"/wiki/File:Bartolomeo_Magagnosco_by_John_Singer_Sargent_1875.jpg\" title=\"Bartolomeo Magagnosco, c. 1875\"><img alt=\"Bartolomeo Magagnosco, c. 1875\" class=\"mw-file-element\" data-file-height=\"900\" data-file-width=\"716\" decoding=\"async\" height=\"200\" src=\"//upload.wikimedia.org/wikipedia/commons/thumb/5/51/Bartolomeo_Magagnosco_by_John_Singer_Sargent_1875.jpg/159px-Bartolomeo_Magagnosco_by_John_Singer_Sargent_1875.jpg\" srcset=\"//upload.wikimedia.org/wikipedia/commons/thumb/5/51/Bartolomeo_Magagnosco_by_John_Singer_Sargent_1875.jpg/239px-Bartolomeo_Magagnosco_by_John_Singer_Sargent_1875.jpg 1.5x, //upload.wikimedia.org/wikipedia/commons/thumb/5/51/Bartolomeo_Magagnosco_by_John_Singer_Sargent_1875.jpg/318px-Bartolomeo_Magagnosco_by_John_Singer_Sargent_1875.jpg 2x\" width=\"159\"/></a>,\n",
       " <a class=\"mw-file-description\" href=\"/wiki/File:Albert_de_Belleroche.jpg\" title=\"Albert de Belleroche, c. 1882\"><img alt=\"Albert de Belleroche, c. 1882\" class=\"mw-file-element\" data-file-height=\"300\" data-file-width=\"206\" decoding=\"async\" height=\"200\" src=\"//upload.wikimedia.org/wikipedia/commons/thumb/a/a4/Albert_de_Belleroche.jpg/137px-Albert_de_Belleroche.jpg\" srcset=\"//upload.wikimedia.org/wikipedia/commons/a/a4/Albert_de_Belleroche.jpg 1.5x\" width=\"137\"/></a>,\n",
       " <a class=\"mw-file-description\" href=\"/wiki/File:Sargent,_John_Singer_(1856-1925)_-_1905_o_1915_-_Olimpio_Fusco.jpg\" title=\"Olimpio Fusco, c. 1905–1915\"><img alt=\"Olimpio Fusco, c. 1905–1915\" class=\"mw-file-element\" data-file-height=\"655\" data-file-width=\"473\" decoding=\"async\" height=\"200\" src=\"//upload.wikimedia.org/wikipedia/commons/thumb/0/0a/Sargent%2C_John_Singer_%281856-1925%29_-_1905_o_1915_-_Olimpio_Fusco.jpg/144px-Sargent%2C_John_Singer_%281856-1925%29_-_1905_o_1915_-_Olimpio_Fusco.jpg\" srcset=\"//upload.wikimedia.org/wikipedia/commons/thumb/0/0a/Sargent%2C_John_Singer_%281856-1925%29_-_1905_o_1915_-_Olimpio_Fusco.jpg/217px-Sargent%2C_John_Singer_%281856-1925%29_-_1905_o_1915_-_Olimpio_Fusco.jpg 1.5x, //upload.wikimedia.org/wikipedia/commons/thumb/0/0a/Sargent%2C_John_Singer_%281856-1925%29_-_1905_o_1915_-_Olimpio_Fusco.jpg/289px-Sargent%2C_John_Singer_%281856-1925%29_-_1905_o_1915_-_Olimpio_Fusco.jpg 2x\" width=\"144\"/></a>,\n",
       " <a class=\"mw-file-description\" href=\"/wiki/File:Ars%C3%A8ne_Vigeant-John_Singer_Sargent_mg_9497.jpg\"><img class=\"mw-file-element\" data-file-height=\"2362\" data-file-width=\"2501\" decoding=\"async\" height=\"208\" src=\"//upload.wikimedia.org/wikipedia/commons/thumb/d/d6/Ars%C3%A8ne_Vigeant-John_Singer_Sargent_mg_9497.jpg/220px-Ars%C3%A8ne_Vigeant-John_Singer_Sargent_mg_9497.jpg\" srcset=\"//upload.wikimedia.org/wikipedia/commons/thumb/d/d6/Ars%C3%A8ne_Vigeant-John_Singer_Sargent_mg_9497.jpg/330px-Ars%C3%A8ne_Vigeant-John_Singer_Sargent_mg_9497.jpg 1.5x, //upload.wikimedia.org/wikipedia/commons/thumb/d/d6/Ars%C3%A8ne_Vigeant-John_Singer_Sargent_mg_9497.jpg/440px-Ars%C3%A8ne_Vigeant-John_Singer_Sargent_mg_9497.jpg 2x\" width=\"220\"/></a>,\n",
       " <a class=\"mw-file-description\" href=\"/wiki/File:Sargent_MonetPainting.jpg\"><img class=\"mw-file-element\" data-file-height=\"1265\" data-file-width=\"1536\" decoding=\"async\" height=\"181\" src=\"//upload.wikimedia.org/wikipedia/commons/thumb/7/7c/Sargent_MonetPainting.jpg/220px-Sargent_MonetPainting.jpg\" srcset=\"//upload.wikimedia.org/wikipedia/commons/thumb/7/7c/Sargent_MonetPainting.jpg/330px-Sargent_MonetPainting.jpg 1.5x, //upload.wikimedia.org/wikipedia/commons/thumb/7/7c/Sargent_MonetPainting.jpg/440px-Sargent_MonetPainting.jpg 2x\" width=\"220\"/></a>,\n",
       " <a class=\"mw-file-description\" href=\"/wiki/File:John_Singer_Sargent_Grave_2016.jpg\"><img class=\"mw-file-element\" data-file-height=\"2800\" data-file-width=\"2675\" decoding=\"async\" height=\"178\" src=\"//upload.wikimedia.org/wikipedia/commons/thumb/b/bf/John_Singer_Sargent_Grave_2016.jpg/170px-John_Singer_Sargent_Grave_2016.jpg\" srcset=\"//upload.wikimedia.org/wikipedia/commons/thumb/b/bf/John_Singer_Sargent_Grave_2016.jpg/255px-John_Singer_Sargent_Grave_2016.jpg 1.5x, //upload.wikimedia.org/wikipedia/commons/thumb/b/bf/John_Singer_Sargent_Grave_2016.jpg/340px-John_Singer_Sargent_Grave_2016.jpg 2x\" width=\"170\"/></a>]"
      ]
     },
     "execution_count": 41,
     "metadata": {},
     "output_type": "execute_result"
    }
   ],
   "source": [
    "soup_jss.select('.mw-file-description')"
   ]
  },
  {
   "cell_type": "code",
   "execution_count": 42,
   "id": "ae794c1b",
   "metadata": {},
   "outputs": [],
   "source": [
    "jss_01_hiRes_obj = soup_jss.select('.mw-file-description')[0]"
   ]
  },
  {
   "cell_type": "code",
   "execution_count": 43,
   "id": "83310b4d",
   "metadata": {},
   "outputs": [
    {
     "data": {
      "text/plain": [
       "<a class=\"mw-file-description\" href=\"/wiki/File:John_Singer_Sargent_1903.jpg\"><img class=\"mw-file-element\" data-file-height=\"810\" data-file-width=\"608\" decoding=\"async\" height=\"293\" src=\"//upload.wikimedia.org/wikipedia/commons/thumb/a/a5/John_Singer_Sargent_1903.jpg/220px-John_Singer_Sargent_1903.jpg\" srcset=\"//upload.wikimedia.org/wikipedia/commons/thumb/a/a5/John_Singer_Sargent_1903.jpg/330px-John_Singer_Sargent_1903.jpg 1.5x, //upload.wikimedia.org/wikipedia/commons/thumb/a/a5/John_Singer_Sargent_1903.jpg/440px-John_Singer_Sargent_1903.jpg 2x\" width=\"220\"/></a>"
      ]
     },
     "execution_count": 43,
     "metadata": {},
     "output_type": "execute_result"
    }
   ],
   "source": [
    "jss_01_hiRes_obj"
   ]
  },
  {
   "cell_type": "code",
   "execution_count": 44,
   "id": "9d3246d9",
   "metadata": {},
   "outputs": [
    {
     "data": {
      "text/plain": [
       "'/wiki/File:John_Singer_Sargent_1903.jpg'"
      ]
     },
     "execution_count": 44,
     "metadata": {},
     "output_type": "execute_result"
    }
   ],
   "source": [
    "jss_01_hiRes_obj['href']"
   ]
  },
  {
   "cell_type": "markdown",
   "id": "ab446adf",
   "metadata": {},
   "source": [
    "<img src = 'https://en.wikipedia.org/wiki/File:John_Singer_Sargent_1903.jpg'>"
   ]
  },
  {
   "cell_type": "code",
   "execution_count": 45,
   "id": "0f25a6d9",
   "metadata": {},
   "outputs": [
    {
     "data": {
      "text/plain": [
       "'<!DOCTYPE html>\\n<html class=\"client-nojs vector-feature-language-in-header-enabled vector-feature-language-in-main-page-header-disabled vector-feature-sticky-header-disabled vector-feature-page-tools-pinned-disabled vector-feature-toc-pinned-clientpref-1 vector-feature-main-menu-pinned-disabled vector-feature-limited-width-clientpref-1 vector-feature-limited-width-content-enabled vector-feature-zebra-design-disabled vector-feature-custom-font-size-clientpref-0 vector-feature-client-preferences-disabled vector-feature-typography-survey-disabled vector-toc-not-available\" lang=\"en\" dir=\"ltr\">\\n<head>\\n<meta charset=\"UTF-8\">\\n<title>File:John Singer Sargent 1903.jpg - Wikipedia</title>\\n<script>(function(){var className=\"client-js vector-feature-language-in-header-enabled vector-feature-language-in-main-page-header-disabled vector-feature-sticky-header-disabled vector-feature-page-tools-pinned-disabled vector-feature-toc-pinned-clientpref-1 vector-feature-main-menu-pinned-disabled vector-feature-limited-width-clientpref-1 vector-feature-limited-width-content-enabled vector-feature-zebra-design-disabled vector-feature-custom-font-size-clientpref-0 vector-feature-client-preferences-disabled vector-feature-typography-survey-disabled vector-toc-not-available\";var cookie=document.cookie.match(/(?:^|; )enwikimwclientpreferences=([^;]+)/);if(cookie){cookie[1].split(\\'%2C\\').forEach(function(pref){className=className.replace(new RegExp(\\'(^| )\\'+pref.replace(/-clientpref-\\\\w+$|[^\\\\w-]+/g,\\'\\')+\\'-clientpref-\\\\\\\\w+( |$)\\'),\\'$1\\'+pref+\\'$2\\');});}document.documentElement.className=className;}());RLCONF={\"wgBreakFrames\":false,\"wgSeparatorTransformTable\":[\"\",\"\"],\"wgDigitTransformTable\":[\"\",\"\"],\\n\"wgDefaultDateFormat\":\"dmy\",\"wgMonthNames\":[\"\",\"January\",\"February\",\"March\",\"April\",\"May\",\"June\",\"July\",\"August\",\"September\",\"October\",\"November\",\"December\"],\"wgRequestId\":\"88f0adf2-1832-4d49-8aa6-411ad3ea892a\",\"wgCanonicalNamespace\":\"File\",\"wgCanonicalSpecialPageName\":false,\"wgNamespaceNumber\":6,\"wgPageName\":\"File:John_Singer_Sargent_1903.jpg\",\"wgTitle\":\"John Singer Sargent 1903.jpg\",\"wgCurRevisionId\":0,\"wgRevisionId\":0,\"wgArticleId\":0,\"wgIsArticle\":true,\"wgIsRedirect\":false,\"wgAction\":\"view\",\"wgUserName\":null,\"wgUserGroups\":[\"*\"],\"wgCategories\":[],\"wgPageViewLanguage\":\"en\",\"wgPageContentLanguage\":\"en\",\"wgPageContentModel\":\"wikitext\",\"wgRelevantPageName\":\"File:John_Singer_Sargent_1903.jpg\",\"wgRelevantArticleId\":0,\"wgIsProbablyEditable\":false,\"wgRelevantPageIsProbablyEditable\":false,\"wgRestrictionCreate\":[],\"wgNoticeProject\":\"wikipedia\",\"wgFlaggedRevsParams\":{\"tags\":{\"status\":{\"levels\":1}}},\"wgMediaViewerOnClick\":true,\"wgMediaViewerEnabledByDefault\":true,\"wgPopupsFlags\":10,\\n\"wgVisualEditor\":{\"pageLanguageCode\":\"en\",\"pageLanguageDir\":\"ltr\",\"pageVariantFallbacks\":\"en\"},\"wgMFDisplayWikibaseDescriptions\":{\"search\":true,\"watchlist\":true,\"tagline\":false,\"nearby\":true},\"wgWMESchemaEditAttemptStepOversample\":false,\"wgWMEPageLength\":0,\"wgULSCurrentAutonym\":\"English\",\"wgCentralAuthMobileDomain\":false,\"wgEditSubmitButtonLabelPublish\":true,\"wgULSPosition\":\"interlanguage\",\"wgULSisCompactLinksEnabled\":true,\"wgULSisLanguageSelectorEmpty\":true,\"wgCheckUserClientHintsHeadersJsApi\":[\"architecture\",\"bitness\",\"brands\",\"fullVersionList\",\"mobile\",\"model\",\"platform\",\"platformVersion\"],\"GEHomepageSuggestedEditsEnableTopics\":true,\"wgGETopicsMatchModeEnabled\":false,\"wgGEStructuredTaskRejectionReasonTextInputEnabled\":false,\"wgGELevelingUpEnabledForUser\":false};RLSTATE={\"skins.vector.user.styles\":\"ready\",\"ext.globalCssJs.user.styles\":\"ready\",\"site.styles\":\"ready\",\"user.styles\":\"ready\",\"skins.vector.user\":\"ready\",\"ext.globalCssJs.user\":\"ready\",\"user\":\"ready\",\"user.options\":\"loading\",\\n\"mediawiki.interface.helpers.styles\":\"ready\",\"filepage\":\"ready\",\"mediawiki.action.view.filepage\":\"ready\",\"codex-search-styles\":\"ready\",\"skins.vector.styles\":\"ready\",\"skins.vector.icons\":\"ready\",\"jquery.makeCollapsible.styles\":\"ready\",\"ext.visualEditor.desktopArticleTarget.noscript\":\"ready\",\"ext.uls.interlanguage\":\"ready\",\"ext.wikimediaBadges\":\"ready\"};RLPAGEMODULES=[\"mediawiki.action.view.metadata\",\"site\",\"mediawiki.page.ready\",\"jquery.makeCollapsible\",\"skins.vector.js\",\"ext.centralNotice.geoIP\",\"ext.centralNotice.startUp\",\"ext.gadget.ReferenceTooltips\",\"ext.gadget.switcher\",\"ext.urlShortener.toolbar\",\"ext.centralauth.centralautologin\",\"mmv.head\",\"mmv.bootstrap.autostart\",\"ext.popups\",\"ext.visualEditor.desktopArticleTarget.init\",\"ext.visualEditor.targetLoader\",\"ext.echo.centralauth\",\"ext.eventLogging\",\"ext.wikimediaEvents\",\"ext.navigationTiming\",\"ext.uls.compactlinks\",\"ext.uls.interface\",\"ext.cx.eventlogging.campaigns\",\"ext.checkUser.clientHints\"];</script>\\n<script>(RLQ=window.RLQ||[]).push(function(){mw.loader.impl(function(){return[\"user.options@12s5i\",function($,jQuery,require,module){mw.user.tokens.set({\"patrolToken\":\"+\\\\\\\\\",\"watchToken\":\"+\\\\\\\\\",\"csrfToken\":\"+\\\\\\\\\"});\\n}];});});</script>\\n<link rel=\"stylesheet\" href=\"/w/load.php?lang=en&amp;modules=codex-search-styles%2Cfilepage%7Cext.uls.interlanguage%7Cext.visualEditor.desktopArticleTarget.noscript%7Cext.wikimediaBadges%7Cjquery.makeCollapsible.styles%7Cmediawiki.action.view.filepage%7Cmediawiki.interface.helpers.styles%7Cskins.vector.icons%2Cstyles&amp;only=styles&amp;skin=vector-2022\">\\n<script async=\"\" src=\"/w/load.php?lang=en&amp;modules=startup&amp;only=scripts&amp;raw=1&amp;skin=vector-2022\"></script>\\n<link rel=\"stylesheet\" href=\"https://commons.wikimedia.org/w/index.php?title=MediaWiki:Filepage.css&amp;action=raw&amp;ctype=text/css\">\\n<meta name=\"ResourceLoaderDynamicStyles\" content=\"\">\\n<link rel=\"stylesheet\" href=\"/w/load.php?lang=en&amp;modules=site.styles&amp;only=styles&amp;skin=vector-2022\">\\n<meta name=\"generator\" content=\"MediaWiki 1.42.0-wmf.3\">\\n<meta name=\"referrer\" content=\"origin\">\\n<meta name=\"referrer\" content=\"origin-when-cross-origin\">\\n<meta name=\"robots\" content=\"max-image-preview:standard\">\\n<meta name=\"format-detection\" content=\"telephone=no\">\\n<meta property=\"og:image\" content=\"https://upload.wikimedia.org/wikipedia/commons/a/a5/John_Singer_Sargent_1903.jpg\">\\n<meta property=\"og:image:width\" content=\"1200\">\\n<meta property=\"og:image:height\" content=\"1599\">\\n<meta property=\"og:image\" content=\"https://upload.wikimedia.org/wikipedia/commons/a/a5/John_Singer_Sargent_1903.jpg\">\\n<meta property=\"og:image:width\" content=\"800\">\\n<meta property=\"og:image:height\" content=\"1066\">\\n<meta property=\"og:image:width\" content=\"640\">\\n<meta property=\"og:image:height\" content=\"853\">\\n<meta name=\"viewport\" content=\"width=1000\">\\n<meta property=\"og:title\" content=\"File:John Singer Sargent 1903.jpg - Wikipedia\">\\n<meta property=\"og:type\" content=\"website\">\\n<link rel=\"preconnect\" href=\"//upload.wikimedia.org\">\\n<link rel=\"preconnect\" href=\"//upload.wikimedia.org\">\\n<link rel=\"alternate\" media=\"only screen and (max-width: 720px)\" href=\"//en.m.wikipedia.org/wiki/File:John_Singer_Sargent_1903.jpg\">\\n<link rel=\"apple-touch-icon\" href=\"/static/apple-touch/wikipedia.png\">\\n<link rel=\"icon\" href=\"/static/favicon/wikipedia.ico\">\\n<link rel=\"search\" type=\"application/opensearchdescription+xml\" href=\"/w/opensearch_desc.php\" title=\"Wikipedia (en)\">\\n<link rel=\"EditURI\" type=\"application/rsd+xml\" href=\"//en.wikipedia.org/w/api.php?action=rsd\">\\n<link rel=\"canonical\" href=\"https://commons.wikimedia.org/wiki/File:John_Singer_Sargent_1903.jpg\">\\n<link rel=\"license\" href=\"https://creativecommons.org/licenses/by-sa/4.0/deed.en\">\\n<link rel=\"alternate\" type=\"application/atom+xml\" title=\"Wikipedia Atom feed\" href=\"/w/index.php?title=Special:RecentChanges&amp;feed=atom\">\\n<link rel=\"dns-prefetch\" href=\"//meta.wikimedia.org\" />\\n<link rel=\"dns-prefetch\" href=\"//login.wikimedia.org\">\\n</head>\\n<body class=\"skin-vector skin-vector-search-vue mediawiki ltr sitedir-ltr mw-hide-empty-elt ns-6 ns-subject page-File_John_Singer_Sargent_1903_jpg rootpage-File_John_Singer_Sargent_1903_jpg skin-vector-2022 action-view\"><a class=\"mw-jump-link\" href=\"#bodyContent\">Jump to content</a>\\n<div class=\"vector-header-container\">\\n\\t<header class=\"vector-header mw-header\">\\n\\t\\t<div class=\"vector-header-start\">\\n\\t\\t\\t<nav class=\"vector-main-menu-landmark\" aria-label=\"Site\" role=\"navigation\">\\n\\t\\t\\t\\t\\n<div id=\"vector-main-menu-dropdown\" class=\"vector-dropdown vector-main-menu-dropdown vector-button-flush-left vector-button-flush-right\"  >\\n\\t<input type=\"checkbox\" id=\"vector-main-menu-dropdown-checkbox\" role=\"button\" aria-haspopup=\"true\" data-event-name=\"ui.dropdown-vector-main-menu-dropdown\" class=\"vector-dropdown-checkbox \"  aria-label=\"Main menu\"  >\\n\\t<label id=\"vector-main-menu-dropdown-label\" for=\"vector-main-menu-dropdown-checkbox\" class=\"vector-dropdown-label cdx-button cdx-button--fake-button cdx-button--fake-button--enabled cdx-button--weight-quiet cdx-button--icon-only \" aria-hidden=\"true\"  ><span class=\"vector-icon mw-ui-icon-menu mw-ui-icon-wikimedia-menu\"></span>\\n\\n<span class=\"vector-dropdown-label-text\">Main menu</span>\\n\\t</label>\\n\\t<div class=\"vector-dropdown-content\">\\n\\n\\n\\t\\t\\t\\t<div id=\"vector-main-menu-unpinned-container\" class=\"vector-unpinned-container\">\\n\\t\\t\\n<div id=\"vector-main-menu\" class=\"vector-main-menu vector-pinnable-element\">\\n\\t<div\\n\\tclass=\"vector-pinnable-header vector-main-menu-pinnable-header vector-pinnable-header-unpinned\"\\n\\tdata-feature-name=\"main-menu-pinned\"\\n\\tdata-pinnable-element-id=\"vector-main-menu\"\\n\\tdata-pinned-container-id=\"vector-main-menu-pinned-container\"\\n\\tdata-unpinned-container-id=\"vector-main-menu-unpinned-container\"\\n>\\n\\t<div class=\"vector-pinnable-header-label\">Main menu</div>\\n\\t<button class=\"vector-pinnable-header-toggle-button vector-pinnable-header-pin-button\" data-event-name=\"pinnable-header.vector-main-menu.pin\">move to sidebar</button>\\n\\t<button class=\"vector-pinnable-header-toggle-button vector-pinnable-header-unpin-button\" data-event-name=\"pinnable-header.vector-main-menu.unpin\">hide</button>\\n</div>\\n\\n\\t\\n<div id=\"p-navigation\" class=\"vector-menu mw-portlet mw-portlet-navigation\"  >\\n\\t<div class=\"vector-menu-heading\">\\n\\t\\tNavigation\\n\\t</div>\\n\\t<div class=\"vector-menu-content\">\\n\\t\\t\\n\\t\\t<ul class=\"vector-menu-content-list\">\\n\\t\\t\\t\\n\\t\\t\\t<li id=\"n-mainpage-description\" class=\"mw-list-item\"><a href=\"/wiki/Main_Page\" title=\"Visit the main page [z]\" accesskey=\"z\"><span>Main page</span></a></li><li id=\"n-contents\" class=\"mw-list-item\"><a href=\"/wiki/Wikipedia:Contents\" title=\"Guides to browsing Wikipedia\"><span>Contents</span></a></li><li id=\"n-currentevents\" class=\"mw-list-item\"><a href=\"/wiki/Portal:Current_events\" title=\"Articles related to current events\"><span>Current events</span></a></li><li id=\"n-randompage\" class=\"mw-list-item\"><a href=\"/wiki/Special:Random\" title=\"Visit a randomly selected article [x]\" accesskey=\"x\"><span>Random article</span></a></li><li id=\"n-aboutsite\" class=\"mw-list-item\"><a href=\"/wiki/Wikipedia:About\" title=\"Learn about Wikipedia and how it works\"><span>About Wikipedia</span></a></li><li id=\"n-contactpage\" class=\"mw-list-item\"><a href=\"//en.wikipedia.org/wiki/Wikipedia:Contact_us\" title=\"How to contact Wikipedia\"><span>Contact us</span></a></li><li id=\"n-sitesupport\" class=\"mw-list-item\"><a href=\"https://donate.wikimedia.org/wiki/Special:FundraiserRedirector?utm_source=donate&amp;utm_medium=sidebar&amp;utm_campaign=C13_en.wikipedia.org&amp;uselang=en\" title=\"Support us by donating to the Wikimedia Foundation\"><span>Donate</span></a></li>\\n\\t\\t</ul>\\n\\t\\t\\n\\t</div>\\n</div>\\n\\n\\t\\n\\t\\n<div id=\"p-interaction\" class=\"vector-menu mw-portlet mw-portlet-interaction\"  >\\n\\t<div class=\"vector-menu-heading\">\\n\\t\\tContribute\\n\\t</div>\\n\\t<div class=\"vector-menu-content\">\\n\\t\\t\\n\\t\\t<ul class=\"vector-menu-content-list\">\\n\\t\\t\\t\\n\\t\\t\\t<li id=\"n-help\" class=\"mw-list-item\"><a href=\"/wiki/Help:Contents\" title=\"Guidance on how to use and edit Wikipedia\"><span>Help</span></a></li><li id=\"n-introduction\" class=\"mw-list-item\"><a href=\"/wiki/Help:Introduction\" title=\"Learn how to edit Wikipedia\"><span>Learn to edit</span></a></li><li id=\"n-portal\" class=\"mw-list-item\"><a href=\"/wiki/Wikipedia:Community_portal\" title=\"The hub for editors\"><span>Community portal</span></a></li><li id=\"n-recentchanges\" class=\"mw-list-item\"><a href=\"/wiki/Special:RecentChanges\" title=\"A list of recent changes to Wikipedia [r]\" accesskey=\"r\"><span>Recent changes</span></a></li><li id=\"n-upload\" class=\"mw-list-item\"><a href=\"/wiki/Wikipedia:File_upload_wizard\" title=\"Add images or other media for use on Wikipedia\"><span>Upload file</span></a></li>\\n\\t\\t</ul>\\n\\t\\t\\n\\t</div>\\n</div>\\n\\n\\t\\n</div>\\n\\n\\t\\t\\t\\t</div>\\n\\n\\t</div>\\n</div>\\n\\n\\t\\t</nav>\\n\\t\\t\\t\\n<a href=\"/wiki/Main_Page\" class=\"mw-logo\">\\n\\t<img class=\"mw-logo-icon\" src=\"/static/images/icons/wikipedia.png\" alt=\"\" aria-hidden=\"true\" height=\"50\" width=\"50\">\\n\\t<span class=\"mw-logo-container\">\\n\\t\\t<img class=\"mw-logo-wordmark\" alt=\"Wikipedia\" src=\"/static/images/mobile/copyright/wikipedia-wordmark-en.svg\" style=\"width: 7.5em; height: 1.125em;\">\\n\\t\\t<img class=\"mw-logo-tagline\" alt=\"The Free Encyclopedia\" src=\"/static/images/mobile/copyright/wikipedia-tagline-en.svg\" width=\"117\" height=\"13\" style=\"width: 7.3125em; height: 0.8125em;\">\\n\\t</span>\\n</a>\\n\\n\\t\\t</div>\\n\\t\\t<div class=\"vector-header-end\">\\n\\t\\t\\t\\n<div id=\"p-search\" role=\"search\" class=\"vector-search-box-vue  vector-search-box-collapses vector-search-box-show-thumbnail vector-search-box-auto-expand-width vector-search-box\">\\n\\t<a href=\"/wiki/Special:Search\" class=\"cdx-button cdx-button--fake-button cdx-button--fake-button--enabled cdx-button--weight-quiet cdx-button--icon-only search-toggle\" id=\"\" title=\"Search Wikipedia [f]\" accesskey=\"f\"><span class=\"vector-icon mw-ui-icon-search mw-ui-icon-wikimedia-search\"></span>\\n\\n<span>Search</span>\\n\\t</a>\\n\\t<div class=\"vector-typeahead-search-container\">\\n\\t\\t<div class=\"cdx-typeahead-search cdx-typeahead-search--show-thumbnail cdx-typeahead-search--auto-expand-width\">\\n\\t\\t\\t<form action=\"/w/index.php\" id=\"searchform\" class=\"cdx-search-input cdx-search-input--has-end-button\">\\n\\t\\t\\t\\t<div id=\"simpleSearch\" class=\"cdx-search-input__input-wrapper\"  data-search-loc=\"header-moved\">\\n\\t\\t\\t\\t\\t<div class=\"cdx-text-input cdx-text-input--has-start-icon\">\\n\\t\\t\\t\\t\\t\\t<input\\n\\t\\t\\t\\t\\t\\t\\tclass=\"cdx-text-input__input\"\\n\\t\\t\\t\\t\\t\\t\\t type=\"search\" name=\"search\" placeholder=\"Search Wikipedia\" aria-label=\"Search Wikipedia\" autocapitalize=\"sentences\" title=\"Search Wikipedia [f]\" accesskey=\"f\" id=\"searchInput\"\\n\\t\\t\\t\\t\\t\\t\\t>\\n\\t\\t\\t\\t\\t\\t<span class=\"cdx-text-input__icon cdx-text-input__start-icon\"></span>\\n\\t\\t\\t\\t\\t</div>\\n\\t\\t\\t\\t\\t<input type=\"hidden\" name=\"title\" value=\"Special:Search\">\\n\\t\\t\\t\\t</div>\\n\\t\\t\\t\\t<button class=\"cdx-button cdx-search-input__end-button\">Search</button>\\n\\t\\t\\t</form>\\n\\t\\t</div>\\n\\t</div>\\n</div>\\n\\n\\t\\t\\t<nav class=\"vector-user-links\" aria-label=\"Personal tools\" role=\"navigation\" >\\n\\t\\n<div id=\"p-vector-user-menu-overflow\" class=\"vector-menu mw-portlet mw-portlet-vector-user-menu-overflow\"  >\\n\\t<div class=\"vector-menu-content\">\\n\\t\\t\\n\\t\\t<ul class=\"vector-menu-content-list\">\\n\\t\\t\\t\\n\\t\\t\\t<li id=\"pt-createaccount-2\" class=\"user-links-collapsible-item mw-list-item\"><a href=\"/w/index.php?title=Special:CreateAccount&amp;returnto=File%3AJohn+Singer+Sargent+1903.jpg\" title=\"You are encouraged to create an account and log in; however, it is not mandatory\"><span>Create account</span></a></li><li id=\"pt-login-2\" class=\"user-links-collapsible-item mw-list-item\"><a href=\"/w/index.php?title=Special:UserLogin&amp;returnto=File%3AJohn+Singer+Sargent+1903.jpg\" title=\"You&#039;re encouraged to log in; however, it&#039;s not mandatory. [o]\" accesskey=\"o\"><span>Log in</span></a></li>\\n\\t\\t</ul>\\n\\t\\t\\n\\t</div>\\n</div>\\n\\n\\t\\n<div id=\"vector-user-links-dropdown\" class=\"vector-dropdown vector-user-menu vector-button-flush-right vector-user-menu-logged-out\"  title=\"Log in and more options\" >\\n\\t<input type=\"checkbox\" id=\"vector-user-links-dropdown-checkbox\" role=\"button\" aria-haspopup=\"true\" data-event-name=\"ui.dropdown-vector-user-links-dropdown\" class=\"vector-dropdown-checkbox \"  aria-label=\"Personal tools\"  >\\n\\t<label id=\"vector-user-links-dropdown-label\" for=\"vector-user-links-dropdown-checkbox\" class=\"vector-dropdown-label cdx-button cdx-button--fake-button cdx-button--fake-button--enabled cdx-button--weight-quiet cdx-button--icon-only \" aria-hidden=\"true\"  ><span class=\"vector-icon mw-ui-icon-ellipsis mw-ui-icon-wikimedia-ellipsis\"></span>\\n\\n<span class=\"vector-dropdown-label-text\">Personal tools</span>\\n\\t</label>\\n\\t<div class=\"vector-dropdown-content\">\\n\\n\\n\\t\\t\\n<div id=\"p-personal\" class=\"vector-menu mw-portlet mw-portlet-personal user-links-collapsible-item\"  title=\"User menu\" >\\n\\t<div class=\"vector-menu-content\">\\n\\t\\t\\n\\t\\t<ul class=\"vector-menu-content-list\">\\n\\t\\t\\t\\n\\t\\t\\t<li id=\"pt-createaccount\" class=\"user-links-collapsible-item mw-list-item\"><a href=\"/w/index.php?title=Special:CreateAccount&amp;returnto=File%3AJohn+Singer+Sargent+1903.jpg\" title=\"You are encouraged to create an account and log in; however, it is not mandatory\"><span class=\"vector-icon mw-ui-icon-userAdd mw-ui-icon-wikimedia-userAdd\"></span> <span>Create account</span></a></li><li id=\"pt-login\" class=\"user-links-collapsible-item mw-list-item\"><a href=\"/w/index.php?title=Special:UserLogin&amp;returnto=File%3AJohn+Singer+Sargent+1903.jpg\" title=\"You&#039;re encouraged to log in; however, it&#039;s not mandatory. [o]\" accesskey=\"o\"><span class=\"vector-icon mw-ui-icon-logIn mw-ui-icon-wikimedia-logIn\"></span> <span>Log in</span></a></li>\\n\\t\\t</ul>\\n\\t\\t\\n\\t</div>\\n</div>\\n\\n<div id=\"p-user-menu-anon-editor\" class=\"vector-menu mw-portlet mw-portlet-user-menu-anon-editor\"  >\\n\\t<div class=\"vector-menu-heading\">\\n\\t\\tPages for logged out editors <a href=\"/wiki/Help:Introduction\" aria-label=\"Learn more about editing\"><span>learn more</span></a>\\n\\t</div>\\n\\t<div class=\"vector-menu-content\">\\n\\t\\t\\n\\t\\t<ul class=\"vector-menu-content-list\">\\n\\t\\t\\t\\n\\t\\t\\t<li id=\"pt-anoncontribs\" class=\"mw-list-item\"><a href=\"/wiki/Special:MyContributions\" title=\"A list of edits made from this IP address [y]\" accesskey=\"y\"><span>Contributions</span></a></li><li id=\"pt-anontalk\" class=\"mw-list-item\"><a href=\"/wiki/Special:MyTalk\" title=\"Discussion about edits from this IP address [n]\" accesskey=\"n\"><span>Talk</span></a></li>\\n\\t\\t</ul>\\n\\t\\t\\n\\t</div>\\n</div>\\n\\n\\t\\n\\t</div>\\n</div>\\n\\n</nav>\\n\\n\\t\\t</div>\\n\\t</header>\\n</div>\\n<div class=\"mw-page-container\">\\n\\t<div class=\"mw-page-container-inner\">\\n\\t\\t<div class=\"vector-sitenotice-container\">\\n\\t\\t\\t<div id=\"siteNotice\"><!-- CentralNotice --></div>\\n\\t\\t</div>\\n\\t\\t\\n\\t\\t\\t<div class=\"vector-main-menu-container\">\\n\\t\\t<div id=\"mw-navigation\">\\n\\t\\t\\t<nav id=\"mw-panel\" class=\"vector-main-menu-landmark\" aria-label=\"Site\" role=\"navigation\">\\n\\t\\t\\t\\t<div id=\"vector-main-menu-pinned-container\" class=\"vector-pinned-container\">\\n\\t\\t\\t\\t\\n\\t\\t\\t\\t</div>\\n\\t\\t</nav>\\n\\t\\t</div>\\n\\t</div>\\n\\n\\t\\t<div class=\"mw-content-container\">\\n\\t\\t\\t<main id=\"content\" class=\"mw-body\" role=\"main\">\\n\\t\\t\\t\\t<header class=\"mw-body-header vector-page-titlebar\">\\n\\t\\t\\t\\t\\t<h1 id=\"firstHeading\" class=\"firstHeading mw-first-heading\">File:John Singer Sargent 1903.jpg</h1>\\n\\t\\t\\t\\t\\t\\t\\t\\n<div id=\"p-lang-btn\" class=\"vector-dropdown mw-portlet mw-portlet-lang mw-portlet-lang-icon-only\"  >\\n\\t<input type=\"checkbox\" id=\"p-lang-btn-checkbox\" role=\"button\" aria-haspopup=\"true\" data-event-name=\"ui.dropdown-p-lang-btn\" class=\"vector-dropdown-checkbox mw-interlanguage-selector-empty\" aria-label=\"This article exist only in this language. Add the article for other languages\"   >\\n\\t<label id=\"p-lang-btn-label\" for=\"p-lang-btn-checkbox\" class=\"vector-dropdown-label cdx-button cdx-button--fake-button cdx-button--fake-button--enabled cdx-button--weight-quiet cdx-button--icon-only mw-portlet-lang-heading-empty\" aria-hidden=\"true\"  ><span class=\"vector-icon mw-ui-icon-language mw-ui-icon-wikimedia-language\"></span>\\n\\n<span class=\"vector-dropdown-label-text\">Add languages</span>\\n\\t</label>\\n\\t<div class=\"vector-dropdown-content\">\\n\\n\\t\\t<div class=\"mw-portlet-empty-language-selector-body\">\\n\\t\\t\\t\\t\\t\\tPage contents not supported in other languages.\\n\\t\\t\\t\\t\\t</div>\\n\\t\\t\\t\\n\\t</div>\\n</div>\\n</header>\\n\\t\\t\\t\\t<div class=\"vector-page-toolbar\">\\n\\t\\t\\t\\t\\t<div class=\"vector-page-toolbar-container\">\\n\\t\\t\\t\\t\\t\\t<div id=\"left-navigation\">\\n\\t\\t\\t\\t\\t\\t\\t<nav aria-label=\"Namespaces\">\\n\\t\\t\\t\\t\\t\\t\\t\\t\\n<div id=\"p-associated-pages\" class=\"vector-menu vector-menu-tabs mw-portlet mw-portlet-associated-pages\"  >\\n\\t<div class=\"vector-menu-content\">\\n\\t\\t\\n\\t\\t<ul class=\"vector-menu-content-list\">\\n\\t\\t\\t\\n\\t\\t\\t<li id=\"ca-nstab-image\" class=\"selected vector-tab-noicon mw-list-item\"><a href=\"/wiki/File:John_Singer_Sargent_1903.jpg\" title=\"View the file page [c]\" accesskey=\"c\"><span>File</span></a></li><li id=\"ca-talk\" class=\"new vector-tab-noicon mw-list-item\"><a href=\"/w/index.php?title=File_talk:John_Singer_Sargent_1903.jpg&amp;action=edit&amp;redlink=1\" rel=\"discussion\" title=\"Discuss improvements to the content page (page does not exist) [t]\" accesskey=\"t\"><span>Talk</span></a></li>\\n\\t\\t</ul>\\n\\t\\t\\n\\t</div>\\n</div>\\n\\n\\t\\t\\t\\t\\t\\t\\t\\t\\n<div id=\"p-variants\" class=\"vector-dropdown emptyPortlet\"  >\\n\\t<input type=\"checkbox\" id=\"p-variants-checkbox\" role=\"button\" aria-haspopup=\"true\" data-event-name=\"ui.dropdown-p-variants\" class=\"vector-dropdown-checkbox \" aria-label=\"Change language variant\"   >\\n\\t<label id=\"p-variants-label\" for=\"p-variants-checkbox\" class=\"vector-dropdown-label cdx-button cdx-button--fake-button cdx-button--fake-button--enabled cdx-button--weight-quiet\" aria-hidden=\"true\"  ><span class=\"vector-dropdown-label-text\">English</span>\\n\\t</label>\\n\\t<div class=\"vector-dropdown-content\">\\n\\n\\n\\t\\t\\t\\t\\t\\n<div id=\"p-variants\" class=\"vector-menu mw-portlet mw-portlet-variants emptyPortlet\"  >\\n\\t<div class=\"vector-menu-content\">\\n\\t\\t\\n\\t\\t<ul class=\"vector-menu-content-list\">\\n\\t\\t\\t\\n\\t\\t\\t\\n\\t\\t</ul>\\n\\t\\t\\n\\t</div>\\n</div>\\n\\n\\t\\t\\t\\t\\n\\t</div>\\n</div>\\n\\n\\t\\t\\t\\t\\t\\t\\t</nav>\\n\\t\\t\\t\\t\\t\\t</div>\\n\\t\\t\\t\\t\\t\\t<div id=\"right-navigation\" class=\"vector-collapsible\">\\n\\t\\t\\t\\t\\t\\t\\t<nav aria-label=\"Views\">\\n\\t\\t\\t\\t\\t\\t\\t\\t\\n<div id=\"p-views\" class=\"vector-menu vector-menu-tabs mw-portlet mw-portlet-views\"  >\\n\\t<div class=\"vector-menu-content\">\\n\\t\\t\\n\\t\\t<ul class=\"vector-menu-content-list\">\\n\\t\\t\\t\\n\\t\\t\\t<li id=\"ca-view\" class=\"selected vector-tab-noicon mw-list-item\"><a href=\"/wiki/File:John_Singer_Sargent_1903.jpg\"><span>Read</span></a></li><li id=\"ca-view-foreign\" class=\"vector-tab-noicon mw-list-item\"><a href=\"https://commons.wikimedia.org/wiki/File:John_Singer_Sargent_1903.jpg\"><span>View on Commons</span></a></li>\\n\\t\\t</ul>\\n\\t\\t\\n\\t</div>\\n</div>\\n\\n\\t\\t\\t\\t\\t\\t\\t</nav>\\n\\t\\t\\t\\t\\n\\t\\t\\t\\t\\t\\t\\t<nav class=\"vector-page-tools-landmark\" aria-label=\"Page tools\">\\n\\t\\t\\t\\t\\t\\t\\t\\t\\n<div id=\"vector-page-tools-dropdown\" class=\"vector-dropdown vector-page-tools-dropdown\"  >\\n\\t<input type=\"checkbox\" id=\"vector-page-tools-dropdown-checkbox\" role=\"button\" aria-haspopup=\"true\" data-event-name=\"ui.dropdown-vector-page-tools-dropdown\" class=\"vector-dropdown-checkbox \"  aria-label=\"Tools\"  >\\n\\t<label id=\"vector-page-tools-dropdown-label\" for=\"vector-page-tools-dropdown-checkbox\" class=\"vector-dropdown-label cdx-button cdx-button--fake-button cdx-button--fake-button--enabled cdx-button--weight-quiet\" aria-hidden=\"true\"  ><span class=\"vector-dropdown-label-text\">Tools</span>\\n\\t</label>\\n\\t<div class=\"vector-dropdown-content\">\\n\\n\\n\\t\\t\\t\\t\\t\\t\\t\\t\\t<div id=\"vector-page-tools-unpinned-container\" class=\"vector-unpinned-container\">\\n\\t\\t\\t\\t\\t\\t\\n<div id=\"vector-page-tools\" class=\"vector-page-tools vector-pinnable-element\">\\n\\t<div\\n\\tclass=\"vector-pinnable-header vector-page-tools-pinnable-header vector-pinnable-header-unpinned\"\\n\\tdata-feature-name=\"page-tools-pinned\"\\n\\tdata-pinnable-element-id=\"vector-page-tools\"\\n\\tdata-pinned-container-id=\"vector-page-tools-pinned-container\"\\n\\tdata-unpinned-container-id=\"vector-page-tools-unpinned-container\"\\n>\\n\\t<div class=\"vector-pinnable-header-label\">Tools</div>\\n\\t<button class=\"vector-pinnable-header-toggle-button vector-pinnable-header-pin-button\" data-event-name=\"pinnable-header.vector-page-tools.pin\">move to sidebar</button>\\n\\t<button class=\"vector-pinnable-header-toggle-button vector-pinnable-header-unpin-button\" data-event-name=\"pinnable-header.vector-page-tools.unpin\">hide</button>\\n</div>\\n\\n\\t\\n<div id=\"p-cactions\" class=\"vector-menu mw-portlet mw-portlet-cactions emptyPortlet vector-has-collapsible-items\"  title=\"More options\" >\\n\\t<div class=\"vector-menu-heading\">\\n\\t\\tActions\\n\\t</div>\\n\\t<div class=\"vector-menu-content\">\\n\\t\\t\\n\\t\\t<ul class=\"vector-menu-content-list\">\\n\\t\\t\\t\\n\\t\\t\\t<li id=\"ca-more-view\" class=\"selected vector-more-collapsible-item mw-list-item\"><a href=\"/wiki/File:John_Singer_Sargent_1903.jpg\"><span>Read</span></a></li><li id=\"ca-more-view-foreign\" class=\"vector-more-collapsible-item mw-list-item\"><a href=\"https://commons.wikimedia.org/wiki/File:John_Singer_Sargent_1903.jpg\"><span>View on Commons</span></a></li>\\n\\t\\t</ul>\\n\\t\\t\\n\\t</div>\\n</div>\\n\\n<div id=\"p-tb\" class=\"vector-menu mw-portlet mw-portlet-tb\"  >\\n\\t<div class=\"vector-menu-heading\">\\n\\t\\tGeneral\\n\\t</div>\\n\\t<div class=\"vector-menu-content\">\\n\\t\\t\\n\\t\\t<ul class=\"vector-menu-content-list\">\\n\\t\\t\\t\\n\\t\\t\\t<li id=\"t-whatlinkshere\" class=\"mw-list-item\"><a href=\"/wiki/Special:WhatLinksHere/File:John_Singer_Sargent_1903.jpg\" title=\"List of all English Wikipedia pages containing links to this page [j]\" accesskey=\"j\"><span>What links here</span></a></li><li id=\"t-upload\" class=\"mw-list-item\"><a href=\"/wiki/Wikipedia:File_Upload_Wizard\" title=\"Upload files [u]\" accesskey=\"u\"><span>Upload file</span></a></li><li id=\"t-specialpages\" class=\"mw-list-item\"><a href=\"/wiki/Special:SpecialPages\" title=\"A list of all special pages [q]\" accesskey=\"q\"><span>Special pages</span></a></li><li id=\"t-print\" class=\"mw-list-item\"><a href=\"javascript:print();\" rel=\"alternate\" title=\"Printable version of this page [p]\" accesskey=\"p\"><span>Printable version</span></a></li><li id=\"t-info\" class=\"mw-list-item\"><a href=\"/w/index.php?title=File:John_Singer_Sargent_1903.jpg&amp;action=info\" title=\"More information about this page\"><span>Page information</span></a></li><li id=\"t-urlshortener\" class=\"mw-list-item\"><a href=\"/w/index.php?title=Special:UrlShortener&amp;url=https%3A%2F%2Fen.wikipedia.org%2Fwiki%2FFile%3AJohn_Singer_Sargent_1903.jpg\"><span>Get shortened URL</span></a></li>\\n\\t\\t</ul>\\n\\t\\t\\n\\t</div>\\n</div>\\n\\n</div>\\n\\n\\t\\t\\t\\t\\t\\t\\t\\t\\t</div>\\n\\t\\t\\t\\t\\n\\t</div>\\n</div>\\n\\n\\t\\t\\t\\t\\t\\t\\t</nav>\\n\\t\\t\\t\\t\\t\\t</div>\\n\\t\\t\\t\\t\\t</div>\\n\\t\\t\\t\\t</div>\\n\\t\\t\\t\\t<div class=\"vector-column-end\">\\n\\t\\t\\t\\t\\t<nav class=\"vector-page-tools-landmark vector-sticky-pinned-container\" aria-label=\"Page tools\">\\n\\t\\t\\t\\t\\t\\t<div id=\"vector-page-tools-pinned-container\" class=\"vector-pinned-container\">\\n\\t\\t\\t\\n\\t\\t\\t\\t\\t\\t</div>\\n\\t</nav>\\n\\t\\t\\t\\t</div>\\n\\t\\t\\t\\t<div id=\"bodyContent\" class=\"vector-body\" aria-labelledby=\"firstHeading\" data-mw-ve-target-container>\\n\\t\\t\\t\\t\\t<div class=\"vector-body-before-content\">\\n\\t\\t\\t\\t\\t\\t\\t<div class=\"mw-indicators\">\\n\\t\\t<div id=\"mw-indicator-commons-icon\" class=\"mw-indicator\"><span typeof=\"mw:File\"><a href=\"https://commons.wikimedia.org/wiki/File:John_Singer_Sargent_1903.jpg\" title=\"This is a file from the Wikimedia Commons\"><img alt=\"This is a file from the Wikimedia Commons\" src=\"//upload.wikimedia.org/wikipedia/en/thumb/4/4a/Commons-logo.svg/15px-Commons-logo.svg.png\" decoding=\"async\" width=\"15\" height=\"20\" class=\"mw-file-element\" srcset=\"//upload.wikimedia.org/wikipedia/en/thumb/4/4a/Commons-logo.svg/22px-Commons-logo.svg.png 1.5x, //upload.wikimedia.org/wikipedia/en/thumb/4/4a/Commons-logo.svg/30px-Commons-logo.svg.png 2x\" data-file-width=\"1024\" data-file-height=\"1376\" /></a></span></div>\\n\\t\\t</div>\\n\\n\\t\\t\\t\\t\\t\\t<div id=\"siteSub\" class=\"noprint\">From Wikipedia, the free encyclopedia</div>\\n\\t\\t\\t\\t\\t</div>\\n\\t\\t\\t\\t\\t<div id=\"contentSub\"><div id=\"mw-content-subtitle\"></div></div>\\n\\t\\t\\t\\t\\t\\n\\t\\t\\t\\t\\t\\n\\t\\t\\t\\t\\t<div id=\"mw-content-text\" class=\"mw-body-content\"><ul id=\"filetoc\" role=\"navigation\"><li><a href=\"#file\">File</a></li>\\n<li><a href=\"#filehistory\">File history</a></li>\\n<li><a href=\"#filelinks\">File usage</a></li>\\n<li><a href=\"#globalusage\">Global file usage</a></li>\\n<li><a href=\"#metadata\">Metadata</a></li></ul><div class=\"fullImageLink\" id=\"file\"><a href=\"//upload.wikimedia.org/wikipedia/commons/a/a5/John_Singer_Sargent_1903.jpg\"><img alt=\"File:John Singer Sargent 1903.jpg\" src=\"//upload.wikimedia.org/wikipedia/commons/thumb/a/a5/John_Singer_Sargent_1903.jpg/450px-John_Singer_Sargent_1903.jpg\" decoding=\"async\" width=\"450\" height=\"600\" srcset=\"//upload.wikimedia.org/wikipedia/commons/a/a5/John_Singer_Sargent_1903.jpg 1.5x\" data-file-width=\"608\" data-file-height=\"810\" /></a><div class=\"mw-filepage-resolutioninfo\">Size of this preview: <a href=\"//upload.wikimedia.org/wikipedia/commons/thumb/a/a5/John_Singer_Sargent_1903.jpg/450px-John_Singer_Sargent_1903.jpg\" class=\"mw-thumbnail-link\">450 × 600 pixels</a>. <span class=\"mw-filepage-other-resolutions\">Other resolutions: <a href=\"//upload.wikimedia.org/wikipedia/commons/thumb/a/a5/John_Singer_Sargent_1903.jpg/180px-John_Singer_Sargent_1903.jpg\" class=\"mw-thumbnail-link\">180 × 240 pixels</a> | <a href=\"//upload.wikimedia.org/wikipedia/commons/a/a5/John_Singer_Sargent_1903.jpg\" class=\"mw-thumbnail-link\">608 × 810 pixels</a>.</span></div></div>\\n<div class=\"fullMedia\"><p><a href=\"//upload.wikimedia.org/wikipedia/commons/a/a5/John_Singer_Sargent_1903.jpg\" class=\"internal\" title=\"John Singer Sargent 1903.jpg\">Original file</a> &#8206;<span class=\"fileInfo\">(608 × 810 pixels, file size: 261 KB, MIME type: <span class=\"mime-type\">image/jpeg</span>)</span>\\n</p></div><div class=\"sharedUploadNotice\">\\n<div class=\"mw-parser-output\">\\n<style data-mw-deduplicate=\"TemplateStyles:r1097275936\">.mw-parser-output .fmbox{clear:both;margin:0.2em 0;width:100%;border:1px solid #a2a9b1;background-color:#f8f9fa;box-sizing:border-box}.mw-parser-output .fmbox-warning{border:1px solid #bb7070;background-color:#ffdbdb}.mw-parser-output .fmbox-editnotice{background-color:transparent}.mw-parser-output .fmbox .mbox-text{border:none;padding:0.25em 0.9em;width:100%}.mw-parser-output .fmbox .mbox-image{border:none;padding:2px 0 2px 0.9em;text-align:center}.mw-parser-output .fmbox .mbox-imageright{border:none;padding:2px 0.9em 2px 0;text-align:center}.mw-parser-output .fmbox .mbox-invalid-type{text-align:center}</style><table id=\"mw-sharedupload\" class=\"plainlinks fmbox fmbox-system\" role=\"presentation\"><tbody><tr><td class=\"mbox-image\"><span class=\"noviewer\" typeof=\"mw:File\"><span title=\"Wikimedia Commons logo\"><img alt=\"\" src=\"//upload.wikimedia.org/wikipedia/en/thumb/4/4a/Commons-logo.svg/30px-Commons-logo.svg.png\" decoding=\"async\" width=\"30\" height=\"40\" class=\"mw-file-element\" srcset=\"//upload.wikimedia.org/wikipedia/en/thumb/4/4a/Commons-logo.svg/45px-Commons-logo.svg.png 1.5x, //upload.wikimedia.org/wikipedia/en/thumb/4/4a/Commons-logo.svg/59px-Commons-logo.svg.png 2x\" data-file-width=\"1024\" data-file-height=\"1376\" /></span></span></td><td class=\"mbox-text\" style=\"text-align: center;\">This is a file from the <a href=\"https://commons.wikimedia.org/wiki/Main_Page\" class=\"extiw\" title=\"commons:Main Page\">Wikimedia Commons</a>. Information from its <b><a href=\"https://commons.wikimedia.org/wiki/File:John_Singer_Sargent_1903.jpg\" class=\"extiw\" title=\"commons:File:John Singer Sargent 1903.jpg\">description page there</a></b> is shown below.<br /><span style=\"font-size: smaller;\">Commons is a freely licensed media file repository. <a href=\"https://commons.wikimedia.org/wiki/Commons:Welcome\" class=\"extiw\" title=\"commons:Commons:Welcome\">You can help</a>.</span></td></tr></tbody></table>\\n</div>\\n</div>\\n<div id=\"shared-image-desc\"><div class=\"mw-parser-output\"><h2><span class=\"mw-headline\" id=\"Summary\">Summary</span></h2>\\n<div class=\"hproduct commons-file-information-table\">\\n<style data-mw-deduplicate=\"TemplateStyles:r773143704\">.mw-parser-output table.commons-file-information-table,.mw-parser-output .fileinfotpl-type-information,.mw-parser-output .fileinfotpl-type-artwork{border:1px solid #a2a9b1;background-color:#f8f9fa;padding:5px;font-size:95%;border-spacing:2px;box-sizing:border-box;margin:0;width:100%}.mw-parser-output table.commons-file-information-table>tbody>tr,.mw-parser-output .fileinfotpl-type-information>tbody>tr,.mw-parser-output .fileinfotpl-type-artwork>tbody>tr{vertical-align:top}.mw-parser-output table.commons-file-information-table>tbody>tr>td,.mw-parser-output table.commons-file-information-table>tbody>tr>th,.mw-parser-output .fileinfotpl-type-information>tbody>tr>td,.mw-parser-output .fileinfotpl-type-information>tbody>tr>th,.mw-parser-output .fileinfotpl-type-artwork>tbody>tr>td,.mw-parser-output .fileinfotpl-type-artwork>tbody>tr>th{padding:4px}.mw-parser-output .fileinfo-paramfield{background:#ccf;text-align:right;padding-right:0.4em;width:15%;font-weight:bold}.mw-parser-output .commons-file-information-table+table.commons-file-information-table,.mw-parser-output .commons-file-information-table+div.commons-file-information-table>table{border-top:0;padding-top:0;margin-top:-8px}@media only screen and (max-width:719px){.mw-parser-output table.commons-file-information-table,.mw-parser-output .commons-file-information-table .fileinfotpl-type-information,.mw-parser-output .commons-file-information-table .fileinfotpl-type-artwork{border-spacing:0;padding:0;word-break:break-word;width:100%!important}.mw-parser-output .commons-file-information-table>tbody,.mw-parser-output .fileinfotpl-type-information>tbody,.mw-parser-output .fileinfotpl-type-artwork>tbody{display:block}.mw-parser-output .commons-file-information-table>tbody>tr>td,.mw-parser-output .commons-file-information-table>tbody>tr>th,.mw-parser-output .fileinfotpl-type-information>tbody>tr>td,.mw-parser-output .fileinfotpl-type-information>tbody>tr>th,.mw-parser-output .fileinfotpl-type-artwork>tbody>tr>td,.mw-parser-output .fileinfotpl-type-artwork>tbody>tr>th{padding:0.2em 0.4em;text-align:left;text-align:start}.mw-parser-output .commons-file-information-table>tbody>tr,.mw-parser-output .fileinfotpl-type-information>tbody>tr,.mw-parser-output .fileinfotpl-type-artwork>tbody>tr{display:flex;flex-direction:column}.mw-parser-output .commons-file-information-table+table.commons-file-information-table,.mw-parser-output .commons-file-information-table+div.commons-file-information-table>table{margin-top:-1px}.mw-parser-output .fileinfo-paramfield{box-sizing:border-box;flex:1 0 100%;width:100%}}</style>\\n<table class=\"fileinfotpl-type-information vevent mw-content-ltr\" style=\"direction: ltr;\">\\n\\n<tbody><tr>\\n<td id=\"fileinfotpl_desc\" class=\"fileinfo-paramfield\" lang=\"en\">Description<span class=\"summary fn\" style=\"display:none\">John Singer Sargent 1903.jpg</span></td>\\n<td class=\"description\">\\nJohn Singer Sargent</td>\\n</tr>\\n\\n<tr>\\n<td id=\"fileinfotpl_date\" class=\"fileinfo-paramfield\" lang=\"en\">Date</td>\\n<td lang=\"en\">\\n<time class=\"dtstart\" datetime=\"1903\" lang=\"en\" dir=\"ltr\" style=\"white-space:nowrap\">1903</time></td>\\n</tr>\\n\\n<tr>\\n<td id=\"fileinfotpl_src\" class=\"fileinfo-paramfield\" lang=\"en\">Source</td>\\n<td>\\n<a rel=\"nofollow\" class=\"external text\" href=\"https://www.gettyimages.co.uk/license/640475529\">Getty Images</a></td>\\n</tr>\\n\\n<tr>\\n<td id=\"fileinfotpl_aut\" class=\"fileinfo-paramfield\" lang=\"en\">Author</td>\\n<td>\\n<div class=\"commons-creator vcard\">\\n<style data-mw-deduplicate=\"TemplateStyles:r728533443\">.mw-parser-output .commons-creator-table{background-color:#f0f0ff;box-sizing:border-box;font-size:95%;text-align:start}.mw-parser-output .commons-creator-table>tbody>tr{vertical-align:top}.mw-parser-output .commons-creator-table>tbody>tr>th{background-color:#e0e0ee;font-weight:bold;text-align:start}@media(max-width:719px){.mw-parser-output .commons-creator-table,.mw-parser-output .commons-creator-table>tbody{display:block;width:100%}.mw-parser-output .commons-creator-table>tbody{border-right:1px solid #aaa;border-bottom:1px solid #aaa}.mw-parser-output .commons-creator-table>tbody>tr{border-top:1px solid #aaa;display:flex;flex-wrap:wrap}.mw-parser-output .commons-creator-table>tbody>tr>th{border-left:1px solid #aaa;padding:2px;flex:1 1 100%}.mw-parser-output .commons-creator-table>tbody>tr>td{border-left:1px solid #aaa;padding:2px;flex:1 1}}@media(min-width:720px){.mw-parser-output .commons-creator-table{border:1px solid #aaa;border-collapse:collapse;border-spacing:0;padding:5px}.mw-parser-output .commons-creator-table>tbody>tr>th,.mw-parser-output .commons-creator-table>tbody>tr>td{border:1px solid #aaa;padding:2px}.mw-parser-output .commons-creator-table>tbody>tr>.halfwidth{max-width:10em}.mw-parser-output .commons-creator-table>tbody>tr>.fullwidth{max-width:20em}}</style>\\n<table class=\"commons-creator-table mw-collapsible mw-collapsed mw-content-ltr\" dir=\"ltr\" lang=\"en\">\\n<tbody><tr>\\n<th colspan=\"4\"><span class=\"fn\" id=\"creator\"><bdi><a href=\"https://en.wikipedia.org/wiki/en:James_E._Purdy\" class=\"extiw\" title=\"w:en:James E. Purdy\"><span title=\"American photographer\">James Edward Purdy</span></a>\\n</bdi></span>&nbsp;(1858–1933)&nbsp;<span typeof=\"mw:File\"><a href=\"//commons.wikimedia.org/wiki/Creator:James_E._Purdy\" title=\"Creator:James E. Purdy\"><img src=\"https://upload.wikimedia.org/wikipedia/commons/thumb/7/73/Blue_pencil.svg/15px-Blue_pencil.svg.png\" decoding=\"async\" width=\"15\" height=\"15\" class=\"mw-file-element\" srcset=\"https://upload.wikimedia.org/wikipedia/commons/thumb/7/73/Blue_pencil.svg/23px-Blue_pencil.svg.png 1.5x, https://upload.wikimedia.org/wikipedia/commons/thumb/7/73/Blue_pencil.svg/30px-Blue_pencil.svg.png 2x\" data-file-width=\"600\" data-file-height=\"600\"></a></span>&nbsp;<span typeof=\"mw:File\"><a href=\"https://www.wikidata.org/wiki/Q18673008\" title=\"wikidata:Q18673008\"><img alt=\"wikidata:Q18673008\" src=\"https://upload.wikimedia.org/wikipedia/commons/thumb/f/ff/Wikidata-logo.svg/20px-Wikidata-logo.svg.png\" decoding=\"async\" width=\"20\" height=\"11\" class=\"mw-file-element\" srcset=\"https://upload.wikimedia.org/wikipedia/commons/thumb/f/ff/Wikidata-logo.svg/30px-Wikidata-logo.svg.png 1.5x, https://upload.wikimedia.org/wikipedia/commons/thumb/f/ff/Wikidata-logo.svg/40px-Wikidata-logo.svg.png 2x\" data-file-width=\"1050\" data-file-height=\"590\"></a></span> <div class=\"mw-collapsible-toggle mw-collapsible-toggle-collapsed\"><span class=\"mw-collapsible-arrowtoggle\">&nbsp;</span></div></th>\\n</tr>\\n<tr>\\n<th scope=\"row\">Alternative names</th>\\n<td colspan=\"2\" class=\"fullwidth\" id=\"fileinfotpl_creator_alt-name_value\"><div class=\"nickname\">\\nJ. E. Purdy; James E. Purdy</div></td></tr>\\n<tr>\\n<th scope=\"row\">Description</th>\\n<td colspan=\"2\" class=\"fullwidth\" id=\"fileinfotpl_creator_desc_value\">American photographer</td></tr>\\n<tr>\\n<th scope=\"row\">Date of birth/death</th>\\n<td class=\"halfwidth\" id=\"fileinfotpl_creator_birthdate_value\">\\n19 December 1858 / 1858&nbsp;<span class=\"mw-valign-text-top\" typeof=\"mw:File/Frameless\"><a href=\"https://www.wikidata.org/wiki/Q18673008#P569\" title=\"Edit this at Wikidata\"><img alt=\"Edit this at Wikidata\" src=\"https://upload.wikimedia.org/wikipedia/commons/thumb/8/8a/OOjs_UI_icon_edit-ltr-progressive.svg/10px-OOjs_UI_icon_edit-ltr-progressive.svg.png\" decoding=\"async\" width=\"10\" height=\"10\" class=\"mw-file-element\" srcset=\"https://upload.wikimedia.org/wikipedia/commons/thumb/8/8a/OOjs_UI_icon_edit-ltr-progressive.svg/15px-OOjs_UI_icon_edit-ltr-progressive.svg.png 1.5x, https://upload.wikimedia.org/wikipedia/commons/thumb/8/8a/OOjs_UI_icon_edit-ltr-progressive.svg/20px-OOjs_UI_icon_edit-ltr-progressive.svg.png 2x\" data-file-width=\"20\" data-file-height=\"20\"></a></span></td><td class=\"halfwidth\" id=\"fileinfotpl_creator_deathdate_value\">\\n2 August 1933 / 1933&nbsp;<span class=\"mw-valign-text-top\" typeof=\"mw:File/Frameless\"><a href=\"https://www.wikidata.org/wiki/Q18673008#P570\" title=\"Edit this at Wikidata\"><img alt=\"Edit this at Wikidata\" src=\"https://upload.wikimedia.org/wikipedia/commons/thumb/8/8a/OOjs_UI_icon_edit-ltr-progressive.svg/10px-OOjs_UI_icon_edit-ltr-progressive.svg.png\" decoding=\"async\" width=\"10\" height=\"10\" class=\"mw-file-element\" srcset=\"https://upload.wikimedia.org/wikipedia/commons/thumb/8/8a/OOjs_UI_icon_edit-ltr-progressive.svg/15px-OOjs_UI_icon_edit-ltr-progressive.svg.png 1.5x, https://upload.wikimedia.org/wikipedia/commons/thumb/8/8a/OOjs_UI_icon_edit-ltr-progressive.svg/20px-OOjs_UI_icon_edit-ltr-progressive.svg.png 2x\" data-file-width=\"20\" data-file-height=\"20\"></a></span></td></tr>\\n<tr>\\n<th scope=\"row\">Location of birth</th>\\n<td class=\"halfwidth\" id=\"fileinfotpl_creator_birthloc_value\">\\n<a href=\"https://en.wikipedia.org/wiki/en:Saco,_Maine\" class=\"extiw\" title=\"w:en:Saco, Maine\"><span title=\"city in York County, Maine, United States\">Saco</span></a></td><td class=\"halfwidth\" id=\"fileinfotpl_creator_deathloc_value\">\\n</td></tr>\\n<tr>\\n<th scope=\"row\">Work period</th>\\n<td colspan=\"2\" class=\"fullwidth\" id=\"fileinfotpl_creator_work-period_value\">1896–1933</td></tr>\\n<tr>\\n<th scope=\"row\">Work location</th>\\n<td colspan=\"2\" class=\"fullwidth\" id=\"fileinfotpl_creator_work-location\"><div class=\"locality\">\\n<a href=\"https://en.wikipedia.org/wiki/en:Boston\" class=\"extiw\" title=\"w:en:Boston\"><span title=\"capital and largest city of Massachusetts, United States\">Boston</span></a>&nbsp;<span class=\"mw-valign-text-top\" typeof=\"mw:File/Frameless\"><a href=\"https://www.wikidata.org/wiki/Q18673008#P937\" title=\"Edit this at Wikidata\"><img alt=\"Edit this at Wikidata\" src=\"https://upload.wikimedia.org/wikipedia/commons/thumb/8/8a/OOjs_UI_icon_edit-ltr-progressive.svg/10px-OOjs_UI_icon_edit-ltr-progressive.svg.png\" decoding=\"async\" width=\"10\" height=\"10\" class=\"mw-file-element\" srcset=\"https://upload.wikimedia.org/wikipedia/commons/thumb/8/8a/OOjs_UI_icon_edit-ltr-progressive.svg/15px-OOjs_UI_icon_edit-ltr-progressive.svg.png 1.5x, https://upload.wikimedia.org/wikipedia/commons/thumb/8/8a/OOjs_UI_icon_edit-ltr-progressive.svg/20px-OOjs_UI_icon_edit-ltr-progressive.svg.png 2x\" data-file-width=\"20\" data-file-height=\"20\"></a></span></div></td></tr>\\n<tr>\\n<th scope=\"row\"><a href=\"https://en.wikipedia.org/wiki/en:Authority_file\" class=\"extiw\" title=\"w:en:Authority file\"><span title=\"collection of authority records, where each record picks preferred heading, alternative heading and other information, used for bibliographic information\">Authority file</span></a></th>\\n<td colspan=\"2\" class=\"fullwidth\" id=\"fileinfotpl_creator_authority_value\"><div class=\"hlist\">\\n<ul><li><span typeof=\"mw:File\"><a href=\"https://www.wikidata.org/wiki/Q18673008\" title=\"wikidata:Q18673008\"><img alt=\"wikidata:Q18673008\" src=\"https://upload.wikimedia.org/wikipedia/commons/thumb/f/ff/Wikidata-logo.svg/20px-Wikidata-logo.svg.png\" decoding=\"async\" width=\"20\" height=\"11\" class=\"mw-file-element\" srcset=\"https://upload.wikimedia.org/wikipedia/commons/thumb/f/ff/Wikidata-logo.svg/30px-Wikidata-logo.svg.png 1.5x, https://upload.wikimedia.org/wikipedia/commons/thumb/f/ff/Wikidata-logo.svg/40px-Wikidata-logo.svg.png 2x\" data-file-width=\"1050\" data-file-height=\"590\"></a></span>: <a href=\"https://www.wikidata.org/wiki/Q18673008\" class=\"extiw\" title=\"d:Q18673008\">Q18673008</a></li></ul>\\n</div></td></tr>\\n</tbody></table>\\n</div>\\n<div style=\"display: none;\">creator QS:P170,Q18673008</div></td>\\n</tr>\\n\\n<tr>\\n<td id=\"fileinfotpl_perm\" class=\"fileinfo-paramfield\" lang=\"en\">Permission<br><small>(<a href=\"//commons.wikimedia.org/wiki/Commons:Reusing_content_outside_Wikimedia\" title=\"Commons:Reusing content outside Wikimedia\">Reusing this file</a>)</small></td>\\n<td>\\n<table class=\"licensetpl\" style=\"display:none\">\\n<tbody><tr>\\n<td><span class=\"licensetpl_short\">Public domain</span><span class=\"licensetpl_long\">Public domain</span><span class=\"licensetpl_link_req\">false</span><span class=\"licensetpl_attr_req\">false</span>\\n</td></tr></tbody></table>\\n<table style=\"width:100%; clear:both; margin:0.5em auto; background-color:#f7f8ff; border:2px solid #8888aa; direction: ltr; border-spacing: 8px; padding: 0px;\" class=\"layouttemplate mw-content-ltr\" lang=\"en\">\\n<tbody><tr>\\n<td><span typeof=\"mw:File\"><span title=\"Public domain\"><img alt=\"Public domain\" src=\"https://upload.wikimedia.org/wikipedia/commons/thumb/6/62/PD-icon.svg/64px-PD-icon.svg.png\" decoding=\"async\" width=\"64\" height=\"64\" class=\"mw-file-element\" srcset=\"https://upload.wikimedia.org/wikipedia/commons/thumb/6/62/PD-icon.svg/96px-PD-icon.svg.png 1.5x, https://upload.wikimedia.org/wikipedia/commons/thumb/6/62/PD-icon.svg/128px-PD-icon.svg.png 2x\" data-file-width=\"196\" data-file-height=\"196\"></span></span>\\n</td>\\n<td>\\n<p>This work is in the <b><a href=\"https://en.wikipedia.org/wiki/public_domain\" class=\"extiw\" title=\"en:public domain\">public domain</a></b> in its country of origin and other countries and areas where the <a href=\"https://en.wikipedia.org/wiki/List_of_countries%27_copyright_lengths\" class=\"extiw\" title=\"w:List of countries\\' copyright lengths\">copyright term</a> is the author\\'s <b>life plus 70 years or fewer</b>.\\n</p>\\n<hr>\\n<p>This work is in the <b><a href=\"https://en.wikipedia.org/wiki/public_domain\" class=\"extiw\" title=\"en:public domain\">public domain</a></b> in the <a href=\"https://en.wikipedia.org/wiki/United_States\" class=\"extiw\" title=\"en:United States\">United States</a> because it was <a href=\"//commons.wikimedia.org/wiki/Commons:Publication\" title=\"Commons:Publication\">published</a> (or registered with the <a href=\"https://en.wikipedia.org/wiki/United_States_Copyright_Office\" class=\"extiw\" title=\"en:United States Copyright Office\">U.S. Copyright Office</a>) before January 1, 1928.\\n</p>\\n</td></tr>\\n<tr>\\n<td colspan=\"2\" style=\"text-align:center;font-size:x-small;line-height:140%;\" class=\"plainlinks\"><a rel=\"nofollow\" class=\"external text\" href=\"https://creativecommons.org/publicdomain/mark/1.0/deed.en\">This file has been identified as being free of known restrictions under copyright law, including all related and neighboring rights.</a>\\n</td></tr></tbody></table><span class=\"licensetpl_link\" style=\"display:none;\">https://creativecommons.org/publicdomain/mark/1.0/</span><span class=\"licensetpl_short\" style=\"display:none;\">PDM</span><span class=\"licensetpl_long\" style=\"display:none;\">Creative Commons Public Domain Mark 1.0</span><span class=\"licensetpl_link_req\" style=\"display:none;\">false</span><span class=\"licensetpl_attr_req\" style=\"display:none;\">false</span></td>\\n</tr>\\n\\n\\n</tbody></table>\\n</div><h1 class=\"mw-slot-header\"><mediainfoslotheader></mediainfoslotheader></h1><mediainfoview style=\"display: none\"><mediainfoviewcaptions><div class=\"wbmi-entityview-captionsPanel oo-ui-layout oo-ui-panelLayout oo-ui-panelLayout-framed\"><h3 class=\"wbmi-entityview-captions-header\">Captions</h3><div class=\"wbmi-entityview-caption oo-ui-layout oo-ui-horizontalLayout\"><label class=\"wbmi-language-label oo-ui-widget oo-ui-widget-enabled oo-ui-labelElement-label oo-ui-labelElement oo-ui-labelWidget\">English</label><div lang=\"en\" dir=\"ltr\" class=\"wbmi-caption-value\">John Singer Sargent, photographed by James E. Purdy in 1903</div></div></div></mediainfoviewcaptions><mediainfoviewstatements><div id=\"P180\" data-property=\"P180\" data-statements=\"[{&quot;mainsnak&quot;:{&quot;snaktype&quot;:&quot;value&quot;,&quot;property&quot;:&quot;P180&quot;,&quot;hash&quot;:&quot;b8f92730fea61df58eaad8c9199c78b0030af37e&quot;,&quot;datavalue&quot;:{&quot;value&quot;:{&quot;entity-type&quot;:&quot;item&quot;,&quot;numeric-id&quot;:155626,&quot;id&quot;:&quot;Q155626&quot;},&quot;type&quot;:&quot;wikibase-entityid&quot;}},&quot;type&quot;:&quot;statement&quot;,&quot;id&quot;:&quot;M69552767$b8a7700f-9e50-4f83-b26c-e1edae0d2cef&quot;,&quot;rank&quot;:&quot;normal&quot;}]\" data-formatvalue=\"{&quot;{\\\\&quot;value\\\\&quot;:{\\\\&quot;entity-type\\\\&quot;:\\\\&quot;property\\\\&quot;,\\\\&quot;numeric-id\\\\&quot;:180,\\\\&quot;id\\\\&quot;:\\\\&quot;P180\\\\&quot;},\\\\&quot;type\\\\&quot;:\\\\&quot;wikibase-entityid\\\\&quot;}&quot;:{&quot;text\\\\/html&quot;:{&quot;en&quot;:{&quot;&quot;:&quot;<a target=\\\\&quot;_blank\\\\&quot; title=\\\\&quot;d:Special:EntityPage\\\\/P180\\\\&quot; href=\\\\&quot;https:\\\\/\\\\/www.wikidata.org\\\\/wiki\\\\/Special:EntityPage\\\\/P180\\\\&quot;>depicts<\\\\/a>&quot;}},&quot;text\\\\/plain&quot;:{&quot;en&quot;:{&quot;&quot;:&quot;depicts&quot;}}},&quot;{\\\\&quot;value\\\\&quot;:{\\\\&quot;entity-type\\\\&quot;:\\\\&quot;item\\\\&quot;,\\\\&quot;numeric-id\\\\&quot;:155626,\\\\&quot;id\\\\&quot;:\\\\&quot;Q155626\\\\&quot;},\\\\&quot;type\\\\&quot;:\\\\&quot;wikibase-entityid\\\\&quot;}&quot;:{&quot;text\\\\/html&quot;:{&quot;en&quot;:{&quot;P180&quot;:&quot;<a target=\\\\&quot;_blank\\\\&quot; title=\\\\&quot;d:Special:EntityPage\\\\/Q155626\\\\&quot; href=\\\\&quot;https:\\\\/\\\\/www.wikidata.org\\\\/wiki\\\\/Special:EntityPage\\\\/Q155626\\\\&quot;>John Singer Sargent<\\\\/a>&quot;}},&quot;text\\\\/plain&quot;:{&quot;en&quot;:{&quot;P180&quot;:&quot;John Singer Sargent&quot;}}}}\" class=\"wbmi-entityview-statementsGroup wbmi-entityview-statementsGroup-P180 oo-ui-layout oo-ui-panelLayout oo-ui-panelLayout-framed\"><div class=\"wbmi-statements-widget\"><div class=\"wbmi-statement-header\"><div class=\"wbmi-entity-data\"><div class=\"wbmi-entity-title\"><h3 class=\"wbmi-statements-title\">Items portrayed in this file</h3><h4 class=\"wbmi-entity-label\"><bdi><a target=\"_blank\" title=\"d:Special:EntityPage/P180\" href=\"https://www.wikidata.org/wiki/Special:EntityPage/P180\">depicts</a></bdi></h4></div></div></div><div class=\"wbmi-content-items-group\"><div class=\"wbmi-item wbmi-item-read\"><div data-guid=\"M69552767$b8a7700f-9e50-4f83-b26c-e1edae0d2cef\" class=\"wbmi-item-container\"><div class=\"wbmi-entity-header\"><div class=\"wbmi-entity-data\"><div class=\"wbmi-entity-title\"><h4 class=\"wbmi-entity-label\"><bdi><a target=\"_blank\" title=\"d:Special:EntityPage/Q155626\" href=\"https://www.wikidata.org/wiki/Special:EntityPage/Q155626\">John Singer Sargent</a></bdi></h4></div></div></div></div></div></div></div></div><div id=\"P571\" data-property=\"P571\" data-statements=\"[{&quot;mainsnak&quot;:{&quot;snaktype&quot;:&quot;value&quot;,&quot;property&quot;:&quot;P571&quot;,&quot;hash&quot;:&quot;bdf9992d48b44b95d4a9c9b025278a742981bc06&quot;,&quot;datavalue&quot;:{&quot;value&quot;:{&quot;time&quot;:&quot;+1903-01-01T00:00:00Z&quot;,&quot;timezone&quot;:0,&quot;before&quot;:0,&quot;after&quot;:0,&quot;precision&quot;:9,&quot;calendarmodel&quot;:&quot;http:\\\\/\\\\/www.wikidata.org\\\\/entity\\\\/Q1985727&quot;},&quot;type&quot;:&quot;time&quot;}},&quot;type&quot;:&quot;statement&quot;,&quot;id&quot;:&quot;M69552767$1BC4CEBF-4DF6-4279-840E-E77F79261645&quot;,&quot;rank&quot;:&quot;normal&quot;}]\" data-formatvalue=\"{&quot;{\\\\&quot;value\\\\&quot;:{\\\\&quot;entity-type\\\\&quot;:\\\\&quot;property\\\\&quot;,\\\\&quot;numeric-id\\\\&quot;:571,\\\\&quot;id\\\\&quot;:\\\\&quot;P571\\\\&quot;},\\\\&quot;type\\\\&quot;:\\\\&quot;wikibase-entityid\\\\&quot;}&quot;:{&quot;text\\\\/html&quot;:{&quot;en&quot;:{&quot;&quot;:&quot;<a target=\\\\&quot;_blank\\\\&quot; title=\\\\&quot;d:Special:EntityPage\\\\/P571\\\\&quot; href=\\\\&quot;https:\\\\/\\\\/www.wikidata.org\\\\/wiki\\\\/Special:EntityPage\\\\/P571\\\\&quot;>inception<\\\\/a>&quot;}},&quot;text\\\\/plain&quot;:{&quot;en&quot;:{&quot;&quot;:&quot;inception&quot;}}},&quot;{\\\\&quot;value\\\\&quot;:{\\\\&quot;time\\\\&quot;:\\\\&quot;+1903-01-01T00:00:00Z\\\\&quot;,\\\\&quot;timezone\\\\&quot;:0,\\\\&quot;before\\\\&quot;:0,\\\\&quot;after\\\\&quot;:0,\\\\&quot;precision\\\\&quot;:9,\\\\&quot;calendarmodel\\\\&quot;:\\\\&quot;http:\\\\\\\\\\\\/\\\\\\\\\\\\/www.wikidata.org\\\\\\\\\\\\/entity\\\\\\\\\\\\/Q1985727\\\\&quot;},\\\\&quot;type\\\\&quot;:\\\\&quot;time\\\\&quot;}&quot;:{&quot;text\\\\/html&quot;:{&quot;en&quot;:{&quot;P571&quot;:&quot;1903&quot;}},&quot;text\\\\/plain&quot;:{&quot;en&quot;:{&quot;P571&quot;:&quot;1903&quot;}}}}\" class=\"wbmi-entityview-statementsGroup wbmi-entityview-statementsGroup-P571 oo-ui-layout oo-ui-panelLayout oo-ui-panelLayout-framed\"><div class=\"wbmi-statements-widget\"><div class=\"wbmi-statement-header\"><div class=\"wbmi-entity-data\"><div class=\"wbmi-entity-title\"><h4 class=\"wbmi-entity-label\"><bdi><a target=\"_blank\" title=\"d:Special:EntityPage/P571\" href=\"https://www.wikidata.org/wiki/Special:EntityPage/P571\">inception</a></bdi></h4></div></div></div><div class=\"wbmi-content-items-group\"><div class=\"wbmi-item wbmi-item-read\"><div data-guid=\"M69552767$1BC4CEBF-4DF6-4279-840E-E77F79261645\" class=\"wbmi-item-container\"><div class=\"wbmi-entity-header\"><div class=\"wbmi-entity-data\"><div class=\"wbmi-entity-title\"><h4 class=\"wbmi-entity-label\"><bdi>1903</bdi></h4></div></div></div></div></div></div></div></div></mediainfoviewstatements></mediainfoview>\\n<!-- \\nNewPP limit report\\nParsed by mw2377\\nCached time: 20231021174712\\nCache expiry: 1814400\\nReduced expiry: false\\nComplications: []\\nCPU time usage: 0.132 seconds\\nReal time usage: 0.218 seconds\\nPreprocessor visited node count: 1015/1000000\\nPost‐expand include size: 27876/2097152 bytes\\nTemplate argument size: 99/2097152 bytes\\nHighest expansion depth: 16/100\\nExpensive parser function count: 4/500\\nUnstrip recursion depth: 0/20\\nUnstrip post‐expand size: 4090/5000000 bytes\\nLua time usage: 0.094/10.000 seconds\\nLua memory usage: 2484857/52428800 bytes\\nNumber of Wikibase entities loaded: 2/400\\n-->\\n<!--\\nTransclusion expansion time report (%,ms,calls,template)\\n100.00%  200.384      1 -total\\n100.00%  200.384      1 Template:Information\\n 64.67%  129.579      1 Creator:James_E._Purdy\\n 63.22%  126.679      1 Template:Creator\\n 10.94%   21.930      1 Template:PD-old-70-1923\\n  9.77%   19.575      1 Template:PD-old-X-expired\\n  6.57%   13.155      1 Template:Str_≤_len\\n  5.44%   10.900      1 Template:CountryAdjective\\n  4.66%    9.344      1 Template:Autotranslate\\n  3.46%    6.925      1 Template:PD-old-text\\n-->\\n\\n<!-- Saved in parser cache with key commonswiki:pcache:idhash:69552767-0!wb=3!wbMobile=0 and timestamp 20231021174712 and revision id 802257782. Rendering was triggered because: page-view\\n -->\\n</div></div>\\n<h2 id=\"filehistory\">File history</h2>\\n<div id=\"mw-imagepage-section-filehistory\">\\n<p>Click on a date/time to view the file as it appeared at that time.\\n</p>\\n<table class=\"wikitable filehistory\">\\n<tr><th></th><th>Date/Time</th><th>Thumbnail</th><th>Dimensions</th><th>User</th><th>Comment</th></tr>\\n<tr><td>current</td><td class=\"filehistory-selected\" style=\"white-space: nowrap;\"><a href=\"//upload.wikimedia.org/wikipedia/commons/a/a5/John_Singer_Sargent_1903.jpg\">12:46, 11 June 2018</a></td><td><a href=\"//upload.wikimedia.org/wikipedia/commons/a/a5/John_Singer_Sargent_1903.jpg\"><img alt=\"Thumbnail for version as of 12:46, 11 June 2018\" src=\"//upload.wikimedia.org/wikipedia/commons/thumb/a/a5/John_Singer_Sargent_1903.jpg/90px-John_Singer_Sargent_1903.jpg\" decoding=\"async\" width=\"90\" height=\"120\" data-file-width=\"608\" data-file-height=\"810\" /></a></td><td>608 × 810 <span style=\"white-space: nowrap;\">(261 KB)</span></td><td>Materialscientist</td><td dir=\"ltr\">rotated</td></tr>\\n<tr><td></td><td style=\"white-space: nowrap;\"><a href=\"//upload.wikimedia.org/wikipedia/commons/archive/a/a5/20180530085007%21John_Singer_Sargent_1903.jpg\">08:44, 30 May 2018</a></td><td><a href=\"//upload.wikimedia.org/wikipedia/commons/archive/a/a5/20180530085007%21John_Singer_Sargent_1903.jpg\"><img alt=\"Thumbnail for version as of 08:44, 30 May 2018\" src=\"//upload.wikimedia.org/wikipedia/commons/thumb/archive/a/a5/20180530085007%21John_Singer_Sargent_1903.jpg/90px-John_Singer_Sargent_1903.jpg\" decoding=\"async\" width=\"90\" height=\"120\" data-file-width=\"608\" data-file-height=\"810\" /></a></td><td>608 × 810 <span style=\"white-space: nowrap;\">(265 KB)</span></td><td>Materialscientist</td><td dir=\"ltr\">3:4 crop</td></tr>\\n<tr><td></td><td style=\"white-space: nowrap;\"><a href=\"//upload.wikimedia.org/wikipedia/commons/archive/a/a5/20180530082030%21John_Singer_Sargent_1903.jpg\">08:18, 30 May 2018</a></td><td><a href=\"//upload.wikimedia.org/wikipedia/commons/archive/a/a5/20180530082030%21John_Singer_Sargent_1903.jpg\"><img alt=\"Thumbnail for version as of 08:18, 30 May 2018\" src=\"//upload.wikimedia.org/wikipedia/commons/thumb/archive/a/a5/20180530082030%21John_Singer_Sargent_1903.jpg/80px-John_Singer_Sargent_1903.jpg\" decoding=\"async\" width=\"80\" height=\"120\" data-file-width=\"682\" data-file-height=\"1024\" /></a></td><td>682 × 1,024 <span style=\"white-space: nowrap;\">(210 KB)</span></td><td>Materialscientist</td><td dir=\"ltr\">{{Information |Description =  John Singer Sargent |Source = [https://www.gettyimages.co.uk/license/640475529] |Date =1903 |Author = {{Creator:James E. Purdy}} |Permission ={{PD-old-70-1923}} |other_versions = }}  <a href=\"/w/index.php?title=Category:Photographs_of_John_Singer_Sargent&amp;action=edit&amp;redlink=1\" class=\"new\" title=\"Category:Photographs of John Singer Sargent (page does not exist)\">Category:Photographs of John Singer Sargent</a></td></tr>\\n</table>\\n\\n</div>\\n<h2 id=\"filelinks\">File usage</h2>\\n<div id=\\'mw-imagepage-section-linkstoimage\\'>\\n<div class=\"linkstoimage\" id=\"linkstoimage\">The following pages on the English Wikipedia use this file (pages on other projects are not listed):</div><ul class=\"mw-imagepage-linkstoimage\">\\n<li class=\"mw-imagepage-linkstoimage-ns0\"><a href=\"/wiki/John_Singer_Sargent\" title=\"John Singer Sargent\">John Singer Sargent</a></li>\\n<li class=\"mw-imagepage-linkstoimage-ns0\"><a href=\"/wiki/List_of_faculty_and_alumni_of_the_Acad%C3%A9mie_Julian\" title=\"List of faculty and alumni of the Académie Julian\">List of faculty and alumni of the Académie Julian</a></li>\\n<li class=\"mw-imagepage-linkstoimage-ns0\"><a href=\"/wiki/List_of_people_buried_in_Brookwood_Cemetery\" title=\"List of people buried in Brookwood Cemetery\">List of people buried in Brookwood Cemetery</a></li>\\n<li class=\"mw-imagepage-linkstoimage-ns2\"><a href=\"/wiki/User:Sorrow_of_Sophie/GalleryofArtandLiteratureFigures\" title=\"User:Sorrow of Sophie/GalleryofArtandLiteratureFigures\">User:Sorrow of Sophie/GalleryofArtandLiteratureFigures</a></li>\\n</ul>\\n</div>\\n<h2 id=\"globalusage\">Global file usage</h2>\\n<div id=\"mw-imagepage-section-globalusage\"><p>The following other wikis use this file:\\n</p><ul>\\n<li class=\\'mw-gu-onwiki-da_wikipedia_org\\'>Usage on da.wikipedia.org\\n<ul>\\t<li><a class=\"external\" href=\"https://da.wikipedia.org/wiki/Madame_X_(portr%C3%A6t)\">Madame X (portræt)</a></li>\\n</ul></li>\\n<li class=\\'mw-gu-onwiki-de_wikipedia_org\\'>Usage on de.wikipedia.org\\n<ul>\\t<li><a class=\"external\" href=\"https://de.wikipedia.org/wiki/John_Singer_Sargent\">John Singer Sargent</a></li>\\n\\t<li><a class=\"external\" href=\"https://de.wikipedia.org/wiki/Liste_der_Biografien/Sin\">Liste der Biografien/Sin</a></li>\\n</ul></li>\\n<li class=\\'mw-gu-onwiki-es_wikipedia_org\\'>Usage on es.wikipedia.org\\n<ul>\\t<li><a class=\"external\" href=\"https://es.wikipedia.org/wiki/John_Singer_Sargent\">John Singer Sargent</a></li>\\n</ul></li>\\n<li class=\\'mw-gu-onwiki-fa_wikipedia_org\\'>Usage on fa.wikipedia.org\\n<ul>\\t<li><a class=\"external\" href=\"https://fa.wikipedia.org/wiki/%D8%AC%D8%A7%D9%86_%D8%B3%DB%8C%D9%86%DA%AF%D8%B1_%D8%B3%D8%A7%D8%B1%D8%AC%D9%86%D8%AA\">جان سینگر سارجنت</a></li>\\n</ul></li>\\n<li class=\\'mw-gu-onwiki-fr_wikipedia_org\\'>Usage on fr.wikipedia.org\\n<ul>\\t<li><a class=\"external\" href=\"https://fr.wikipedia.org/wiki/John_Singer_Sargent\">John Singer Sargent</a></li>\\n</ul></li>\\n<li class=\\'mw-gu-onwiki-id_wikipedia_org\\'>Usage on id.wikipedia.org\\n<ul>\\t<li><a class=\"external\" href=\"https://id.wikipedia.org/wiki/John_Singer_Sargent\">John Singer Sargent</a></li>\\n\\t<li><a class=\"external\" href=\"https://id.wikipedia.org/wiki/Pengguna:Naoko_Evelyn/bak_pasir3\">Pengguna:Naoko Evelyn/bak pasir3</a></li>\\n</ul></li>\\n<li class=\\'mw-gu-onwiki-io_wikipedia_org\\'>Usage on io.wikipedia.org\\n<ul>\\t<li><a class=\"external\" href=\"https://io.wikipedia.org/wiki/John_Singer_Sargent\">John Singer Sargent</a></li>\\n</ul></li>\\n<li class=\\'mw-gu-onwiki-nl_wikipedia_org\\'>Usage on nl.wikipedia.org\\n<ul>\\t<li><a class=\"external\" href=\"https://nl.wikipedia.org/wiki/John_Singer_Sargent\">John Singer Sargent</a></li>\\n</ul></li>\\n<li class=\\'mw-gu-onwiki-ro_wikipedia_org\\'>Usage on ro.wikipedia.org\\n<ul>\\t<li><a class=\"external\" href=\"https://ro.wikipedia.org/wiki/12_ianuarie\">12 ianuarie</a></li>\\n\\t<li><a class=\"external\" href=\"https://ro.wikipedia.org/wiki/14_aprilie\">14 aprilie</a></li>\\n\\t<li><a class=\"external\" href=\"https://ro.wikipedia.org/wiki/John_Singer_Sargent\">John Singer Sargent</a></li>\\n</ul></li>\\n<li class=\\'mw-gu-onwiki-sr_wikipedia_org\\'>Usage on sr.wikipedia.org\\n<ul>\\t<li><a class=\"external\" href=\"https://sr.wikipedia.org/wiki/%D0%8F%D0%BE%D0%BD_%D0%A1%D0%B8%D0%BD%D0%B3%D0%B5%D1%80_%D0%A1%D0%B0%D1%80%D1%9F%D0%B5%D0%BD%D1%82\">Џон Сингер Сарџент</a></li>\\n</ul></li>\\n<li class=\\'mw-gu-onwiki-uk_wikipedia_org\\'>Usage on uk.wikipedia.org\\n<ul>\\t<li><a class=\"external\" href=\"https://uk.wikipedia.org/wiki/%D0%94%D0%B6%D0%BE%D0%BD_%D0%A1%D1%96%D0%BD%D0%B3%D0%B5%D1%80_%D0%A1%D0%B0%D1%80%D0%B4%D0%B6%D0%B5%D0%BD%D1%82\">Джон Сінгер Сарджент</a></li>\\n</ul></li>\\n</ul>\\n</div><h2 id=\"metadata\">Metadata</h2>\\n<div class=\"mw-imagepage-section-metadata\"><p>This file contains additional information, probably added from the digital camera or scanner used to create or digitize it.\\n</p><p>\\nIf the file has been modified from its original state, some details may not fully reflect the modified file.</p><table id=\"mw_metadata\" class=\"mw_metadata collapsed\">\\n<tbody><tr class=\"exif-orientation mw-metadata-collapsible\"><th>Orientation</th><td>Normal</td></tr><tr class=\"exif-xresolution mw-metadata-collapsible\"><th>Horizontal resolution</th><td>300 dpi</td></tr><tr class=\"exif-yresolution mw-metadata-collapsible\"><th>Vertical resolution</th><td>300 dpi</td></tr><tr class=\"exif-software mw-metadata-collapsible\"><th>Software used</th><td><a href=\"/wiki/GIMP_2.4.7\" class=\"mw-redirect\" title=\"GIMP 2.4.7\">GIMP 2.4.7</a></td></tr><tr class=\"exif-datetime mw-metadata-collapsible\"><th>File change date and time</th><td>21:46, 11 June 2018</td></tr></tbody></table>\\n</div><!--esi <esi:include src=\"/esitest-fa8a495983347898/content\" /> --><noscript><img src=\"https://login.wikimedia.org/wiki/Special:CentralAutoLogin/start?type=1x1\" alt=\"\" width=\"1\" height=\"1\" style=\"border: none; position: absolute;\"></noscript>\\n<div class=\"printfooter\" data-nosnippet=\"\">Retrieved from \"<a dir=\"ltr\" href=\"https://en.wikipedia.org/wiki/File:John_Singer_Sargent_1903.jpg\">https://en.wikipedia.org/wiki/File:John_Singer_Sargent_1903.jpg</a>\"</div></div>\\n\\t\\t\\t\\t\\t<div id=\"catlinks\" class=\"catlinks catlinks-allhidden\" data-mw=\"interface\"></div>\\n\\t\\t\\t\\t</div>\\n\\t\\t\\t</main>\\n\\t\\t\\t\\n\\t\\t</div>\\n\\t\\t<div class=\"mw-footer-container\">\\n\\t\\t\\t\\n<footer id=\"footer\" class=\"mw-footer\" role=\"contentinfo\" >\\n\\t<ul id=\"footer-info\">\\n</ul>\\n\\n\\t<ul id=\"footer-places\">\\n\\t<li id=\"footer-places-privacy\"><a href=\"https://foundation.wikimedia.org/wiki/Special:MyLanguage/Policy:Privacy_policy\">Privacy policy</a></li>\\n\\t<li id=\"footer-places-about\"><a href=\"/wiki/Wikipedia:About\">About Wikipedia</a></li>\\n\\t<li id=\"footer-places-disclaimers\"><a href=\"/wiki/Wikipedia:General_disclaimer\">Disclaimers</a></li>\\n\\t<li id=\"footer-places-contact\"><a href=\"//en.wikipedia.org/wiki/Wikipedia:Contact_us\">Contact Wikipedia</a></li>\\n\\t<li id=\"footer-places-wm-codeofconduct\"><a href=\"https://foundation.wikimedia.org/wiki/Special:MyLanguage/Policy:Universal_Code_of_Conduct\">Code of Conduct</a></li>\\n\\t<li id=\"footer-places-developers\"><a href=\"https://developer.wikimedia.org\">Developers</a></li>\\n\\t<li id=\"footer-places-statslink\"><a href=\"https://stats.wikimedia.org/#/en.wikipedia.org\">Statistics</a></li>\\n\\t<li id=\"footer-places-cookiestatement\"><a href=\"https://foundation.wikimedia.org/wiki/Special:MyLanguage/Policy:Cookie_statement\">Cookie statement</a></li>\\n\\t<li id=\"footer-places-mobileview\"><a href=\"//en.m.wikipedia.org/w/index.php?title=File:John_Singer_Sargent_1903.jpg&amp;mobileaction=toggle_view_mobile\" class=\"noprint stopMobileRedirectToggle\">Mobile view</a></li>\\n</ul>\\n\\n\\t<ul id=\"footer-icons\" class=\"noprint\">\\n\\t<li id=\"footer-copyrightico\"><a href=\"https://wikimediafoundation.org/\"><img src=\"/static/images/footer/wikimedia-button.png\" srcset=\"/static/images/footer/wikimedia-button-1.5x.png 1.5x, /static/images/footer/wikimedia-button-2x.png 2x\" width=\"88\" height=\"31\" alt=\"Wikimedia Foundation\" loading=\"lazy\" /></a></li>\\n\\t<li id=\"footer-poweredbyico\"><a href=\"https://www.mediawiki.org/\"><img src=\"/static/images/footer/poweredby_mediawiki_88x31.png\" alt=\"Powered by MediaWiki\" srcset=\"/static/images/footer/poweredby_mediawiki_132x47.png 1.5x, /static/images/footer/poweredby_mediawiki_176x62.png 2x\" width=\"88\" height=\"31\" loading=\"lazy\"></a></li>\\n</ul>\\n\\n</footer>\\n\\n\\t\\t</div>\\n\\t</div> \\n</div> \\n<div class=\"vector-settings\" id=\"p-dock-bottom\">\\n\\t<ul>\\n\\t\\t<li>\\n\\t\\t\\n\\t\\t<button class=\"cdx-button cdx-button--icon-only vector-limited-width-toggle\" id=\"\"><span class=\"vector-icon mw-ui-icon-fullScreen mw-ui-icon-wikimedia-fullScreen\"></span>\\n\\n<span>Toggle limited content width</span>\\n</button>\\n</li>\\n\\t</ul>\\n</div>\\n<script>(RLQ=window.RLQ||[]).push(function(){mw.config.set({\"wgHostname\":\"mw2421\",\"wgBackendResponseTime\":125,\"wgPageParseReport\":{\"limitreport\":{\"cputime\":\"0.001\",\"walltime\":\"0.001\",\"ppvisitednodes\":{\"value\":3,\"limit\":1000000},\"postexpandincludesize\":{\"value\":0,\"limit\":2097152},\"templateargumentsize\":{\"value\":0,\"limit\":2097152},\"expansiondepth\":{\"value\":1,\"limit\":100},\"expensivefunctioncount\":{\"value\":0,\"limit\":500},\"unstrip-depth\":{\"value\":0,\"limit\":20},\"unstrip-size\":{\"value\":0,\"limit\":5000000},\"entityaccesscount\":{\"value\":0,\"limit\":400},\"timingprofile\":[\"100.00%    0.000      1 -total\"]},\"cachereport\":{\"origin\":\"mw2421\",\"timestamp\":\"20231107154945\",\"ttl\":1814400,\"transientcontent\":false}}});});</script>\\n</body>\\n</html>'"
      ]
     },
     "execution_count": 45,
     "metadata": {},
     "output_type": "execute_result"
    }
   ],
   "source": [
    "jss_image_01h_link = 'https://en.wikipedia.org' + jss_01_hiRes_obj['href']\n",
    "jss_image_01h_obj = requests.get(jss_image_01h_link)\n",
    "jss_image_01h_obj.text"
   ]
  },
  {
   "cell_type": "code",
   "execution_count": 46,
   "id": "4b4cecb6",
   "metadata": {},
   "outputs": [],
   "source": [
    "soup_jss_img01 = bs4.BeautifulSoup(jss_image_01h_obj.text, \"lxml\")"
   ]
  },
  {
   "cell_type": "code",
   "execution_count": 47,
   "id": "4b34eab1",
   "metadata": {},
   "outputs": [
    {
     "data": {
      "text/plain": [
       "<!DOCTYPE html>\n",
       "<html class=\"client-nojs vector-feature-language-in-header-enabled vector-feature-language-in-main-page-header-disabled vector-feature-sticky-header-disabled vector-feature-page-tools-pinned-disabled vector-feature-toc-pinned-clientpref-1 vector-feature-main-menu-pinned-disabled vector-feature-limited-width-clientpref-1 vector-feature-limited-width-content-enabled vector-feature-zebra-design-disabled vector-feature-custom-font-size-clientpref-0 vector-feature-client-preferences-disabled vector-feature-typography-survey-disabled vector-toc-not-available\" dir=\"ltr\" lang=\"en\">\n",
       "<head>\n",
       "<meta charset=\"utf-8\"/>\n",
       "<title>File:John Singer Sargent 1903.jpg - Wikipedia</title>\n",
       "<script>(function(){var className=\"client-js vector-feature-language-in-header-enabled vector-feature-language-in-main-page-header-disabled vector-feature-sticky-header-disabled vector-feature-page-tools-pinned-disabled vector-feature-toc-pinned-clientpref-1 vector-feature-main-menu-pinned-disabled vector-feature-limited-width-clientpref-1 vector-feature-limited-width-content-enabled vector-feature-zebra-design-disabled vector-feature-custom-font-size-clientpref-0 vector-feature-client-preferences-disabled vector-feature-typography-survey-disabled vector-toc-not-available\";var cookie=document.cookie.match(/(?:^|; )enwikimwclientpreferences=([^;]+)/);if(cookie){cookie[1].split('%2C').forEach(function(pref){className=className.replace(new RegExp('(^| )'+pref.replace(/-clientpref-\\w+$|[^\\w-]+/g,'')+'-clientpref-\\\\w+( |$)'),'$1'+pref+'$2');});}document.documentElement.className=className;}());RLCONF={\"wgBreakFrames\":false,\"wgSeparatorTransformTable\":[\"\",\"\"],\"wgDigitTransformTable\":[\"\",\"\"],\n",
       "\"wgDefaultDateFormat\":\"dmy\",\"wgMonthNames\":[\"\",\"January\",\"February\",\"March\",\"April\",\"May\",\"June\",\"July\",\"August\",\"September\",\"October\",\"November\",\"December\"],\"wgRequestId\":\"88f0adf2-1832-4d49-8aa6-411ad3ea892a\",\"wgCanonicalNamespace\":\"File\",\"wgCanonicalSpecialPageName\":false,\"wgNamespaceNumber\":6,\"wgPageName\":\"File:John_Singer_Sargent_1903.jpg\",\"wgTitle\":\"John Singer Sargent 1903.jpg\",\"wgCurRevisionId\":0,\"wgRevisionId\":0,\"wgArticleId\":0,\"wgIsArticle\":true,\"wgIsRedirect\":false,\"wgAction\":\"view\",\"wgUserName\":null,\"wgUserGroups\":[\"*\"],\"wgCategories\":[],\"wgPageViewLanguage\":\"en\",\"wgPageContentLanguage\":\"en\",\"wgPageContentModel\":\"wikitext\",\"wgRelevantPageName\":\"File:John_Singer_Sargent_1903.jpg\",\"wgRelevantArticleId\":0,\"wgIsProbablyEditable\":false,\"wgRelevantPageIsProbablyEditable\":false,\"wgRestrictionCreate\":[],\"wgNoticeProject\":\"wikipedia\",\"wgFlaggedRevsParams\":{\"tags\":{\"status\":{\"levels\":1}}},\"wgMediaViewerOnClick\":true,\"wgMediaViewerEnabledByDefault\":true,\"wgPopupsFlags\":10,\n",
       "\"wgVisualEditor\":{\"pageLanguageCode\":\"en\",\"pageLanguageDir\":\"ltr\",\"pageVariantFallbacks\":\"en\"},\"wgMFDisplayWikibaseDescriptions\":{\"search\":true,\"watchlist\":true,\"tagline\":false,\"nearby\":true},\"wgWMESchemaEditAttemptStepOversample\":false,\"wgWMEPageLength\":0,\"wgULSCurrentAutonym\":\"English\",\"wgCentralAuthMobileDomain\":false,\"wgEditSubmitButtonLabelPublish\":true,\"wgULSPosition\":\"interlanguage\",\"wgULSisCompactLinksEnabled\":true,\"wgULSisLanguageSelectorEmpty\":true,\"wgCheckUserClientHintsHeadersJsApi\":[\"architecture\",\"bitness\",\"brands\",\"fullVersionList\",\"mobile\",\"model\",\"platform\",\"platformVersion\"],\"GEHomepageSuggestedEditsEnableTopics\":true,\"wgGETopicsMatchModeEnabled\":false,\"wgGEStructuredTaskRejectionReasonTextInputEnabled\":false,\"wgGELevelingUpEnabledForUser\":false};RLSTATE={\"skins.vector.user.styles\":\"ready\",\"ext.globalCssJs.user.styles\":\"ready\",\"site.styles\":\"ready\",\"user.styles\":\"ready\",\"skins.vector.user\":\"ready\",\"ext.globalCssJs.user\":\"ready\",\"user\":\"ready\",\"user.options\":\"loading\",\n",
       "\"mediawiki.interface.helpers.styles\":\"ready\",\"filepage\":\"ready\",\"mediawiki.action.view.filepage\":\"ready\",\"codex-search-styles\":\"ready\",\"skins.vector.styles\":\"ready\",\"skins.vector.icons\":\"ready\",\"jquery.makeCollapsible.styles\":\"ready\",\"ext.visualEditor.desktopArticleTarget.noscript\":\"ready\",\"ext.uls.interlanguage\":\"ready\",\"ext.wikimediaBadges\":\"ready\"};RLPAGEMODULES=[\"mediawiki.action.view.metadata\",\"site\",\"mediawiki.page.ready\",\"jquery.makeCollapsible\",\"skins.vector.js\",\"ext.centralNotice.geoIP\",\"ext.centralNotice.startUp\",\"ext.gadget.ReferenceTooltips\",\"ext.gadget.switcher\",\"ext.urlShortener.toolbar\",\"ext.centralauth.centralautologin\",\"mmv.head\",\"mmv.bootstrap.autostart\",\"ext.popups\",\"ext.visualEditor.desktopArticleTarget.init\",\"ext.visualEditor.targetLoader\",\"ext.echo.centralauth\",\"ext.eventLogging\",\"ext.wikimediaEvents\",\"ext.navigationTiming\",\"ext.uls.compactlinks\",\"ext.uls.interface\",\"ext.cx.eventlogging.campaigns\",\"ext.checkUser.clientHints\"];</script>\n",
       "<script>(RLQ=window.RLQ||[]).push(function(){mw.loader.impl(function(){return[\"user.options@12s5i\",function($,jQuery,require,module){mw.user.tokens.set({\"patrolToken\":\"+\\\\\",\"watchToken\":\"+\\\\\",\"csrfToken\":\"+\\\\\"});\n",
       "}];});});</script>\n",
       "<link href=\"/w/load.php?lang=en&amp;modules=codex-search-styles%2Cfilepage%7Cext.uls.interlanguage%7Cext.visualEditor.desktopArticleTarget.noscript%7Cext.wikimediaBadges%7Cjquery.makeCollapsible.styles%7Cmediawiki.action.view.filepage%7Cmediawiki.interface.helpers.styles%7Cskins.vector.icons%2Cstyles&amp;only=styles&amp;skin=vector-2022\" rel=\"stylesheet\"/>\n",
       "<script async=\"\" src=\"/w/load.php?lang=en&amp;modules=startup&amp;only=scripts&amp;raw=1&amp;skin=vector-2022\"></script>\n",
       "<link href=\"https://commons.wikimedia.org/w/index.php?title=MediaWiki:Filepage.css&amp;action=raw&amp;ctype=text/css\" rel=\"stylesheet\"/>\n",
       "<meta content=\"\" name=\"ResourceLoaderDynamicStyles\"/>\n",
       "<link href=\"/w/load.php?lang=en&amp;modules=site.styles&amp;only=styles&amp;skin=vector-2022\" rel=\"stylesheet\"/>\n",
       "<meta content=\"MediaWiki 1.42.0-wmf.3\" name=\"generator\"/>\n",
       "<meta content=\"origin\" name=\"referrer\"/>\n",
       "<meta content=\"origin-when-cross-origin\" name=\"referrer\"/>\n",
       "<meta content=\"max-image-preview:standard\" name=\"robots\"/>\n",
       "<meta content=\"telephone=no\" name=\"format-detection\"/>\n",
       "<meta content=\"https://upload.wikimedia.org/wikipedia/commons/a/a5/John_Singer_Sargent_1903.jpg\" property=\"og:image\"/>\n",
       "<meta content=\"1200\" property=\"og:image:width\"/>\n",
       "<meta content=\"1599\" property=\"og:image:height\"/>\n",
       "<meta content=\"https://upload.wikimedia.org/wikipedia/commons/a/a5/John_Singer_Sargent_1903.jpg\" property=\"og:image\"/>\n",
       "<meta content=\"800\" property=\"og:image:width\"/>\n",
       "<meta content=\"1066\" property=\"og:image:height\"/>\n",
       "<meta content=\"640\" property=\"og:image:width\"/>\n",
       "<meta content=\"853\" property=\"og:image:height\"/>\n",
       "<meta content=\"width=1000\" name=\"viewport\"/>\n",
       "<meta content=\"File:John Singer Sargent 1903.jpg - Wikipedia\" property=\"og:title\"/>\n",
       "<meta content=\"website\" property=\"og:type\"/>\n",
       "<link href=\"//upload.wikimedia.org\" rel=\"preconnect\"/>\n",
       "<link href=\"//upload.wikimedia.org\" rel=\"preconnect\"/>\n",
       "<link href=\"//en.m.wikipedia.org/wiki/File:John_Singer_Sargent_1903.jpg\" media=\"only screen and (max-width: 720px)\" rel=\"alternate\"/>\n",
       "<link href=\"/static/apple-touch/wikipedia.png\" rel=\"apple-touch-icon\"/>\n",
       "<link href=\"/static/favicon/wikipedia.ico\" rel=\"icon\"/>\n",
       "<link href=\"/w/opensearch_desc.php\" rel=\"search\" title=\"Wikipedia (en)\" type=\"application/opensearchdescription+xml\"/>\n",
       "<link href=\"//en.wikipedia.org/w/api.php?action=rsd\" rel=\"EditURI\" type=\"application/rsd+xml\"/>\n",
       "<link href=\"https://commons.wikimedia.org/wiki/File:John_Singer_Sargent_1903.jpg\" rel=\"canonical\"/>\n",
       "<link href=\"https://creativecommons.org/licenses/by-sa/4.0/deed.en\" rel=\"license\"/>\n",
       "<link href=\"/w/index.php?title=Special:RecentChanges&amp;feed=atom\" rel=\"alternate\" title=\"Wikipedia Atom feed\" type=\"application/atom+xml\"/>\n",
       "<link href=\"//meta.wikimedia.org\" rel=\"dns-prefetch\"/>\n",
       "<link href=\"//login.wikimedia.org\" rel=\"dns-prefetch\"/>\n",
       "</head>\n",
       "<body class=\"skin-vector skin-vector-search-vue mediawiki ltr sitedir-ltr mw-hide-empty-elt ns-6 ns-subject page-File_John_Singer_Sargent_1903_jpg rootpage-File_John_Singer_Sargent_1903_jpg skin-vector-2022 action-view\"><a class=\"mw-jump-link\" href=\"#bodyContent\">Jump to content</a>\n",
       "<div class=\"vector-header-container\">\n",
       "<header class=\"vector-header mw-header\">\n",
       "<div class=\"vector-header-start\">\n",
       "<nav aria-label=\"Site\" class=\"vector-main-menu-landmark\" role=\"navigation\">\n",
       "<div class=\"vector-dropdown vector-main-menu-dropdown vector-button-flush-left vector-button-flush-right\" id=\"vector-main-menu-dropdown\">\n",
       "<input aria-haspopup=\"true\" aria-label=\"Main menu\" class=\"vector-dropdown-checkbox\" data-event-name=\"ui.dropdown-vector-main-menu-dropdown\" id=\"vector-main-menu-dropdown-checkbox\" role=\"button\" type=\"checkbox\"/>\n",
       "<label aria-hidden=\"true\" class=\"vector-dropdown-label cdx-button cdx-button--fake-button cdx-button--fake-button--enabled cdx-button--weight-quiet cdx-button--icon-only\" for=\"vector-main-menu-dropdown-checkbox\" id=\"vector-main-menu-dropdown-label\"><span class=\"vector-icon mw-ui-icon-menu mw-ui-icon-wikimedia-menu\"></span>\n",
       "<span class=\"vector-dropdown-label-text\">Main menu</span>\n",
       "</label>\n",
       "<div class=\"vector-dropdown-content\">\n",
       "<div class=\"vector-unpinned-container\" id=\"vector-main-menu-unpinned-container\">\n",
       "<div class=\"vector-main-menu vector-pinnable-element\" id=\"vector-main-menu\">\n",
       "<div class=\"vector-pinnable-header vector-main-menu-pinnable-header vector-pinnable-header-unpinned\" data-feature-name=\"main-menu-pinned\" data-pinnable-element-id=\"vector-main-menu\" data-pinned-container-id=\"vector-main-menu-pinned-container\" data-unpinned-container-id=\"vector-main-menu-unpinned-container\">\n",
       "<div class=\"vector-pinnable-header-label\">Main menu</div>\n",
       "<button class=\"vector-pinnable-header-toggle-button vector-pinnable-header-pin-button\" data-event-name=\"pinnable-header.vector-main-menu.pin\">move to sidebar</button>\n",
       "<button class=\"vector-pinnable-header-toggle-button vector-pinnable-header-unpin-button\" data-event-name=\"pinnable-header.vector-main-menu.unpin\">hide</button>\n",
       "</div>\n",
       "<div class=\"vector-menu mw-portlet mw-portlet-navigation\" id=\"p-navigation\">\n",
       "<div class=\"vector-menu-heading\">\n",
       "\t\tNavigation\n",
       "\t</div>\n",
       "<div class=\"vector-menu-content\">\n",
       "<ul class=\"vector-menu-content-list\">\n",
       "<li class=\"mw-list-item\" id=\"n-mainpage-description\"><a accesskey=\"z\" href=\"/wiki/Main_Page\" title=\"Visit the main page [z]\"><span>Main page</span></a></li><li class=\"mw-list-item\" id=\"n-contents\"><a href=\"/wiki/Wikipedia:Contents\" title=\"Guides to browsing Wikipedia\"><span>Contents</span></a></li><li class=\"mw-list-item\" id=\"n-currentevents\"><a href=\"/wiki/Portal:Current_events\" title=\"Articles related to current events\"><span>Current events</span></a></li><li class=\"mw-list-item\" id=\"n-randompage\"><a accesskey=\"x\" href=\"/wiki/Special:Random\" title=\"Visit a randomly selected article [x]\"><span>Random article</span></a></li><li class=\"mw-list-item\" id=\"n-aboutsite\"><a href=\"/wiki/Wikipedia:About\" title=\"Learn about Wikipedia and how it works\"><span>About Wikipedia</span></a></li><li class=\"mw-list-item\" id=\"n-contactpage\"><a href=\"//en.wikipedia.org/wiki/Wikipedia:Contact_us\" title=\"How to contact Wikipedia\"><span>Contact us</span></a></li><li class=\"mw-list-item\" id=\"n-sitesupport\"><a href=\"https://donate.wikimedia.org/wiki/Special:FundraiserRedirector?utm_source=donate&amp;utm_medium=sidebar&amp;utm_campaign=C13_en.wikipedia.org&amp;uselang=en\" title=\"Support us by donating to the Wikimedia Foundation\"><span>Donate</span></a></li>\n",
       "</ul>\n",
       "</div>\n",
       "</div>\n",
       "<div class=\"vector-menu mw-portlet mw-portlet-interaction\" id=\"p-interaction\">\n",
       "<div class=\"vector-menu-heading\">\n",
       "\t\tContribute\n",
       "\t</div>\n",
       "<div class=\"vector-menu-content\">\n",
       "<ul class=\"vector-menu-content-list\">\n",
       "<li class=\"mw-list-item\" id=\"n-help\"><a href=\"/wiki/Help:Contents\" title=\"Guidance on how to use and edit Wikipedia\"><span>Help</span></a></li><li class=\"mw-list-item\" id=\"n-introduction\"><a href=\"/wiki/Help:Introduction\" title=\"Learn how to edit Wikipedia\"><span>Learn to edit</span></a></li><li class=\"mw-list-item\" id=\"n-portal\"><a href=\"/wiki/Wikipedia:Community_portal\" title=\"The hub for editors\"><span>Community portal</span></a></li><li class=\"mw-list-item\" id=\"n-recentchanges\"><a accesskey=\"r\" href=\"/wiki/Special:RecentChanges\" title=\"A list of recent changes to Wikipedia [r]\"><span>Recent changes</span></a></li><li class=\"mw-list-item\" id=\"n-upload\"><a href=\"/wiki/Wikipedia:File_upload_wizard\" title=\"Add images or other media for use on Wikipedia\"><span>Upload file</span></a></li>\n",
       "</ul>\n",
       "</div>\n",
       "</div>\n",
       "</div>\n",
       "</div>\n",
       "</div>\n",
       "</div>\n",
       "</nav>\n",
       "<a class=\"mw-logo\" href=\"/wiki/Main_Page\">\n",
       "<img alt=\"\" aria-hidden=\"true\" class=\"mw-logo-icon\" height=\"50\" src=\"/static/images/icons/wikipedia.png\" width=\"50\"/>\n",
       "<span class=\"mw-logo-container\">\n",
       "<img alt=\"Wikipedia\" class=\"mw-logo-wordmark\" src=\"/static/images/mobile/copyright/wikipedia-wordmark-en.svg\" style=\"width: 7.5em; height: 1.125em;\"/>\n",
       "<img alt=\"The Free Encyclopedia\" class=\"mw-logo-tagline\" height=\"13\" src=\"/static/images/mobile/copyright/wikipedia-tagline-en.svg\" style=\"width: 7.3125em; height: 0.8125em;\" width=\"117\"/>\n",
       "</span>\n",
       "</a>\n",
       "</div>\n",
       "<div class=\"vector-header-end\">\n",
       "<div class=\"vector-search-box-vue vector-search-box-collapses vector-search-box-show-thumbnail vector-search-box-auto-expand-width vector-search-box\" id=\"p-search\" role=\"search\">\n",
       "<a accesskey=\"f\" class=\"cdx-button cdx-button--fake-button cdx-button--fake-button--enabled cdx-button--weight-quiet cdx-button--icon-only search-toggle\" href=\"/wiki/Special:Search\" id=\"\" title=\"Search Wikipedia [f]\"><span class=\"vector-icon mw-ui-icon-search mw-ui-icon-wikimedia-search\"></span>\n",
       "<span>Search</span>\n",
       "</a>\n",
       "<div class=\"vector-typeahead-search-container\">\n",
       "<div class=\"cdx-typeahead-search cdx-typeahead-search--show-thumbnail cdx-typeahead-search--auto-expand-width\">\n",
       "<form action=\"/w/index.php\" class=\"cdx-search-input cdx-search-input--has-end-button\" id=\"searchform\">\n",
       "<div class=\"cdx-search-input__input-wrapper\" data-search-loc=\"header-moved\" id=\"simpleSearch\">\n",
       "<div class=\"cdx-text-input cdx-text-input--has-start-icon\">\n",
       "<input accesskey=\"f\" aria-label=\"Search Wikipedia\" autocapitalize=\"sentences\" class=\"cdx-text-input__input\" id=\"searchInput\" name=\"search\" placeholder=\"Search Wikipedia\" title=\"Search Wikipedia [f]\" type=\"search\"/>\n",
       "<span class=\"cdx-text-input__icon cdx-text-input__start-icon\"></span>\n",
       "</div>\n",
       "<input name=\"title\" type=\"hidden\" value=\"Special:Search\"/>\n",
       "</div>\n",
       "<button class=\"cdx-button cdx-search-input__end-button\">Search</button>\n",
       "</form>\n",
       "</div>\n",
       "</div>\n",
       "</div>\n",
       "<nav aria-label=\"Personal tools\" class=\"vector-user-links\" role=\"navigation\">\n",
       "<div class=\"vector-menu mw-portlet mw-portlet-vector-user-menu-overflow\" id=\"p-vector-user-menu-overflow\">\n",
       "<div class=\"vector-menu-content\">\n",
       "<ul class=\"vector-menu-content-list\">\n",
       "<li class=\"user-links-collapsible-item mw-list-item\" id=\"pt-createaccount-2\"><a href=\"/w/index.php?title=Special:CreateAccount&amp;returnto=File%3AJohn+Singer+Sargent+1903.jpg\" title=\"You are encouraged to create an account and log in; however, it is not mandatory\"><span>Create account</span></a></li><li class=\"user-links-collapsible-item mw-list-item\" id=\"pt-login-2\"><a accesskey=\"o\" href=\"/w/index.php?title=Special:UserLogin&amp;returnto=File%3AJohn+Singer+Sargent+1903.jpg\" title=\"You're encouraged to log in; however, it's not mandatory. [o]\"><span>Log in</span></a></li>\n",
       "</ul>\n",
       "</div>\n",
       "</div>\n",
       "<div class=\"vector-dropdown vector-user-menu vector-button-flush-right vector-user-menu-logged-out\" id=\"vector-user-links-dropdown\" title=\"Log in and more options\">\n",
       "<input aria-haspopup=\"true\" aria-label=\"Personal tools\" class=\"vector-dropdown-checkbox\" data-event-name=\"ui.dropdown-vector-user-links-dropdown\" id=\"vector-user-links-dropdown-checkbox\" role=\"button\" type=\"checkbox\"/>\n",
       "<label aria-hidden=\"true\" class=\"vector-dropdown-label cdx-button cdx-button--fake-button cdx-button--fake-button--enabled cdx-button--weight-quiet cdx-button--icon-only\" for=\"vector-user-links-dropdown-checkbox\" id=\"vector-user-links-dropdown-label\"><span class=\"vector-icon mw-ui-icon-ellipsis mw-ui-icon-wikimedia-ellipsis\"></span>\n",
       "<span class=\"vector-dropdown-label-text\">Personal tools</span>\n",
       "</label>\n",
       "<div class=\"vector-dropdown-content\">\n",
       "<div class=\"vector-menu mw-portlet mw-portlet-personal user-links-collapsible-item\" id=\"p-personal\" title=\"User menu\">\n",
       "<div class=\"vector-menu-content\">\n",
       "<ul class=\"vector-menu-content-list\">\n",
       "<li class=\"user-links-collapsible-item mw-list-item\" id=\"pt-createaccount\"><a href=\"/w/index.php?title=Special:CreateAccount&amp;returnto=File%3AJohn+Singer+Sargent+1903.jpg\" title=\"You are encouraged to create an account and log in; however, it is not mandatory\"><span class=\"vector-icon mw-ui-icon-userAdd mw-ui-icon-wikimedia-userAdd\"></span> <span>Create account</span></a></li><li class=\"user-links-collapsible-item mw-list-item\" id=\"pt-login\"><a accesskey=\"o\" href=\"/w/index.php?title=Special:UserLogin&amp;returnto=File%3AJohn+Singer+Sargent+1903.jpg\" title=\"You're encouraged to log in; however, it's not mandatory. [o]\"><span class=\"vector-icon mw-ui-icon-logIn mw-ui-icon-wikimedia-logIn\"></span> <span>Log in</span></a></li>\n",
       "</ul>\n",
       "</div>\n",
       "</div>\n",
       "<div class=\"vector-menu mw-portlet mw-portlet-user-menu-anon-editor\" id=\"p-user-menu-anon-editor\">\n",
       "<div class=\"vector-menu-heading\">\n",
       "\t\tPages for logged out editors <a aria-label=\"Learn more about editing\" href=\"/wiki/Help:Introduction\"><span>learn more</span></a>\n",
       "</div>\n",
       "<div class=\"vector-menu-content\">\n",
       "<ul class=\"vector-menu-content-list\">\n",
       "<li class=\"mw-list-item\" id=\"pt-anoncontribs\"><a accesskey=\"y\" href=\"/wiki/Special:MyContributions\" title=\"A list of edits made from this IP address [y]\"><span>Contributions</span></a></li><li class=\"mw-list-item\" id=\"pt-anontalk\"><a accesskey=\"n\" href=\"/wiki/Special:MyTalk\" title=\"Discussion about edits from this IP address [n]\"><span>Talk</span></a></li>\n",
       "</ul>\n",
       "</div>\n",
       "</div>\n",
       "</div>\n",
       "</div>\n",
       "</nav>\n",
       "</div>\n",
       "</header>\n",
       "</div>\n",
       "<div class=\"mw-page-container\">\n",
       "<div class=\"mw-page-container-inner\">\n",
       "<div class=\"vector-sitenotice-container\">\n",
       "<div id=\"siteNotice\"><!-- CentralNotice --></div>\n",
       "</div>\n",
       "<div class=\"vector-main-menu-container\">\n",
       "<div id=\"mw-navigation\">\n",
       "<nav aria-label=\"Site\" class=\"vector-main-menu-landmark\" id=\"mw-panel\" role=\"navigation\">\n",
       "<div class=\"vector-pinned-container\" id=\"vector-main-menu-pinned-container\">\n",
       "</div>\n",
       "</nav>\n",
       "</div>\n",
       "</div>\n",
       "<div class=\"mw-content-container\">\n",
       "<main class=\"mw-body\" id=\"content\" role=\"main\">\n",
       "<header class=\"mw-body-header vector-page-titlebar\">\n",
       "<h1 class=\"firstHeading mw-first-heading\" id=\"firstHeading\">File:John Singer Sargent 1903.jpg</h1>\n",
       "<div class=\"vector-dropdown mw-portlet mw-portlet-lang mw-portlet-lang-icon-only\" id=\"p-lang-btn\">\n",
       "<input aria-haspopup=\"true\" aria-label=\"This article exist only in this language. Add the article for other languages\" class=\"vector-dropdown-checkbox mw-interlanguage-selector-empty\" data-event-name=\"ui.dropdown-p-lang-btn\" id=\"p-lang-btn-checkbox\" role=\"button\" type=\"checkbox\"/>\n",
       "<label aria-hidden=\"true\" class=\"vector-dropdown-label cdx-button cdx-button--fake-button cdx-button--fake-button--enabled cdx-button--weight-quiet cdx-button--icon-only mw-portlet-lang-heading-empty\" for=\"p-lang-btn-checkbox\" id=\"p-lang-btn-label\"><span class=\"vector-icon mw-ui-icon-language mw-ui-icon-wikimedia-language\"></span>\n",
       "<span class=\"vector-dropdown-label-text\">Add languages</span>\n",
       "</label>\n",
       "<div class=\"vector-dropdown-content\">\n",
       "<div class=\"mw-portlet-empty-language-selector-body\">\n",
       "\t\t\t\t\t\tPage contents not supported in other languages.\n",
       "\t\t\t\t\t</div>\n",
       "</div>\n",
       "</div>\n",
       "</header>\n",
       "<div class=\"vector-page-toolbar\">\n",
       "<div class=\"vector-page-toolbar-container\">\n",
       "<div id=\"left-navigation\">\n",
       "<nav aria-label=\"Namespaces\">\n",
       "<div class=\"vector-menu vector-menu-tabs mw-portlet mw-portlet-associated-pages\" id=\"p-associated-pages\">\n",
       "<div class=\"vector-menu-content\">\n",
       "<ul class=\"vector-menu-content-list\">\n",
       "<li class=\"selected vector-tab-noicon mw-list-item\" id=\"ca-nstab-image\"><a accesskey=\"c\" href=\"/wiki/File:John_Singer_Sargent_1903.jpg\" title=\"View the file page [c]\"><span>File</span></a></li><li class=\"new vector-tab-noicon mw-list-item\" id=\"ca-talk\"><a accesskey=\"t\" href=\"/w/index.php?title=File_talk:John_Singer_Sargent_1903.jpg&amp;action=edit&amp;redlink=1\" rel=\"discussion\" title=\"Discuss improvements to the content page (page does not exist) [t]\"><span>Talk</span></a></li>\n",
       "</ul>\n",
       "</div>\n",
       "</div>\n",
       "<div class=\"vector-dropdown emptyPortlet\" id=\"p-variants\">\n",
       "<input aria-haspopup=\"true\" aria-label=\"Change language variant\" class=\"vector-dropdown-checkbox\" data-event-name=\"ui.dropdown-p-variants\" id=\"p-variants-checkbox\" role=\"button\" type=\"checkbox\"/>\n",
       "<label aria-hidden=\"true\" class=\"vector-dropdown-label cdx-button cdx-button--fake-button cdx-button--fake-button--enabled cdx-button--weight-quiet\" for=\"p-variants-checkbox\" id=\"p-variants-label\"><span class=\"vector-dropdown-label-text\">English</span>\n",
       "</label>\n",
       "<div class=\"vector-dropdown-content\">\n",
       "<div class=\"vector-menu mw-portlet mw-portlet-variants emptyPortlet\" id=\"p-variants\">\n",
       "<div class=\"vector-menu-content\">\n",
       "<ul class=\"vector-menu-content-list\">\n",
       "</ul>\n",
       "</div>\n",
       "</div>\n",
       "</div>\n",
       "</div>\n",
       "</nav>\n",
       "</div>\n",
       "<div class=\"vector-collapsible\" id=\"right-navigation\">\n",
       "<nav aria-label=\"Views\">\n",
       "<div class=\"vector-menu vector-menu-tabs mw-portlet mw-portlet-views\" id=\"p-views\">\n",
       "<div class=\"vector-menu-content\">\n",
       "<ul class=\"vector-menu-content-list\">\n",
       "<li class=\"selected vector-tab-noicon mw-list-item\" id=\"ca-view\"><a href=\"/wiki/File:John_Singer_Sargent_1903.jpg\"><span>Read</span></a></li><li class=\"vector-tab-noicon mw-list-item\" id=\"ca-view-foreign\"><a href=\"https://commons.wikimedia.org/wiki/File:John_Singer_Sargent_1903.jpg\"><span>View on Commons</span></a></li>\n",
       "</ul>\n",
       "</div>\n",
       "</div>\n",
       "</nav>\n",
       "<nav aria-label=\"Page tools\" class=\"vector-page-tools-landmark\">\n",
       "<div class=\"vector-dropdown vector-page-tools-dropdown\" id=\"vector-page-tools-dropdown\">\n",
       "<input aria-haspopup=\"true\" aria-label=\"Tools\" class=\"vector-dropdown-checkbox\" data-event-name=\"ui.dropdown-vector-page-tools-dropdown\" id=\"vector-page-tools-dropdown-checkbox\" role=\"button\" type=\"checkbox\"/>\n",
       "<label aria-hidden=\"true\" class=\"vector-dropdown-label cdx-button cdx-button--fake-button cdx-button--fake-button--enabled cdx-button--weight-quiet\" for=\"vector-page-tools-dropdown-checkbox\" id=\"vector-page-tools-dropdown-label\"><span class=\"vector-dropdown-label-text\">Tools</span>\n",
       "</label>\n",
       "<div class=\"vector-dropdown-content\">\n",
       "<div class=\"vector-unpinned-container\" id=\"vector-page-tools-unpinned-container\">\n",
       "<div class=\"vector-page-tools vector-pinnable-element\" id=\"vector-page-tools\">\n",
       "<div class=\"vector-pinnable-header vector-page-tools-pinnable-header vector-pinnable-header-unpinned\" data-feature-name=\"page-tools-pinned\" data-pinnable-element-id=\"vector-page-tools\" data-pinned-container-id=\"vector-page-tools-pinned-container\" data-unpinned-container-id=\"vector-page-tools-unpinned-container\">\n",
       "<div class=\"vector-pinnable-header-label\">Tools</div>\n",
       "<button class=\"vector-pinnable-header-toggle-button vector-pinnable-header-pin-button\" data-event-name=\"pinnable-header.vector-page-tools.pin\">move to sidebar</button>\n",
       "<button class=\"vector-pinnable-header-toggle-button vector-pinnable-header-unpin-button\" data-event-name=\"pinnable-header.vector-page-tools.unpin\">hide</button>\n",
       "</div>\n",
       "<div class=\"vector-menu mw-portlet mw-portlet-cactions emptyPortlet vector-has-collapsible-items\" id=\"p-cactions\" title=\"More options\">\n",
       "<div class=\"vector-menu-heading\">\n",
       "\t\tActions\n",
       "\t</div>\n",
       "<div class=\"vector-menu-content\">\n",
       "<ul class=\"vector-menu-content-list\">\n",
       "<li class=\"selected vector-more-collapsible-item mw-list-item\" id=\"ca-more-view\"><a href=\"/wiki/File:John_Singer_Sargent_1903.jpg\"><span>Read</span></a></li><li class=\"vector-more-collapsible-item mw-list-item\" id=\"ca-more-view-foreign\"><a href=\"https://commons.wikimedia.org/wiki/File:John_Singer_Sargent_1903.jpg\"><span>View on Commons</span></a></li>\n",
       "</ul>\n",
       "</div>\n",
       "</div>\n",
       "<div class=\"vector-menu mw-portlet mw-portlet-tb\" id=\"p-tb\">\n",
       "<div class=\"vector-menu-heading\">\n",
       "\t\tGeneral\n",
       "\t</div>\n",
       "<div class=\"vector-menu-content\">\n",
       "<ul class=\"vector-menu-content-list\">\n",
       "<li class=\"mw-list-item\" id=\"t-whatlinkshere\"><a accesskey=\"j\" href=\"/wiki/Special:WhatLinksHere/File:John_Singer_Sargent_1903.jpg\" title=\"List of all English Wikipedia pages containing links to this page [j]\"><span>What links here</span></a></li><li class=\"mw-list-item\" id=\"t-upload\"><a accesskey=\"u\" href=\"/wiki/Wikipedia:File_Upload_Wizard\" title=\"Upload files [u]\"><span>Upload file</span></a></li><li class=\"mw-list-item\" id=\"t-specialpages\"><a accesskey=\"q\" href=\"/wiki/Special:SpecialPages\" title=\"A list of all special pages [q]\"><span>Special pages</span></a></li><li class=\"mw-list-item\" id=\"t-print\"><a accesskey=\"p\" href=\"javascript:print();\" rel=\"alternate\" title=\"Printable version of this page [p]\"><span>Printable version</span></a></li><li class=\"mw-list-item\" id=\"t-info\"><a href=\"/w/index.php?title=File:John_Singer_Sargent_1903.jpg&amp;action=info\" title=\"More information about this page\"><span>Page information</span></a></li><li class=\"mw-list-item\" id=\"t-urlshortener\"><a href=\"/w/index.php?title=Special:UrlShortener&amp;url=https%3A%2F%2Fen.wikipedia.org%2Fwiki%2FFile%3AJohn_Singer_Sargent_1903.jpg\"><span>Get shortened URL</span></a></li>\n",
       "</ul>\n",
       "</div>\n",
       "</div>\n",
       "</div>\n",
       "</div>\n",
       "</div>\n",
       "</div>\n",
       "</nav>\n",
       "</div>\n",
       "</div>\n",
       "</div>\n",
       "<div class=\"vector-column-end\">\n",
       "<nav aria-label=\"Page tools\" class=\"vector-page-tools-landmark vector-sticky-pinned-container\">\n",
       "<div class=\"vector-pinned-container\" id=\"vector-page-tools-pinned-container\">\n",
       "</div>\n",
       "</nav>\n",
       "</div>\n",
       "<div aria-labelledby=\"firstHeading\" class=\"vector-body\" data-mw-ve-target-container=\"\" id=\"bodyContent\">\n",
       "<div class=\"vector-body-before-content\">\n",
       "<div class=\"mw-indicators\">\n",
       "<div class=\"mw-indicator\" id=\"mw-indicator-commons-icon\"><span typeof=\"mw:File\"><a href=\"https://commons.wikimedia.org/wiki/File:John_Singer_Sargent_1903.jpg\" title=\"This is a file from the Wikimedia Commons\"><img alt=\"This is a file from the Wikimedia Commons\" class=\"mw-file-element\" data-file-height=\"1376\" data-file-width=\"1024\" decoding=\"async\" height=\"20\" src=\"//upload.wikimedia.org/wikipedia/en/thumb/4/4a/Commons-logo.svg/15px-Commons-logo.svg.png\" srcset=\"//upload.wikimedia.org/wikipedia/en/thumb/4/4a/Commons-logo.svg/22px-Commons-logo.svg.png 1.5x, //upload.wikimedia.org/wikipedia/en/thumb/4/4a/Commons-logo.svg/30px-Commons-logo.svg.png 2x\" width=\"15\"/></a></span></div>\n",
       "</div>\n",
       "<div class=\"noprint\" id=\"siteSub\">From Wikipedia, the free encyclopedia</div>\n",
       "</div>\n",
       "<div id=\"contentSub\"><div id=\"mw-content-subtitle\"></div></div>\n",
       "<div class=\"mw-body-content\" id=\"mw-content-text\"><ul id=\"filetoc\" role=\"navigation\"><li><a href=\"#file\">File</a></li>\n",
       "<li><a href=\"#filehistory\">File history</a></li>\n",
       "<li><a href=\"#filelinks\">File usage</a></li>\n",
       "<li><a href=\"#globalusage\">Global file usage</a></li>\n",
       "<li><a href=\"#metadata\">Metadata</a></li></ul><div class=\"fullImageLink\" id=\"file\"><a href=\"//upload.wikimedia.org/wikipedia/commons/a/a5/John_Singer_Sargent_1903.jpg\"><img alt=\"File:John Singer Sargent 1903.jpg\" data-file-height=\"810\" data-file-width=\"608\" decoding=\"async\" height=\"600\" src=\"//upload.wikimedia.org/wikipedia/commons/thumb/a/a5/John_Singer_Sargent_1903.jpg/450px-John_Singer_Sargent_1903.jpg\" srcset=\"//upload.wikimedia.org/wikipedia/commons/a/a5/John_Singer_Sargent_1903.jpg 1.5x\" width=\"450\"/></a><div class=\"mw-filepage-resolutioninfo\">Size of this preview: <a class=\"mw-thumbnail-link\" href=\"//upload.wikimedia.org/wikipedia/commons/thumb/a/a5/John_Singer_Sargent_1903.jpg/450px-John_Singer_Sargent_1903.jpg\">450 × 600 pixels</a>. <span class=\"mw-filepage-other-resolutions\">Other resolutions: <a class=\"mw-thumbnail-link\" href=\"//upload.wikimedia.org/wikipedia/commons/thumb/a/a5/John_Singer_Sargent_1903.jpg/180px-John_Singer_Sargent_1903.jpg\">180 × 240 pixels</a> | <a class=\"mw-thumbnail-link\" href=\"//upload.wikimedia.org/wikipedia/commons/a/a5/John_Singer_Sargent_1903.jpg\">608 × 810 pixels</a>.</span></div></div>\n",
       "<div class=\"fullMedia\"><p><a class=\"internal\" href=\"//upload.wikimedia.org/wikipedia/commons/a/a5/John_Singer_Sargent_1903.jpg\" title=\"John Singer Sargent 1903.jpg\">Original file</a> ‎<span class=\"fileInfo\">(608 × 810 pixels, file size: 261 KB, MIME type: <span class=\"mime-type\">image/jpeg</span>)</span>\n",
       "</p></div><div class=\"sharedUploadNotice\">\n",
       "<div class=\"mw-parser-output\">\n",
       "<style data-mw-deduplicate=\"TemplateStyles:r1097275936\">.mw-parser-output .fmbox{clear:both;margin:0.2em 0;width:100%;border:1px solid #a2a9b1;background-color:#f8f9fa;box-sizing:border-box}.mw-parser-output .fmbox-warning{border:1px solid #bb7070;background-color:#ffdbdb}.mw-parser-output .fmbox-editnotice{background-color:transparent}.mw-parser-output .fmbox .mbox-text{border:none;padding:0.25em 0.9em;width:100%}.mw-parser-output .fmbox .mbox-image{border:none;padding:2px 0 2px 0.9em;text-align:center}.mw-parser-output .fmbox .mbox-imageright{border:none;padding:2px 0.9em 2px 0;text-align:center}.mw-parser-output .fmbox .mbox-invalid-type{text-align:center}</style><table class=\"plainlinks fmbox fmbox-system\" id=\"mw-sharedupload\" role=\"presentation\"><tbody><tr><td class=\"mbox-image\"><span class=\"noviewer\" typeof=\"mw:File\"><span title=\"Wikimedia Commons logo\"><img alt=\"\" class=\"mw-file-element\" data-file-height=\"1376\" data-file-width=\"1024\" decoding=\"async\" height=\"40\" src=\"//upload.wikimedia.org/wikipedia/en/thumb/4/4a/Commons-logo.svg/30px-Commons-logo.svg.png\" srcset=\"//upload.wikimedia.org/wikipedia/en/thumb/4/4a/Commons-logo.svg/45px-Commons-logo.svg.png 1.5x, //upload.wikimedia.org/wikipedia/en/thumb/4/4a/Commons-logo.svg/59px-Commons-logo.svg.png 2x\" width=\"30\"/></span></span></td><td class=\"mbox-text\" style=\"text-align: center;\">This is a file from the <a class=\"extiw\" href=\"https://commons.wikimedia.org/wiki/Main_Page\" title=\"commons:Main Page\">Wikimedia Commons</a>. Information from its <b><a class=\"extiw\" href=\"https://commons.wikimedia.org/wiki/File:John_Singer_Sargent_1903.jpg\" title=\"commons:File:John Singer Sargent 1903.jpg\">description page there</a></b> is shown below.<br/><span style=\"font-size: smaller;\">Commons is a freely licensed media file repository. <a class=\"extiw\" href=\"https://commons.wikimedia.org/wiki/Commons:Welcome\" title=\"commons:Commons:Welcome\">You can help</a>.</span></td></tr></tbody></table>\n",
       "</div>\n",
       "</div>\n",
       "<div id=\"shared-image-desc\"><div class=\"mw-parser-output\"><h2><span class=\"mw-headline\" id=\"Summary\">Summary</span></h2>\n",
       "<div class=\"hproduct commons-file-information-table\">\n",
       "<style data-mw-deduplicate=\"TemplateStyles:r773143704\">.mw-parser-output table.commons-file-information-table,.mw-parser-output .fileinfotpl-type-information,.mw-parser-output .fileinfotpl-type-artwork{border:1px solid #a2a9b1;background-color:#f8f9fa;padding:5px;font-size:95%;border-spacing:2px;box-sizing:border-box;margin:0;width:100%}.mw-parser-output table.commons-file-information-table>tbody>tr,.mw-parser-output .fileinfotpl-type-information>tbody>tr,.mw-parser-output .fileinfotpl-type-artwork>tbody>tr{vertical-align:top}.mw-parser-output table.commons-file-information-table>tbody>tr>td,.mw-parser-output table.commons-file-information-table>tbody>tr>th,.mw-parser-output .fileinfotpl-type-information>tbody>tr>td,.mw-parser-output .fileinfotpl-type-information>tbody>tr>th,.mw-parser-output .fileinfotpl-type-artwork>tbody>tr>td,.mw-parser-output .fileinfotpl-type-artwork>tbody>tr>th{padding:4px}.mw-parser-output .fileinfo-paramfield{background:#ccf;text-align:right;padding-right:0.4em;width:15%;font-weight:bold}.mw-parser-output .commons-file-information-table+table.commons-file-information-table,.mw-parser-output .commons-file-information-table+div.commons-file-information-table>table{border-top:0;padding-top:0;margin-top:-8px}@media only screen and (max-width:719px){.mw-parser-output table.commons-file-information-table,.mw-parser-output .commons-file-information-table .fileinfotpl-type-information,.mw-parser-output .commons-file-information-table .fileinfotpl-type-artwork{border-spacing:0;padding:0;word-break:break-word;width:100%!important}.mw-parser-output .commons-file-information-table>tbody,.mw-parser-output .fileinfotpl-type-information>tbody,.mw-parser-output .fileinfotpl-type-artwork>tbody{display:block}.mw-parser-output .commons-file-information-table>tbody>tr>td,.mw-parser-output .commons-file-information-table>tbody>tr>th,.mw-parser-output .fileinfotpl-type-information>tbody>tr>td,.mw-parser-output .fileinfotpl-type-information>tbody>tr>th,.mw-parser-output .fileinfotpl-type-artwork>tbody>tr>td,.mw-parser-output .fileinfotpl-type-artwork>tbody>tr>th{padding:0.2em 0.4em;text-align:left;text-align:start}.mw-parser-output .commons-file-information-table>tbody>tr,.mw-parser-output .fileinfotpl-type-information>tbody>tr,.mw-parser-output .fileinfotpl-type-artwork>tbody>tr{display:flex;flex-direction:column}.mw-parser-output .commons-file-information-table+table.commons-file-information-table,.mw-parser-output .commons-file-information-table+div.commons-file-information-table>table{margin-top:-1px}.mw-parser-output .fileinfo-paramfield{box-sizing:border-box;flex:1 0 100%;width:100%}}</style>\n",
       "<table class=\"fileinfotpl-type-information vevent mw-content-ltr\" style=\"direction: ltr;\">\n",
       "<tbody><tr>\n",
       "<td class=\"fileinfo-paramfield\" id=\"fileinfotpl_desc\" lang=\"en\">Description<span class=\"summary fn\" style=\"display:none\">John Singer Sargent 1903.jpg</span></td>\n",
       "<td class=\"description\">\n",
       "John Singer Sargent</td>\n",
       "</tr>\n",
       "<tr>\n",
       "<td class=\"fileinfo-paramfield\" id=\"fileinfotpl_date\" lang=\"en\">Date</td>\n",
       "<td lang=\"en\">\n",
       "<time class=\"dtstart\" datetime=\"1903\" dir=\"ltr\" lang=\"en\" style=\"white-space:nowrap\">1903</time></td>\n",
       "</tr>\n",
       "<tr>\n",
       "<td class=\"fileinfo-paramfield\" id=\"fileinfotpl_src\" lang=\"en\">Source</td>\n",
       "<td>\n",
       "<a class=\"external text\" href=\"https://www.gettyimages.co.uk/license/640475529\" rel=\"nofollow\">Getty Images</a></td>\n",
       "</tr>\n",
       "<tr>\n",
       "<td class=\"fileinfo-paramfield\" id=\"fileinfotpl_aut\" lang=\"en\">Author</td>\n",
       "<td>\n",
       "<div class=\"commons-creator vcard\">\n",
       "<style data-mw-deduplicate=\"TemplateStyles:r728533443\">.mw-parser-output .commons-creator-table{background-color:#f0f0ff;box-sizing:border-box;font-size:95%;text-align:start}.mw-parser-output .commons-creator-table>tbody>tr{vertical-align:top}.mw-parser-output .commons-creator-table>tbody>tr>th{background-color:#e0e0ee;font-weight:bold;text-align:start}@media(max-width:719px){.mw-parser-output .commons-creator-table,.mw-parser-output .commons-creator-table>tbody{display:block;width:100%}.mw-parser-output .commons-creator-table>tbody{border-right:1px solid #aaa;border-bottom:1px solid #aaa}.mw-parser-output .commons-creator-table>tbody>tr{border-top:1px solid #aaa;display:flex;flex-wrap:wrap}.mw-parser-output .commons-creator-table>tbody>tr>th{border-left:1px solid #aaa;padding:2px;flex:1 1 100%}.mw-parser-output .commons-creator-table>tbody>tr>td{border-left:1px solid #aaa;padding:2px;flex:1 1}}@media(min-width:720px){.mw-parser-output .commons-creator-table{border:1px solid #aaa;border-collapse:collapse;border-spacing:0;padding:5px}.mw-parser-output .commons-creator-table>tbody>tr>th,.mw-parser-output .commons-creator-table>tbody>tr>td{border:1px solid #aaa;padding:2px}.mw-parser-output .commons-creator-table>tbody>tr>.halfwidth{max-width:10em}.mw-parser-output .commons-creator-table>tbody>tr>.fullwidth{max-width:20em}}</style>\n",
       "<table class=\"commons-creator-table mw-collapsible mw-collapsed mw-content-ltr\" dir=\"ltr\" lang=\"en\">\n",
       "<tbody><tr>\n",
       "<th colspan=\"4\"><span class=\"fn\" id=\"creator\"><bdi><a class=\"extiw\" href=\"https://en.wikipedia.org/wiki/en:James_E._Purdy\" title=\"w:en:James E. Purdy\"><span title=\"American photographer\">James Edward Purdy</span></a>\n",
       "</bdi></span> (1858–1933) <span typeof=\"mw:File\"><a href=\"//commons.wikimedia.org/wiki/Creator:James_E._Purdy\" title=\"Creator:James E. Purdy\"><img class=\"mw-file-element\" data-file-height=\"600\" data-file-width=\"600\" decoding=\"async\" height=\"15\" src=\"https://upload.wikimedia.org/wikipedia/commons/thumb/7/73/Blue_pencil.svg/15px-Blue_pencil.svg.png\" srcset=\"https://upload.wikimedia.org/wikipedia/commons/thumb/7/73/Blue_pencil.svg/23px-Blue_pencil.svg.png 1.5x, https://upload.wikimedia.org/wikipedia/commons/thumb/7/73/Blue_pencil.svg/30px-Blue_pencil.svg.png 2x\" width=\"15\"/></a></span> <span typeof=\"mw:File\"><a href=\"https://www.wikidata.org/wiki/Q18673008\" title=\"wikidata:Q18673008\"><img alt=\"wikidata:Q18673008\" class=\"mw-file-element\" data-file-height=\"590\" data-file-width=\"1050\" decoding=\"async\" height=\"11\" src=\"https://upload.wikimedia.org/wikipedia/commons/thumb/f/ff/Wikidata-logo.svg/20px-Wikidata-logo.svg.png\" srcset=\"https://upload.wikimedia.org/wikipedia/commons/thumb/f/ff/Wikidata-logo.svg/30px-Wikidata-logo.svg.png 1.5x, https://upload.wikimedia.org/wikipedia/commons/thumb/f/ff/Wikidata-logo.svg/40px-Wikidata-logo.svg.png 2x\" width=\"20\"/></a></span> <div class=\"mw-collapsible-toggle mw-collapsible-toggle-collapsed\"><span class=\"mw-collapsible-arrowtoggle\"> </span></div></th>\n",
       "</tr>\n",
       "<tr>\n",
       "<th scope=\"row\">Alternative names</th>\n",
       "<td class=\"fullwidth\" colspan=\"2\" id=\"fileinfotpl_creator_alt-name_value\"><div class=\"nickname\">\n",
       "J. E. Purdy; James E. Purdy</div></td></tr>\n",
       "<tr>\n",
       "<th scope=\"row\">Description</th>\n",
       "<td class=\"fullwidth\" colspan=\"2\" id=\"fileinfotpl_creator_desc_value\">American photographer</td></tr>\n",
       "<tr>\n",
       "<th scope=\"row\">Date of birth/death</th>\n",
       "<td class=\"halfwidth\" id=\"fileinfotpl_creator_birthdate_value\">\n",
       "19 December 1858 / 1858 <span class=\"mw-valign-text-top\" typeof=\"mw:File/Frameless\"><a href=\"https://www.wikidata.org/wiki/Q18673008#P569\" title=\"Edit this at Wikidata\"><img alt=\"Edit this at Wikidata\" class=\"mw-file-element\" data-file-height=\"20\" data-file-width=\"20\" decoding=\"async\" height=\"10\" src=\"https://upload.wikimedia.org/wikipedia/commons/thumb/8/8a/OOjs_UI_icon_edit-ltr-progressive.svg/10px-OOjs_UI_icon_edit-ltr-progressive.svg.png\" srcset=\"https://upload.wikimedia.org/wikipedia/commons/thumb/8/8a/OOjs_UI_icon_edit-ltr-progressive.svg/15px-OOjs_UI_icon_edit-ltr-progressive.svg.png 1.5x, https://upload.wikimedia.org/wikipedia/commons/thumb/8/8a/OOjs_UI_icon_edit-ltr-progressive.svg/20px-OOjs_UI_icon_edit-ltr-progressive.svg.png 2x\" width=\"10\"/></a></span></td><td class=\"halfwidth\" id=\"fileinfotpl_creator_deathdate_value\">\n",
       "2 August 1933 / 1933 <span class=\"mw-valign-text-top\" typeof=\"mw:File/Frameless\"><a href=\"https://www.wikidata.org/wiki/Q18673008#P570\" title=\"Edit this at Wikidata\"><img alt=\"Edit this at Wikidata\" class=\"mw-file-element\" data-file-height=\"20\" data-file-width=\"20\" decoding=\"async\" height=\"10\" src=\"https://upload.wikimedia.org/wikipedia/commons/thumb/8/8a/OOjs_UI_icon_edit-ltr-progressive.svg/10px-OOjs_UI_icon_edit-ltr-progressive.svg.png\" srcset=\"https://upload.wikimedia.org/wikipedia/commons/thumb/8/8a/OOjs_UI_icon_edit-ltr-progressive.svg/15px-OOjs_UI_icon_edit-ltr-progressive.svg.png 1.5x, https://upload.wikimedia.org/wikipedia/commons/thumb/8/8a/OOjs_UI_icon_edit-ltr-progressive.svg/20px-OOjs_UI_icon_edit-ltr-progressive.svg.png 2x\" width=\"10\"/></a></span></td></tr>\n",
       "<tr>\n",
       "<th scope=\"row\">Location of birth</th>\n",
       "<td class=\"halfwidth\" id=\"fileinfotpl_creator_birthloc_value\">\n",
       "<a class=\"extiw\" href=\"https://en.wikipedia.org/wiki/en:Saco,_Maine\" title=\"w:en:Saco, Maine\"><span title=\"city in York County, Maine, United States\">Saco</span></a></td><td class=\"halfwidth\" id=\"fileinfotpl_creator_deathloc_value\">\n",
       "</td></tr>\n",
       "<tr>\n",
       "<th scope=\"row\">Work period</th>\n",
       "<td class=\"fullwidth\" colspan=\"2\" id=\"fileinfotpl_creator_work-period_value\">1896–1933</td></tr>\n",
       "<tr>\n",
       "<th scope=\"row\">Work location</th>\n",
       "<td class=\"fullwidth\" colspan=\"2\" id=\"fileinfotpl_creator_work-location\"><div class=\"locality\">\n",
       "<a class=\"extiw\" href=\"https://en.wikipedia.org/wiki/en:Boston\" title=\"w:en:Boston\"><span title=\"capital and largest city of Massachusetts, United States\">Boston</span></a> <span class=\"mw-valign-text-top\" typeof=\"mw:File/Frameless\"><a href=\"https://www.wikidata.org/wiki/Q18673008#P937\" title=\"Edit this at Wikidata\"><img alt=\"Edit this at Wikidata\" class=\"mw-file-element\" data-file-height=\"20\" data-file-width=\"20\" decoding=\"async\" height=\"10\" src=\"https://upload.wikimedia.org/wikipedia/commons/thumb/8/8a/OOjs_UI_icon_edit-ltr-progressive.svg/10px-OOjs_UI_icon_edit-ltr-progressive.svg.png\" srcset=\"https://upload.wikimedia.org/wikipedia/commons/thumb/8/8a/OOjs_UI_icon_edit-ltr-progressive.svg/15px-OOjs_UI_icon_edit-ltr-progressive.svg.png 1.5x, https://upload.wikimedia.org/wikipedia/commons/thumb/8/8a/OOjs_UI_icon_edit-ltr-progressive.svg/20px-OOjs_UI_icon_edit-ltr-progressive.svg.png 2x\" width=\"10\"/></a></span></div></td></tr>\n",
       "<tr>\n",
       "<th scope=\"row\"><a class=\"extiw\" href=\"https://en.wikipedia.org/wiki/en:Authority_file\" title=\"w:en:Authority file\"><span title=\"collection of authority records, where each record picks preferred heading, alternative heading and other information, used for bibliographic information\">Authority file</span></a></th>\n",
       "<td class=\"fullwidth\" colspan=\"2\" id=\"fileinfotpl_creator_authority_value\"><div class=\"hlist\">\n",
       "<ul><li><span typeof=\"mw:File\"><a href=\"https://www.wikidata.org/wiki/Q18673008\" title=\"wikidata:Q18673008\"><img alt=\"wikidata:Q18673008\" class=\"mw-file-element\" data-file-height=\"590\" data-file-width=\"1050\" decoding=\"async\" height=\"11\" src=\"https://upload.wikimedia.org/wikipedia/commons/thumb/f/ff/Wikidata-logo.svg/20px-Wikidata-logo.svg.png\" srcset=\"https://upload.wikimedia.org/wikipedia/commons/thumb/f/ff/Wikidata-logo.svg/30px-Wikidata-logo.svg.png 1.5x, https://upload.wikimedia.org/wikipedia/commons/thumb/f/ff/Wikidata-logo.svg/40px-Wikidata-logo.svg.png 2x\" width=\"20\"/></a></span>: <a class=\"extiw\" href=\"https://www.wikidata.org/wiki/Q18673008\" title=\"d:Q18673008\">Q18673008</a></li></ul>\n",
       "</div></td></tr>\n",
       "</tbody></table>\n",
       "</div>\n",
       "<div style=\"display: none;\">creator QS:P170,Q18673008</div></td>\n",
       "</tr>\n",
       "<tr>\n",
       "<td class=\"fileinfo-paramfield\" id=\"fileinfotpl_perm\" lang=\"en\">Permission<br/><small>(<a href=\"//commons.wikimedia.org/wiki/Commons:Reusing_content_outside_Wikimedia\" title=\"Commons:Reusing content outside Wikimedia\">Reusing this file</a>)</small></td>\n",
       "<td>\n",
       "<table class=\"licensetpl\" style=\"display:none\">\n",
       "<tbody><tr>\n",
       "<td><span class=\"licensetpl_short\">Public domain</span><span class=\"licensetpl_long\">Public domain</span><span class=\"licensetpl_link_req\">false</span><span class=\"licensetpl_attr_req\">false</span>\n",
       "</td></tr></tbody></table>\n",
       "<table class=\"layouttemplate mw-content-ltr\" lang=\"en\" style=\"width:100%; clear:both; margin:0.5em auto; background-color:#f7f8ff; border:2px solid #8888aa; direction: ltr; border-spacing: 8px; padding: 0px;\">\n",
       "<tbody><tr>\n",
       "<td><span typeof=\"mw:File\"><span title=\"Public domain\"><img alt=\"Public domain\" class=\"mw-file-element\" data-file-height=\"196\" data-file-width=\"196\" decoding=\"async\" height=\"64\" src=\"https://upload.wikimedia.org/wikipedia/commons/thumb/6/62/PD-icon.svg/64px-PD-icon.svg.png\" srcset=\"https://upload.wikimedia.org/wikipedia/commons/thumb/6/62/PD-icon.svg/96px-PD-icon.svg.png 1.5x, https://upload.wikimedia.org/wikipedia/commons/thumb/6/62/PD-icon.svg/128px-PD-icon.svg.png 2x\" width=\"64\"/></span></span>\n",
       "</td>\n",
       "<td>\n",
       "<p>This work is in the <b><a class=\"extiw\" href=\"https://en.wikipedia.org/wiki/public_domain\" title=\"en:public domain\">public domain</a></b> in its country of origin and other countries and areas where the <a class=\"extiw\" href=\"https://en.wikipedia.org/wiki/List_of_countries%27_copyright_lengths\" title=\"w:List of countries' copyright lengths\">copyright term</a> is the author's <b>life plus 70 years or fewer</b>.\n",
       "</p>\n",
       "<hr/>\n",
       "<p>This work is in the <b><a class=\"extiw\" href=\"https://en.wikipedia.org/wiki/public_domain\" title=\"en:public domain\">public domain</a></b> in the <a class=\"extiw\" href=\"https://en.wikipedia.org/wiki/United_States\" title=\"en:United States\">United States</a> because it was <a href=\"//commons.wikimedia.org/wiki/Commons:Publication\" title=\"Commons:Publication\">published</a> (or registered with the <a class=\"extiw\" href=\"https://en.wikipedia.org/wiki/United_States_Copyright_Office\" title=\"en:United States Copyright Office\">U.S. Copyright Office</a>) before January 1, 1928.\n",
       "</p>\n",
       "</td></tr>\n",
       "<tr>\n",
       "<td class=\"plainlinks\" colspan=\"2\" style=\"text-align:center;font-size:x-small;line-height:140%;\"><a class=\"external text\" href=\"https://creativecommons.org/publicdomain/mark/1.0/deed.en\" rel=\"nofollow\">This file has been identified as being free of known restrictions under copyright law, including all related and neighboring rights.</a>\n",
       "</td></tr></tbody></table><span class=\"licensetpl_link\" style=\"display:none;\">https://creativecommons.org/publicdomain/mark/1.0/</span><span class=\"licensetpl_short\" style=\"display:none;\">PDM</span><span class=\"licensetpl_long\" style=\"display:none;\">Creative Commons Public Domain Mark 1.0</span><span class=\"licensetpl_link_req\" style=\"display:none;\">false</span><span class=\"licensetpl_attr_req\" style=\"display:none;\">false</span></td>\n",
       "</tr>\n",
       "</tbody></table>\n",
       "</div><h1 class=\"mw-slot-header\"><mediainfoslotheader></mediainfoslotheader></h1><mediainfoview style=\"display: none\"><mediainfoviewcaptions><div class=\"wbmi-entityview-captionsPanel oo-ui-layout oo-ui-panelLayout oo-ui-panelLayout-framed\"><h3 class=\"wbmi-entityview-captions-header\">Captions</h3><div class=\"wbmi-entityview-caption oo-ui-layout oo-ui-horizontalLayout\"><label class=\"wbmi-language-label oo-ui-widget oo-ui-widget-enabled oo-ui-labelElement-label oo-ui-labelElement oo-ui-labelWidget\">English</label><div class=\"wbmi-caption-value\" dir=\"ltr\" lang=\"en\">John Singer Sargent, photographed by James E. Purdy in 1903</div></div></div></mediainfoviewcaptions><mediainfoviewstatements><div class=\"wbmi-entityview-statementsGroup wbmi-entityview-statementsGroup-P180 oo-ui-layout oo-ui-panelLayout oo-ui-panelLayout-framed\" data-formatvalue='{\"{\\\"value\\\":{\\\"entity-type\\\":\\\"property\\\",\\\"numeric-id\\\":180,\\\"id\\\":\\\"P180\\\"},\\\"type\\\":\\\"wikibase-entityid\\\"}\":{\"text\\/html\":{\"en\":{\"\":\"&lt;a target=\\\"_blank\\\" title=\\\"d:Special:EntityPage\\/P180\\\" href=\\\"https:\\/\\/www.wikidata.org\\/wiki\\/Special:EntityPage\\/P180\\\"&gt;depicts&lt;\\/a&gt;\"}},\"text\\/plain\":{\"en\":{\"\":\"depicts\"}}},\"{\\\"value\\\":{\\\"entity-type\\\":\\\"item\\\",\\\"numeric-id\\\":155626,\\\"id\\\":\\\"Q155626\\\"},\\\"type\\\":\\\"wikibase-entityid\\\"}\":{\"text\\/html\":{\"en\":{\"P180\":\"&lt;a target=\\\"_blank\\\" title=\\\"d:Special:EntityPage\\/Q155626\\\" href=\\\"https:\\/\\/www.wikidata.org\\/wiki\\/Special:EntityPage\\/Q155626\\\"&gt;John Singer Sargent&lt;\\/a&gt;\"}},\"text\\/plain\":{\"en\":{\"P180\":\"John Singer Sargent\"}}}}' data-property=\"P180\" data-statements='[{\"mainsnak\":{\"snaktype\":\"value\",\"property\":\"P180\",\"hash\":\"b8f92730fea61df58eaad8c9199c78b0030af37e\",\"datavalue\":{\"value\":{\"entity-type\":\"item\",\"numeric-id\":155626,\"id\":\"Q155626\"},\"type\":\"wikibase-entityid\"}},\"type\":\"statement\",\"id\":\"M69552767$b8a7700f-9e50-4f83-b26c-e1edae0d2cef\",\"rank\":\"normal\"}]' id=\"P180\"><div class=\"wbmi-statements-widget\"><div class=\"wbmi-statement-header\"><div class=\"wbmi-entity-data\"><div class=\"wbmi-entity-title\"><h3 class=\"wbmi-statements-title\">Items portrayed in this file</h3><h4 class=\"wbmi-entity-label\"><bdi><a href=\"https://www.wikidata.org/wiki/Special:EntityPage/P180\" target=\"_blank\" title=\"d:Special:EntityPage/P180\">depicts</a></bdi></h4></div></div></div><div class=\"wbmi-content-items-group\"><div class=\"wbmi-item wbmi-item-read\"><div class=\"wbmi-item-container\" data-guid=\"M69552767$b8a7700f-9e50-4f83-b26c-e1edae0d2cef\"><div class=\"wbmi-entity-header\"><div class=\"wbmi-entity-data\"><div class=\"wbmi-entity-title\"><h4 class=\"wbmi-entity-label\"><bdi><a href=\"https://www.wikidata.org/wiki/Special:EntityPage/Q155626\" target=\"_blank\" title=\"d:Special:EntityPage/Q155626\">John Singer Sargent</a></bdi></h4></div></div></div></div></div></div></div></div><div class=\"wbmi-entityview-statementsGroup wbmi-entityview-statementsGroup-P571 oo-ui-layout oo-ui-panelLayout oo-ui-panelLayout-framed\" data-formatvalue='{\"{\\\"value\\\":{\\\"entity-type\\\":\\\"property\\\",\\\"numeric-id\\\":571,\\\"id\\\":\\\"P571\\\"},\\\"type\\\":\\\"wikibase-entityid\\\"}\":{\"text\\/html\":{\"en\":{\"\":\"&lt;a target=\\\"_blank\\\" title=\\\"d:Special:EntityPage\\/P571\\\" href=\\\"https:\\/\\/www.wikidata.org\\/wiki\\/Special:EntityPage\\/P571\\\"&gt;inception&lt;\\/a&gt;\"}},\"text\\/plain\":{\"en\":{\"\":\"inception\"}}},\"{\\\"value\\\":{\\\"time\\\":\\\"+1903-01-01T00:00:00Z\\\",\\\"timezone\\\":0,\\\"before\\\":0,\\\"after\\\":0,\\\"precision\\\":9,\\\"calendarmodel\\\":\\\"http:\\\\\\/\\\\\\/www.wikidata.org\\\\\\/entity\\\\\\/Q1985727\\\"},\\\"type\\\":\\\"time\\\"}\":{\"text\\/html\":{\"en\":{\"P571\":\"1903\"}},\"text\\/plain\":{\"en\":{\"P571\":\"1903\"}}}}' data-property=\"P571\" data-statements='[{\"mainsnak\":{\"snaktype\":\"value\",\"property\":\"P571\",\"hash\":\"bdf9992d48b44b95d4a9c9b025278a742981bc06\",\"datavalue\":{\"value\":{\"time\":\"+1903-01-01T00:00:00Z\",\"timezone\":0,\"before\":0,\"after\":0,\"precision\":9,\"calendarmodel\":\"http:\\/\\/www.wikidata.org\\/entity\\/Q1985727\"},\"type\":\"time\"}},\"type\":\"statement\",\"id\":\"M69552767$1BC4CEBF-4DF6-4279-840E-E77F79261645\",\"rank\":\"normal\"}]' id=\"P571\"><div class=\"wbmi-statements-widget\"><div class=\"wbmi-statement-header\"><div class=\"wbmi-entity-data\"><div class=\"wbmi-entity-title\"><h4 class=\"wbmi-entity-label\"><bdi><a href=\"https://www.wikidata.org/wiki/Special:EntityPage/P571\" target=\"_blank\" title=\"d:Special:EntityPage/P571\">inception</a></bdi></h4></div></div></div><div class=\"wbmi-content-items-group\"><div class=\"wbmi-item wbmi-item-read\"><div class=\"wbmi-item-container\" data-guid=\"M69552767$1BC4CEBF-4DF6-4279-840E-E77F79261645\"><div class=\"wbmi-entity-header\"><div class=\"wbmi-entity-data\"><div class=\"wbmi-entity-title\"><h4 class=\"wbmi-entity-label\"><bdi>1903</bdi></h4></div></div></div></div></div></div></div></div></mediainfoviewstatements></mediainfoview>\n",
       "<!-- \n",
       "NewPP limit report\n",
       "Parsed by mw2377\n",
       "Cached time: 20231021174712\n",
       "Cache expiry: 1814400\n",
       "Reduced expiry: false\n",
       "Complications: []\n",
       "CPU time usage: 0.132 seconds\n",
       "Real time usage: 0.218 seconds\n",
       "Preprocessor visited node count: 1015/1000000\n",
       "Post‐expand include size: 27876/2097152 bytes\n",
       "Template argument size: 99/2097152 bytes\n",
       "Highest expansion depth: 16/100\n",
       "Expensive parser function count: 4/500\n",
       "Unstrip recursion depth: 0/20\n",
       "Unstrip post‐expand size: 4090/5000000 bytes\n",
       "Lua time usage: 0.094/10.000 seconds\n",
       "Lua memory usage: 2484857/52428800 bytes\n",
       "Number of Wikibase entities loaded: 2/400\n",
       "-->\n",
       "<!--\n",
       "Transclusion expansion time report (%,ms,calls,template)\n",
       "100.00%  200.384      1 -total\n",
       "100.00%  200.384      1 Template:Information\n",
       " 64.67%  129.579      1 Creator:James_E._Purdy\n",
       " 63.22%  126.679      1 Template:Creator\n",
       " 10.94%   21.930      1 Template:PD-old-70-1923\n",
       "  9.77%   19.575      1 Template:PD-old-X-expired\n",
       "  6.57%   13.155      1 Template:Str_≤_len\n",
       "  5.44%   10.900      1 Template:CountryAdjective\n",
       "  4.66%    9.344      1 Template:Autotranslate\n",
       "  3.46%    6.925      1 Template:PD-old-text\n",
       "-->\n",
       "<!-- Saved in parser cache with key commonswiki:pcache:idhash:69552767-0!wb=3!wbMobile=0 and timestamp 20231021174712 and revision id 802257782. Rendering was triggered because: page-view\n",
       " -->\n",
       "</div></div>\n",
       "<h2 id=\"filehistory\">File history</h2>\n",
       "<div id=\"mw-imagepage-section-filehistory\">\n",
       "<p>Click on a date/time to view the file as it appeared at that time.\n",
       "</p>\n",
       "<table class=\"wikitable filehistory\">\n",
       "<tr><th></th><th>Date/Time</th><th>Thumbnail</th><th>Dimensions</th><th>User</th><th>Comment</th></tr>\n",
       "<tr><td>current</td><td class=\"filehistory-selected\" style=\"white-space: nowrap;\"><a href=\"//upload.wikimedia.org/wikipedia/commons/a/a5/John_Singer_Sargent_1903.jpg\">12:46, 11 June 2018</a></td><td><a href=\"//upload.wikimedia.org/wikipedia/commons/a/a5/John_Singer_Sargent_1903.jpg\"><img alt=\"Thumbnail for version as of 12:46, 11 June 2018\" data-file-height=\"810\" data-file-width=\"608\" decoding=\"async\" height=\"120\" src=\"//upload.wikimedia.org/wikipedia/commons/thumb/a/a5/John_Singer_Sargent_1903.jpg/90px-John_Singer_Sargent_1903.jpg\" width=\"90\"/></a></td><td>608 × 810 <span style=\"white-space: nowrap;\">(261 KB)</span></td><td>Materialscientist</td><td dir=\"ltr\">rotated</td></tr>\n",
       "<tr><td></td><td style=\"white-space: nowrap;\"><a href=\"//upload.wikimedia.org/wikipedia/commons/archive/a/a5/20180530085007%21John_Singer_Sargent_1903.jpg\">08:44, 30 May 2018</a></td><td><a href=\"//upload.wikimedia.org/wikipedia/commons/archive/a/a5/20180530085007%21John_Singer_Sargent_1903.jpg\"><img alt=\"Thumbnail for version as of 08:44, 30 May 2018\" data-file-height=\"810\" data-file-width=\"608\" decoding=\"async\" height=\"120\" src=\"//upload.wikimedia.org/wikipedia/commons/thumb/archive/a/a5/20180530085007%21John_Singer_Sargent_1903.jpg/90px-John_Singer_Sargent_1903.jpg\" width=\"90\"/></a></td><td>608 × 810 <span style=\"white-space: nowrap;\">(265 KB)</span></td><td>Materialscientist</td><td dir=\"ltr\">3:4 crop</td></tr>\n",
       "<tr><td></td><td style=\"white-space: nowrap;\"><a href=\"//upload.wikimedia.org/wikipedia/commons/archive/a/a5/20180530082030%21John_Singer_Sargent_1903.jpg\">08:18, 30 May 2018</a></td><td><a href=\"//upload.wikimedia.org/wikipedia/commons/archive/a/a5/20180530082030%21John_Singer_Sargent_1903.jpg\"><img alt=\"Thumbnail for version as of 08:18, 30 May 2018\" data-file-height=\"1024\" data-file-width=\"682\" decoding=\"async\" height=\"120\" src=\"//upload.wikimedia.org/wikipedia/commons/thumb/archive/a/a5/20180530082030%21John_Singer_Sargent_1903.jpg/80px-John_Singer_Sargent_1903.jpg\" width=\"80\"/></a></td><td>682 × 1,024 <span style=\"white-space: nowrap;\">(210 KB)</span></td><td>Materialscientist</td><td dir=\"ltr\">{{Information |Description =  John Singer Sargent |Source = [https://www.gettyimages.co.uk/license/640475529] |Date =1903 |Author = {{Creator:James E. Purdy}} |Permission ={{PD-old-70-1923}} |other_versions = }}  <a class=\"new\" href=\"/w/index.php?title=Category:Photographs_of_John_Singer_Sargent&amp;action=edit&amp;redlink=1\" title=\"Category:Photographs of John Singer Sargent (page does not exist)\">Category:Photographs of John Singer Sargent</a></td></tr>\n",
       "</table>\n",
       "</div>\n",
       "<h2 id=\"filelinks\">File usage</h2>\n",
       "<div id=\"mw-imagepage-section-linkstoimage\">\n",
       "<div class=\"linkstoimage\" id=\"linkstoimage\">The following pages on the English Wikipedia use this file (pages on other projects are not listed):</div><ul class=\"mw-imagepage-linkstoimage\">\n",
       "<li class=\"mw-imagepage-linkstoimage-ns0\"><a href=\"/wiki/John_Singer_Sargent\" title=\"John Singer Sargent\">John Singer Sargent</a></li>\n",
       "<li class=\"mw-imagepage-linkstoimage-ns0\"><a href=\"/wiki/List_of_faculty_and_alumni_of_the_Acad%C3%A9mie_Julian\" title=\"List of faculty and alumni of the Académie Julian\">List of faculty and alumni of the Académie Julian</a></li>\n",
       "<li class=\"mw-imagepage-linkstoimage-ns0\"><a href=\"/wiki/List_of_people_buried_in_Brookwood_Cemetery\" title=\"List of people buried in Brookwood Cemetery\">List of people buried in Brookwood Cemetery</a></li>\n",
       "<li class=\"mw-imagepage-linkstoimage-ns2\"><a href=\"/wiki/User:Sorrow_of_Sophie/GalleryofArtandLiteratureFigures\" title=\"User:Sorrow of Sophie/GalleryofArtandLiteratureFigures\">User:Sorrow of Sophie/GalleryofArtandLiteratureFigures</a></li>\n",
       "</ul>\n",
       "</div>\n",
       "<h2 id=\"globalusage\">Global file usage</h2>\n",
       "<div id=\"mw-imagepage-section-globalusage\"><p>The following other wikis use this file:\n",
       "</p><ul>\n",
       "<li class=\"mw-gu-onwiki-da_wikipedia_org\">Usage on da.wikipedia.org\n",
       "<ul> <li><a class=\"external\" href=\"https://da.wikipedia.org/wiki/Madame_X_(portr%C3%A6t)\">Madame X (portræt)</a></li>\n",
       "</ul></li>\n",
       "<li class=\"mw-gu-onwiki-de_wikipedia_org\">Usage on de.wikipedia.org\n",
       "<ul> <li><a class=\"external\" href=\"https://de.wikipedia.org/wiki/John_Singer_Sargent\">John Singer Sargent</a></li>\n",
       "<li><a class=\"external\" href=\"https://de.wikipedia.org/wiki/Liste_der_Biografien/Sin\">Liste der Biografien/Sin</a></li>\n",
       "</ul></li>\n",
       "<li class=\"mw-gu-onwiki-es_wikipedia_org\">Usage on es.wikipedia.org\n",
       "<ul> <li><a class=\"external\" href=\"https://es.wikipedia.org/wiki/John_Singer_Sargent\">John Singer Sargent</a></li>\n",
       "</ul></li>\n",
       "<li class=\"mw-gu-onwiki-fa_wikipedia_org\">Usage on fa.wikipedia.org\n",
       "<ul> <li><a class=\"external\" href=\"https://fa.wikipedia.org/wiki/%D8%AC%D8%A7%D9%86_%D8%B3%DB%8C%D9%86%DA%AF%D8%B1_%D8%B3%D8%A7%D8%B1%D8%AC%D9%86%D8%AA\">جان سینگر سارجنت</a></li>\n",
       "</ul></li>\n",
       "<li class=\"mw-gu-onwiki-fr_wikipedia_org\">Usage on fr.wikipedia.org\n",
       "<ul> <li><a class=\"external\" href=\"https://fr.wikipedia.org/wiki/John_Singer_Sargent\">John Singer Sargent</a></li>\n",
       "</ul></li>\n",
       "<li class=\"mw-gu-onwiki-id_wikipedia_org\">Usage on id.wikipedia.org\n",
       "<ul> <li><a class=\"external\" href=\"https://id.wikipedia.org/wiki/John_Singer_Sargent\">John Singer Sargent</a></li>\n",
       "<li><a class=\"external\" href=\"https://id.wikipedia.org/wiki/Pengguna:Naoko_Evelyn/bak_pasir3\">Pengguna:Naoko Evelyn/bak pasir3</a></li>\n",
       "</ul></li>\n",
       "<li class=\"mw-gu-onwiki-io_wikipedia_org\">Usage on io.wikipedia.org\n",
       "<ul> <li><a class=\"external\" href=\"https://io.wikipedia.org/wiki/John_Singer_Sargent\">John Singer Sargent</a></li>\n",
       "</ul></li>\n",
       "<li class=\"mw-gu-onwiki-nl_wikipedia_org\">Usage on nl.wikipedia.org\n",
       "<ul> <li><a class=\"external\" href=\"https://nl.wikipedia.org/wiki/John_Singer_Sargent\">John Singer Sargent</a></li>\n",
       "</ul></li>\n",
       "<li class=\"mw-gu-onwiki-ro_wikipedia_org\">Usage on ro.wikipedia.org\n",
       "<ul> <li><a class=\"external\" href=\"https://ro.wikipedia.org/wiki/12_ianuarie\">12 ianuarie</a></li>\n",
       "<li><a class=\"external\" href=\"https://ro.wikipedia.org/wiki/14_aprilie\">14 aprilie</a></li>\n",
       "<li><a class=\"external\" href=\"https://ro.wikipedia.org/wiki/John_Singer_Sargent\">John Singer Sargent</a></li>\n",
       "</ul></li>\n",
       "<li class=\"mw-gu-onwiki-sr_wikipedia_org\">Usage on sr.wikipedia.org\n",
       "<ul> <li><a class=\"external\" href=\"https://sr.wikipedia.org/wiki/%D0%8F%D0%BE%D0%BD_%D0%A1%D0%B8%D0%BD%D0%B3%D0%B5%D1%80_%D0%A1%D0%B0%D1%80%D1%9F%D0%B5%D0%BD%D1%82\">Џон Сингер Сарџент</a></li>\n",
       "</ul></li>\n",
       "<li class=\"mw-gu-onwiki-uk_wikipedia_org\">Usage on uk.wikipedia.org\n",
       "<ul> <li><a class=\"external\" href=\"https://uk.wikipedia.org/wiki/%D0%94%D0%B6%D0%BE%D0%BD_%D0%A1%D1%96%D0%BD%D0%B3%D0%B5%D1%80_%D0%A1%D0%B0%D1%80%D0%B4%D0%B6%D0%B5%D0%BD%D1%82\">Джон Сінгер Сарджент</a></li>\n",
       "</ul></li>\n",
       "</ul>\n",
       "</div><h2 id=\"metadata\">Metadata</h2>\n",
       "<div class=\"mw-imagepage-section-metadata\"><p>This file contains additional information, probably added from the digital camera or scanner used to create or digitize it.\n",
       "</p><p>\n",
       "If the file has been modified from its original state, some details may not fully reflect the modified file.</p><table class=\"mw_metadata collapsed\" id=\"mw_metadata\">\n",
       "<tbody><tr class=\"exif-orientation mw-metadata-collapsible\"><th>Orientation</th><td>Normal</td></tr><tr class=\"exif-xresolution mw-metadata-collapsible\"><th>Horizontal resolution</th><td>300 dpi</td></tr><tr class=\"exif-yresolution mw-metadata-collapsible\"><th>Vertical resolution</th><td>300 dpi</td></tr><tr class=\"exif-software mw-metadata-collapsible\"><th>Software used</th><td><a class=\"mw-redirect\" href=\"/wiki/GIMP_2.4.7\" title=\"GIMP 2.4.7\">GIMP 2.4.7</a></td></tr><tr class=\"exif-datetime mw-metadata-collapsible\"><th>File change date and time</th><td>21:46, 11 June 2018</td></tr></tbody></table>\n",
       "</div><!--esi <esi:include src=\"/esitest-fa8a495983347898/content\" /> --><noscript><img alt=\"\" height=\"1\" src=\"https://login.wikimedia.org/wiki/Special:CentralAutoLogin/start?type=1x1\" style=\"border: none; position: absolute;\" width=\"1\"/></noscript>\n",
       "<div class=\"printfooter\" data-nosnippet=\"\">Retrieved from \"<a dir=\"ltr\" href=\"https://en.wikipedia.org/wiki/File:John_Singer_Sargent_1903.jpg\">https://en.wikipedia.org/wiki/File:John_Singer_Sargent_1903.jpg</a>\"</div></div>\n",
       "<div class=\"catlinks catlinks-allhidden\" data-mw=\"interface\" id=\"catlinks\"></div>\n",
       "</div>\n",
       "</main>\n",
       "</div>\n",
       "<div class=\"mw-footer-container\">\n",
       "<footer class=\"mw-footer\" id=\"footer\" role=\"contentinfo\">\n",
       "<ul id=\"footer-info\">\n",
       "</ul>\n",
       "<ul id=\"footer-places\">\n",
       "<li id=\"footer-places-privacy\"><a href=\"https://foundation.wikimedia.org/wiki/Special:MyLanguage/Policy:Privacy_policy\">Privacy policy</a></li>\n",
       "<li id=\"footer-places-about\"><a href=\"/wiki/Wikipedia:About\">About Wikipedia</a></li>\n",
       "<li id=\"footer-places-disclaimers\"><a href=\"/wiki/Wikipedia:General_disclaimer\">Disclaimers</a></li>\n",
       "<li id=\"footer-places-contact\"><a href=\"//en.wikipedia.org/wiki/Wikipedia:Contact_us\">Contact Wikipedia</a></li>\n",
       "<li id=\"footer-places-wm-codeofconduct\"><a href=\"https://foundation.wikimedia.org/wiki/Special:MyLanguage/Policy:Universal_Code_of_Conduct\">Code of Conduct</a></li>\n",
       "<li id=\"footer-places-developers\"><a href=\"https://developer.wikimedia.org\">Developers</a></li>\n",
       "<li id=\"footer-places-statslink\"><a href=\"https://stats.wikimedia.org/#/en.wikipedia.org\">Statistics</a></li>\n",
       "<li id=\"footer-places-cookiestatement\"><a href=\"https://foundation.wikimedia.org/wiki/Special:MyLanguage/Policy:Cookie_statement\">Cookie statement</a></li>\n",
       "<li id=\"footer-places-mobileview\"><a class=\"noprint stopMobileRedirectToggle\" href=\"//en.m.wikipedia.org/w/index.php?title=File:John_Singer_Sargent_1903.jpg&amp;mobileaction=toggle_view_mobile\">Mobile view</a></li>\n",
       "</ul>\n",
       "<ul class=\"noprint\" id=\"footer-icons\">\n",
       "<li id=\"footer-copyrightico\"><a href=\"https://wikimediafoundation.org/\"><img alt=\"Wikimedia Foundation\" height=\"31\" loading=\"lazy\" src=\"/static/images/footer/wikimedia-button.png\" srcset=\"/static/images/footer/wikimedia-button-1.5x.png 1.5x, /static/images/footer/wikimedia-button-2x.png 2x\" width=\"88\"/></a></li>\n",
       "<li id=\"footer-poweredbyico\"><a href=\"https://www.mediawiki.org/\"><img alt=\"Powered by MediaWiki\" height=\"31\" loading=\"lazy\" src=\"/static/images/footer/poweredby_mediawiki_88x31.png\" srcset=\"/static/images/footer/poweredby_mediawiki_132x47.png 1.5x, /static/images/footer/poweredby_mediawiki_176x62.png 2x\" width=\"88\"/></a></li>\n",
       "</ul>\n",
       "</footer>\n",
       "</div>\n",
       "</div>\n",
       "</div>\n",
       "<div class=\"vector-settings\" id=\"p-dock-bottom\">\n",
       "<ul>\n",
       "<li>\n",
       "<button class=\"cdx-button cdx-button--icon-only vector-limited-width-toggle\" id=\"\"><span class=\"vector-icon mw-ui-icon-fullScreen mw-ui-icon-wikimedia-fullScreen\"></span>\n",
       "<span>Toggle limited content width</span>\n",
       "</button>\n",
       "</li>\n",
       "</ul>\n",
       "</div>\n",
       "<script>(RLQ=window.RLQ||[]).push(function(){mw.config.set({\"wgHostname\":\"mw2421\",\"wgBackendResponseTime\":125,\"wgPageParseReport\":{\"limitreport\":{\"cputime\":\"0.001\",\"walltime\":\"0.001\",\"ppvisitednodes\":{\"value\":3,\"limit\":1000000},\"postexpandincludesize\":{\"value\":0,\"limit\":2097152},\"templateargumentsize\":{\"value\":0,\"limit\":2097152},\"expansiondepth\":{\"value\":1,\"limit\":100},\"expensivefunctioncount\":{\"value\":0,\"limit\":500},\"unstrip-depth\":{\"value\":0,\"limit\":20},\"unstrip-size\":{\"value\":0,\"limit\":5000000},\"entityaccesscount\":{\"value\":0,\"limit\":400},\"timingprofile\":[\"100.00%    0.000      1 -total\"]},\"cachereport\":{\"origin\":\"mw2421\",\"timestamp\":\"20231107154945\",\"ttl\":1814400,\"transientcontent\":false}}});});</script>\n",
       "</body>\n",
       "</html>"
      ]
     },
     "execution_count": 47,
     "metadata": {},
     "output_type": "execute_result"
    }
   ],
   "source": [
    "soup_jss_img01"
   ]
  },
  {
   "cell_type": "code",
   "execution_count": 48,
   "id": "b35ffe12",
   "metadata": {
    "scrolled": true
   },
   "outputs": [
    {
     "data": {
      "text/plain": [
       "[<img alt=\"\" aria-hidden=\"true\" class=\"mw-logo-icon\" height=\"50\" src=\"/static/images/icons/wikipedia.png\" width=\"50\"/>,\n",
       " <img alt=\"Wikipedia\" class=\"mw-logo-wordmark\" src=\"/static/images/mobile/copyright/wikipedia-wordmark-en.svg\" style=\"width: 7.5em; height: 1.125em;\"/>,\n",
       " <img alt=\"The Free Encyclopedia\" class=\"mw-logo-tagline\" height=\"13\" src=\"/static/images/mobile/copyright/wikipedia-tagline-en.svg\" style=\"width: 7.3125em; height: 0.8125em;\" width=\"117\"/>,\n",
       " <img alt=\"This is a file from the Wikimedia Commons\" class=\"mw-file-element\" data-file-height=\"1376\" data-file-width=\"1024\" decoding=\"async\" height=\"20\" src=\"//upload.wikimedia.org/wikipedia/en/thumb/4/4a/Commons-logo.svg/15px-Commons-logo.svg.png\" srcset=\"//upload.wikimedia.org/wikipedia/en/thumb/4/4a/Commons-logo.svg/22px-Commons-logo.svg.png 1.5x, //upload.wikimedia.org/wikipedia/en/thumb/4/4a/Commons-logo.svg/30px-Commons-logo.svg.png 2x\" width=\"15\"/>,\n",
       " <img alt=\"File:John Singer Sargent 1903.jpg\" data-file-height=\"810\" data-file-width=\"608\" decoding=\"async\" height=\"600\" src=\"//upload.wikimedia.org/wikipedia/commons/thumb/a/a5/John_Singer_Sargent_1903.jpg/450px-John_Singer_Sargent_1903.jpg\" srcset=\"//upload.wikimedia.org/wikipedia/commons/a/a5/John_Singer_Sargent_1903.jpg 1.5x\" width=\"450\"/>,\n",
       " <img alt=\"\" class=\"mw-file-element\" data-file-height=\"1376\" data-file-width=\"1024\" decoding=\"async\" height=\"40\" src=\"//upload.wikimedia.org/wikipedia/en/thumb/4/4a/Commons-logo.svg/30px-Commons-logo.svg.png\" srcset=\"//upload.wikimedia.org/wikipedia/en/thumb/4/4a/Commons-logo.svg/45px-Commons-logo.svg.png 1.5x, //upload.wikimedia.org/wikipedia/en/thumb/4/4a/Commons-logo.svg/59px-Commons-logo.svg.png 2x\" width=\"30\"/>,\n",
       " <img class=\"mw-file-element\" data-file-height=\"600\" data-file-width=\"600\" decoding=\"async\" height=\"15\" src=\"https://upload.wikimedia.org/wikipedia/commons/thumb/7/73/Blue_pencil.svg/15px-Blue_pencil.svg.png\" srcset=\"https://upload.wikimedia.org/wikipedia/commons/thumb/7/73/Blue_pencil.svg/23px-Blue_pencil.svg.png 1.5x, https://upload.wikimedia.org/wikipedia/commons/thumb/7/73/Blue_pencil.svg/30px-Blue_pencil.svg.png 2x\" width=\"15\"/>,\n",
       " <img alt=\"wikidata:Q18673008\" class=\"mw-file-element\" data-file-height=\"590\" data-file-width=\"1050\" decoding=\"async\" height=\"11\" src=\"https://upload.wikimedia.org/wikipedia/commons/thumb/f/ff/Wikidata-logo.svg/20px-Wikidata-logo.svg.png\" srcset=\"https://upload.wikimedia.org/wikipedia/commons/thumb/f/ff/Wikidata-logo.svg/30px-Wikidata-logo.svg.png 1.5x, https://upload.wikimedia.org/wikipedia/commons/thumb/f/ff/Wikidata-logo.svg/40px-Wikidata-logo.svg.png 2x\" width=\"20\"/>,\n",
       " <img alt=\"Edit this at Wikidata\" class=\"mw-file-element\" data-file-height=\"20\" data-file-width=\"20\" decoding=\"async\" height=\"10\" src=\"https://upload.wikimedia.org/wikipedia/commons/thumb/8/8a/OOjs_UI_icon_edit-ltr-progressive.svg/10px-OOjs_UI_icon_edit-ltr-progressive.svg.png\" srcset=\"https://upload.wikimedia.org/wikipedia/commons/thumb/8/8a/OOjs_UI_icon_edit-ltr-progressive.svg/15px-OOjs_UI_icon_edit-ltr-progressive.svg.png 1.5x, https://upload.wikimedia.org/wikipedia/commons/thumb/8/8a/OOjs_UI_icon_edit-ltr-progressive.svg/20px-OOjs_UI_icon_edit-ltr-progressive.svg.png 2x\" width=\"10\"/>,\n",
       " <img alt=\"Edit this at Wikidata\" class=\"mw-file-element\" data-file-height=\"20\" data-file-width=\"20\" decoding=\"async\" height=\"10\" src=\"https://upload.wikimedia.org/wikipedia/commons/thumb/8/8a/OOjs_UI_icon_edit-ltr-progressive.svg/10px-OOjs_UI_icon_edit-ltr-progressive.svg.png\" srcset=\"https://upload.wikimedia.org/wikipedia/commons/thumb/8/8a/OOjs_UI_icon_edit-ltr-progressive.svg/15px-OOjs_UI_icon_edit-ltr-progressive.svg.png 1.5x, https://upload.wikimedia.org/wikipedia/commons/thumb/8/8a/OOjs_UI_icon_edit-ltr-progressive.svg/20px-OOjs_UI_icon_edit-ltr-progressive.svg.png 2x\" width=\"10\"/>,\n",
       " <img alt=\"Edit this at Wikidata\" class=\"mw-file-element\" data-file-height=\"20\" data-file-width=\"20\" decoding=\"async\" height=\"10\" src=\"https://upload.wikimedia.org/wikipedia/commons/thumb/8/8a/OOjs_UI_icon_edit-ltr-progressive.svg/10px-OOjs_UI_icon_edit-ltr-progressive.svg.png\" srcset=\"https://upload.wikimedia.org/wikipedia/commons/thumb/8/8a/OOjs_UI_icon_edit-ltr-progressive.svg/15px-OOjs_UI_icon_edit-ltr-progressive.svg.png 1.5x, https://upload.wikimedia.org/wikipedia/commons/thumb/8/8a/OOjs_UI_icon_edit-ltr-progressive.svg/20px-OOjs_UI_icon_edit-ltr-progressive.svg.png 2x\" width=\"10\"/>,\n",
       " <img alt=\"wikidata:Q18673008\" class=\"mw-file-element\" data-file-height=\"590\" data-file-width=\"1050\" decoding=\"async\" height=\"11\" src=\"https://upload.wikimedia.org/wikipedia/commons/thumb/f/ff/Wikidata-logo.svg/20px-Wikidata-logo.svg.png\" srcset=\"https://upload.wikimedia.org/wikipedia/commons/thumb/f/ff/Wikidata-logo.svg/30px-Wikidata-logo.svg.png 1.5x, https://upload.wikimedia.org/wikipedia/commons/thumb/f/ff/Wikidata-logo.svg/40px-Wikidata-logo.svg.png 2x\" width=\"20\"/>,\n",
       " <img alt=\"Public domain\" class=\"mw-file-element\" data-file-height=\"196\" data-file-width=\"196\" decoding=\"async\" height=\"64\" src=\"https://upload.wikimedia.org/wikipedia/commons/thumb/6/62/PD-icon.svg/64px-PD-icon.svg.png\" srcset=\"https://upload.wikimedia.org/wikipedia/commons/thumb/6/62/PD-icon.svg/96px-PD-icon.svg.png 1.5x, https://upload.wikimedia.org/wikipedia/commons/thumb/6/62/PD-icon.svg/128px-PD-icon.svg.png 2x\" width=\"64\"/>,\n",
       " <img alt=\"Thumbnail for version as of 12:46, 11 June 2018\" data-file-height=\"810\" data-file-width=\"608\" decoding=\"async\" height=\"120\" src=\"//upload.wikimedia.org/wikipedia/commons/thumb/a/a5/John_Singer_Sargent_1903.jpg/90px-John_Singer_Sargent_1903.jpg\" width=\"90\"/>,\n",
       " <img alt=\"Thumbnail for version as of 08:44, 30 May 2018\" data-file-height=\"810\" data-file-width=\"608\" decoding=\"async\" height=\"120\" src=\"//upload.wikimedia.org/wikipedia/commons/thumb/archive/a/a5/20180530085007%21John_Singer_Sargent_1903.jpg/90px-John_Singer_Sargent_1903.jpg\" width=\"90\"/>,\n",
       " <img alt=\"Thumbnail for version as of 08:18, 30 May 2018\" data-file-height=\"1024\" data-file-width=\"682\" decoding=\"async\" height=\"120\" src=\"//upload.wikimedia.org/wikipedia/commons/thumb/archive/a/a5/20180530082030%21John_Singer_Sargent_1903.jpg/80px-John_Singer_Sargent_1903.jpg\" width=\"80\"/>,\n",
       " <img alt=\"\" height=\"1\" src=\"https://login.wikimedia.org/wiki/Special:CentralAutoLogin/start?type=1x1\" style=\"border: none; position: absolute;\" width=\"1\"/>,\n",
       " <img alt=\"Wikimedia Foundation\" height=\"31\" loading=\"lazy\" src=\"/static/images/footer/wikimedia-button.png\" srcset=\"/static/images/footer/wikimedia-button-1.5x.png 1.5x, /static/images/footer/wikimedia-button-2x.png 2x\" width=\"88\"/>,\n",
       " <img alt=\"Powered by MediaWiki\" height=\"31\" loading=\"lazy\" src=\"/static/images/footer/poweredby_mediawiki_88x31.png\" srcset=\"/static/images/footer/poweredby_mediawiki_132x47.png 1.5x, /static/images/footer/poweredby_mediawiki_176x62.png 2x\" width=\"88\"/>]"
      ]
     },
     "execution_count": 48,
     "metadata": {},
     "output_type": "execute_result"
    }
   ],
   "source": [
    "soup_jss_img01.select('img')"
   ]
  },
  {
   "cell_type": "code",
   "execution_count": 49,
   "id": "26108205",
   "metadata": {},
   "outputs": [
    {
     "data": {
      "text/plain": [
       "<img alt=\"File:John Singer Sargent 1903.jpg\" data-file-height=\"810\" data-file-width=\"608\" decoding=\"async\" height=\"600\" src=\"//upload.wikimedia.org/wikipedia/commons/thumb/a/a5/John_Singer_Sargent_1903.jpg/450px-John_Singer_Sargent_1903.jpg\" srcset=\"//upload.wikimedia.org/wikipedia/commons/a/a5/John_Singer_Sargent_1903.jpg 1.5x\" width=\"450\"/>"
      ]
     },
     "execution_count": 49,
     "metadata": {},
     "output_type": "execute_result"
    }
   ],
   "source": [
    "soup_jss_img01.select('img')[4]"
   ]
  },
  {
   "cell_type": "code",
   "execution_count": 50,
   "id": "ea4d7278",
   "metadata": {},
   "outputs": [
    {
     "data": {
      "text/plain": [
       "'//upload.wikimedia.org/wikipedia/commons/thumb/a/a5/John_Singer_Sargent_1903.jpg/450px-John_Singer_Sargent_1903.jpg'"
      ]
     },
     "execution_count": 50,
     "metadata": {},
     "output_type": "execute_result"
    }
   ],
   "source": [
    "soup_jss_img01.select('img')[4]['src']"
   ]
  },
  {
   "cell_type": "code",
   "execution_count": 51,
   "id": "7df89b02",
   "metadata": {},
   "outputs": [
    {
     "data": {
      "text/plain": [
       "'//upload.wikimedia.org/wikipedia/commons/a/a5/John_Singer_Sargent_1903.jpg 1.5x'"
      ]
     },
     "execution_count": 51,
     "metadata": {},
     "output_type": "execute_result"
    }
   ],
   "source": [
    "soup_jss_img01.select('img')[4]['srcset']"
   ]
  },
  {
   "cell_type": "code",
   "execution_count": 52,
   "id": "ff0ccb4f",
   "metadata": {},
   "outputs": [
    {
     "data": {
      "text/plain": [
       "False"
      ]
     },
     "execution_count": 52,
     "metadata": {},
     "output_type": "execute_result"
    }
   ],
   "source": [
    "'src' in soup_jss_img01.select('img')[4]"
   ]
  },
  {
   "cell_type": "code",
   "execution_count": 75,
   "id": "2339dc57",
   "metadata": {},
   "outputs": [
    {
     "name": "stdout",
     "output_type": "stream",
     "text": [
      "High res image link: //upload.wikimedia.org/wikipedia/commons/a/a5/John_Singer_Sargent_1903.jpg 1.5x\n",
      "Low res image link:  //upload.wikimedia.org/wikipedia/commons/thumb/a/a5/John_Singer_Sargent_1903.jpg/450px-John_Singer_Sargent_1903.jpg\n",
      "Low res image link:  //upload.wikimedia.org/wikipedia/commons/thumb/a/a5/John_Singer_Sargent_1903.jpg/90px-John_Singer_Sargent_1903.jpg\n",
      "Low res image link:  //upload.wikimedia.org/wikipedia/commons/thumb/archive/a/a5/20180530085007%21John_Singer_Sargent_1903.jpg/90px-John_Singer_Sargent_1903.jpg\n",
      "Low res image link:  //upload.wikimedia.org/wikipedia/commons/thumb/archive/a/a5/20180530082030%21John_Singer_Sargent_1903.jpg/80px-John_Singer_Sargent_1903.jpg\n",
      "['//upload.wikimedia.org/wikipedia/commons/thumb/a/a5/John_Singer_Sargent_1903.jpg/450px-John_Singer_Sargent_1903.jpg', '//upload.wikimedia.org/wikipedia/commons/thumb/a/a5/John_Singer_Sargent_1903.jpg/90px-John_Singer_Sargent_1903.jpg', '//upload.wikimedia.org/wikipedia/commons/thumb/archive/a/a5/20180530085007%21John_Singer_Sargent_1903.jpg/90px-John_Singer_Sargent_1903.jpg', '//upload.wikimedia.org/wikipedia/commons/thumb/archive/a/a5/20180530082030%21John_Singer_Sargent_1903.jpg/80px-John_Singer_Sargent_1903.jpg']\n",
      "['//upload.wikimedia.org/wikipedia/commons/a/a5/John_Singer_Sargent_1903.jpg']\n"
     ]
    }
   ],
   "source": [
    "images_link_list_m = []\n",
    "images_link_list_h = []\n",
    "# for item in soup_jss_img01.select('img'):\n",
    "#     print(item.find(alt=\"File:John Singer Sargent 1903.jpg\"))\n",
    "        \n",
    "for item in soup_jss_img01.find_all('img'):\n",
    "#     print(item.get('alt'), type(item.get('alt')))\n",
    "    if item.has_attr('src') and item.get('src').endswith('.jpg'):\n",
    "#    if item.get('alt') != None and item.get('alt').startswith('File:'):\n",
    "        images_link_list_m.append(item.get('src'))\n",
    "        if item.has_attr('srcset'):\n",
    "            image_link = item.get('srcset').split()[0]\n",
    "            images_link_list_h.append(image_link)\n",
    "            print('High res image link:', item.get('srcset'))\n",
    "        print('Low res image link: ', item.get('src')) \n",
    "        \n",
    "\n",
    "# images_link_lists    \n",
    "print(images_link_list_m)\n",
    "print(images_link_list_h)\n",
    "         "
   ]
  },
  {
   "cell_type": "code",
   "execution_count": 76,
   "id": "0562da48",
   "metadata": {},
   "outputs": [],
   "source": [
    "def image_download(image_link, file_name):\n",
    "    image_link = 'https:' + image_link\n",
    "    image_obj = requests.get(image_link)\n",
    "    with open (file_name, 'wb') as fh:\n",
    "        fh.write(image_obj.content)\n",
    "        \n",
    "        \n",
    "def image_download_all(images_link_list, file_path):\n",
    "    count = 0\n",
    "    for image_link in images_link_list:\n",
    "        file_name = file_path + str(count) + '.jpg'\n",
    "        image_download(image_link, file_name)\n",
    "        count += 1\n",
    "        \n",
    "file_loc = 'C:\\\\Users\\\\arena\\\\Tech\\\\Python\\\\Projects\\\\web_scraping\\\\Sargent_Img_'\n",
    "file_loc_m = file_loc + 'm_'\n",
    "file_loc_h = file_loc + 'h_'\n",
    "image_download_all(images_link_list_m, file_loc_m)\n",
    "image_download_all(images_link_list_h, file_loc_h)"
   ]
  },
  {
   "cell_type": "markdown",
   "id": "70a5aa22",
   "metadata": {},
   "source": [
    "Example Code to Study:\n",
    "\n",
    "```\n",
    "books = []\n",
    "\n",
    "for product in products: \n",
    "    title = product.find(\"h3\").a.get(\"title\")\n",
    "    price = product.find(class_=\"price_color\").text \n",
    "    books.append({\"title\": title, \"price\": price})\n",
    "\n",
    "print(books)\n",
    "```"
   ]
  },
  {
   "cell_type": "markdown",
   "id": "c7f616b2",
   "metadata": {},
   "source": [
    "Example Code to Study:\n",
    " \n",
    "```\n",
    "from bs4 import BeautifulSoup\n",
    "import bs4\n",
    "\n",
    "html = '''\n",
    "<ul class=\"mainview\">\n",
    "    <li>\n",
    "        <input value=\"ABCD\" class=\"origianl\">\n",
    "    </li>\n",
    "</ul>\n",
    "'''\n",
    "\n",
    "soup = BeautifulSoup(html, 'html.parser')\n",
    "\n",
    "mainview = soup.find(class_=\"mainview\")\n",
    "\n",
    "print('--- children ---')\n",
    "for child in mainview.children:\n",
    "    print('>    tag:', child.name)\n",
    "    print('>   type:', type(child))\n",
    "    #print('>content:', child)\n",
    "    if isinstance(child, bs4.element.Tag):\n",
    "        print('>  value:', child.get('value'))\n",
    "        print('          --- subchildren ---')\n",
    "        for subchild in child.children:\n",
    "            print('          >    tag:', subchild.name)\n",
    "            print('          >   type:', type(subchild))\n",
    "            #print('          >content:', subchild)\n",
    "            if isinstance(subchild, bs4.element.Tag):\n",
    "                print('          >  value:', subchild.get('value'))\n",
    "            print('          -----------')\n",
    "\n",
    "    print('-----------')\n",
    "    \n",
    "```\n",
    "\n",
    "Result:\n",
    "\n",
    "```\n",
    "\n",
    "--- children ---\n",
    ">    tag: None\n",
    ">   type: <class 'bs4.element.NavigableString'>\n",
    "-----------\n",
    ">    tag: li\n",
    ">   type: <class 'bs4.element.Tag'>\n",
    ">  value: None\n",
    "          --- subchildren ---\n",
    "          >    tag: None\n",
    "          >   type: <class 'bs4.element.NavigableString'>\n",
    "          -----------\n",
    "          >    tag: input\n",
    "          >   type: <class 'bs4.element.Tag'>\n",
    "          >  value: ABCD\n",
    "          -----------\n",
    "          >    tag: None\n",
    "          >   type: <class 'bs4.element.NavigableString'>\n",
    "          -----------\n",
    "-----------\n",
    ">    tag: None\n",
    ">   type: <class 'bs4.element.NavigableString'>\n",
    "-----------\n",
    "\n",
    "```"
   ]
  },
  {
   "cell_type": "code",
   "execution_count": 67,
   "id": "0fbd63b1",
   "metadata": {},
   "outputs": [
    {
     "data": {
      "text/plain": [
       "[]"
      ]
     },
     "execution_count": 67,
     "metadata": {},
     "output_type": "execute_result"
    }
   ],
   "source": []
  },
  {
   "cell_type": "code",
   "execution_count": null,
   "id": "7dab6bff",
   "metadata": {},
   "outputs": [],
   "source": []
  },
  {
   "cell_type": "code",
   "execution_count": null,
   "id": "de932f29",
   "metadata": {},
   "outputs": [],
   "source": []
  },
  {
   "cell_type": "code",
   "execution_count": null,
   "id": "c5ade941",
   "metadata": {},
   "outputs": [],
   "source": []
  },
  {
   "cell_type": "code",
   "execution_count": null,
   "id": "6c691f5e",
   "metadata": {},
   "outputs": [],
   "source": []
  },
  {
   "cell_type": "code",
   "execution_count": null,
   "id": "f80749ac",
   "metadata": {},
   "outputs": [],
   "source": []
  }
 ],
 "metadata": {
  "kernelspec": {
   "display_name": "Python 3 (ipykernel)",
   "language": "python",
   "name": "python3"
  },
  "language_info": {
   "codemirror_mode": {
    "name": "ipython",
    "version": 3
   },
   "file_extension": ".py",
   "mimetype": "text/x-python",
   "name": "python",
   "nbconvert_exporter": "python",
   "pygments_lexer": "ipython3",
   "version": "3.11.5"
  }
 },
 "nbformat": 4,
 "nbformat_minor": 5
}
