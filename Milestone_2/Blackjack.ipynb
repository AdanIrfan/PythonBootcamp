{
 "cells": [
  {
   "cell_type": "markdown",
   "metadata": {},
   "source": [
    "# Milestone Project 2 - Blackjack Game\n",
    "In this milestone project you will be creating a Complete BlackJack Card Game in Python.\n",
    "\n",
    "Here are the requirements:\n",
    "\n",
    "* You need to create a simple text-based [BlackJack](https://en.wikipedia.org/wiki/Blackjack) game\n",
    "* The game needs to have one player versus an automated dealer.\n",
    "* The player can stand or hit.\n",
    "* The player must be able to pick their betting amount.\n",
    "* You need to keep track of the player's total money.\n",
    "* You need to alert the player of wins, losses, or busts, etc...\n"
   ]
  },
  {
   "cell_type": "markdown",
   "metadata": {},
   "source": [
    "## Game Play\n",
    "To play a hand of Blackjack the following steps must be followed:\n",
    "1. Create a deck of 52 cards\n",
    "2. Shuffle the deck\n",
    "3. Ask the Player for their bet\n",
    "4. Make sure that the Player's bet does not exceed their available chips\n",
    "5. Deal two cards to the Dealer and two cards to the Player\n",
    "6. Show only one of the Dealer's cards, the other remains hidden\n",
    "7. Show both of the Player's cards\n",
    "8. Ask the Player if they wish to Hit, and take another card\n",
    "9. If the Player's hand doesn't Bust (go over 21), ask if they'd like to Hit again.\n",
    "10. If a Player Stands, play the Dealer's hand. The dealer will always Hit until the Dealer's value meets or exceeds 17\n",
    "11. Determine the winner and adjust the Player's chips accordingly\n",
    "12. Ask the Player if they'd like to play again"
   ]
  },
  {
   "cell_type": "code",
   "execution_count": 1,
   "metadata": {},
   "outputs": [
    {
     "data": {
      "text/plain": [
       "'\\nCreated by Mattan Romano\\nLast Updated: 6/13/2022\\n'"
      ]
     },
     "execution_count": 1,
     "metadata": {},
     "output_type": "execute_result"
    }
   ],
   "source": [
    "'''\n",
    "Created by Mattan Romano\n",
    "Last Updated: 6/13/2022\n",
    "'''"
   ]
  },
  {
   "cell_type": "code",
   "execution_count": 142,
   "metadata": {},
   "outputs": [],
   "source": [
    "#MODULES\n",
    "import random #Used to shuffle the deck"
   ]
  },
  {
   "cell_type": "code",
   "execution_count": 21,
   "metadata": {},
   "outputs": [],
   "source": [
    "#INFORMATION ABOUT THE CARDS\n",
    "\n",
    "card_suites = ['Hearts','Diamonds','Clubs','Spades']\n",
    "card_names = ['Two','Three','Four','Five','Six','Seven','Eight','Nine','Ten','Jack','Queen','King','Ace']\n",
    "card_values = {'Two':2,'Three':3,'Four':4,'Five':5,'Six':6,'Seven':7,'Eight':8,'Nine':9,'Ten':10,'Jack':10,'Queen':10,'King':10,'Ace':1}"
   ]
  },
  {
   "cell_type": "code",
   "execution_count": 22,
   "metadata": {},
   "outputs": [],
   "source": [
    "#Card class - each card will be it's own object\n",
    "class Card():\n",
    "\n",
    "    def __init__(self,name:str,suite:str):\n",
    "\n",
    "        #Initialize object with name, suite, and value\n",
    "        self.name = name\n",
    "        self.suite = suite\n",
    "        self.value = card_values[name] #this is going to be used for determining card values\n",
    "\n",
    "    def __str__(self):\n",
    "\n",
    "        #Used for printing\n",
    "        return f\"{self.name} of {self.suite}\""
   ]
  },
  {
   "cell_type": "code",
   "execution_count": 180,
   "metadata": {},
   "outputs": [],
   "source": [
    "#Deck class - create a Card object and store in list. There should be 52 cards in a deck\n",
    "class Deck():\n",
    "\n",
    "    def __init__(self):\n",
    "\n",
    "        #Looping through each suite/name to build a deck\n",
    "        self.deck = []\n",
    "\n",
    "        for suite in card_suites:\n",
    "            for name in card_names:\n",
    "                \n",
    "                card = Card(name,suite)\n",
    "                self.deck.append(card)\n",
    "        \n",
    "    def __str__(self):\n",
    "\n",
    "        #Used for printing - return whole deck by printing card object\n",
    "        print_deck = []\n",
    "        for card in self.deck:\n",
    "            print_deck.append(card.__str__())\n",
    "        return print_deck.__str__()\n",
    "            \n",
    "    def __len__(self):\n",
    "\n",
    "        #Used to confirm length of the deck is 52, and when the deck is empty\n",
    "        return len(self.deck)\n",
    "\n",
    "\n",
    "    def shuffle (self):\n",
    "        \n",
    "        #Used to shuffle the deck upon generation to ensure faireness of gameplay\n",
    "        return random.shuffle(self.deck)\n",
    "\n",
    "    \n",
    "    def remove_card_from_deck(self):\n",
    "\n",
    "        #Remove a card from the top of the deck\n",
    "        return self.deck.pop(0)\n",
    "\n",
    "    \n",
    "    def clear_deck(self):\n",
    "\n",
    "        #Clear deck - mainly used for QA\n",
    "        return self.deck.clear()"
   ]
  },
  {
   "cell_type": "code",
   "execution_count": 218,
   "metadata": {},
   "outputs": [],
   "source": [
    "#Player class - will only initialize 1 player for right now, but each player will have a hand that can add/remove/clear/etc\n",
    "class Player():\n",
    "\n",
    "    def __init__(self,name:str,player_num:int=1,chips:int=100):\n",
    "\n",
    "        #Initialized with Player name and order for future expansion of players\n",
    "        self.name = name\n",
    "        self.player_num = player_num\n",
    "        self.hand = []\n",
    "        self.total_chips = chips\n",
    "\n",
    "\n",
    "    def __str__(self):\n",
    "\n",
    "        #Used for print statements\n",
    "        return str(self.hand)\n",
    "\n",
    "    \n",
    "    def take_card_from_deck(self,card:Card):\n",
    "        \n",
    "        #Used to fill the players hand with cards from the deck\n",
    "        return self.hand.append(card)\n",
    "\n",
    "    \n",
    "    def game_action_bet(self,amount:int=5):\n",
    "\n",
    "        #Allow the player to make a bet and subtract from their total chip amount\n",
    "        self.total_chips -= amount\n",
    "    \n",
    "    \n",
    "    def game_action_stand(self):\n",
    "        pass\n",
    "\n",
    "    def game_action_hit(self):\n",
    "        pass\n",
    "\n",
    "\n",
    "\n",
    "        "
   ]
  },
  {
   "cell_type": "code",
   "execution_count": 219,
   "metadata": {},
   "outputs": [],
   "source": [
    "game_deck = Deck()"
   ]
  },
  {
   "cell_type": "code",
   "execution_count": 220,
   "metadata": {},
   "outputs": [
    {
     "data": {
      "text/plain": [
       "52"
      ]
     },
     "execution_count": 220,
     "metadata": {},
     "output_type": "execute_result"
    }
   ],
   "source": [
    "len(game_deck)"
   ]
  },
  {
   "cell_type": "code",
   "execution_count": 221,
   "metadata": {},
   "outputs": [],
   "source": [
    "mattan = Player('Mattan')"
   ]
  },
  {
   "cell_type": "code",
   "execution_count": 222,
   "metadata": {},
   "outputs": [],
   "source": [
    "mattan.take_card_from_deck(game_deck.remove_card_from_deck())"
   ]
  },
  {
   "cell_type": "code",
   "execution_count": 224,
   "metadata": {},
   "outputs": [],
   "source": [
    "mattan.game_action_bet()"
   ]
  },
  {
   "cell_type": "code",
   "execution_count": 225,
   "metadata": {},
   "outputs": [
    {
     "data": {
      "text/plain": [
       "95"
      ]
     },
     "execution_count": 225,
     "metadata": {},
     "output_type": "execute_result"
    }
   ],
   "source": [
    "mattan.total_chips"
   ]
  },
  {
   "cell_type": "code",
   "execution_count": null,
   "metadata": {},
   "outputs": [],
   "source": []
  }
 ],
 "metadata": {
  "interpreter": {
   "hash": "f08154012ddadd8e950e6e9e035c7a7b32c136e7647e9b7c77e02eb723a8bedb"
  },
  "kernelspec": {
   "display_name": "Python 3.9.7 ('base')",
   "language": "python",
   "name": "python3"
  },
  "language_info": {
   "codemirror_mode": {
    "name": "ipython",
    "version": 3
   },
   "file_extension": ".py",
   "mimetype": "text/x-python",
   "name": "python",
   "nbconvert_exporter": "python",
   "pygments_lexer": "ipython3",
   "version": "3.9.7"
  },
  "orig_nbformat": 4,
  "vscode": {
   "interpreter": {
    "hash": "1cd59fa0472d1cf0b0dd9121a03f228302540410ef93090914148fc6b5399ab4"
   }
  }
 },
 "nbformat": 4,
 "nbformat_minor": 2
}
