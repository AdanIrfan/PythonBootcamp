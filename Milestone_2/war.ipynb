{
 "cells": [
  {
   "cell_type": "markdown",
   "metadata": {},
   "source": [
    "'''\n",
    "\n",
    "This is the card game War. The object of the game is for each player to draw a card from their deck, compare values, \n",
    "and the player with the higher card value places his original card, and his opponents card at the bottom of the victorious players deck (no the public deck).\n",
    "\n",
    "Created by: Mattan Romano 6/9/2022\n",
    "\n",
    "'''"
   ]
  },
  {
   "cell_type": "code",
   "execution_count": 1,
   "metadata": {},
   "outputs": [],
   "source": [
    "#Modules to Import\n",
    "\n",
    "import random #Used in the deck class to shuffle deck\n"
   ]
  },
  {
   "cell_type": "code",
   "execution_count": 2,
   "metadata": {},
   "outputs": [],
   "source": [
    "### Card Attributes ###\n",
    "\n",
    "# Listing out all card suites for iteration\n",
    "card_suites = ['Hearts','Diamonds','Clubs','Spades']\n",
    "\n",
    "# Listing out all card name for iteration\n",
    "card_name = ['Two','Three','Four','Five','Six','Seven','Eight','Nine','Ten','Jack','Queen','King','Ace']\n",
    "\n",
    "# Listing out all card values for ito determine who wins round/WAR situation\n",
    "card_value = {'Two':2, 'Three':3,'Four':4,'Five':5,'Six':6,'Seven':7,'Eight':8,'Nine':9,'Ten':10,'Jack':11,'Queen':12,'King':13,'Ace':14} "
   ]
  },
  {
   "cell_type": "code",
   "execution_count": 3,
   "metadata": {},
   "outputs": [],
   "source": [
    "class Card():\n",
    "\n",
    "    # Creation requires card name & suite\n",
    "    def __init__ (self,name:str,suite:str):\n",
    "        \n",
    "        # Attributes\n",
    "        self.name = name\n",
    "        self.suite = suite\n",
    "        self.value = card_value.get(self.name)\n",
    "\n",
    "\n",
    "    def __str__ (self):\n",
    "\n",
    "        return f\"{self.name} of {self.suite}\""
   ]
  },
  {
   "cell_type": "code",
   "execution_count": 4,
   "metadata": {},
   "outputs": [],
   "source": [
    "class Deck():\n",
    "       \n",
    "    def __init__ (self):\n",
    "\n",
    "        # Attributes\n",
    "        self.card_list = [] # Create empty list upon creation. Will iterate through names/suites to create Card objects for each pair\n",
    "         \n",
    "        print(\"A deck is about to be created\\n\")\n",
    "\n",
    "        # Loop through each card name/suite combination and create a card object\n",
    "        for suite in card_suites:\n",
    "\n",
    "            for name in card_name:\n",
    "                   \n",
    "                created_card = Card(name,suite)\n",
    "                # print(f\"Created card is: {created_card}\")\n",
    "\n",
    "                # Append created card to list - length should be 52\n",
    "                self.card_list.append(created_card)\n",
    "\n",
    "                \n",
    "    def shuffle (self):\n",
    "\n",
    "         # Shuffle the deck so that it is in random order to make it game ready. The shuffle is an in place action so no new list is needed\n",
    "        try:\n",
    "            random.shuffle(self.card_list)\n",
    "        except  :\n",
    "            print(\"Shuffle not succesful\")\n",
    "        else:    \n",
    "            print(\"The deck has been shuffled\\n\")\n",
    "\n",
    "    \n",
    "    def remove_card (self):\n",
    "\n",
    "        # Remove card from top of deck\n",
    "        return self.card_list.pop(0)\n",
    "\n",
    "    def clear_deck (self):\n",
    "\n",
    "        # Clears all cards from deck\n",
    "        self.card_list.clear()\n",
    "        print(f\"Deck has been cleared. Length is: {self.length}\\n\")\n",
    "\n",
    "\n",
    "    def __len__ (self):\n",
    "\n",
    "        # Determine length of the list/deck\n",
    "        return len(self.card_list)\n"
   ]
  },
  {
   "cell_type": "code",
   "execution_count": 5,
   "metadata": {},
   "outputs": [],
   "source": [
    "class Player():\n",
    "\n",
    "    def __init__ (self,name:str,turn_number:int):\n",
    "\n",
    "        # Attributes\n",
    "        self.name = name\n",
    "        self.player_turn = turn_number\n",
    "        self.player_deck = []\n",
    "        \n",
    "    def add_card (self,card:Card):\n",
    "        \n",
    "        # Append a card object to the player list\n",
    "        return self.player_deck.append(card)\n",
    "        print(\"A card has been added to your deck\\n\")\n",
    "\n",
    "    def remove_card (self):\n",
    "\n",
    "        # Remove a card object from the top players list\n",
    "        return self.player_deck.pop(0)\n",
    "        print(\"A card has been removed from your deck\\n\")\n",
    "\n",
    "    def clear_deck (self):\n",
    "\n",
    "        # Removes all cards from the deck\n",
    "        self.player_deck.clear()\n",
    "        # print(f\"Deck has been cleared. Length is: {self.length}\\n\")\n",
    "\n",
    "\n",
    "    def __len__ (self):\n",
    "    \n",
    "        # Determine length of the list/deck\n",
    "        return len(self.player_deck)\n"
   ]
  },
  {
   "cell_type": "code",
   "execution_count": 6,
   "metadata": {},
   "outputs": [
    {
     "name": "stdout",
     "output_type": "stream",
     "text": [
      "The Game Is About To Start\n",
      "\n",
      "..........................\n"
     ]
    }
   ],
   "source": [
    "# GAME START\n",
    "print(\"The Game Is About To Start\\n\")\n",
    "print(\"..........................\")"
   ]
  },
  {
   "cell_type": "code",
   "execution_count": 7,
   "metadata": {},
   "outputs": [
    {
     "name": "stdout",
     "output_type": "stream",
     "text": [
      "First we need to establish who is playing the game.\n",
      "\n",
      "Can the first player enter their name\n",
      "\n",
      "Thank you for that Mattan\n",
      "\n",
      "Can the second player enter their name\n",
      "\n",
      "Thank you for that Torrey\n",
      "\n"
     ]
    }
   ],
   "source": [
    "print(\"First we need to establish who is playing the game.\\n\")\n",
    "\n",
    "# Player One section\n",
    "print(\"Can the first player enter their name\\n\")\n",
    "player_1_name = input(\"Player One what is your name?\\n\")\n",
    "player_1 = Player(player_1_name,1)\n",
    "print(f\"Thank you for that {player_1_name}\\n\")\n",
    "\n",
    "\n",
    "# Player Two section\n",
    "print(\"Can the second player enter their name\\n\")\n",
    "player_2_name = input(\"Player Two what is your name?\\n\")\n",
    "player_2 = Player(player_2_name,2)\n",
    "print(f\"Thank you for that {player_2_name}\\n\")\n",
    "\n",
    "\n"
   ]
  },
  {
   "cell_type": "code",
   "execution_count": 84,
   "metadata": {},
   "outputs": [
    {
     "name": "stdout",
     "output_type": "stream",
     "text": [
      "Let's create a game deck in order to start playing.\n",
      "\n",
      "A deck is about to be created\n",
      "\n",
      "The deck has been shuffled\n",
      "\n",
      "The deck has been shuffled\n",
      "\n",
      "The deck has been shuffled\n",
      "\n",
      "The deck has been shuffled\n",
      "\n",
      "The deck has been shuffled\n",
      "\n",
      "The deck has been shuffled\n",
      "\n",
      "The deck has been shuffled\n",
      "\n",
      "The deck has been shuffled\n",
      "\n",
      "The deck has been shuffled\n",
      "\n",
      "The deck has been shuffled\n",
      "\n",
      "We are now ready to start the game.\n",
      "\n",
      "Each player will have 7 cards dealt.\n",
      "\n"
     ]
    }
   ],
   "source": [
    "# Building the deck\n",
    "print(\"Let's create a game deck in order to start playing.\\n\")\n",
    "game_deck = Deck()\n",
    "\n",
    "# Shuffling the deck\n",
    "for shuffle in range (10):\n",
    "    game_deck.shuffle()\n",
    "\n",
    "# Checking to see if deck is 52 cards\n",
    "try:\n",
    "    if len(game_deck) == 52:\n",
    "      print(\"We are now ready to start the game.\\n\")\n",
    "      print(\"Each player will have 7 cards dealt.\\n\")\n",
    "except:\n",
    "    print(\"Deck is not 52 cards. Error with deck creation.\")\n",
    "    \n",
    "\n",
    "# Ensuring the players don't already have cards in the deck on reboot of game\n",
    "player_1.clear_deck()\n",
    "player_2.clear_deck()\n"
   ]
  },
  {
   "cell_type": "code",
   "execution_count": 87,
   "metadata": {},
   "outputs": [
    {
     "name": "stdout",
     "output_type": "stream",
     "text": [
      "7\n",
      "7\n",
      "38\n"
     ]
    }
   ],
   "source": [
    "print(len(player_1))\n",
    "print(len(player_2))\n",
    "print(len(game_deck))\n"
   ]
  },
  {
   "cell_type": "code",
   "execution_count": 86,
   "metadata": {},
   "outputs": [],
   "source": [
    "# Dealing 7 cards to Players\n",
    "while len(player_1) < 7 and len(player_2) < 7:\n",
    "    try:\n",
    "        player_1.add_card(game_deck.remove_card())\n",
    "        player_2.add_card(game_deck.remove_card())\n",
    "        # print(player_1.name,\"has a list length of\",len(player_1))\n",
    "        # print(player_2.name,\"has a list length of\",len(player_2))\n",
    "    except:\n",
    "        print(\"Unable to remove card from deck. Confirm that there are cards in the deck.\\n\")    \n",
    "\n"
   ]
  },
  {
   "cell_type": "code",
   "execution_count": 88,
   "metadata": {},
   "outputs": [
    {
     "name": "stdout",
     "output_type": "stream",
     "text": [
      "Players be ready to show your cards!\n",
      "\n",
      "Player One presents: Queen of Diamonds\n",
      " Player Two presents: Two of Clubs\n",
      "\n",
      "Mattan wins!\n",
      "\n",
      "Mattan list length is: 7\n",
      "Players be ready to show your cards!\n",
      "\n",
      "Player One presents: Queen of Hearts\n",
      " Player Two presents: Ten of Hearts\n",
      "\n",
      "Mattan wins!\n",
      "\n",
      "Mattan list length is: 7\n",
      "Players be ready to show your cards!\n",
      "\n",
      "Player One presents: Four of Hearts\n",
      " Player Two presents: Ace of Hearts\n",
      "\n",
      "Torrey wins!\n",
      "\n",
      "Players be ready to show your cards!\n",
      "\n",
      "Player One presents: Three of Hearts\n",
      " Player Two presents: Three of Diamonds\n",
      "\n",
      "WAR WAR WAR WAR WAR WAR WAR WAR\n",
      "Players be ready to show your cards!\n",
      "\n",
      "Player One presents: Three of Clubs\n",
      " Player Two presents: Jack of Diamonds\n",
      "\n",
      "Torrey wins!\n",
      "\n",
      "Players be ready to show your cards!\n",
      "\n",
      "Player One presents: Four of Diamonds\n",
      " Player Two presents: Nine of Spades\n",
      "\n",
      "Torrey wins!\n",
      "\n",
      "Players be ready to show your cards!\n",
      "\n",
      "Player One presents: Six of Diamonds\n",
      " Player Two presents: Queen of Spades\n",
      "\n",
      "Torrey wins!\n",
      "\n",
      "Players be ready to show your cards!\n",
      "\n",
      "Player One presents: Two of Clubs\n",
      " Player Two presents: Four of Hearts\n",
      "\n",
      "Torrey wins!\n",
      "\n",
      "Players be ready to show your cards!\n",
      "\n",
      "Player One presents: Ten of Hearts\n",
      " Player Two presents: Three of Clubs\n",
      "\n",
      "Mattan wins!\n",
      "\n",
      "Mattan list length is: 1\n",
      "Players be ready to show your cards!\n",
      "\n",
      "Player One presents: Three of Clubs\n",
      " Player Two presents: Four of Diamonds\n",
      "\n",
      "Torrey wins!\n",
      "\n"
     ]
    }
   ],
   "source": [
    "# Game can only exist while the players have cards\n",
    "while len(player_1.player_deck) > 0 and len(player_2.player_deck) > 0:\n",
    "\n",
    "    print(\"Players be ready to show your cards!\\n\")\n",
    "\n",
    "\n",
    "    # Removing card from each players deck\n",
    "    player_1_card = player_1.remove_card()\n",
    "    player_2_card = player_2.remove_card()\n",
    "\n",
    "    print(f\"Player One presents: {player_1_card}\\n Player Two presents: {player_2_card}\\n\")\n",
    "\n",
    "    #Comparing player card values\n",
    "\n",
    "    if player_1_card.value > player_2_card.value:\n",
    "        print(f\"{player_1.name} wins!\\n\")\n",
    "\n",
    "        player_1.player_deck.append(player_2_card)\n",
    "        print(player_1.name,\"list length is:\",len(player_1))\n",
    "    \n",
    "    elif player_1_card.value == player_2_card.value:\n",
    "        print(\"WAR WAR WAR WAR WAR WAR WAR WAR\")\n",
    "\n",
    "        # WAR SITUATION\n",
    "\n",
    "       \n",
    "\n",
    "    \n",
    "    else:\n",
    "        print(f\"{player_2.name} wins!\\n\")\n",
    "        player_2.player_deck.append(player_1_card)\n",
    "\n",
    "\n",
    "\n",
    "\n",
    "    "
   ]
  },
  {
   "cell_type": "code",
   "execution_count": null,
   "metadata": {},
   "outputs": [],
   "source": []
  },
  {
   "cell_type": "code",
   "execution_count": null,
   "metadata": {},
   "outputs": [],
   "source": []
  },
  {
   "cell_type": "code",
   "execution_count": null,
   "metadata": {},
   "outputs": [],
   "source": []
  }
 ],
 "metadata": {
  "interpreter": {
   "hash": "1cd59fa0472d1cf0b0dd9121a03f228302540410ef93090914148fc6b5399ab4"
  },
  "kernelspec": {
   "display_name": "Python 3.8.8 ('base')",
   "language": "python",
   "name": "python3"
  },
  "language_info": {
   "codemirror_mode": {
    "name": "ipython",
    "version": 3
   },
   "file_extension": ".py",
   "mimetype": "text/x-python",
   "name": "python",
   "nbconvert_exporter": "python",
   "pygments_lexer": "ipython3",
   "version": "3.8.8"
  },
  "orig_nbformat": 4
 },
 "nbformat": 4,
 "nbformat_minor": 2
}
