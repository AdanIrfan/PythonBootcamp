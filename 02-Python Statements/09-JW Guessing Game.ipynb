{
 "cells": [
  {
   "cell_type": "code",
   "execution_count": 1,
   "metadata": {},
   "outputs": [
    {
     "output_type": "stream",
     "name": "stdout",
     "text": "I'm thinking of a number between 1 and 100. \nPick a number between 1 and 100. \nIf your first guess is within 10 you will be told WARM, but if not you will be told COLD. \nIf your next guess is closer the prompt will be WARMER, but if not it will be colder\n20\n"
    }
   ],
   "source": [
    "import random\n",
    "answer = random.randint(1, 100)\n",
    "rules = 'I\\'m thinking of a number between 1 and 100. \\nPick a number between 1 and 100. \\nIf your first guess is within 10 you will be told WARM, but if not you will be told COLD. \\nIf your next guess is closer the prompt will be WARMER, but if not it will be colder'\n",
    "print (rules)\n",
    "print(answer)"
   ]
  },
  {
   "cell_type": "code",
   "execution_count": 2,
   "metadata": {},
   "outputs": [],
   "source": [
    "guesses = [0]"
   ]
  },
  {
   "cell_type": "code",
   "execution_count": 3,
   "metadata": {},
   "outputs": [
    {
     "output_type": "stream",
     "name": "stdout",
     "text": "10 WARM\nI'm thinking of a number between 1 and 100. What is it? \n"
    },
    {
     "output_type": "error",
     "ename": "ValueError",
     "evalue": "invalid literal for int() with base 10: ''",
     "traceback": [
      "\u001b[1;31m---------------------------------------------------------------------------\u001b[0m",
      "\u001b[1;31mValueError\u001b[0m                                Traceback (most recent call last)",
      "\u001b[1;32m<ipython-input-3-8e11199a8de1>\u001b[0m in \u001b[0;36m<module>\u001b[1;34m\u001b[0m\n\u001b[0;32m      1\u001b[0m \u001b[1;32mwhile\u001b[0m \u001b[1;32mTrue\u001b[0m\u001b[1;33m:\u001b[0m\u001b[1;33m\u001b[0m\u001b[1;33m\u001b[0m\u001b[0m\n\u001b[0;32m      2\u001b[0m \u001b[1;33m\u001b[0m\u001b[0m\n\u001b[1;32m----> 3\u001b[1;33m     \u001b[0mguess\u001b[0m \u001b[1;33m=\u001b[0m \u001b[0mint\u001b[0m\u001b[1;33m(\u001b[0m\u001b[0minput\u001b[0m\u001b[1;33m(\u001b[0m\u001b[1;34m'I\\'m thinking of a number between 1 and 100. What is it? '\u001b[0m\u001b[1;33m)\u001b[0m\u001b[1;33m)\u001b[0m\u001b[1;33m\u001b[0m\u001b[1;33m\u001b[0m\u001b[0m\n\u001b[0m\u001b[0;32m      4\u001b[0m \u001b[1;33m\u001b[0m\u001b[0m\n\u001b[0;32m      5\u001b[0m     \u001b[1;32mif\u001b[0m \u001b[0mguess\u001b[0m \u001b[1;33m<\u001b[0m \u001b[1;36m1\u001b[0m \u001b[1;32mor\u001b[0m \u001b[0mguess\u001b[0m \u001b[1;33m>\u001b[0m \u001b[1;36m100\u001b[0m\u001b[1;33m:\u001b[0m\u001b[1;33m\u001b[0m\u001b[1;33m\u001b[0m\u001b[0m\n",
      "\u001b[1;31mValueError\u001b[0m: invalid literal for int() with base 10: ''"
     ]
    }
   ],
   "source": [
    "while True:\n",
    "\n",
    "    guess = int(input('I\\'m thinking of a number between 1 and 100. What is it? '))\n",
    "\n",
    "    if guess < 1 or guess > 100:\n",
    "        print('OUT OF BOUNDS! Please try again: ')\n",
    "        continue\n",
    "\n",
    "    elif guess == answer:\n",
    "        print('Awwwww you got me! The number I was thinking of was ' + str(answer))\n",
    "        break\n",
    "\n",
    "    elif guess != answer:\n",
    "        guesses = guesses + [guess]\n",
    "        if len(guesses) == 2 and abs(answer-guess) > 10:\n",
    "            print('COLD')\n",
    "            print('I\\'m thinking of a number between 1 and 100. What is it? ')\n",
    "        elif len(guesses) == 2 and abs(answer-guess) <= 10:\n",
    "            print('WARM')\n",
    "        elif len(guesses) > 2 and (abs(answer-guesses[-2]) > abs(answer-guesses[-1])):\n",
    "            print('WARMER')\n",
    "        elif len(guesses) > 2 and (abs(answer-guesses[-2]) < abs(answer-guesses[-1])):\n",
    "            print('COLDER')\n",
    "            continue\n",
    "        else:\n",
    "            print(guesses)\n",
    "            print('ERROR')\n",
    "            \n",
    "            break"
   ]
  },
  {
   "cell_type": "code",
   "execution_count": null,
   "metadata": {},
   "outputs": [],
   "source": []
  }
 ],
 "metadata": {
  "language_info": {
   "codemirror_mode": {
    "name": "ipython",
    "version": 3
   },
   "file_extension": ".py",
   "mimetype": "text/x-python",
   "name": "python",
   "nbconvert_exporter": "python",
   "pygments_lexer": "ipython3",
   "version": "3.8.3-final"
  },
  "orig_nbformat": 2,
  "kernelspec": {
   "name": "python38332bit9437223f4a714f0ea43992d322650c38",
   "display_name": "Python 3.8.3 32-bit"
  }
 },
 "nbformat": 4,
 "nbformat_minor": 2
}