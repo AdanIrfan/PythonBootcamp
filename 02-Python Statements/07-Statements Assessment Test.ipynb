{
 "cells": [
  {
   "cell_type": "markdown",
   "metadata": {},
   "source": [
    "___\n",
    "\n",
    "<a href='https://www.udemy.com/user/joseportilla/'><img src='../Pierian_Data_Logo.png'/></a>\n",
    "___\n",
    "<center><em>Content Copyright by Pierian Data</em></center>"
   ]
  },
  {
   "cell_type": "markdown",
   "metadata": {
    "collapsed": true
   },
   "source": [
    "# Statements Assessment Test\n",
    "Let's test your knowledge!"
   ]
  },
  {
   "cell_type": "markdown",
   "metadata": {},
   "source": [
    "_____\n",
    "**Use <code>for</code>, .split(), and <code>if</code> to create a Statement that will print out words that start with 's':**"
   ]
  },
  {
   "cell_type": "code",
   "execution_count": 2,
   "metadata": {
    "collapsed": true
   },
   "outputs": [],
   "source": [
    "st = 'Print only the words that start with s in this sentence'"
   ]
  },
  {
   "cell_type": "code",
   "execution_count": 5,
   "metadata": {
    "collapsed": true
   },
   "outputs": [
    {
     "name": "stdout",
     "output_type": "stream",
     "text": [
      "start\n",
      "s\n",
      "sentence\n"
     ]
    }
   ],
   "source": [
    "#Code here\n",
    "new_st = st.split()\n",
    "\n",
    "for word in new_st:\n",
    "    if word [0] == 's':\n",
    "        print(word)\n"
   ]
  },
  {
   "cell_type": "markdown",
   "metadata": {},
   "source": [
    "______\n",
    "**Use range() to print all the even numbers from 0 to 10.**"
   ]
  },
  {
   "cell_type": "code",
   "execution_count": 6,
   "metadata": {
    "collapsed": true
   },
   "outputs": [
    {
     "name": "stdout",
     "output_type": "stream",
     "text": [
      "[0, 2, 4, 6, 8, 10]\n"
     ]
    }
   ],
   "source": [
    "#Code Here\n",
    "evenNum = list(range(0,11,2))\n",
    "print(evenNum)"
   ]
  },
  {
   "cell_type": "markdown",
   "metadata": {},
   "source": [
    "___\n",
    "**Use a List Comprehension to create a list of all numbers between 1 and 50 that are divisible by 3.**"
   ]
  },
  {
   "cell_type": "code",
   "execution_count": 13,
   "metadata": {
    "collapsed": true
   },
   "outputs": [
    {
     "data": {
      "text/plain": [
       "[3, 6, 9, 12, 15, 18, 21, 24, 27, 30, 33, 36, 39, 42, 45, 48]"
      ]
     },
     "execution_count": 13,
     "metadata": {},
     "output_type": "execute_result"
    }
   ],
   "source": [
    "#Code in this cell\n",
    "three_list = [x for x in range(1,51) if x %3 == 0 ]\n",
    "three_list"
   ]
  },
  {
   "cell_type": "markdown",
   "metadata": {},
   "source": [
    "_____\n",
    "**Go through the string below and if the length of a word is even print \"even!\"**"
   ]
  },
  {
   "cell_type": "code",
   "execution_count": 24,
   "metadata": {
    "collapsed": true
   },
   "outputs": [],
   "source": [
    "st = 'Print every word in this sentence that has an even number of letters'"
   ]
  },
  {
   "cell_type": "code",
   "execution_count": 28,
   "metadata": {
    "collapsed": true
   },
   "outputs": [
    {
     "name": "stdout",
     "output_type": "stream",
     "text": [
      "4\n",
      "word\n",
      "\n",
      "2\n",
      "in\n",
      "\n",
      "4\n",
      "this\n",
      "\n",
      "8\n",
      "sentence\n",
      "\n",
      "4\n",
      "that\n",
      "\n",
      "2\n",
      "an\n",
      "\n",
      "4\n",
      "even\n",
      "\n",
      "6\n",
      "number\n",
      "\n",
      "2\n",
      "of\n",
      "\n"
     ]
    }
   ],
   "source": [
    "#Code in this cell\n",
    "word_len = int()\n",
    "new_st = st.split()\n",
    "\n",
    "for word in new_st:\n",
    "    if len(word) % 2 == 0:\n",
    "        print(len(word))\n",
    "        print(f\"{word}\\n\")\n",
    "    else:\n",
    "        pass\n",
    "    "
   ]
  },
  {
   "cell_type": "markdown",
   "metadata": {},
   "source": [
    "____\n",
    "**Write a program that prints the integers from 1 to 100. But for multiples of three print \"Fizz\" instead of the number, and for the multiples of five print \"Buzz\". For numbers which are multiples of both three and five print \"FizzBuzz\".**"
   ]
  },
  {
   "cell_type": "code",
   "execution_count": 36,
   "metadata": {
    "collapsed": true
   },
   "outputs": [
    {
     "name": "stdout",
     "output_type": "stream",
     "text": [
      "1\n",
      "2\n",
      "The number 3 is a multiple of 3 - 'Fizz'\n",
      "4\n",
      "The number 5 is a multiple of 5 - 'Buzz'\n",
      "The number 6 is a multiple of 3 - 'Fizz'\n",
      "7\n",
      "8\n",
      "The number 9 is a multiple of 3 - 'Fizz'\n",
      "The number 10 is a multiple of 5 - 'Buzz'\n",
      "11\n",
      "The number 12 is a multiple of 3 - 'Fizz'\n",
      "13\n",
      "14\n",
      "The number 15 is a multiple of 3 & 5 - 'FizzBuzz'\n",
      "16\n",
      "17\n",
      "The number 18 is a multiple of 3 - 'Fizz'\n",
      "19\n",
      "The number 20 is a multiple of 5 - 'Buzz'\n",
      "The number 21 is a multiple of 3 - 'Fizz'\n",
      "22\n",
      "23\n",
      "The number 24 is a multiple of 3 - 'Fizz'\n",
      "The number 25 is a multiple of 5 - 'Buzz'\n",
      "26\n",
      "The number 27 is a multiple of 3 - 'Fizz'\n",
      "28\n",
      "29\n",
      "The number 30 is a multiple of 3 & 5 - 'FizzBuzz'\n",
      "31\n",
      "32\n",
      "The number 33 is a multiple of 3 - 'Fizz'\n",
      "34\n",
      "The number 35 is a multiple of 5 - 'Buzz'\n",
      "The number 36 is a multiple of 3 - 'Fizz'\n",
      "37\n",
      "38\n",
      "The number 39 is a multiple of 3 - 'Fizz'\n",
      "The number 40 is a multiple of 5 - 'Buzz'\n",
      "41\n",
      "The number 42 is a multiple of 3 - 'Fizz'\n",
      "43\n",
      "44\n",
      "The number 45 is a multiple of 3 & 5 - 'FizzBuzz'\n",
      "46\n",
      "47\n",
      "The number 48 is a multiple of 3 - 'Fizz'\n",
      "49\n",
      "The number 50 is a multiple of 5 - 'Buzz'\n",
      "The number 51 is a multiple of 3 - 'Fizz'\n",
      "52\n",
      "53\n",
      "The number 54 is a multiple of 3 - 'Fizz'\n",
      "The number 55 is a multiple of 5 - 'Buzz'\n",
      "56\n",
      "The number 57 is a multiple of 3 - 'Fizz'\n",
      "58\n",
      "59\n",
      "The number 60 is a multiple of 3 & 5 - 'FizzBuzz'\n",
      "61\n",
      "62\n",
      "The number 63 is a multiple of 3 - 'Fizz'\n",
      "64\n",
      "The number 65 is a multiple of 5 - 'Buzz'\n",
      "The number 66 is a multiple of 3 - 'Fizz'\n",
      "67\n",
      "68\n",
      "The number 69 is a multiple of 3 - 'Fizz'\n",
      "The number 70 is a multiple of 5 - 'Buzz'\n",
      "71\n",
      "The number 72 is a multiple of 3 - 'Fizz'\n",
      "73\n",
      "74\n",
      "The number 75 is a multiple of 3 & 5 - 'FizzBuzz'\n",
      "76\n",
      "77\n",
      "The number 78 is a multiple of 3 - 'Fizz'\n",
      "79\n",
      "The number 80 is a multiple of 5 - 'Buzz'\n",
      "The number 81 is a multiple of 3 - 'Fizz'\n",
      "82\n",
      "83\n",
      "The number 84 is a multiple of 3 - 'Fizz'\n",
      "The number 85 is a multiple of 5 - 'Buzz'\n",
      "86\n",
      "The number 87 is a multiple of 3 - 'Fizz'\n",
      "88\n",
      "89\n",
      "The number 90 is a multiple of 3 & 5 - 'FizzBuzz'\n",
      "91\n",
      "92\n",
      "The number 93 is a multiple of 3 - 'Fizz'\n",
      "94\n",
      "The number 95 is a multiple of 5 - 'Buzz'\n",
      "The number 96 is a multiple of 3 - 'Fizz'\n",
      "97\n",
      "98\n",
      "The number 99 is a multiple of 3 - 'Fizz'\n",
      "The number 100 is a multiple of 5 - 'Buzz'\n"
     ]
    }
   ],
   "source": [
    "#Code in this cell\n",
    "mylist = list(range(1,101))\n",
    "\n",
    "for num in mylist:\n",
    "    if num % 3 == 0 and num % 5 != 0:\n",
    "        print(f\"The number {num} is a multiple of 3 - 'Fizz'\")\n",
    "    elif num % 5 == 0 and num % 3 != 0:\n",
    "        print(f\"The number {num} is a multiple of 5 - 'Buzz'\")\n",
    "    elif num % 3 == 0 and num % 5 == 0:\n",
    "        print(f\"The number {num} is a multiple of 3 & 5 - 'FizzBuzz'\")\n",
    "    else:\n",
    "        print(num)"
   ]
  },
  {
   "cell_type": "markdown",
   "metadata": {},
   "source": [
    "____\n",
    "**Use List Comprehension to create a list of the first letters of every word in the string below:**"
   ]
  },
  {
   "cell_type": "code",
   "execution_count": 42,
   "metadata": {
    "collapsed": true
   },
   "outputs": [],
   "source": [
    "st = 'Create a list of the first letters of every word in this string'"
   ]
  },
  {
   "cell_type": "code",
   "execution_count": 53,
   "metadata": {
    "collapsed": true
   },
   "outputs": [
    {
     "data": {
      "text/plain": [
       "['C', 'a', 'l', 'o', 't', 'f', 'l', 'o', 'e', 'w', 'i', 't', 's']"
      ]
     },
     "execution_count": 53,
     "metadata": {},
     "output_type": "execute_result"
    }
   ],
   "source": [
    "st_split = st.split()\n",
    "new_st = [x[0] for x in st_split]\n",
    "new_st"
   ]
  },
  {
   "cell_type": "markdown",
   "metadata": {},
   "source": [
    "### Great Job!"
   ]
  }
 ],
 "metadata": {
  "kernelspec": {
   "display_name": "Python 3",
   "language": "python",
   "name": "python3"
  },
  "language_info": {
   "codemirror_mode": {
    "name": "ipython",
    "version": 3
   },
   "file_extension": ".py",
   "mimetype": "text/x-python",
   "name": "python",
   "nbconvert_exporter": "python",
   "pygments_lexer": "ipython3",
   "version": "3.8.8"
  }
 },
 "nbformat": 4,
 "nbformat_minor": 1
}
