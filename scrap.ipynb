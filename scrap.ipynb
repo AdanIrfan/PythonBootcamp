{
 "cells": [
  {
   "cell_type": "code",
   "execution_count": 1,
   "metadata": {},
   "outputs": [],
   "source": [
    "arr = [1,2,3]"
   ]
  },
  {
   "cell_type": "code",
   "execution_count": 2,
   "metadata": {},
   "outputs": [
    {
     "data": {
      "text/plain": [
       "6"
      ]
     },
     "execution_count": 2,
     "metadata": {},
     "output_type": "execute_result"
    }
   ],
   "source": [
    "sum(arr)"
   ]
  },
  {
   "cell_type": "code",
   "execution_count": 3,
   "metadata": {},
   "outputs": [
    {
     "data": {
      "text/plain": [
       "range(3, 3, 2)"
      ]
     },
     "execution_count": 3,
     "metadata": {},
     "output_type": "execute_result"
    }
   ],
   "source": [
    "range(3,3,2)"
   ]
  },
  {
   "cell_type": "code",
   "execution_count": 5,
   "metadata": {},
   "outputs": [
    {
     "data": {
      "text/plain": [
       "[]"
      ]
     },
     "execution_count": 5,
     "metadata": {},
     "output_type": "execute_result"
    }
   ],
   "source": [
    "list(range(3,3,2))"
   ]
  },
  {
   "cell_type": "code",
   "execution_count": 24,
   "metadata": {},
   "outputs": [],
   "source": [
    "def count_primes(num):\n",
    "    primes = [2]\n",
    "    x = 3\n",
    "    if num < 2:  # for the case of num = 0 or 1\n",
    "        return 0\n",
    "    while x <= num:\n",
    "        \n",
    "        for y in range(3,x,2):  # test all odd factors up to x-1\n",
    "            print(f'for loop entered y is {y}')\n",
    "            if x%y == 0:\n",
    "                print (f'x mod y is TRUE {x} mod {y}')\n",
    "                x += 2\n",
    "                break\n",
    "        else:\n",
    "            primes.append(x)\n",
    "            x += 2\n",
    "    print(primes)\n",
    "    return len(primes)\n",
    "                "
   ]
  },
  {
   "cell_type": "code",
   "execution_count": 26,
   "metadata": {},
   "outputs": [
    {
     "name": "stdout",
     "output_type": "stream",
     "text": [
      "while loop entered x is 3\n",
      "while loop entered x is 5\n",
      "for loop entered y is 3\n",
      "while loop entered x is 7\n",
      "for loop entered y is 3\n",
      "for loop entered y is 5\n",
      "while loop entered x is 9\n",
      "for loop entered y is 3\n",
      "x mod y is TRUE 9 mod 3\n",
      "while loop entered x is 11\n",
      "for loop entered y is 3\n",
      "for loop entered y is 5\n",
      "for loop entered y is 7\n",
      "for loop entered y is 9\n",
      "while loop entered x is 13\n",
      "for loop entered y is 3\n",
      "for loop entered y is 5\n",
      "for loop entered y is 7\n",
      "for loop entered y is 9\n",
      "for loop entered y is 11\n",
      "while loop entered x is 15\n",
      "for loop entered y is 3\n",
      "x mod y is TRUE 15 mod 3\n",
      "while loop entered x is 17\n",
      "for loop entered y is 3\n",
      "for loop entered y is 5\n",
      "for loop entered y is 7\n",
      "for loop entered y is 9\n",
      "for loop entered y is 11\n",
      "for loop entered y is 13\n",
      "for loop entered y is 15\n",
      "while loop entered x is 19\n",
      "for loop entered y is 3\n",
      "for loop entered y is 5\n",
      "for loop entered y is 7\n",
      "for loop entered y is 9\n",
      "for loop entered y is 11\n",
      "for loop entered y is 13\n",
      "for loop entered y is 15\n",
      "for loop entered y is 17\n",
      "while loop entered x is 21\n",
      "for loop entered y is 3\n",
      "x mod y is TRUE 21 mod 3\n",
      "[2, 3, 5, 7, 11, 13, 17, 19]\n"
     ]
    },
    {
     "data": {
      "text/plain": [
       "8"
      ]
     },
     "execution_count": 26,
     "metadata": {},
     "output_type": "execute_result"
    }
   ],
   "source": [
    "count_primes(21)"
   ]
  },
  {
   "cell_type": "code",
   "execution_count": 12,
   "metadata": {},
   "outputs": [
    {
     "name": "stdout",
     "output_type": "stream",
     "text": [
      "hello 7\n"
     ]
    }
   ],
   "source": [
    "print('hello ' + str(7))"
   ]
  },
  {
   "cell_type": "code",
   "execution_count": 27,
   "metadata": {},
   "outputs": [
    {
     "name": "stdout",
     "output_type": "stream",
     "text": [
      "y is 3 and the range is range(3, 100, 2)\n",
      "y is 5 and the range is range(3, 100, 2)\n",
      "y is 7 and the range is range(3, 100, 2)\n",
      "y is 9 and the range is range(3, 100, 2)\n",
      "y is 11 and the range is range(3, 100, 2)\n",
      "y is 13 and the range is range(3, 100, 2)\n",
      "y is 15 and the range is range(3, 100, 2)\n",
      "y is 17 and the range is range(3, 100, 2)\n",
      "y is 19 and the range is range(3, 100, 2)\n",
      "y is 21 and the range is range(3, 100, 2)\n",
      "y is 23 and the range is range(3, 100, 2)\n",
      "y is 25 and the range is range(3, 100, 2)\n",
      "y is 27 and the range is range(3, 100, 2)\n",
      "y is 29 and the range is range(3, 100, 2)\n",
      "y is 31 and the range is range(3, 100, 2)\n",
      "y is 33 and the range is range(3, 100, 2)\n",
      "y is 35 and the range is range(3, 100, 2)\n",
      "y is 37 and the range is range(3, 100, 2)\n",
      "y is 39 and the range is range(3, 100, 2)\n",
      "y is 41 and the range is range(3, 100, 2)\n",
      "y is 43 and the range is range(3, 100, 2)\n",
      "y is 45 and the range is range(3, 100, 2)\n",
      "y is 47 and the range is range(3, 100, 2)\n",
      "y is 49 and the range is range(3, 100, 2)\n",
      "y is 51 and the range is range(3, 100, 2)\n",
      "y is 53 and the range is range(3, 100, 2)\n",
      "y is 55 and the range is range(3, 100, 2)\n",
      "y is 57 and the range is range(3, 100, 2)\n",
      "y is 59 and the range is range(3, 100, 2)\n",
      "y is 61 and the range is range(3, 100, 2)\n",
      "y is 63 and the range is range(3, 100, 2)\n",
      "y is 65 and the range is range(3, 100, 2)\n",
      "y is 67 and the range is range(3, 100, 2)\n",
      "y is 69 and the range is range(3, 100, 2)\n",
      "y is 71 and the range is range(3, 100, 2)\n",
      "y is 73 and the range is range(3, 100, 2)\n",
      "y is 75 and the range is range(3, 100, 2)\n",
      "y is 77 and the range is range(3, 100, 2)\n",
      "y is 79 and the range is range(3, 100, 2)\n",
      "y is 81 and the range is range(3, 100, 2)\n",
      "y is 83 and the range is range(3, 100, 2)\n",
      "y is 85 and the range is range(3, 100, 2)\n",
      "y is 87 and the range is range(3, 100, 2)\n",
      "y is 89 and the range is range(3, 100, 2)\n",
      "y is 91 and the range is range(3, 100, 2)\n",
      "y is 93 and the range is range(3, 100, 2)\n",
      "y is 95 and the range is range(3, 100, 2)\n",
      "y is 97 and the range is range(3, 100, 2)\n",
      "y is 99 and the range is range(3, 100, 2)\n"
     ]
    }
   ],
   "source": [
    "for y in range(3,100,2):\n",
    "\n",
    "    print(f'y is {y} and the range is ' + str(range(3,100,2)))"
   ]
  },
  {
   "cell_type": "code",
   "execution_count": 31,
   "metadata": {},
   "outputs": [],
   "source": [
    "def num_sum(*args):\n",
    "\n",
    "    return sum(args)"
   ]
  },
  {
   "cell_type": "code",
   "execution_count": 32,
   "metadata": {},
   "outputs": [
    {
     "data": {
      "text/plain": [
       "9"
      ]
     },
     "execution_count": 32,
     "metadata": {},
     "output_type": "execute_result"
    }
   ],
   "source": [
    "num_sum(2,3,4)"
   ]
  },
  {
   "cell_type": "code",
   "execution_count": 33,
   "metadata": {},
   "outputs": [],
   "source": [
    "s ='mattan'"
   ]
  },
  {
   "cell_type": "code",
   "execution_count": 35,
   "metadata": {},
   "outputs": [
    {
     "data": {
      "text/plain": [
       "False"
      ]
     },
     "execution_count": 35,
     "metadata": {},
     "output_type": "execute_result"
    }
   ],
   "source": [
    "s.isupper()"
   ]
  },
  {
   "cell_type": "code",
   "execution_count": 36,
   "metadata": {},
   "outputs": [
    {
     "name": "stdout",
     "output_type": "stream",
     "text": [
      "m\n",
      "a\n",
      "t\n",
      "t\n",
      "a\n",
      "n\n"
     ]
    }
   ],
   "source": [
    "for char in s:\n",
    "    print(char)"
   ]
  },
  {
   "cell_type": "code",
   "execution_count": 37,
   "metadata": {},
   "outputs": [],
   "source": [
    "d = {'first' : 'Mattan', 'last' : 'Romano', 'age' : 28}"
   ]
  },
  {
   "cell_type": "code",
   "execution_count": 38,
   "metadata": {},
   "outputs": [],
   "source": [
    "d ['weight'] = 185"
   ]
  },
  {
   "cell_type": "code",
   "execution_count": 39,
   "metadata": {},
   "outputs": [
    {
     "data": {
      "text/plain": [
       "{'first': 'Mattan', 'last': 'Romano', 'age': 28, 'weight': 185}"
      ]
     },
     "execution_count": 39,
     "metadata": {},
     "output_type": "execute_result"
    }
   ],
   "source": [
    "d"
   ]
  },
  {
   "cell_type": "code",
   "execution_count": 40,
   "metadata": {},
   "outputs": [
    {
     "data": {
      "text/plain": [
       "dict_values(['Mattan', 'Romano', 28, 185])"
      ]
     },
     "execution_count": 40,
     "metadata": {},
     "output_type": "execute_result"
    }
   ],
   "source": [
    "d.values()"
   ]
  },
  {
   "cell_type": "code",
   "execution_count": 41,
   "metadata": {},
   "outputs": [
    {
     "data": {
      "text/plain": [
       "dict_items([('first', 'Mattan'), ('last', 'Romano'), ('age', 28), ('weight', 185)])"
      ]
     },
     "execution_count": 41,
     "metadata": {},
     "output_type": "execute_result"
    }
   ],
   "source": [
    "d.items()"
   ]
  },
  {
   "cell_type": "code",
   "execution_count": 42,
   "metadata": {},
   "outputs": [
    {
     "data": {
      "text/plain": [
       "{'first': 'Mattan', 'last': 'Romano', 'age': 28, 'weight': 185}"
      ]
     },
     "execution_count": 42,
     "metadata": {},
     "output_type": "execute_result"
    }
   ],
   "source": [
    "d"
   ]
  },
  {
   "cell_type": "code",
   "execution_count": 46,
   "metadata": {},
   "outputs": [
    {
     "name": "stdout",
     "output_type": "stream",
     "text": [
      "The key is first\n",
      "The value is Mattan\n",
      "The key is last\n",
      "The value is Romano\n",
      "The key is age\n",
      "The value is 28\n",
      "The key is weight\n",
      "The value is 185\n"
     ]
    }
   ],
   "source": [
    "for key,value in d.items():\n",
    "    print (f\"The key is {key}\")\n",
    "    print (f\"The value is {value}\")"
   ]
  },
  {
   "cell_type": "code",
   "execution_count": 48,
   "metadata": {},
   "outputs": [],
   "source": []
  },
  {
   "cell_type": "code",
   "execution_count": 49,
   "metadata": {},
   "outputs": [
    {
     "data": {
      "text/plain": [
       "{'first': 'Mattan', 'last': 'Romano', 'age': 29, 'weight': 185}"
      ]
     },
     "execution_count": 49,
     "metadata": {},
     "output_type": "execute_result"
    }
   ],
   "source": [
    "d"
   ]
  },
  {
   "cell_type": "code",
   "execution_count": 50,
   "metadata": {},
   "outputs": [
    {
     "data": {
      "text/plain": [
       "{'first': 'Mattan', 'last': 'Romano', 'age': 29, 'weight': 185}"
      ]
     },
     "execution_count": 50,
     "metadata": {},
     "output_type": "execute_result"
    }
   ],
   "source": [
    "d"
   ]
  },
  {
   "cell_type": "code",
   "execution_count": 51,
   "metadata": {},
   "outputs": [],
   "source": [
    "import string"
   ]
  },
  {
   "cell_type": "code",
   "execution_count": 53,
   "metadata": {},
   "outputs": [
    {
     "data": {
      "text/plain": [
       "'abcdefghijklmnopqrstuvwxyz'"
      ]
     },
     "execution_count": 53,
     "metadata": {},
     "output_type": "execute_result"
    }
   ],
   "source": [
    "string.ascii_lowercase"
   ]
  },
  {
   "cell_type": "code",
   "execution_count": 67,
   "metadata": {},
   "outputs": [],
   "source": [
    "d = string.ascii_lowercase"
   ]
  },
  {
   "cell_type": "code",
   "execution_count": 70,
   "metadata": {},
   "outputs": [
    {
     "data": {
      "text/plain": [
       "'abcdefghijklmnopqrstuvwxyz'"
      ]
     },
     "execution_count": 70,
     "metadata": {},
     "output_type": "execute_result"
    }
   ],
   "source": [
    "d"
   ]
  },
  {
   "cell_type": "code",
   "execution_count": 71,
   "metadata": {},
   "outputs": [
    {
     "ename": "TypeError",
     "evalue": "'set' object is not callable",
     "output_type": "error",
     "traceback": [
      "\u001b[1;31m---------------------------------------------------------------------------\u001b[0m",
      "\u001b[1;31mTypeError\u001b[0m                                 Traceback (most recent call last)",
      "\u001b[1;32mc:\\Users\\matta\\Documents\\Mattan\\Visual Code Studio\\Udemy\\Complete-Python-3-Bootcamp\\scrap.ipynb Cell 28'\u001b[0m in \u001b[0;36m<cell line: 1>\u001b[1;34m()\u001b[0m\n\u001b[1;32m----> <a href='vscode-notebook-cell:/c%3A/Users/matta/Documents/Mattan/Visual%20Code%20Studio/Udemy/Complete-Python-3-Bootcamp/scrap.ipynb#ch0000028?line=0'>1</a>\u001b[0m \u001b[39mset\u001b[39;49m(d)\n",
      "\u001b[1;31mTypeError\u001b[0m: 'set' object is not callable"
     ]
    }
   ],
   "source": [
    "set(d)"
   ]
  },
  {
   "cell_type": "code",
   "execution_count": null,
   "metadata": {},
   "outputs": [],
   "source": []
  }
 ],
 "metadata": {
  "interpreter": {
   "hash": "c463c956dab44f18283dbbfcfc6d3b6b03e67086ca7d5b59e086355a9245719a"
  },
  "kernelspec": {
   "display_name": "Python 3.8.8 ('base')",
   "language": "python",
   "name": "python3"
  },
  "language_info": {
   "codemirror_mode": {
    "name": "ipython",
    "version": 3
   },
   "file_extension": ".py",
   "mimetype": "text/x-python",
   "name": "python",
   "nbconvert_exporter": "python",
   "pygments_lexer": "ipython3",
   "version": "3.8.8"
  },
  "orig_nbformat": 4
 },
 "nbformat": 4,
 "nbformat_minor": 2
}
