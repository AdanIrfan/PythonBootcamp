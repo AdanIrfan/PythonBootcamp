{
  "cells": [
    {
      "cell_type": "markdown",
      "metadata": {
        "id": "view-in-github",
        "colab_type": "text"
      },
      "source": [
        "<a href=\"https://colab.research.google.com/github/loubnakamalrady/Complete-Python-3-Bootcamp/blob/loubnakamalrady-patch-1/07_Statements_Assessment_Test_MySolution.ipynb\" target=\"_parent\"><img src=\"https://colab.research.google.com/assets/colab-badge.svg\" alt=\"Open In Colab\"/></a>"
      ]
    },
    {
      "cell_type": "markdown",
      "metadata": {
        "id": "t5b-ukPcmtsK"
      },
      "source": [
        "___\n",
        "\n",
        "<a href='https://www.udemy.com/user/joseportilla/'><img src='../Pierian_Data_Logo.png'/></a>\n",
        "___\n",
        "<center><em>Content Copyright by Pierian Data</em></center>"
      ]
    },
    {
      "cell_type": "markdown",
      "metadata": {
        "collapsed": true,
        "id": "q8GPL2JUmtsL"
      },
      "source": [
        "# Statements Assessment Test\n",
        "Let's test your knowledge!"
      ]
    },
    {
      "cell_type": "markdown",
      "metadata": {
        "id": "uzB_bRecmtsM"
      },
      "source": [
        "_____\n",
        "**Use <code>for</code>, .split(), and <code>if</code> to create a Statement that will print out words that start with 's':**"
      ]
    },
    {
      "cell_type": "code",
      "execution_count": 10,
      "metadata": {
        "collapsed": true,
        "id": "G3HQdofHmtsM"
      },
      "outputs": [],
      "source": [
        "st = 'Print only the words that start with s in this sentence'"
      ]
    },
    {
      "cell_type": "code",
      "execution_count": 15,
      "metadata": {
        "collapsed": true,
        "colab": {
          "base_uri": "https://localhost:8080/"
        },
        "id": "lRshlbbumtsN",
        "outputId": "b580a50b-155a-4b2c-e41d-6961af1a8672"
      },
      "outputs": [
        {
          "output_type": "stream",
          "name": "stdout",
          "text": [
            "start\n",
            "s\n",
            "sentence\n"
          ]
        }
      ],
      "source": [
        "for x in st.split():\n",
        "  if(x[0]=='s'):\n",
        "    print(x)"
      ]
    },
    {
      "cell_type": "markdown",
      "metadata": {
        "id": "ewlzd1AWmtsN"
      },
      "source": [
        "______\n",
        "**Use range() to print all the even numbers from 0 to 10.**"
      ]
    },
    {
      "cell_type": "code",
      "execution_count": 20,
      "metadata": {
        "collapsed": true,
        "colab": {
          "base_uri": "https://localhost:8080/"
        },
        "id": "elsZkOgomtsN",
        "outputId": "f6dc0dc6-9822-4d6a-bfaa-94c634153730"
      },
      "outputs": [
        {
          "output_type": "stream",
          "name": "stdout",
          "text": [
            "0\n",
            "2\n",
            "4\n",
            "6\n",
            "8\n",
            "10\n"
          ]
        }
      ],
      "source": [
        "for x in range(0,11,2):\n",
        "  print(x)"
      ]
    },
    {
      "cell_type": "markdown",
      "metadata": {
        "id": "ibo4K14jmtsN"
      },
      "source": [
        "___\n",
        "**Use a List Comprehension to create a list of all numbers between 1 and 50 that are divisible by 3.**"
      ]
    },
    {
      "cell_type": "code",
      "execution_count": 21,
      "metadata": {
        "collapsed": true,
        "colab": {
          "base_uri": "https://localhost:8080/"
        },
        "id": "t75neJylmtsO",
        "outputId": "f3f2b949-0288-4c21-84f4-f7f19dbafcd6"
      },
      "outputs": [
        {
          "output_type": "execute_result",
          "data": {
            "text/plain": [
              "[3, 6, 9, 12, 15, 18, 21, 24, 27, 30, 33, 36, 39, 42, 45, 48]"
            ]
          },
          "metadata": {},
          "execution_count": 21
        }
      ],
      "source": [
        "#Code in this cell\n",
        "[x for x in range(1,51) if x%3==0]"
      ]
    },
    {
      "cell_type": "markdown",
      "metadata": {
        "id": "_RUHPRY2mtsO"
      },
      "source": [
        "_____\n",
        "**Go through the string below and if the length of a word is even print \"even!\"**"
      ]
    },
    {
      "cell_type": "code",
      "execution_count": 23,
      "metadata": {
        "collapsed": true,
        "id": "0Fi11by5mtsO"
      },
      "outputs": [],
      "source": [
        "st = 'Print every word in this sentence that has an even number of letters'"
      ]
    },
    {
      "cell_type": "code",
      "execution_count": 27,
      "metadata": {
        "collapsed": true,
        "colab": {
          "base_uri": "https://localhost:8080/"
        },
        "id": "ozeOAWjemtsP",
        "outputId": "716ab622-e2f6-44e0-8900-cf642898a328"
      },
      "outputs": [
        {
          "output_type": "stream",
          "name": "stdout",
          "text": [
            "word EVEN!\n",
            "in EVEN!\n",
            "this EVEN!\n",
            "sentence EVEN!\n",
            "that EVEN!\n",
            "an EVEN!\n",
            "even EVEN!\n",
            "number EVEN!\n",
            "of EVEN!\n"
          ]
        }
      ],
      "source": [
        "#Code in this cell\n",
        "for x in st.split():\n",
        "  if len(x)%2==0:\n",
        "    print(x+\" EVEN!\")"
      ]
    },
    {
      "cell_type": "markdown",
      "metadata": {
        "id": "bkYpSMSAmtsP"
      },
      "source": [
        "____\n",
        "**Write a program that prints the integers from 1 to 100. But for multiples of three print \"Fizz\" instead of the number, and for the multiples of five print \"Buzz\". For numbers which are multiples of both three and five print \"FizzBuzz\".**"
      ]
    },
    {
      "cell_type": "code",
      "execution_count": 28,
      "metadata": {
        "collapsed": true,
        "colab": {
          "base_uri": "https://localhost:8080/"
        },
        "id": "ibfmBVE-mtsP",
        "outputId": "c35c625b-4e90-4fc4-b0e4-78640c2485a8"
      },
      "outputs": [
        {
          "output_type": "stream",
          "name": "stdout",
          "text": [
            "Fizz\n",
            "Buzz!\n",
            "Fizz\n",
            "Fizz\n",
            "Buzz!\n",
            "Fizz\n",
            "Fizz\n",
            "Fizz\n",
            "Buzz!\n",
            "Fizz\n",
            "Fizz\n",
            "Buzz!\n",
            "Fizz\n",
            "Fizz\n",
            "Fizz\n",
            "Buzz!\n",
            "Fizz\n",
            "Fizz\n",
            "Buzz!\n",
            "Fizz\n",
            "Fizz\n",
            "Fizz\n",
            "Buzz!\n",
            "Fizz\n",
            "Fizz\n",
            "Buzz!\n",
            "Fizz\n",
            "Fizz\n",
            "Fizz\n",
            "Buzz!\n",
            "Fizz\n",
            "Fizz\n",
            "Buzz!\n",
            "Fizz\n",
            "Fizz\n",
            "Fizz\n",
            "Buzz!\n",
            "Fizz\n",
            "Fizz\n",
            "Buzz!\n",
            "Fizz\n",
            "Fizz\n",
            "Fizz\n",
            "Buzz!\n",
            "Fizz\n",
            "Fizz\n",
            "Buzz!\n"
          ]
        }
      ],
      "source": [
        "#Code in this cell\n",
        "for number in range(1,101):\n",
        "  if number%3 == 0:\n",
        "    print(\"Fizz\")\n",
        "  elif number%5 == 0:\n",
        "    print(\"Buzz!\")\n",
        "  elif number%3==0 and number%5==0:\n",
        "    print(\"FizzBuzz!\")"
      ]
    },
    {
      "cell_type": "markdown",
      "metadata": {
        "id": "cYMC5XkqmtsQ"
      },
      "source": [
        "____\n",
        "**Use List Comprehension to create a list of the first letters of every word in the string below:**"
      ]
    },
    {
      "cell_type": "code",
      "execution_count": 30,
      "metadata": {
        "collapsed": true,
        "id": "2_8vY0_LmtsQ"
      },
      "outputs": [],
      "source": [
        "st = 'Create a list of the first letters of every word in this string'"
      ]
    },
    {
      "cell_type": "code",
      "execution_count": 31,
      "metadata": {
        "collapsed": true,
        "colab": {
          "base_uri": "https://localhost:8080/"
        },
        "id": "Gk_SXJXgmtsQ",
        "outputId": "49df04ad-95c9-41c5-971b-ec6211fdfbb4"
      },
      "outputs": [
        {
          "output_type": "execute_result",
          "data": {
            "text/plain": [
              "['C', 'a', 'l', 'o', 't', 'f', 'l', 'o', 'e', 'w', 'i', 't', 's']"
            ]
          },
          "metadata": {},
          "execution_count": 31
        }
      ],
      "source": [
        "#Code in this cell\n",
        "[x[0] for x in st.split()]"
      ]
    },
    {
      "cell_type": "markdown",
      "metadata": {
        "id": "C7FTHkDmmtsQ"
      },
      "source": [
        "### Great Job!"
      ]
    }
  ],
  "metadata": {
    "kernelspec": {
      "display_name": "Python 3",
      "language": "python",
      "name": "python3"
    },
    "language_info": {
      "codemirror_mode": {
        "name": "ipython",
        "version": 3
      },
      "file_extension": ".py",
      "mimetype": "text/x-python",
      "name": "python",
      "nbconvert_exporter": "python",
      "pygments_lexer": "ipython3",
      "version": "3.6.6"
    },
    "colab": {
      "name": "07-Statements Assessment Test.ipynb",
      "provenance": [],
      "include_colab_link": true
    }
  },
  "nbformat": 4,
  "nbformat_minor": 0
}