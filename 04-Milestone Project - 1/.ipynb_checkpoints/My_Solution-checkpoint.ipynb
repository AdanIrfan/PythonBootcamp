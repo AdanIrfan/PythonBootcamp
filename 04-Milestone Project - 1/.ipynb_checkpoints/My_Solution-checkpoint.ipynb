{
 "cells": [
  {
   "cell_type": "code",
   "execution_count": 1,
   "metadata": {},
   "outputs": [],
   "source": [
    "from IPython.display import clear_output\n",
    "clear_output()"
   ]
  },
  {
   "cell_type": "code",
   "execution_count": 2,
   "metadata": {},
   "outputs": [],
   "source": [
    "def print_board(board):\n",
    "    clear_output()\n",
    "    print(\"\\n\")\n",
    "    print(f\" {board[6]} | {board[7]} | {board[8]} \")\n",
    "    print(\"-----------\")\n",
    "    print(f\" {board[3]} | {board[4]} | {board[5]} \")\n",
    "    print(\"-----------\")\n",
    "    print(f\" {board[0]} | {board[1]} | {board[2]} \")\n",
    "    print(\"\\n\")"
   ]
  },
  {
   "cell_type": "code",
   "execution_count": 3,
   "metadata": {},
   "outputs": [],
   "source": [
    "def check_win(board, mark):\n",
    "    return ((board[0] == board[3] == board[6] == mark) or #check column\n",
    "            (board[1] == board[4] == board[7] == mark) or #check column\n",
    "            (board[2] == board[5] == board[8] == mark) or #check column\n",
    "            (board[0] == board[1] == board[2] == mark) or #check row\n",
    "            (board[3] == board[4] == board[5] == mark) or #check row\n",
    "            (board[6] == board[7] == board[8] == mark) or #check row\n",
    "            (board[0] == board[4] == board[8] == mark) or #check diagonal\n",
    "            (board[2] == board[4] == board[6] == mark))  #check diagonal\n",
    "        "
   ]
  },
  {
   "cell_type": "code",
   "execution_count": 4,
   "metadata": {},
   "outputs": [],
   "source": [
    "def check_availability(board, pos):\n",
    "    if board[pos-1] == \" \":\n",
    "        return True\n",
    "    else:\n",
    "        return False"
   ]
  },
  {
   "cell_type": "code",
   "execution_count": 5,
   "metadata": {},
   "outputs": [],
   "source": [
    "def check_uncomplete_board(board):\n",
    "    if \" \" in board:\n",
    "        return True\n",
    "    else:\n",
    "        return False"
   ]
  },
  {
   "cell_type": "code",
   "execution_count": 8,
   "metadata": {},
   "outputs": [
    {
     "name": "stdout",
     "output_type": "stream",
     "text": [
      "Player1 Please pick a marker (Q for exit): Q\n"
     ]
    }
   ],
   "source": [
    "while True:\n",
    "    player_1 = input(\"Player1 Please pick a marker (Q for exit): \")\n",
    "    if player_1 == \"Q\":\n",
    "        break\n",
    "    \n",
    "    player_2 = input(\"Player2 Please pick a marker: \")\n",
    "    board = [\" \"]*9\n",
    "\n",
    "\n",
    "    if player_1 == player_2:\n",
    "        print(\"Error! you must have different markers\")\n",
    "        continue\n",
    "    \n",
    "    manche = 0\n",
    "    current_player = \"\"\n",
    "    current_marker = \"\"\n",
    "\n",
    "    while check_uncomplete_board(board):\n",
    "        print_board(board)\n",
    "\n",
    "        if manche%2 == 0:\n",
    "            current_player = \"Player 1\"\n",
    "            current_marker = player_1\n",
    "        else:\n",
    "            current_player = \"Player 2\"\n",
    "            current_marker = player_2\n",
    "\n",
    "        current_choise = int(input(f\"{current_player} make your choise (1-9): \"))\n",
    "    \n",
    "        if not check_availability(board, current_choise):\n",
    "            print(\"Please, choise a free position\")\n",
    "            continue\n",
    "\n",
    "        board[current_choise-1] = current_marker\n",
    "\n",
    "        if check_win(board, current_marker):\n",
    "            print_board(board)\n",
    "            print(f\"Congrats! {current_player} wins!!!\")\n",
    "            break\n",
    "\n",
    "        manche +=1\n",
    "    else:\n",
    "        print(\"NO WIN!\")\n"
   ]
  },
  {
   "cell_type": "code",
   "execution_count": null,
   "metadata": {},
   "outputs": [],
   "source": []
  }
 ],
 "metadata": {
  "kernelspec": {
   "display_name": "Python 3",
   "language": "python",
   "name": "python3"
  },
  "language_info": {
   "codemirror_mode": {
    "name": "ipython",
    "version": 3
   },
   "file_extension": ".py",
   "mimetype": "text/x-python",
   "name": "python",
   "nbconvert_exporter": "python",
   "pygments_lexer": "ipython3",
   "version": "3.6.4"
  }
 },
 "nbformat": 4,
 "nbformat_minor": 2
}
