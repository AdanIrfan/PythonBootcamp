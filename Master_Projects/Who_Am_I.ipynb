{
 "cells": [
  {
   "cell_type": "code",
   "execution_count": 21,
   "metadata": {},
   "outputs": [],
   "source": [
    "import random\n",
    "class Mattan ():\n",
    "\n",
    "    birth_date = '1993-10-11'\n",
    "    birth_name = 'Mattan Joshua Romano'\n",
    "\n",
    "    def __init__ (self):\n",
    "        print(\"An instance of object Mattan has been created.\")\n",
    "\n",
    "    def pick_number (self,lower:int, upper:int) -> int: \n",
    "        return random.randint(1,100)\n",
    "\n",
    "    def __str__ (self)-> str:\n",
    "        return Mattan.birth_name\n",
    "\n",
    "    def __len__ (self) -> int:\n",
    "        return len(Mattan.birth_name)\n"
   ]
  },
  {
   "cell_type": "code",
   "execution_count": 22,
   "metadata": {},
   "outputs": [
    {
     "name": "stdout",
     "output_type": "stream",
     "text": [
      "An instance of object Mattan has been created.\n"
     ]
    }
   ],
   "source": [
    "sample_1 = Mattan()"
   ]
  },
  {
   "cell_type": "code",
   "execution_count": 23,
   "metadata": {},
   "outputs": [
    {
     "name": "stdout",
     "output_type": "stream",
     "text": [
      "Mattan Joshua Romano\n"
     ]
    }
   ],
   "source": [
    "print(sample_1)"
   ]
  },
  {
   "cell_type": "code",
   "execution_count": 24,
   "metadata": {},
   "outputs": [
    {
     "data": {
      "text/plain": [
       "20"
      ]
     },
     "execution_count": 24,
     "metadata": {},
     "output_type": "execute_result"
    }
   ],
   "source": [
    "len(sample_1)"
   ]
  },
  {
   "cell_type": "code",
   "execution_count": null,
   "metadata": {},
   "outputs": [],
   "source": []
  }
 ],
 "metadata": {
  "interpreter": {
   "hash": "f08154012ddadd8e950e6e9e035c7a7b32c136e7647e9b7c77e02eb723a8bedb"
  },
  "kernelspec": {
   "display_name": "Python 3.9.7 ('base')",
   "language": "python",
   "name": "python3"
  },
  "language_info": {
   "codemirror_mode": {
    "name": "ipython",
    "version": 3
   },
   "file_extension": ".py",
   "mimetype": "text/x-python",
   "name": "python",
   "nbconvert_exporter": "python",
   "pygments_lexer": "ipython3",
   "version": "3.9.7"
  },
  "orig_nbformat": 4
 },
 "nbformat": 4,
 "nbformat_minor": 2
}
