{
 "cells": [
  {
   "cell_type": "code",
   "execution_count": 1,
   "id": "fb853850",
   "metadata": {},
   "outputs": [
    {
     "name": "stdout",
     "output_type": "stream",
     "text": [
      "07-Advanced-Modules-Exercise-Puzzle.ipynb     \u001b[0m\u001b[01;34mpuzzle_unzip\u001b[0m/\r\n",
      "08-Advanced-Modules-Exercise-Solutions.ipynb  Untitled.ipynb\r\n",
      "\u001b[01;34mextracted_content\u001b[0m/                            \u001b[01;31munzip_me_for_instructions.zip\u001b[0m\r\n"
     ]
    }
   ],
   "source": [
    "ls\n"
   ]
  },
  {
   "cell_type": "code",
   "execution_count": 2,
   "id": "c220ce26",
   "metadata": {},
   "outputs": [
    {
     "name": "stdout",
     "output_type": "stream",
     "text": [
      "[Errno 20] Not a directory: '08-Advanced-Modules-Exercise-Solutions.ipynb'\n",
      "/home/thomas/MyPythonStuff/12-Advanced Python Modules/08-Advanced-Python-Module-Exercise\n"
     ]
    }
   ],
   "source": [
    "cd 08-Advanced-Modules-Exercise-Solutions.ipynb"
   ]
  },
  {
   "cell_type": "code",
   "execution_count": 3,
   "id": "7a303413",
   "metadata": {},
   "outputs": [
    {
     "name": "stdout",
     "output_type": "stream",
     "text": [
      "[Errno 2] No such file or directory: 'puzz'\n",
      "/home/thomas/MyPythonStuff/12-Advanced Python Modules/08-Advanced-Python-Module-Exercise\n"
     ]
    }
   ],
   "source": [
    "cd puzz"
   ]
  },
  {
   "cell_type": "code",
   "execution_count": 4,
   "id": "d439c664",
   "metadata": {},
   "outputs": [
    {
     "name": "stdout",
     "output_type": "stream",
     "text": [
      "/home/thomas/MyPythonStuff/12-Advanced Python Modules/08-Advanced-Python-Module-Exercise/puzzle_unzip\n"
     ]
    }
   ],
   "source": [
    "cd puzzle_unzip/"
   ]
  },
  {
   "cell_type": "code",
   "execution_count": 10,
   "id": "6f1cae1b",
   "metadata": {},
   "outputs": [
    {
     "name": "stdout",
     "output_type": "stream",
     "text": [
      "HDOHZHFSTTK.txt  JLTXKIGCWDL.txt  KTXDHIOKAUI.txt  PHWAVPEKAER.txt\r\n",
      "HFUTPPAXDIS.txt  JQUOBKFUACN.txt  LDGOCUQJNNS.txt  PLYCGPVEAWO.txt\r\n",
      "HMNZTLIFGPD.txt  JTHSNBNPQSE.txt  LFEATJAAYDC.txt  PQNVCVJINAR.txt\r\n",
      "HRQFTHKVJTL.txt  KCXGNQCZBLO.txt  LHODFIKVTQA.txt  PTOBBCJYURJ.txt\r\n",
      "HVUTZEVMSBW.txt  KFIUZFERLET.txt  LIFDHOFKWOI.txt\r\n",
      "JDLRVFCXYLU.txt  KMMLGJOWLGI.txt  LPNDVDXPZIG.txt\r\n",
      "JEHBLZPUPSP.txt  KNBSKDREHQU.txt  PDJMSMNKIRM.txt\r\n"
     ]
    }
   ],
   "source": [
    "ls\n"
   ]
  },
  {
   "cell_type": "code",
   "execution_count": 1,
   "id": "b0a9e01e",
   "metadata": {},
   "outputs": [],
   "source": [
    "import re\n",
    "import os\n",
    "import os.path\n"
   ]
  },
  {
   "cell_type": "code",
   "execution_count": 2,
   "id": "4d5da3d7",
   "metadata": {},
   "outputs": [],
   "source": [
    "pattern = r'\\d{3}-\\d{3}-\\d{4}'"
   ]
  },
  {
   "cell_type": "code",
   "execution_count": 3,
   "id": "8b666e53",
   "metadata": {},
   "outputs": [],
   "source": [
    "test_string = \"here is a random number 1231231234 , here is phone number formatted 123-123-1234\""
   ]
  },
  {
   "cell_type": "code",
   "execution_count": 4,
   "id": "f0876209",
   "metadata": {},
   "outputs": [
    {
     "data": {
      "text/plain": [
       "['123-123-1234']"
      ]
     },
     "execution_count": 4,
     "metadata": {},
     "output_type": "execute_result"
    }
   ],
   "source": [
    "re.findall(pattern,test_string)"
   ]
  },
  {
   "cell_type": "code",
   "execution_count": 5,
   "id": "d16d84e6",
   "metadata": {},
   "outputs": [],
   "source": [
    "def search(file,pattern= r'\\d{3}-\\d{3}-\\d{4}'):\n",
    "    f = open(file,'r')\n",
    "    text = f.read()\n",
    "    \n",
    "    if re.search(pattern,text):\n",
    "        return re.search(pattern,text)\n",
    "    else:\n",
    "        print(\"Not found\")\n",
    "        return ''"
   ]
  },
  {
   "cell_type": "code",
   "execution_count": 6,
   "id": "94bd3f44",
   "metadata": {},
   "outputs": [],
   "source": [
    "results = []\n",
    "for folder , sub_folders , files in os.walk('/extracted_content'):\n",
    "    \n",
    "    for f in files:\n",
    "        full_path = folder+'/'+f\n",
    "         \n",
    "        results.append(search(full_path)) "
   ]
  },
  {
   "cell_type": "code",
   "execution_count": 80,
   "id": "053c1bc8",
   "metadata": {},
   "outputs": [],
   "source": [
    "for r in results:\n",
    "    if r != '':\n",
    "        print(r.group())"
   ]
  },
  {
   "cell_type": "code",
   "execution_count": 12,
   "id": "e0010966",
   "metadata": {},
   "outputs": [
    {
     "ename": "NameError",
     "evalue": "name 'ls' is not defined",
     "output_type": "error",
     "traceback": [
      "\u001b[0;31m---------------------------------------------------------------------------\u001b[0m",
      "\u001b[0;31mNameError\u001b[0m                                 Traceback (most recent call last)",
      "\u001b[0;32m<ipython-input-12-eb2761fff18e>\u001b[0m in \u001b[0;36m<module>\u001b[0;34m\u001b[0m\n\u001b[0;32m----> 1\u001b[0;31m \u001b[0mls\u001b[0m\u001b[0;34m\u001b[0m\u001b[0;34m\u001b[0m\u001b[0m\n\u001b[0m\u001b[1;32m      2\u001b[0m \u001b[0;34m\u001b[0m\u001b[0m\n\u001b[1;32m      3\u001b[0m \u001b[0;34m\u001b[0m\u001b[0m\n",
      "\u001b[0;31mNameError\u001b[0m: name 'ls' is not defined"
     ]
    }
   ],
   "source": [
    "ls\n",
    "\n",
    "\n"
   ]
  },
  {
   "cell_type": "code",
   "execution_count": 76,
   "id": "65c3d5b4",
   "metadata": {},
   "outputs": [
    {
     "ename": "SyntaxError",
     "evalue": "invalid syntax (<ipython-input-76-36a6f15cf9fd>, line 1)",
     "output_type": "error",
     "traceback": [
      "\u001b[0;36m  File \u001b[0;32m\"<ipython-input-76-36a6f15cf9fd>\"\u001b[0;36m, line \u001b[0;32m1\u001b[0m\n\u001b[0;31m    print r.group())\u001b[0m\n\u001b[0m          ^\u001b[0m\n\u001b[0;31mSyntaxError\u001b[0m\u001b[0;31m:\u001b[0m invalid syntax\n"
     ]
    }
   ],
   "source": [
    "print r.group())\n",
    "\n"
   ]
  },
  {
   "cell_type": "code",
   "execution_count": 48,
   "id": "0dd70f15",
   "metadata": {},
   "outputs": [
    {
     "data": {
      "text/plain": [
       "'/home/thomas/MyPythonStuff/12-Advanced Python Modules/08-Advanced-Python-Module-Exercise/puzzle_unzip'"
      ]
     },
     "execution_count": 48,
     "metadata": {},
     "output_type": "execute_result"
    }
   ],
   "source": [
    "os.getcwd()"
   ]
  },
  {
   "cell_type": "code",
   "execution_count": 14,
   "id": "4d453697",
   "metadata": {},
   "outputs": [
    {
     "name": "stdout",
     "output_type": "stream",
     "text": [
      "[Errno 20] Not a directory: '08-Advanced-Modules-Exercise-Solutions.ipynb'\n",
      "/home/thomas/MyPythonStuff/12-Advanced Python Modules/08-Advanced-Python-Module-Exercise\n"
     ]
    }
   ],
   "source": [
    "cd 08-Advanced-Modules-Exercise-Solutions.ipynb"
   ]
  },
  {
   "cell_type": "code",
   "execution_count": 16,
   "id": "e6c92852",
   "metadata": {},
   "outputs": [
    {
     "name": "stdout",
     "output_type": "stream",
     "text": [
      "/home/thomas/MyPythonStuff/12-Advanced Python Modules/08-Advanced-Python-Module-Exercise/puzzle_unzip\n"
     ]
    }
   ],
   "source": [
    "cd puzzle_unzip/\n"
   ]
  },
  {
   "cell_type": "code",
   "execution_count": null,
   "id": "703455c4",
   "metadata": {},
   "outputs": [],
   "source": []
  }
 ],
 "metadata": {
  "kernelspec": {
   "display_name": "Python 3",
   "language": "python",
   "name": "python3"
  },
  "language_info": {
   "codemirror_mode": {
    "name": "ipython",
    "version": 3
   },
   "file_extension": ".py",
   "mimetype": "text/x-python",
   "name": "python",
   "nbconvert_exporter": "python",
   "pygments_lexer": "ipython3",
   "version": "3.7.3"
  }
 },
 "nbformat": 4,
 "nbformat_minor": 5
}
