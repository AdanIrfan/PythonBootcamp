{
 "cells": [
  {
   "cell_type": "code",
   "execution_count": 46,
   "id": "f47dc2ce",
   "metadata": {},
   "outputs": [
    {
     "name": "stdout",
     "output_type": "stream",
     "text": [
      "\u001b[0m\u001b[01;34mextracted_content\u001b[0m/\r\n"
     ]
    }
   ],
   "source": [
    "ls\n"
   ]
  },
  {
   "cell_type": "code",
   "execution_count": 47,
   "id": "87d9ffaf",
   "metadata": {},
   "outputs": [
    {
     "name": "stdout",
     "output_type": "stream",
     "text": [
      "[Errno 2] No such file or directory: '08-Advanced-Modules-Exercise-Solutions.ipynb'\n",
      "/home/thomas/MyPythonStuff/12-Advanced Python Modules/08-Advanced-Python-Module-Exercise/puzzle_unzip\n"
     ]
    }
   ],
   "source": [
    "cd 08-Advanced-Modules-Exercise-Solutions.ipynb"
   ]
  },
  {
   "cell_type": "code",
   "execution_count": 48,
   "id": "b5251d17",
   "metadata": {},
   "outputs": [
    {
     "name": "stdout",
     "output_type": "stream",
     "text": [
      "[Errno 2] No such file or directory: 'puzz'\n",
      "/home/thomas/MyPythonStuff/12-Advanced Python Modules/08-Advanced-Python-Module-Exercise/puzzle_unzip\n"
     ]
    }
   ],
   "source": [
    "cd puzz"
   ]
  },
  {
   "cell_type": "code",
   "execution_count": 49,
   "id": "3b8ffdeb",
   "metadata": {},
   "outputs": [
    {
     "name": "stdout",
     "output_type": "stream",
     "text": [
      "[Errno 2] No such file or directory: 'puzzle_unzip/'\n",
      "/home/thomas/MyPythonStuff/12-Advanced Python Modules/08-Advanced-Python-Module-Exercise/puzzle_unzip\n"
     ]
    }
   ],
   "source": [
    "cd puzzle_unzip/"
   ]
  },
  {
   "cell_type": "code",
   "execution_count": 50,
   "id": "b1f4ef9d",
   "metadata": {},
   "outputs": [
    {
     "name": "stdout",
     "output_type": "stream",
     "text": [
      "\u001b[0m\u001b[01;34mextracted_content\u001b[0m/\r\n"
     ]
    }
   ],
   "source": [
    "ls\n"
   ]
  },
  {
   "cell_type": "code",
   "execution_count": 51,
   "id": "0aca57f9",
   "metadata": {},
   "outputs": [],
   "source": [
    "import re\n",
    "import os\n",
    "import os.path\n"
   ]
  },
  {
   "cell_type": "code",
   "execution_count": 52,
   "id": "6f531883",
   "metadata": {},
   "outputs": [],
   "source": [
    "pattern = r'\\d{3}-\\d{3}-\\d{4}'"
   ]
  },
  {
   "cell_type": "code",
   "execution_count": 53,
   "id": "f7d94305",
   "metadata": {},
   "outputs": [],
   "source": [
    "test_string = \"here is a random number 1231231234 , here is phone number formatted 123-123-1234\""
   ]
  },
  {
   "cell_type": "code",
   "execution_count": 54,
   "id": "76e2ee1a",
   "metadata": {},
   "outputs": [
    {
     "data": {
      "text/plain": [
       "['123-123-1234']"
      ]
     },
     "execution_count": 54,
     "metadata": {},
     "output_type": "execute_result"
    }
   ],
   "source": [
    "re.findall(pattern,test_string)"
   ]
  },
  {
   "cell_type": "code",
   "execution_count": 55,
   "id": "a411098f",
   "metadata": {},
   "outputs": [],
   "source": [
    "def search(file,pattern= r'\\d{3}-\\d{3}-\\d{4}'):\n",
    "    f = open(file,'r')\n",
    "    text = f.read()\n",
    "    \n",
    "    if re.search(pattern,text):\n",
    "        return re.search(pattern,text)\n",
    "    else:\n",
    "        print(\"Not found\")\n",
    "        return ''"
   ]
  },
  {
   "cell_type": "code",
   "execution_count": 58,
   "id": "fa295f2d",
   "metadata": {},
   "outputs": [],
   "source": [
    "results = []\n",
    "for folder , sub_folders , files in os.walk('/extracted_content'):\n",
    "    \n",
    "    for f in files:\n",
    "        full_path = folder+'\\\\'+f\n",
    "        print(f)\n",
    "         \n",
    "        results.append(search(full_path)) "
   ]
  },
  {
   "cell_type": "code",
   "execution_count": 59,
   "id": "bafa32c5",
   "metadata": {},
   "outputs": [],
   "source": [
    "for r in results:\n",
    "    if r != '':\n",
    "        print(r.group())"
   ]
  },
  {
   "cell_type": "code",
   "execution_count": 60,
   "id": "0105dd2e",
   "metadata": {},
   "outputs": [
    {
     "name": "stdout",
     "output_type": "stream",
     "text": [
      "\u001b[0m\u001b[01;34mextracted_content\u001b[0m/\r\n"
     ]
    }
   ],
   "source": [
    "ls"
   ]
  },
  {
   "cell_type": "code",
   "execution_count": 48,
   "id": "0e188a9d",
   "metadata": {},
   "outputs": [
    {
     "data": {
      "text/plain": [
       "'/home/thomas/MyPythonStuff/12-Advanced Python Modules/08-Advanced-Python-Module-Exercise/puzzle_unzip'"
      ]
     },
     "execution_count": 48,
     "metadata": {},
     "output_type": "execute_result"
    }
   ],
   "source": [
    "os.getcwd()"
   ]
  }
 ],
 "metadata": {
  "kernelspec": {
   "display_name": "Python 3",
   "language": "python",
   "name": "python3"
  },
  "language_info": {
   "codemirror_mode": {
    "name": "ipython",
    "version": 3
   },
   "file_extension": ".py",
   "mimetype": "text/x-python",
   "name": "python",
   "nbconvert_exporter": "python",
   "pygments_lexer": "ipython3",
   "version": "3.7.3"
  }
 },
 "nbformat": 4,
 "nbformat_minor": 5
}
