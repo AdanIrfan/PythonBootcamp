{
  "cells": [
    {
      "cell_type": "markdown",
      "metadata": {
        "id": "view-in-github",
        "colab_type": "text"
      },
      "source": [
        "<a href=\"https://colab.research.google.com/github/loubnakamalrady/Complete-Python-3-Bootcamp/blob/loubnakamalrady-patch-1/02_Errors_and_Exceptions_Homework_MySolution.ipynb\" target=\"_parent\"><img src=\"https://colab.research.google.com/assets/colab-badge.svg\" alt=\"Open In Colab\"/></a>"
      ]
    },
    {
      "cell_type": "markdown",
      "metadata": {
        "id": "GlrmwdIoexBY"
      },
      "source": [
        "___\n",
        "\n",
        "<a href='https://www.udemy.com/user/joseportilla/'><img src='../Pierian_Data_Logo.png'/></a>\n",
        "___\n",
        "<center><em>Content Copyright by Pierian Data</em></center>"
      ]
    },
    {
      "cell_type": "markdown",
      "metadata": {
        "id": "RJ8XnlQWexBg"
      },
      "source": [
        "# Errors and Exceptions Homework"
      ]
    },
    {
      "cell_type": "markdown",
      "metadata": {
        "id": "DfhNZ1zcexBh"
      },
      "source": [
        "### Problem 1\n",
        "Handle the exception thrown by the code below by using <code>try</code> and <code>except</code> blocks."
      ]
    },
    {
      "cell_type": "code",
      "execution_count": 2,
      "metadata": {
        "colab": {
          "base_uri": "https://localhost:8080/"
        },
        "id": "xOcnipUpexBi",
        "outputId": "e3fe9d64-6bd2-43b7-d4ab-04279eeed72b"
      },
      "outputs": [
        {
          "output_type": "stream",
          "name": "stdout",
          "text": [
            "There is an error occured\n"
          ]
        }
      ],
      "source": [
        "try:\n",
        "  for i in ['a','b','c']:\n",
        "    print(i**2)\n",
        "except:\n",
        "  print(\"There is an error occured\")"
      ]
    },
    {
      "cell_type": "markdown",
      "metadata": {
        "id": "zJ0-plPHexBl"
      },
      "source": [
        "### Problem 2\n",
        "Handle the exception thrown by the code below by using <code>try</code> and <code>except</code> blocks. Then use a <code>finally</code> block to print 'All Done.'"
      ]
    },
    {
      "cell_type": "code",
      "execution_count": 3,
      "metadata": {
        "colab": {
          "base_uri": "https://localhost:8080/"
        },
        "id": "-8RC_2CUexBm",
        "outputId": "d2160056-b535-49ba-a6b9-ae9a167853c2"
      },
      "outputs": [
        {
          "output_type": "stream",
          "name": "stdout",
          "text": [
            "Sorry numbers can't be divided by zero\n",
            "All done\n"
          ]
        }
      ],
      "source": [
        "x = 5\n",
        "y = 0\n",
        "try:\n",
        "  z = x/y\n",
        "except:\n",
        "  print(\"Sorry numbers can't be divided by zero\")\n",
        "finally:\n",
        "  print(\"All done\")"
      ]
    },
    {
      "cell_type": "markdown",
      "metadata": {
        "id": "EMbYpb-DexBo"
      },
      "source": [
        "### Problem 3\n",
        "Write a function that asks for an integer and prints the square of it. Use a <code>while</code> loop with a <code>try</code>, <code>except</code>, <code>else</code> block to account for incorrect inputs."
      ]
    },
    {
      "cell_type": "code",
      "execution_count": 12,
      "metadata": {
        "collapsed": true,
        "id": "eDFN3ubSexBp"
      },
      "outputs": [],
      "source": [
        "def ask():\n",
        "    while True:\n",
        "      try:\n",
        "        integer_num = int(input(\"Please provide me with a integer: \"))\n",
        "      except:\n",
        "        print(\"Please enter an integer.\")\n",
        "        continue\n",
        "      else:\n",
        "        print(\"Goodluck next time!\")\n",
        "        break\n",
        "    print(\"Good job! the number will become: \", integer_num**2)"
      ]
    },
    {
      "cell_type": "code",
      "execution_count": 13,
      "metadata": {
        "colab": {
          "base_uri": "https://localhost:8080/"
        },
        "id": "_jPu_GFKexBq",
        "outputId": "19186b89-8a96-4aad-df8b-d84c9b13fdc3"
      },
      "outputs": [
        {
          "output_type": "stream",
          "name": "stdout",
          "text": [
            "Please provide me with a integer: 2\n",
            "Goodluck next time!\n",
            "Good job! the number will become:  4\n"
          ]
        }
      ],
      "source": [
        "ask()"
      ]
    },
    {
      "cell_type": "markdown",
      "metadata": {
        "id": "HQOaj63EexBs"
      },
      "source": [
        "# Great Job!"
      ]
    }
  ],
  "metadata": {
    "kernelspec": {
      "display_name": "Python 3",
      "language": "python",
      "name": "python3"
    },
    "language_info": {
      "codemirror_mode": {
        "name": "ipython",
        "version": 3
      },
      "file_extension": ".py",
      "mimetype": "text/x-python",
      "name": "python",
      "nbconvert_exporter": "python",
      "pygments_lexer": "ipython3",
      "version": "3.6.6"
    },
    "colab": {
      "name": "02-Errors and Exceptions Homework.ipynb",
      "provenance": [],
      "include_colab_link": true
    }
  },
  "nbformat": 4,
  "nbformat_minor": 0
}