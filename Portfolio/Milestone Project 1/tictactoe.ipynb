{
 "cells": [
  {
   "cell_type": "code",
   "execution_count": 1,
   "metadata": {},
   "outputs": [],
   "source": [
    "def player_info():\n",
    "\n",
    "    #VARIABLES\n",
    "    player1 = 'invalid' #starting off invalid to force the WHILE loop\n",
    "    player2 = 'invalid'\n",
    "    valid_choices = ['X','O']\n",
    "\n",
    "    while player1 not in valid_choices:\n",
    "        player1 = input(\"Player 1 would you like to X or O?: \").upper()\n",
    "        \n",
    "        if player1 not in valid_choices:\n",
    "            print(\"Player 1 that is not a valid input please enter again\")\n",
    "    \n",
    "    valid_choices.remove(player1) #force list to have single value to assignt to Player 2\n",
    "    player2 = valid_choices[0]\n",
    "\n",
    "    print(f\"Player 1 you will be represented by {player1}\")\n",
    "    print(f\"Player 2 you will be represented by {player2}\")\n",
    "\n",
    "    return {'Player 1': player1, 'Player 2': player2}\n",
    "\n",
    "\n",
    "    \n"
   ]
  },
  {
   "cell_type": "code",
   "execution_count": 2,
   "metadata": {},
   "outputs": [],
   "source": [
    "def display_board(board):\n",
    "\n",
    "    print(str(board['Top Left']) + '|' + str(board['Top Center']) + '|'+ str(board['Top Right']))\n",
    "    print('-' + '-' + '-' + '-'+ '-')\n",
    "    print(str(board['Middle Left']) + '|' + str(board['Middle Center']) + '|'+ str(board['Middle Right']))\n",
    "    print('-' + '-' + '-' + '-'+ '-')\n",
    "    print(str(board['Bottom Left']) + '|' + str(board['Bottom Center']) + '|'+ str(board['Bottom Right']))"
   ]
  },
  {
   "cell_type": "code",
   "execution_count": 11,
   "metadata": {},
   "outputs": [],
   "source": [
    "def get_player_input():\n",
    "\n",
    "    #VARIABLES\n",
    "    player_update_answer = 'invalid'\n",
    "\n",
    "    while player_update_answer not in board_layout.keys():\n",
    "        player_update_answer = input(\"Where would you like to place your mark? \").title()\n",
    "\n",
    "        if player_update_answer not in board_layout.keys():\n",
    "            print(\"Not a valid location\")\n",
    "\n",
    "    return player_update_answer\n"
   ]
  },
  {
   "cell_type": "code",
   "execution_count": 8,
   "metadata": {},
   "outputs": [],
   "source": [
    "def win_check(board,detail):\n",
    "    \n",
    "    return (\n",
    "\n",
    "    (board['Top Left'] == detail and board['Top Center'] == detail and board['Top Right'] == detail) or # Top Row Win\n",
    "\n",
    "    (board['Middle Left'] == detail and board['Middle Center'] == detail and board['Middle Right'] == detail) or # Middle Row Win\n",
    "\n",
    "    (board['Bottom Left'] == detail and board['Bottom Center'] == detail and board['Bottom Right'] == detail) or # Bottom Row Win\n",
    "\n",
    "    (board['Top Left'] == detail and board['Middle Left'] == detail and board['Bottom Left'] == detail) or # Left Column Win\n",
    "\n",
    "    (board['Top Center'] == detail and board['Middle Center'] == detail and board['Bottom Center'] == detail) or # Center Column Win\n",
    "\n",
    "    (board['Top Right'] == detail and board['Middle Right'] == detail and board['Bottom Right'] == detail) or # Right Column Win\n",
    "\n",
    "    (board['Top Left'] == detail and board['Top Center'] == detail and board['Top Right'] == detail) or # Right Diagonal Win\n",
    "\n",
    "    (board['Top Left'] == detail and board['Top Center'] == detail and board['Top Right'] == detail) # Left Diagonal Win)\n",
    "    \n",
    "    )"
   ]
  },
  {
   "cell_type": "code",
   "execution_count": 9,
   "metadata": {},
   "outputs": [],
   "source": [
    "def update_board(location,value):\n",
    "\n",
    "    board_layout[location] = value"
   ]
  },
  {
   "cell_type": "code",
   "execution_count": null,
   "metadata": {},
   "outputs": [],
   "source": [
    "print(\"First we need to get some information about the players\")\n",
    "\n",
    "#GAME INITIALIZATION\n",
    "\n",
    "board_layout = {'Top Left' : ' ',\n",
    "        'Top Center' : ' ',\n",
    "        'Top Right' : ' ',\n",
    "        'Middle Left' : ' ',\n",
    "        'Middle Center' : ' ',\n",
    "        'Middle Right' : ' ',\n",
    "        'Bottom Left' : ' ',\n",
    "        'Bottom Center' : ' ',\n",
    "        'Bottom Right' : ' '}\n",
    "\n",
    "player_details = player_info()\n",
    "\n",
    "player_turn = ''\n",
    "\n",
    "\n",
    "##########################################\n",
    "print(\"The game is about to start\")\n",
    "\n",
    "for turn in range(1,10): \n",
    "\n",
    "    if turn == 9:\n",
    "\n",
    "        print(\"ENTERING THE FINAL ROUND\")\n",
    "\n",
    "    print(f\"Round: {turn}\")\n",
    "\n",
    "    if turn in [1,3,5,7,9]:\n",
    "\n",
    "        player_turn = 'Player 1'\n",
    "    else:\n",
    "\n",
    "        player_turn = 'Player 2'\n",
    "\n",
    "\n",
    "    print(f\"Get ready to make a move {player_turn}\" + (\"\\n\") * 2)\n",
    "\n",
    "    update_board(get_player_input(),player_details[player_turn])\n",
    "\n",
    "    display_board(board_layout)\n",
    "\n",
    "    if win_check(board_layout,player_details[player_turn]):\n",
    "\n",
    "        print(\"\\n\" * 5)\n",
    "\n",
    "        print(\"Congrats you've won the game!!!!!!!!!!!!!!!!!!!\" + \"\\n\")\n",
    "        print(\"Congrats you've won the game!!!!!!!!!!!!!!!!!!!\" + \"\\n\")\n",
    "        print(\"Congrats you've won the game!!!!!!!!!!!!!!!!!!!\" + \"\\n\")\n",
    "\n",
    "        print(\"\\n\" * 5)\n",
    "\n",
    "        winner = player_details\n",
    "\n",
    "        break\n",
    "\n",
    "    else:\n",
    "        winner = None\n",
    "\n",
    "\n",
    "    print(\"\\n\"*2)\n",
    "\n",
    "    print(f\"Round has finished\"+ (\"\\n\") * 2)\n",
    "\n",
    "\n",
    "print(\"The game has ended! Here is the final output \\n\")\n",
    "if winner != ('Player 1' or 'Player 2'):\n",
    "    print(\"There was no winner for this match\")\n",
    "    print (\"\\n\")\n",
    "\n",
    "display_board(board_layout)"
   ]
  },
  {
   "cell_type": "code",
   "execution_count": 12,
   "metadata": {
    "collapsed": true
   },
   "outputs": [],
   "source": []
  },
  {
   "cell_type": "code",
   "execution_count": 20,
   "metadata": {},
   "outputs": [
    {
     "data": {
      "text/plain": [
       "'mattan'"
      ]
     },
     "execution_count": 20,
     "metadata": {},
     "output_type": "execute_result"
    }
   ],
   "source": []
  },
  {
   "cell_type": "markdown",
   "metadata": {},
   "source": []
  }
 ],
 "metadata": {
  "interpreter": {
   "hash": "aee8b7b246df8f9039afb4144a1f6fd8d2ca17a180786b69acc140d282b71a49"
  },
  "kernelspec": {
   "display_name": "Python 3",
   "language": "python",
   "name": "python3"
  },
  "language_info": {
   "codemirror_mode": {
    "name": "ipython",
    "version": 3
   },
   "file_extension": ".py",
   "mimetype": "text/x-python",
   "name": "python",
   "nbconvert_exporter": "python",
   "pygments_lexer": "ipython3",
   "version": "3.9.5"
  }
 },
 "nbformat": 4,
 "nbformat_minor": 2
}
