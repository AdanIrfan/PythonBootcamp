{
 "cells": [
  {
   "cell_type": "code",
   "execution_count": 1,
   "metadata": {},
   "outputs": [],
   "source": [
    "def player_info():\n",
    "\n",
    "    #VARIABLES\n",
    "    player1 = 'invalid' #starting off invalid to force the WHILE loop\n",
    "    player2 = 'invalid'\n",
    "    valid_choices = ['X','O']\n",
    "\n",
    "    while player1 not in valid_choices:\n",
    "        player1 = input(\"Player 1 would you like to X or O?: \").upper()\n",
    "\n",
    "        if player1 not in valid_choices:\n",
    "            print(\"Player 1 that is not a valid input please enter again\")\n",
    "    \n",
    "    valid_choices.remove(player1) #force list to have single value to assignt to Player 2\n",
    "    player2 = valid_choices[0]\n",
    "\n",
    "    print(f\"Player 1 you will be represented by {player1}\")\n",
    "    print(f\"Player 2 you will be represented by {player2}\")\n",
    "\n",
    "    return {'Player 1': player1, 'Player 2': player2}\n",
    "\n",
    "\n",
    "    \n"
   ]
  },
  {
   "cell_type": "code",
   "execution_count": 2,
   "metadata": {},
   "outputs": [],
   "source": [
    "board_layout = {'Top Left' : ' ',\n",
    "        'Top Center' : ' ',\n",
    "        'Top Right' : ' ',\n",
    "        'Middle Left' : ' ',\n",
    "        'Middle Center' : ' ',\n",
    "        'Middle Right' : ' ',\n",
    "        'Bottom Left' : ' ',\n",
    "        'Bottom Center' : ' ',\n",
    "        'Bottom Right' : ' '}\n",
    "\n"
   ]
  },
  {
   "cell_type": "code",
   "execution_count": 3,
   "metadata": {},
   "outputs": [],
   "source": [
    "def display_board(board):\n",
    "\n",
    "    print(str(board['Top Left']) + '|' + str(board['Top Center']) + '|'+ str(board['Top Right']))\n",
    "    print('-' + '-' + '-' + '-'+ '-')\n",
    "    print(str(board['Middle Left']) + '|' + str(board['Middle Center']) + '|'+ str(board['Middle Right']))\n",
    "    print('-' + '-' + '-' + '-'+ '-')\n",
    "    print(str(board['Bottom Left']) + '|' + str(board['Bottom Center']) + '|'+ str(board['Bottom Right']))"
   ]
  },
  {
   "cell_type": "code",
   "execution_count": 4,
   "metadata": {},
   "outputs": [],
   "source": [
    "def get_player_input():\n",
    "\n",
    "    #VARIABLES\n",
    "    player_update_answer = 'invalid'\n",
    "\n",
    "    while player_update_answer not in board_layout.keys():\n",
    "        player_update_answer = input(\"Where would you like to place your mark? \").title()\n",
    "\n",
    "        if player_update_answer not in board_layout.keys():\n",
    "            print(\"Not a valid location\")\n",
    "\n",
    "    return player_update_answer\n"
   ]
  },
  {
   "cell_type": "code",
   "execution_count": 5,
   "metadata": {},
   "outputs": [],
   "source": [
    "def update_board(location,value):\n",
    "\n",
    "    board_layout[location] = value"
   ]
  },
  {
   "cell_type": "code",
   "execution_count": 6,
   "metadata": {},
   "outputs": [
    {
     "name": "stdout",
     "output_type": "stream",
     "text": [
      "First we need to get some information about the players\n",
      "Player 1 you will be represented by X\n",
      "Player 2 you will be represented by O\n",
      "The game is about to start\n",
      "Round: 1\n",
      "Get ready to make a move Player 1\n",
      "Not a valid location\n"
     ]
    },
    {
     "ename": "KeyboardInterrupt",
     "evalue": "Interrupted by user",
     "output_type": "error",
     "traceback": [
      "\u001b[0;31m---------------------------------------------------------------------------\u001b[0m",
      "\u001b[0;31mKeyboardInterrupt\u001b[0m                         Traceback (most recent call last)",
      "\u001b[1;32m/Users/mattan/Desktop/Mattan/Visual Code Studio/Udemy/Complete-Python-3-Bootcamp/Portfolio/Milestone Project 1/tictactoe.ipynb Cell 6'\u001b[0m in \u001b[0;36m<cell line: 8>\u001b[0;34m()\u001b[0m\n\u001b[1;32m     <a href='vscode-notebook-cell:/Users/mattan/Desktop/Mattan/Visual%20Code%20Studio/Udemy/Complete-Python-3-Bootcamp/Portfolio/Milestone%20Project%201/tictactoe.ipynb#ch0000042?line=12'>13</a>\u001b[0m     player_turn \u001b[39m=\u001b[39m \u001b[39m'\u001b[39m\u001b[39mPlayer 2\u001b[39m\u001b[39m'\u001b[39m\n\u001b[1;32m     <a href='vscode-notebook-cell:/Users/mattan/Desktop/Mattan/Visual%20Code%20Studio/Udemy/Complete-Python-3-Bootcamp/Portfolio/Milestone%20Project%201/tictactoe.ipynb#ch0000042?line=15'>16</a>\u001b[0m \u001b[39mprint\u001b[39m(\u001b[39mf\u001b[39m\u001b[39m\"\u001b[39m\u001b[39mGet ready to make a move \u001b[39m\u001b[39m{\u001b[39;00mplayer_turn\u001b[39m}\u001b[39;00m\u001b[39m\"\u001b[39m)\n\u001b[0;32m---> <a href='vscode-notebook-cell:/Users/mattan/Desktop/Mattan/Visual%20Code%20Studio/Udemy/Complete-Python-3-Bootcamp/Portfolio/Milestone%20Project%201/tictactoe.ipynb#ch0000042?line=16'>17</a>\u001b[0m update_board(get_player_input(),player_details[player_turn])\n\u001b[1;32m     <a href='vscode-notebook-cell:/Users/mattan/Desktop/Mattan/Visual%20Code%20Studio/Udemy/Complete-Python-3-Bootcamp/Portfolio/Milestone%20Project%201/tictactoe.ipynb#ch0000042?line=17'>18</a>\u001b[0m display_board(board_layout)\n\u001b[1;32m     <a href='vscode-notebook-cell:/Users/mattan/Desktop/Mattan/Visual%20Code%20Studio/Udemy/Complete-Python-3-Bootcamp/Portfolio/Milestone%20Project%201/tictactoe.ipynb#ch0000042?line=18'>19</a>\u001b[0m \u001b[39mprint\u001b[39m(\u001b[39mf\u001b[39m\u001b[39m\"\u001b[39m\u001b[39mRound has finished\u001b[39m\u001b[39m\"\u001b[39m)\n",
      "\u001b[1;32m/Users/mattan/Desktop/Mattan/Visual Code Studio/Udemy/Complete-Python-3-Bootcamp/Portfolio/Milestone Project 1/tictactoe.ipynb Cell 4'\u001b[0m in \u001b[0;36mget_player_input\u001b[0;34m()\u001b[0m\n\u001b[1;32m      <a href='vscode-notebook-cell:/Users/mattan/Desktop/Mattan/Visual%20Code%20Studio/Udemy/Complete-Python-3-Bootcamp/Portfolio/Milestone%20Project%201/tictactoe.ipynb#ch0000022?line=3'>4</a>\u001b[0m player_update_answer \u001b[39m=\u001b[39m \u001b[39m'\u001b[39m\u001b[39minvalid\u001b[39m\u001b[39m'\u001b[39m\n\u001b[1;32m      <a href='vscode-notebook-cell:/Users/mattan/Desktop/Mattan/Visual%20Code%20Studio/Udemy/Complete-Python-3-Bootcamp/Portfolio/Milestone%20Project%201/tictactoe.ipynb#ch0000022?line=5'>6</a>\u001b[0m \u001b[39mwhile\u001b[39;00m player_update_answer \u001b[39mnot\u001b[39;00m \u001b[39min\u001b[39;00m board_layout\u001b[39m.\u001b[39mkeys():\n\u001b[0;32m----> <a href='vscode-notebook-cell:/Users/mattan/Desktop/Mattan/Visual%20Code%20Studio/Udemy/Complete-Python-3-Bootcamp/Portfolio/Milestone%20Project%201/tictactoe.ipynb#ch0000022?line=6'>7</a>\u001b[0m     player_update_answer \u001b[39m=\u001b[39m \u001b[39minput\u001b[39;49m(\u001b[39m\"\u001b[39;49m\u001b[39mWhere would you like to place your mark? \u001b[39;49m\u001b[39m\"\u001b[39;49m)\u001b[39m.\u001b[39mtitle()\n\u001b[1;32m      <a href='vscode-notebook-cell:/Users/mattan/Desktop/Mattan/Visual%20Code%20Studio/Udemy/Complete-Python-3-Bootcamp/Portfolio/Milestone%20Project%201/tictactoe.ipynb#ch0000022?line=8'>9</a>\u001b[0m     \u001b[39mif\u001b[39;00m player_update_answer \u001b[39mnot\u001b[39;00m \u001b[39min\u001b[39;00m board_layout\u001b[39m.\u001b[39mkeys():\n\u001b[1;32m     <a href='vscode-notebook-cell:/Users/mattan/Desktop/Mattan/Visual%20Code%20Studio/Udemy/Complete-Python-3-Bootcamp/Portfolio/Milestone%20Project%201/tictactoe.ipynb#ch0000022?line=9'>10</a>\u001b[0m         \u001b[39mprint\u001b[39m(\u001b[39m\"\u001b[39m\u001b[39mNot a valid location\u001b[39m\u001b[39m\"\u001b[39m)\n",
      "File \u001b[0;32m/Library/Frameworks/Python.framework/Versions/3.9/lib/python3.9/site-packages/ipykernel/kernelbase.py:1076\u001b[0m, in \u001b[0;36mKernel.raw_input\u001b[0;34m(self, prompt)\u001b[0m\n\u001b[1;32m   <a href='file:///Library/Frameworks/Python.framework/Versions/3.9/lib/python3.9/site-packages/ipykernel/kernelbase.py?line=1071'>1072</a>\u001b[0m \u001b[39mif\u001b[39;00m \u001b[39mnot\u001b[39;00m \u001b[39mself\u001b[39m\u001b[39m.\u001b[39m_allow_stdin:\n\u001b[1;32m   <a href='file:///Library/Frameworks/Python.framework/Versions/3.9/lib/python3.9/site-packages/ipykernel/kernelbase.py?line=1072'>1073</a>\u001b[0m     \u001b[39mraise\u001b[39;00m StdinNotImplementedError(\n\u001b[1;32m   <a href='file:///Library/Frameworks/Python.framework/Versions/3.9/lib/python3.9/site-packages/ipykernel/kernelbase.py?line=1073'>1074</a>\u001b[0m         \u001b[39m\"\u001b[39m\u001b[39mraw_input was called, but this frontend does not support input requests.\u001b[39m\u001b[39m\"\u001b[39m\n\u001b[1;32m   <a href='file:///Library/Frameworks/Python.framework/Versions/3.9/lib/python3.9/site-packages/ipykernel/kernelbase.py?line=1074'>1075</a>\u001b[0m     )\n\u001b[0;32m-> <a href='file:///Library/Frameworks/Python.framework/Versions/3.9/lib/python3.9/site-packages/ipykernel/kernelbase.py?line=1075'>1076</a>\u001b[0m \u001b[39mreturn\u001b[39;00m \u001b[39mself\u001b[39;49m\u001b[39m.\u001b[39;49m_input_request(\n\u001b[1;32m   <a href='file:///Library/Frameworks/Python.framework/Versions/3.9/lib/python3.9/site-packages/ipykernel/kernelbase.py?line=1076'>1077</a>\u001b[0m     \u001b[39mstr\u001b[39;49m(prompt),\n\u001b[1;32m   <a href='file:///Library/Frameworks/Python.framework/Versions/3.9/lib/python3.9/site-packages/ipykernel/kernelbase.py?line=1077'>1078</a>\u001b[0m     \u001b[39mself\u001b[39;49m\u001b[39m.\u001b[39;49m_parent_ident[\u001b[39m\"\u001b[39;49m\u001b[39mshell\u001b[39;49m\u001b[39m\"\u001b[39;49m],\n\u001b[1;32m   <a href='file:///Library/Frameworks/Python.framework/Versions/3.9/lib/python3.9/site-packages/ipykernel/kernelbase.py?line=1078'>1079</a>\u001b[0m     \u001b[39mself\u001b[39;49m\u001b[39m.\u001b[39;49mget_parent(\u001b[39m\"\u001b[39;49m\u001b[39mshell\u001b[39;49m\u001b[39m\"\u001b[39;49m),\n\u001b[1;32m   <a href='file:///Library/Frameworks/Python.framework/Versions/3.9/lib/python3.9/site-packages/ipykernel/kernelbase.py?line=1079'>1080</a>\u001b[0m     password\u001b[39m=\u001b[39;49m\u001b[39mFalse\u001b[39;49;00m,\n\u001b[1;32m   <a href='file:///Library/Frameworks/Python.framework/Versions/3.9/lib/python3.9/site-packages/ipykernel/kernelbase.py?line=1080'>1081</a>\u001b[0m )\n",
      "File \u001b[0;32m/Library/Frameworks/Python.framework/Versions/3.9/lib/python3.9/site-packages/ipykernel/kernelbase.py:1121\u001b[0m, in \u001b[0;36mKernel._input_request\u001b[0;34m(self, prompt, ident, parent, password)\u001b[0m\n\u001b[1;32m   <a href='file:///Library/Frameworks/Python.framework/Versions/3.9/lib/python3.9/site-packages/ipykernel/kernelbase.py?line=1117'>1118</a>\u001b[0m             \u001b[39mbreak\u001b[39;00m\n\u001b[1;32m   <a href='file:///Library/Frameworks/Python.framework/Versions/3.9/lib/python3.9/site-packages/ipykernel/kernelbase.py?line=1118'>1119</a>\u001b[0m \u001b[39mexcept\u001b[39;00m \u001b[39mKeyboardInterrupt\u001b[39;00m:\n\u001b[1;32m   <a href='file:///Library/Frameworks/Python.framework/Versions/3.9/lib/python3.9/site-packages/ipykernel/kernelbase.py?line=1119'>1120</a>\u001b[0m     \u001b[39m# re-raise KeyboardInterrupt, to truncate traceback\u001b[39;00m\n\u001b[0;32m-> <a href='file:///Library/Frameworks/Python.framework/Versions/3.9/lib/python3.9/site-packages/ipykernel/kernelbase.py?line=1120'>1121</a>\u001b[0m     \u001b[39mraise\u001b[39;00m \u001b[39mKeyboardInterrupt\u001b[39;00m(\u001b[39m\"\u001b[39m\u001b[39mInterrupted by user\u001b[39m\u001b[39m\"\u001b[39m) \u001b[39mfrom\u001b[39;00m \u001b[39mNone\u001b[39m\n\u001b[1;32m   <a href='file:///Library/Frameworks/Python.framework/Versions/3.9/lib/python3.9/site-packages/ipykernel/kernelbase.py?line=1121'>1122</a>\u001b[0m \u001b[39mexcept\u001b[39;00m \u001b[39mException\u001b[39;00m:\n\u001b[1;32m   <a href='file:///Library/Frameworks/Python.framework/Versions/3.9/lib/python3.9/site-packages/ipykernel/kernelbase.py?line=1122'>1123</a>\u001b[0m     \u001b[39mself\u001b[39m\u001b[39m.\u001b[39mlog\u001b[39m.\u001b[39mwarning(\u001b[39m\"\u001b[39m\u001b[39mInvalid Message:\u001b[39m\u001b[39m\"\u001b[39m, exc_info\u001b[39m=\u001b[39m\u001b[39mTrue\u001b[39;00m)\n",
      "\u001b[0;31mKeyboardInterrupt\u001b[0m: Interrupted by user"
     ]
    }
   ],
   "source": [
    "print(\"First we need to get some information about the players\")\n",
    "\n",
    "player_details = player_info()\n",
    "player_turn = ''\n",
    "\n",
    "print(\"The game is about to start\")\n",
    "\n",
    "for turn in range(1,11): \n",
    "    print(f\"Round: {turn}\")\n",
    "    if turn in [1,3,5,7,9]:\n",
    "        player_turn = 'Player 1'\n",
    "    else:\n",
    "        player_turn = 'Player 2'\n",
    "\n",
    "\n",
    "    print(f\"Get ready to make a move {player_turn}\")\n",
    "    update_board(get_player_input(),player_details[player_turn])\n",
    "    display_board(board_layout)\n",
    "    print(f\"Round has finished\")"
   ]
  }
 ],
 "metadata": {
  "interpreter": {
   "hash": "aee8b7b246df8f9039afb4144a1f6fd8d2ca17a180786b69acc140d282b71a49"
  },
  "kernelspec": {
   "display_name": "Python 3.9.5 64-bit",
   "language": "python",
   "name": "python3"
  },
  "language_info": {
   "codemirror_mode": {
    "name": "ipython",
    "version": 3
   },
   "file_extension": ".py",
   "mimetype": "text/x-python",
   "name": "python",
   "nbconvert_exporter": "python",
   "pygments_lexer": "ipython3",
   "version": "3.9.5"
  },
  "orig_nbformat": 4
 },
 "nbformat": 4,
 "nbformat_minor": 2
}
