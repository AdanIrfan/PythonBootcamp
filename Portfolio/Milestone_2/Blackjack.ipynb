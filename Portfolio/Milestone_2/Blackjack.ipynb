{
 "cells": [
  {
   "cell_type": "markdown",
   "metadata": {},
   "source": [
    "# Milestone Project 2 - Blackjack Game\n",
    "In this milestone project you will be creating a Complete BlackJack Card Game in Python.\n",
    "\n",
    "Here are the requirements:\n",
    "\n",
    "* You need to create a simple text-based [BlackJack](https://en.wikipedia.org/wiki/Blackjack) game\n",
    "* The game needs to have one player versus an automated dealer.\n",
    "* The player can stand or hit.\n",
    "* The player must be able to pick their betting amount.\n",
    "* You need to keep track of the player's total money.\n",
    "* You need to alert the player of wins, losses, or busts, etc...\n"
   ]
  },
  {
   "cell_type": "markdown",
   "metadata": {},
   "source": [
    "## Game Play\n",
    "To play a hand of Blackjack the following steps must be followed:\n",
    "1. Create a deck of 52 cards\n",
    "2. Shuffle the deck\n",
    "3. Ask the Player for their bet\n",
    "4. Make sure that the Player's bet does not exceed their available chips\n",
    "5. Deal two cards to the Dealer and two cards to the Player\n",
    "6. Show only one of the Dealer's cards, the other remains hidden\n",
    "7. Show both of the Player's cards\n",
    "8. Ask the Player if they wish to Hit, and take another card\n",
    "9. If the Player's hand doesn't Bust (go over 21), ask if they'd like to Hit again.\n",
    "10. If a Player Stands, play the Dealer's hand. The dealer will always Hit until the Dealer's value meets or exceeds 17\n",
    "11. Determine the winner and adjust the Player's chips accordingly\n",
    "12. Ask the Player if they'd like to play again"
   ]
  },
  {
   "cell_type": "code",
   "execution_count": 26,
   "metadata": {},
   "outputs": [
    {
     "data": {
      "text/plain": [
       "'\\nCreated by Mattan Romano\\nLast Updated: 7/5/2022\\n'"
      ]
     },
     "execution_count": 26,
     "metadata": {},
     "output_type": "execute_result"
    }
   ],
   "source": [
    "'''\n",
    "Created by Mattan Romano\n",
    "Last Updated: 7/5/2022\n",
    "'''"
   ]
  },
  {
   "cell_type": "code",
   "execution_count": 27,
   "metadata": {},
   "outputs": [],
   "source": [
    "#MODULES\n",
    "import random #Used to shuffle the deck"
   ]
  },
  {
   "cell_type": "code",
   "execution_count": 28,
   "metadata": {},
   "outputs": [],
   "source": [
    "#INFORMATION ABOUT THE CARDS\n",
    "\n",
    "card_suites = ['Hearts','Diamonds','Clubs','Spades']\n",
    "card_names = ['Two','Three','Four','Five','Six','Seven','Eight','Nine','Ten','Jack','Queen','King','Ace']\n",
    "card_values = {'Two':2,'Three':3,'Four':4,'Five':5,'Six':6,'Seven':7,'Eight':8,'Nine':9,'Ten':10,'Jack':10,'Queen':10,'King':10,'Ace':11}"
   ]
  },
  {
   "cell_type": "code",
   "execution_count": 29,
   "metadata": {},
   "outputs": [],
   "source": [
    "class Card():\n",
    "    \n",
    "    #Each card has a name and suite on instantiation. The value is used for the mathemmatical operations.\n",
    "\n",
    "    def __init__(self,name:str,suite:str):\n",
    "\n",
    "        self.name = name\n",
    "        self.suite = suite\n",
    "        self.value = card_values.get(name)\n",
    "\n",
    "    def __str__(self):\n",
    "        \n",
    "        return f'{self.name} of {self.suite}'\n",
    "\n",
    "\n"
   ]
  },
  {
   "cell_type": "code",
   "execution_count": 30,
   "metadata": {},
   "outputs": [],
   "source": [
    "class Deck():\n",
    "\n",
    "    def __init__(self,):\n",
    "        \n",
    "        self.deck = []\n",
    "\n",
    "        for suite in card_suites:\n",
    "            for name in card_names:\n",
    "\n",
    "            #Per suite/name create a card of that combination, and append to the deck\n",
    "\n",
    "                card = Card(name,suite)\n",
    "                self.deck.append(card)\n",
    "\n",
    "    def __len__(self):\n",
    "        \n",
    "        return self.deck.__len__()\n",
    "\n",
    "    def __str__(self):\n",
    "        \n",
    "        #Iterate through deck and print each Card object. Card object has __str__ method defined\n",
    "        \n",
    "        name_deck = []\n",
    "\n",
    "        for card in self.deck:\n",
    "            name_card = card.__str__()\n",
    "            name_deck.append(name_card)\n",
    "\n",
    "        return name_deck.__str__()\n",
    "\n",
    "    def remove_card(self):\n",
    "        \n",
    "        #Remove the card at index 0 - which is equivalent to the Top Card\n",
    "\n",
    "        return self.deck.pop(0)\n",
    "    \n",
    "    def add_card(self,card:Card):\n",
    "        \n",
    "        #Add card to the end of the deck. This method shouldn't have a use unless you want to create an endless deck by adding the used cards to the end (bottom) of deck\n",
    "        \n",
    "        self.deck.append(card)\n",
    "\n",
    "    def shuffle_deck(self):\n",
    "\n",
    "        #Use the random module to shuffle the deck. This an an in-line action so a new deck is not needed\n",
    "        \n",
    "        random.shuffle(self.deck)"
   ]
  },
  {
   "cell_type": "code",
   "execution_count": 31,
   "metadata": {},
   "outputs": [],
   "source": [
    "class Player():\n",
    "    \n",
    "    def __init__(self):\n",
    "        \n",
    "        #Each player will start with $100 in their wallet\n",
    "\n",
    "        self.name = input('What is your name?\\n')\n",
    "        self.wallet = 100\n",
    "        self.deck = []\n",
    "        self.deck_value = 0\n",
    "        self.aces = 0\n",
    "\n",
    "    def __str__(self):\n",
    "\n",
    "\n",
    "        name_deck = []\n",
    "\n",
    "        for card in self.deck:\n",
    "            name_card = card.__str__()\n",
    "            name_deck.append(name_card)\n",
    "        \n",
    "        return {'Name':self.name,'Wallet':self.wallet,'Deck':name_deck,'Deck Value':self.deck_value}.__str__()\n",
    "\n",
    "\n",
    "    def draw_card(self,card:Card):\n",
    "\n",
    "        #Draw card from the Deck object\n",
    "\n",
    "        self.deck.append(card)\n",
    "        self.deck_value += card.value\n",
    "\n",
    "        #If card is an Ace then increase self.ace count\n",
    "        if card.name == 'Ace':\n",
    "            self.aces +=1\n",
    "\n",
    "\n",
    "    def make_bet(self):\n",
    "        \n",
    "        #Prompt player to input a bet amount\n",
    "\n",
    "        while True:\n",
    "\n",
    "            player_bet = int(input('What is the amount that you would like to bet?\\n'))\n",
    "\n",
    "            #Check to make sure that the player bet does not exceed the current wallet value\n",
    "            if player_bet <= self.wallet:\n",
    "\n",
    "                #Subtract player bet from the wallet\n",
    "                self.wallet -= player_bet\n",
    "                break\n",
    "            else:\n",
    "                print(\"That amount exceeds the amount in your wallet.\\n\")\n",
    "\n",
    "        return player_bet\n",
    "\n",
    "\n",
    "    def adjust_for_aces(self):\n",
    "\n",
    "        #If the score is greater than 21 and an Ace is present in the hand then convert the value of Ace from 11 -> 1\n",
    "\n",
    "        while self.deck_value > 21 and self.aces > 0:\n",
    "            self.deck_value -= 10\n",
    "            self.aces -= 1\n",
    "        \n"
   ]
  },
  {
   "cell_type": "code",
   "execution_count": 32,
   "metadata": {},
   "outputs": [],
   "source": [
    "class Dealer():\n",
    "\n",
    "    def __init__(self):\n",
    "\n",
    "        self.deck =[]\n",
    "        self.deck_value = 0\n",
    "        self.aces = 0\n",
    "\n",
    "    def __str__(self):\n",
    "\n",
    "        #return self.deck[0].__str__()\n",
    "        return {'Name':'Dealer','Deck':self.deck[0].__str__()}.__str__()\n",
    "\n",
    "\n",
    "    def draw_card(self,card:Card):\n",
    "\n",
    "        #Draw card from the Deck object\n",
    "\n",
    "        self.deck.append(card)\n",
    "        self.deck_value += card.value\n",
    "        \n",
    "        #If card is an Ace then increase self.ace count\n",
    "        if card.name == 'Ace':\n",
    "            self.aces +=1\n",
    "\n",
    "    def adjust_for_aces(self):\n",
    "\n",
    "        #If the score is greater than 21 and an Ace is present in the hand then convert the value of Ace from 11 -> 1\n",
    "\n",
    "        while self.deck_value > 21 and self.aces > 0:\n",
    "            self.deck_value -= 10\n",
    "            self.aces -= 1\n"
   ]
  },
  {
   "cell_type": "code",
   "execution_count": 33,
   "metadata": {},
   "outputs": [],
   "source": [
    "class Pot():\n",
    "\n",
    "    #Create the game pot which players will deposit the funds into. The winner will receive the full amount in the pot\n",
    "\n",
    "    def __init__(self):\n",
    "\n",
    "        self.pot = 0\n",
    "\n",
    "    def __str__(self):\n",
    "\n",
    "        return f'The current value of the pot is: {self.pot}'\n",
    "\n",
    "    def add_bet(self,amount:int):\n",
    "\n",
    "        self.pot += amount\n",
    "    \n",
    "    def cash_out(self):\n",
    "\n",
    "        return self.pot\n"
   ]
  },
  {
   "cell_type": "code",
   "execution_count": 34,
   "metadata": {},
   "outputs": [],
   "source": [
    "####### Start of Game ####### \n"
   ]
  },
  {
   "cell_type": "code",
   "execution_count": 35,
   "metadata": {},
   "outputs": [],
   "source": [
    "#Build the game deck, create game pot, Player 1, and Dealer\n",
    "\n",
    "game_deck = Deck()\n",
    "game_deck.shuffle_deck()\n",
    "\n",
    "game_pot = Pot()\n",
    "\n",
    "player_1 = Player()\n",
    "dealer = Dealer()\n"
   ]
  },
  {
   "cell_type": "code",
   "execution_count": 36,
   "metadata": {},
   "outputs": [],
   "source": [
    "#Place bets\n",
    "\n",
    "bet = player_1.make_bet()\n",
    "game_pot.add_bet(bet)\n"
   ]
  },
  {
   "cell_type": "code",
   "execution_count": 37,
   "metadata": {},
   "outputs": [],
   "source": [
    "#Deal two cards to Player 1 and Dealer\n",
    "for user in (player_1,dealer):\n",
    "    for x in range (2):\n",
    "        user.draw_card(game_deck.remove_card())\n",
    "        user.adjust_for_aces()\n",
    "    "
   ]
  },
  {
   "cell_type": "code",
   "execution_count": 38,
   "metadata": {},
   "outputs": [
    {
     "name": "stdout",
     "output_type": "stream",
     "text": [
      "{'Name': 'Dealer', 'Deck': 'Ten of Hearts'}\n",
      "{'Name': 'Mattan', 'Wallet': 98, 'Deck': ['Nine of Diamonds', 'Nine of Clubs'], 'Deck Value': 18}\n",
      "Game Pot: The current value of the pot is: 2\n"
     ]
    }
   ],
   "source": [
    "#Show one of the Dealers cards and both of the Players cards as well as general round information\n",
    "\n",
    "print(dealer)\n",
    "print(player_1)\n",
    "print(f'Game Pot: {game_pot}')\n",
    "\n"
   ]
  },
  {
   "cell_type": "code",
   "execution_count": 39,
   "metadata": {},
   "outputs": [
    {
     "name": "stdout",
     "output_type": "stream",
     "text": [
      "Dealers Turn\n",
      "Dealers Gets...BUST\n",
      "{'Name': 'Dealer', 'Deck': 'Ten of Hearts'}\n",
      "Dealer wins\n"
     ]
    }
   ],
   "source": [
    "#Prompt user to Hit or Stand\n",
    "\n",
    "while player_1.deck_value <= 21:\n",
    "    \n",
    "    player_choice = input(\"Would you like to Hit or Stand?\")\n",
    "\n",
    "    if player_choice.capitalize() == 'Hit':\n",
    "        player_1.draw_card(game_deck.remove_card())\n",
    "        player_1.adjust_for_aces()\n",
    "\n",
    "        if player_1.deck_value > 21:\n",
    "            print(\"Players Gets...BUST\")\n",
    "            print(player_1)\n",
    "            break\n",
    "\n",
    "        elif player_1.deck_value == 21:\n",
    "            print(\"Players Gets...BLACKJACK\")\n",
    "            player_1.wallet += (game_pot.cash_out() * 10)\n",
    "            print(player_1)\n",
    "            break\n",
    "        \n",
    "        else: print(player_1)\n",
    "\n",
    "    if player_choice.capitalize() == 'Stand':\n",
    "        print('Dealers Turn')\n",
    "\n",
    "        while dealer.deck_value <=17:\n",
    "            dealer.draw_card(game_deck.remove_card())\n",
    "            dealer.adjust_for_aces()\n",
    "\n",
    "            if dealer.deck_value > 21:\n",
    "                print(\"Dealers Gets...BUST\")\n",
    "                print(dealer)\n",
    "                break\n",
    "            elif dealer.deck_value == 21:\n",
    "                print(\"Dealer Gets...BLACKJACK\")\n",
    "                print(dealer)\n",
    "                break\n",
    "\n",
    "            else: print(f'Dealer Deck Value: {dealer.deck_value}')\n",
    "    if player_1.deck_value > dealer.deck_value:\n",
    "        print(f'{player_1.name} wins!')\n",
    "        player_1.wallet += game_pot.cash_out()\n",
    "        break\n",
    "    else:\n",
    "        print('Dealer wins')\n",
    "        break\n",
    "        \n"
   ]
  },
  {
   "cell_type": "code",
   "execution_count": 40,
   "metadata": {},
   "outputs": [
    {
     "name": "stdout",
     "output_type": "stream",
     "text": [
      "FINAL OUPUT\n",
      "{'Name': 'Mattan', 'Wallet': 98, 'Deck': ['Nine of Diamonds', 'Nine of Clubs'], 'Deck Value': 18}\n"
     ]
    }
   ],
   "source": [
    "print(\"FINAL OUPUT\")\n",
    "print(player_1)"
   ]
  },
  {
   "cell_type": "code",
   "execution_count": null,
   "metadata": {},
   "outputs": [],
   "source": []
  }
 ],
 "metadata": {
  "kernelspec": {
   "display_name": "Python 3.9.5 64-bit",
   "language": "python",
   "name": "python3"
  },
  "language_info": {
   "codemirror_mode": {
    "name": "ipython",
    "version": 3
   },
   "file_extension": ".py",
   "mimetype": "text/x-python",
   "name": "python",
   "nbconvert_exporter": "python",
   "pygments_lexer": "ipython3",
   "version": "3.9.5"
  },
  "orig_nbformat": 4,
  "vscode": {
   "interpreter": {
    "hash": "aee8b7b246df8f9039afb4144a1f6fd8d2ca17a180786b69acc140d282b71a49"
   }
  }
 },
 "nbformat": 4,
 "nbformat_minor": 2
}
