{
 "cells": [
  {
   "cell_type": "code",
   "execution_count": 1,
   "metadata": {},
   "outputs": [],
   "source": [
    "import random"
   ]
  },
  {
   "cell_type": "code",
   "execution_count": 4,
   "metadata": {},
   "outputs": [
    {
     "data": {
      "text/plain": [
       "13"
      ]
     },
     "execution_count": 4,
     "metadata": {},
     "output_type": "execute_result"
    }
   ],
   "source": [
    "random_int = random.randint(1,100)\n",
    "random_int"
   ]
  },
  {
   "cell_type": "code",
   "execution_count": 54,
   "metadata": {},
   "outputs": [
    {
     "data": {
      "text/plain": [
       "[0]"
      ]
     },
     "execution_count": 54,
     "metadata": {},
     "output_type": "execute_result"
    }
   ],
   "source": [
    "guess_list = [0]\n",
    "guess_list\n",
    "#guess_list.clear()"
   ]
  },
  {
   "cell_type": "code",
   "execution_count": 55,
   "metadata": {},
   "outputs": [
    {
     "name": "stdout",
     "output_type": "stream",
     "text": [
      "LENGTH OF LIST: 2 | List values: [0, 10]\n",
      "TEST\n"
     ]
    },
    {
     "ename": "ValueError",
     "evalue": "invalid literal for int() with base 10: ''",
     "output_type": "error",
     "traceback": [
      "\u001b[0;31m---------------------------------------------------------------------------\u001b[0m",
      "\u001b[0;31mValueError\u001b[0m                                Traceback (most recent call last)",
      "\u001b[1;32m/Users/mattan/Desktop/Mattan/Visual Code Studio/Udemy/Complete-Python-3-Bootcamp/Portfolio/Guessing_Game_Challenge.ipynb Cell 4'\u001b[0m in \u001b[0;36m<cell line: 2>\u001b[0;34m()\u001b[0m\n\u001b[1;32m      <a href='vscode-notebook-cell:/Users/mattan/Desktop/Mattan/Visual%20Code%20Studio/Udemy/Complete-Python-3-Bootcamp/Portfolio/Guessing_Game_Challenge.ipynb#ch0000002?line=0'>1</a>\u001b[0m \u001b[39mwhile\u001b[39;00m \u001b[39mTrue\u001b[39;00m:\n\u001b[0;32m----> <a href='vscode-notebook-cell:/Users/mattan/Desktop/Mattan/Visual%20Code%20Studio/Udemy/Complete-Python-3-Bootcamp/Portfolio/Guessing_Game_Challenge.ipynb#ch0000002?line=1'>2</a>\u001b[0m     guess \u001b[39m=\u001b[39m \u001b[39mint\u001b[39;49m(\u001b[39minput\u001b[39;49m(\u001b[39m\"\u001b[39;49m\u001b[39mEnter a number between 1 and 100\u001b[39;49m\u001b[39m\"\u001b[39;49m))\n\u001b[1;32m      <a href='vscode-notebook-cell:/Users/mattan/Desktop/Mattan/Visual%20Code%20Studio/Udemy/Complete-Python-3-Bootcamp/Portfolio/Guessing_Game_Challenge.ipynb#ch0000002?line=3'>4</a>\u001b[0m     \u001b[39mif\u001b[39;00m guess \u001b[39m<\u001b[39m \u001b[39m1\u001b[39m \u001b[39mor\u001b[39;00m guess \u001b[39m>\u001b[39m \u001b[39m100\u001b[39m:\n\u001b[1;32m      <a href='vscode-notebook-cell:/Users/mattan/Desktop/Mattan/Visual%20Code%20Studio/Udemy/Complete-Python-3-Bootcamp/Portfolio/Guessing_Game_Challenge.ipynb#ch0000002?line=4'>5</a>\u001b[0m         \u001b[39mprint\u001b[39m(\u001b[39m\"\u001b[39m\u001b[39mOUT OF BOUNDS\u001b[39m\u001b[39m\"\u001b[39m)\n",
      "\u001b[0;31mValueError\u001b[0m: invalid literal for int() with base 10: ''"
     ]
    }
   ],
   "source": [
    "while True:\n",
    "    guess = int(input(\"Enter a number between 1 and 100\"))\n",
    "\n",
    "    if guess < 1 or guess > 100:\n",
    "        print(\"OUT OF BOUNDS\")\n",
    "        continue\n",
    "\n",
    "    if guess == random_int:\n",
    "        print(\"CONGRATS YOU GOT IT RIGHT!\")\n",
    "        break\n",
    "\n",
    "    guess_list.append(guess)\n",
    "    print(f\"LENGTH OF LIST: {len(guess_list)} | List values: {guess_list}\")    \n",
    "\n",
    "    if guess_list[-2]:\n",
    "        print(\"NO SECOND GUESS\")\n",
    "    else:\n",
    "        print(\"TEST\")\n",
    "\n",
    "\n",
    "\n",
    "\n"
   ]
  },
  {
   "cell_type": "code",
   "execution_count": 58,
   "metadata": {},
   "outputs": [
    {
     "name": "stdout",
     "output_type": "stream",
     "text": [
      "THE Length of list is: 2. The guesses so far are [0, 10]\n",
      "COLD!\n"
     ]
    },
    {
     "ename": "ValueError",
     "evalue": "invalid literal for int() with base 10: ''",
     "output_type": "error",
     "traceback": [
      "\u001b[0;31m---------------------------------------------------------------------------\u001b[0m",
      "\u001b[0;31mValueError\u001b[0m                                Traceback (most recent call last)",
      "\u001b[1;32m/Users/mattan/Desktop/Mattan/Visual Code Studio/Udemy/Complete-Python-3-Bootcamp/Portfolio/Guessing_Game_Challenge.ipynb Cell 5'\u001b[0m in \u001b[0;36m<cell line: 8>\u001b[0;34m()\u001b[0m\n\u001b[1;32m      <a href='vscode-notebook-cell:/Users/mattan/Desktop/Mattan/Visual%20Code%20Studio/Udemy/Complete-Python-3-Bootcamp/Portfolio/Guessing_Game_Challenge.ipynb#ch0000003?line=1'>2</a>\u001b[0m num \u001b[39m=\u001b[39m random\u001b[39m.\u001b[39mrandint(\u001b[39m1\u001b[39m,\u001b[39m101\u001b[39m)\n\u001b[1;32m      <a href='vscode-notebook-cell:/Users/mattan/Desktop/Mattan/Visual%20Code%20Studio/Udemy/Complete-Python-3-Bootcamp/Portfolio/Guessing_Game_Challenge.ipynb#ch0000003?line=4'>5</a>\u001b[0m \u001b[39mwhile\u001b[39;00m \u001b[39mTrue\u001b[39;00m:\n\u001b[1;32m      <a href='vscode-notebook-cell:/Users/mattan/Desktop/Mattan/Visual%20Code%20Studio/Udemy/Complete-Python-3-Bootcamp/Portfolio/Guessing_Game_Challenge.ipynb#ch0000003?line=5'>6</a>\u001b[0m     \n\u001b[1;32m      <a href='vscode-notebook-cell:/Users/mattan/Desktop/Mattan/Visual%20Code%20Studio/Udemy/Complete-Python-3-Bootcamp/Portfolio/Guessing_Game_Challenge.ipynb#ch0000003?line=6'>7</a>\u001b[0m     \u001b[39m# we can copy the code from above to take an input\u001b[39;00m\n\u001b[0;32m----> <a href='vscode-notebook-cell:/Users/mattan/Desktop/Mattan/Visual%20Code%20Studio/Udemy/Complete-Python-3-Bootcamp/Portfolio/Guessing_Game_Challenge.ipynb#ch0000003?line=7'>8</a>\u001b[0m     guess \u001b[39m=\u001b[39m \u001b[39mint\u001b[39;49m(\u001b[39minput\u001b[39;49m(\u001b[39m\"\u001b[39;49m\u001b[39mI\u001b[39;49m\u001b[39m'\u001b[39;49m\u001b[39mm thinking of a number between 1 and 100.\u001b[39;49m\u001b[39m\\n\u001b[39;49;00m\u001b[39m  What is your guess? \u001b[39;49m\u001b[39m\"\u001b[39;49m))\n\u001b[1;32m     <a href='vscode-notebook-cell:/Users/mattan/Desktop/Mattan/Visual%20Code%20Studio/Udemy/Complete-Python-3-Bootcamp/Portfolio/Guessing_Game_Challenge.ipynb#ch0000003?line=9'>10</a>\u001b[0m     \u001b[39mif\u001b[39;00m guess \u001b[39m<\u001b[39m \u001b[39m1\u001b[39m \u001b[39mor\u001b[39;00m guess \u001b[39m>\u001b[39m \u001b[39m100\u001b[39m:\n\u001b[1;32m     <a href='vscode-notebook-cell:/Users/mattan/Desktop/Mattan/Visual%20Code%20Studio/Udemy/Complete-Python-3-Bootcamp/Portfolio/Guessing_Game_Challenge.ipynb#ch0000003?line=10'>11</a>\u001b[0m         \u001b[39mprint\u001b[39m(\u001b[39m'\u001b[39m\u001b[39mOUT OF BOUNDS! Please try again: \u001b[39m\u001b[39m'\u001b[39m)\n",
      "\u001b[0;31mValueError\u001b[0m: invalid literal for int() with base 10: ''"
     ]
    }
   ],
   "source": [
    "guesses = [0]\n",
    "num = random.randint(1,101)\n",
    "\n",
    "\n",
    "while True:\n",
    "    \n",
    "    # we can copy the code from above to take an input\n",
    "    guess = int(input(\"I'm thinking of a number between 1 and 100.\\n  What is your guess? \"))\n",
    "    \n",
    "    if guess < 1 or guess > 100:\n",
    "        print('OUT OF BOUNDS! Please try again: ')\n",
    "        continue\n",
    "    \n",
    "    # here we compare the player's guess to our number\n",
    "    if guess == num:\n",
    "        print(f'CONGRATULATIONS, YOU GUESSED IT IN ONLY {len(guesses)} GUESSES!!')\n",
    "        break\n",
    "        \n",
    "    # if guess is incorrect, add guess to the list\n",
    "    guesses.append(guess)\n",
    "    print(f\"THE Length of list is: {len(guesses)}. The guesses so far are {guesses}\")\n",
    "    \n",
    "    # when testing the first guess, guesses[-2]==0, which evaluates to False\n",
    "    # and brings us down to the second section\n",
    "    \n",
    "    if guesses[-2]:  \n",
    "        if abs(num-guess) < abs(num-guesses[-2]):\n",
    "            print('WARMER!')\n",
    "        else:\n",
    "            print('COLDER!')\n",
    "   \n",
    "    else:\n",
    "        if abs(num-guess) <= 10:\n",
    "            print('WARM!')\n",
    "        else:\n",
    "            print('COLD!')"
   ]
  },
  {
   "cell_type": "code",
   "execution_count": 69,
   "metadata": {},
   "outputs": [],
   "source": [
    "list = [0]"
   ]
  },
  {
   "cell_type": "code",
   "execution_count": 70,
   "metadata": {},
   "outputs": [
    {
     "name": "stdout",
     "output_type": "stream",
     "text": [
      "[0]\n"
     ]
    }
   ],
   "source": [
    "print(list)"
   ]
  },
  {
   "cell_type": "code",
   "execution_count": 71,
   "metadata": {},
   "outputs": [
    {
     "name": "stdout",
     "output_type": "stream",
     "text": [
      "FALSE\n"
     ]
    }
   ],
   "source": [
    "if list[-1]:\n",
    "    print(\"TRUE\")\n",
    "else: \n",
    "    print(\"FALSE\")"
   ]
  },
  {
   "cell_type": "code",
   "execution_count": 75,
   "metadata": {},
   "outputs": [
    {
     "data": {
      "text/plain": [
       "{1, 2}"
      ]
     },
     "execution_count": 75,
     "metadata": {},
     "output_type": "execute_result"
    }
   ],
   "source": []
  },
  {
   "cell_type": "code",
   "execution_count": 80,
   "metadata": {},
   "outputs": [
    {
     "data": {
      "text/plain": [
       "set"
      ]
     },
     "execution_count": 80,
     "metadata": {},
     "output_type": "execute_result"
    }
   ],
   "source": []
  },
  {
   "cell_type": "code",
   "execution_count": 81,
   "metadata": {},
   "outputs": [],
   "source": [
    "example = \"mattan\""
   ]
  },
  {
   "cell_type": "code",
   "execution_count": 82,
   "metadata": {},
   "outputs": [
    {
     "data": {
      "text/plain": [
       "'mattan'"
      ]
     },
     "execution_count": 82,
     "metadata": {},
     "output_type": "execute_result"
    }
   ],
   "source": [
    "example"
   ]
  },
  {
   "cell_type": "code",
   "execution_count": 83,
   "metadata": {},
   "outputs": [
    {
     "ename": "TypeError",
     "evalue": "'set' object is not callable",
     "output_type": "error",
     "traceback": [
      "\u001b[0;31m---------------------------------------------------------------------------\u001b[0m",
      "\u001b[0;31mTypeError\u001b[0m                                 Traceback (most recent call last)",
      "\u001b[1;32m/Users/mattan/Desktop/Mattan/Visual Code Studio/Udemy/Complete-Python-3-Bootcamp/Portfolio/Guessing_Game_Challenge.ipynb Cell 13'\u001b[0m in \u001b[0;36m<cell line: 1>\u001b[0;34m()\u001b[0m\n\u001b[0;32m----> <a href='vscode-notebook-cell:/Users/mattan/Desktop/Mattan/Visual%20Code%20Studio/Udemy/Complete-Python-3-Bootcamp/Portfolio/Guessing_Game_Challenge.ipynb#ch0000012?line=0'>1</a>\u001b[0m cleaned \u001b[39m=\u001b[39m \u001b[39mlist\u001b[39;49m(example)\n",
      "\u001b[0;31mTypeError\u001b[0m: 'set' object is not callable"
     ]
    }
   ],
   "source": [
    "cleaned = list(example)"
   ]
  },
  {
   "cell_type": "code",
   "execution_count": 84,
   "metadata": {},
   "outputs": [
    {
     "ename": "TypeError",
     "evalue": "'set' object is not callable",
     "output_type": "error",
     "traceback": [
      "\u001b[0;31m---------------------------------------------------------------------------\u001b[0m",
      "\u001b[0;31mTypeError\u001b[0m                                 Traceback (most recent call last)",
      "\u001b[1;32m/Users/mattan/Desktop/Mattan/Visual Code Studio/Udemy/Complete-Python-3-Bootcamp/Portfolio/Guessing_Game_Challenge.ipynb Cell 14'\u001b[0m in \u001b[0;36m<cell line: 4>\u001b[0;34m()\u001b[0m\n\u001b[1;32m      <a href='vscode-notebook-cell:/Users/mattan/Desktop/Mattan/Visual%20Code%20Studio/Udemy/Complete-Python-3-Bootcamp/Portfolio/Guessing_Game_Challenge.ipynb#ch0000013?line=0'>1</a>\u001b[0m text \u001b[39m=\u001b[39m \u001b[39m'\u001b[39m\u001b[39mPython\u001b[39m\u001b[39m'\u001b[39m\n\u001b[1;32m      <a href='vscode-notebook-cell:/Users/mattan/Desktop/Mattan/Visual%20Code%20Studio/Udemy/Complete-Python-3-Bootcamp/Portfolio/Guessing_Game_Challenge.ipynb#ch0000013?line=2'>3</a>\u001b[0m \u001b[39m# convert string to list\u001b[39;00m\n\u001b[0;32m----> <a href='vscode-notebook-cell:/Users/mattan/Desktop/Mattan/Visual%20Code%20Studio/Udemy/Complete-Python-3-Bootcamp/Portfolio/Guessing_Game_Challenge.ipynb#ch0000013?line=3'>4</a>\u001b[0m text_list \u001b[39m=\u001b[39m \u001b[39mlist\u001b[39;49m(text)\n\u001b[1;32m      <a href='vscode-notebook-cell:/Users/mattan/Desktop/Mattan/Visual%20Code%20Studio/Udemy/Complete-Python-3-Bootcamp/Portfolio/Guessing_Game_Challenge.ipynb#ch0000013?line=4'>5</a>\u001b[0m \u001b[39mprint\u001b[39m(text_list)\n",
      "\u001b[0;31mTypeError\u001b[0m: 'set' object is not callable"
     ]
    }
   ],
   "source": [
    "text = 'Python'\n",
    "\n",
    "# convert string to list\n",
    "text_list = list(text)\n",
    "print(text_list)\n"
   ]
  },
  {
   "cell_type": "code",
   "execution_count": 85,
   "metadata": {},
   "outputs": [
    {
     "ename": "TypeError",
     "evalue": "'set' object is not callable",
     "output_type": "error",
     "traceback": [
      "\u001b[0;31m---------------------------------------------------------------------------\u001b[0m",
      "\u001b[0;31mTypeError\u001b[0m                                 Traceback (most recent call last)",
      "\u001b[1;32m/Users/mattan/Desktop/Mattan/Visual Code Studio/Udemy/Complete-Python-3-Bootcamp/Portfolio/Guessing_Game_Challenge.ipynb Cell 15'\u001b[0m in \u001b[0;36m<cell line: 2>\u001b[0;34m()\u001b[0m\n\u001b[1;32m      <a href='vscode-notebook-cell:/Users/mattan/Desktop/Mattan/Visual%20Code%20Studio/Udemy/Complete-Python-3-Bootcamp/Portfolio/Guessing_Game_Challenge.ipynb#ch0000014?line=0'>1</a>\u001b[0m \u001b[39m# empty list\u001b[39;00m\n\u001b[0;32m----> <a href='vscode-notebook-cell:/Users/mattan/Desktop/Mattan/Visual%20Code%20Studio/Udemy/Complete-Python-3-Bootcamp/Portfolio/Guessing_Game_Challenge.ipynb#ch0000014?line=1'>2</a>\u001b[0m \u001b[39mprint\u001b[39m(\u001b[39mlist\u001b[39;49m())\n\u001b[1;32m      <a href='vscode-notebook-cell:/Users/mattan/Desktop/Mattan/Visual%20Code%20Studio/Udemy/Complete-Python-3-Bootcamp/Portfolio/Guessing_Game_Challenge.ipynb#ch0000014?line=3'>4</a>\u001b[0m \u001b[39m# vowel string\u001b[39;00m\n\u001b[1;32m      <a href='vscode-notebook-cell:/Users/mattan/Desktop/Mattan/Visual%20Code%20Studio/Udemy/Complete-Python-3-Bootcamp/Portfolio/Guessing_Game_Challenge.ipynb#ch0000014?line=4'>5</a>\u001b[0m vowel_string \u001b[39m=\u001b[39m \u001b[39m'\u001b[39m\u001b[39maeiou\u001b[39m\u001b[39m'\u001b[39m\n",
      "\u001b[0;31mTypeError\u001b[0m: 'set' object is not callable"
     ]
    }
   ],
   "source": [
    "# empty list\n",
    "print(list())\n",
    "\n",
    "# vowel string\n",
    "vowel_string = 'aeiou'\n",
    "print(list(vowel_string))\n",
    "\n",
    "# vowel tuple\n",
    "vowel_tuple = ('a', 'e', 'i', 'o', 'u')\n",
    "print(list(vowel_tuple))\n",
    "\n",
    "# vowel list\n",
    "vowel_list = ['a', 'e', 'i', 'o', 'u']\n",
    "print(list(vowel_list))"
   ]
  },
  {
   "cell_type": "code",
   "execution_count": 86,
   "metadata": {},
   "outputs": [
    {
     "ename": "TypeError",
     "evalue": "'set' object is not callable",
     "output_type": "error",
     "traceback": [
      "\u001b[0;31m---------------------------------------------------------------------------\u001b[0m",
      "\u001b[0;31mTypeError\u001b[0m                                 Traceback (most recent call last)",
      "\u001b[1;32m/Users/mattan/Desktop/Mattan/Visual Code Studio/Udemy/Complete-Python-3-Bootcamp/Portfolio/Guessing_Game_Challenge.ipynb Cell 16'\u001b[0m in \u001b[0;36m<cell line: 4>\u001b[0;34m()\u001b[0m\n\u001b[1;32m      <a href='vscode-notebook-cell:/Users/mattan/Desktop/Mattan/Visual%20Code%20Studio/Udemy/Complete-Python-3-Bootcamp/Portfolio/Guessing_Game_Challenge.ipynb#ch0000015?line=0'>1</a>\u001b[0m text \u001b[39m=\u001b[39m \u001b[39m'\u001b[39m\u001b[39mPython\u001b[39m\u001b[39m'\u001b[39m\n\u001b[1;32m      <a href='vscode-notebook-cell:/Users/mattan/Desktop/Mattan/Visual%20Code%20Studio/Udemy/Complete-Python-3-Bootcamp/Portfolio/Guessing_Game_Challenge.ipynb#ch0000015?line=2'>3</a>\u001b[0m \u001b[39m# convert string to list\u001b[39;00m\n\u001b[0;32m----> <a href='vscode-notebook-cell:/Users/mattan/Desktop/Mattan/Visual%20Code%20Studio/Udemy/Complete-Python-3-Bootcamp/Portfolio/Guessing_Game_Challenge.ipynb#ch0000015?line=3'>4</a>\u001b[0m text_list \u001b[39m=\u001b[39m \u001b[39mlist\u001b[39;49m(text)\n\u001b[1;32m      <a href='vscode-notebook-cell:/Users/mattan/Desktop/Mattan/Visual%20Code%20Studio/Udemy/Complete-Python-3-Bootcamp/Portfolio/Guessing_Game_Challenge.ipynb#ch0000015?line=4'>5</a>\u001b[0m \u001b[39mprint\u001b[39m(text_list)\n\u001b[1;32m      <a href='vscode-notebook-cell:/Users/mattan/Desktop/Mattan/Visual%20Code%20Studio/Udemy/Complete-Python-3-Bootcamp/Portfolio/Guessing_Game_Challenge.ipynb#ch0000015?line=6'>7</a>\u001b[0m \u001b[39m# check type of text_list\u001b[39;00m\n",
      "\u001b[0;31mTypeError\u001b[0m: 'set' object is not callable"
     ]
    }
   ],
   "source": []
  },
  {
   "cell_type": "code",
   "execution_count": 2,
   "metadata": {},
   "outputs": [
    {
     "data": {
      "text/plain": [
       "['m', 'a', 't', 't', 'a', 'n']"
      ]
     },
     "execution_count": 2,
     "metadata": {},
     "output_type": "execute_result"
    }
   ],
   "source": []
  },
  {
   "cell_type": "code",
   "execution_count": null,
   "metadata": {},
   "outputs": [],
   "source": []
  }
 ],
 "metadata": {
  "interpreter": {
   "hash": "aee8b7b246df8f9039afb4144a1f6fd8d2ca17a180786b69acc140d282b71a49"
  },
  "kernelspec": {
   "display_name": "Python 3.9.5 64-bit",
   "language": "python",
   "name": "python3"
  },
  "language_info": {
   "codemirror_mode": {
    "name": "ipython",
    "version": 3
   },
   "file_extension": ".py",
   "mimetype": "text/x-python",
   "name": "python",
   "nbconvert_exporter": "python",
   "pygments_lexer": "ipython3",
   "version": "3.9.5"
  },
  "orig_nbformat": 4
 },
 "nbformat": 4,
 "nbformat_minor": 2
}
