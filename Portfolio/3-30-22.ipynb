{
 "cells": [
  {
   "cell_type": "code",
   "execution_count": 1,
   "metadata": {},
   "outputs": [],
   "source": [
    "def myfunc(*args):\n",
    "\n",
    "\n",
    "     return sum(args)"
   ]
  },
  {
   "cell_type": "code",
   "execution_count": 3,
   "metadata": {},
   "outputs": [
    {
     "data": {
      "text/plain": [
       "26"
      ]
     },
     "execution_count": 3,
     "metadata": {},
     "output_type": "execute_result"
    }
   ],
   "source": [
    "myfunc(5,6,7,8)"
   ]
  },
  {
   "cell_type": "code",
   "execution_count": 6,
   "metadata": {},
   "outputs": [],
   "source": [
    "sample_value = \"Mattan\"\n",
    "\n",
    "def myfunc(sample_value):\n",
    "\n",
    "    for a,b in enumerate(sample_value):\n",
    "        print(f\" This is {a} this is {b}\")"
   ]
  },
  {
   "cell_type": "code",
   "execution_count": 7,
   "metadata": {},
   "outputs": [
    {
     "name": "stdout",
     "output_type": "stream",
     "text": [
      " This is 0 this is M\n",
      " This is 1 this is a\n",
      " This is 2 this is t\n",
      " This is 3 this is t\n",
      " This is 4 this is a\n",
      " This is 5 this is n\n"
     ]
    }
   ],
   "source": [
    "myfunc(sample_value)"
   ]
  },
  {
   "cell_type": "code",
   "execution_count": 15,
   "metadata": {},
   "outputs": [],
   "source": [
    "def myfunc(string_value):\n",
    "\n",
    "    #Placeholders\n",
    "    final_output = ''\n",
    "\n",
    "\n",
    "    ## Testing to see if it's even, if yes - append as uppercase value, else append as lowercase value\n",
    "    for a, b in enumerate(string_value):\n",
    "        \n",
    "        if a % 2 == 0:\n",
    "            final_output += b.upper()\n",
    "        else:\n",
    "            final_output += b.lower()\n",
    "            \n",
    "    return final_output\n",
    "\n",
    "\n"
   ]
  },
  {
   "cell_type": "code",
   "execution_count": 16,
   "metadata": {},
   "outputs": [
    {
     "data": {
      "text/plain": [
       "'MaTtAn'"
      ]
     },
     "execution_count": 16,
     "metadata": {},
     "output_type": "execute_result"
    }
   ],
   "source": [
    "myfunc(\"Mattan\")"
   ]
  },
  {
   "cell_type": "code",
   "execution_count": 18,
   "metadata": {},
   "outputs": [],
   "source": [
    "def myfunc(a,b):\n",
    "\n",
    "    if a % 2 ==0 and b % 2 == 0:\n",
    "        return min(a,b)\n",
    "    \n",
    "    else:\n",
    "        return max(a,b)"
   ]
  },
  {
   "cell_type": "code",
   "execution_count": 19,
   "metadata": {},
   "outputs": [
    {
     "data": {
      "text/plain": [
       "2"
      ]
     },
     "execution_count": 19,
     "metadata": {},
     "output_type": "execute_result"
    }
   ],
   "source": [
    "myfunc(2,4)"
   ]
  },
  {
   "cell_type": "code",
   "execution_count": 20,
   "metadata": {},
   "outputs": [
    {
     "data": {
      "text/plain": [
       "3"
      ]
     },
     "execution_count": 20,
     "metadata": {},
     "output_type": "execute_result"
    }
   ],
   "source": [
    "myfunc(2,3)"
   ]
  },
  {
   "cell_type": "code",
   "execution_count": 21,
   "metadata": {},
   "outputs": [],
   "source": [
    "def myfunc (a,b):\n",
    "\n",
    "    if (a == 20 or b == 20) or (a + b == 20):\n",
    "\n",
    "        return True\n",
    "    else:\n",
    "        \n",
    "        return False"
   ]
  },
  {
   "cell_type": "code",
   "execution_count": 25,
   "metadata": {},
   "outputs": [
    {
     "data": {
      "text/plain": [
       "False"
      ]
     },
     "execution_count": 25,
     "metadata": {},
     "output_type": "execute_result"
    }
   ],
   "source": [
    "myfunc(2,3)"
   ]
  },
  {
   "cell_type": "code",
   "execution_count": 30,
   "metadata": {},
   "outputs": [],
   "source": [
    "def myfunc(example):\n",
    "\n",
    "    return example"
   ]
  },
  {
   "cell_type": "code",
   "execution_count": 31,
   "metadata": {},
   "outputs": [
    {
     "ename": "NameError",
     "evalue": "name 'split' is not defined",
     "output_type": "error",
     "traceback": [
      "\u001b[1;31m---------------------------------------------------------------------------\u001b[0m",
      "\u001b[1;31mNameError\u001b[0m                                 Traceback (most recent call last)",
      "\u001b[1;32mc:\\Users\\matta\\Documents\\Mattan\\Visual Code Studio\\Udemy\\Complete-Python-3-Bootcamp\\3-30-22.ipynb Cell 13'\u001b[0m in \u001b[0;36m<cell line: 1>\u001b[1;34m()\u001b[0m\n\u001b[1;32m----> <a href='vscode-notebook-cell:/c%3A/Users/matta/Documents/Mattan/Visual%20Code%20Studio/Udemy/Complete-Python-3-Bootcamp/3-30-22.ipynb#ch0000012?line=0'>1</a>\u001b[0m myfunc(\u001b[39m\"\u001b[39;49m\u001b[39mI am home\u001b[39;49m\u001b[39m\"\u001b[39;49m)\n",
      "\u001b[1;32mc:\\Users\\matta\\Documents\\Mattan\\Visual Code Studio\\Udemy\\Complete-Python-3-Bootcamp\\3-30-22.ipynb Cell 12'\u001b[0m in \u001b[0;36mmyfunc\u001b[1;34m(example)\u001b[0m\n\u001b[0;32m      <a href='vscode-notebook-cell:/c%3A/Users/matta/Documents/Mattan/Visual%20Code%20Studio/Udemy/Complete-Python-3-Bootcamp/3-30-22.ipynb#ch0000011?line=0'>1</a>\u001b[0m \u001b[39mdef\u001b[39;00m \u001b[39mmyfunc\u001b[39m(example):\n\u001b[1;32m----> <a href='vscode-notebook-cell:/c%3A/Users/matta/Documents/Mattan/Visual%20Code%20Studio/Udemy/Complete-Python-3-Bootcamp/3-30-22.ipynb#ch0000011?line=2'>3</a>\u001b[0m     \u001b[39mreturn\u001b[39;00m split(example)\n",
      "\u001b[1;31mNameError\u001b[0m: name 'split' is not defined"
     ]
    }
   ],
   "source": [
    "myfunc(\"I am home\")"
   ]
  },
  {
   "cell_type": "code",
   "execution_count": 45,
   "metadata": {},
   "outputs": [],
   "source": [
    "mynum = -32"
   ]
  },
  {
   "cell_type": "code",
   "execution_count": 46,
   "metadata": {},
   "outputs": [],
   "source": [
    "mynumstring = str(mynum)"
   ]
  },
  {
   "cell_type": "code",
   "execution_count": 47,
   "metadata": {},
   "outputs": [
    {
     "data": {
      "text/plain": [
       "'-32'"
      ]
     },
     "execution_count": 47,
     "metadata": {},
     "output_type": "execute_result"
    }
   ],
   "source": [
    "mynumstring"
   ]
  },
  {
   "cell_type": "code",
   "execution_count": 49,
   "metadata": {},
   "outputs": [],
   "source": [
    "newvalue = int(mynumstring)"
   ]
  },
  {
   "cell_type": "code",
   "execution_count": 51,
   "metadata": {},
   "outputs": [
    {
     "data": {
      "text/plain": [
       "32"
      ]
     },
     "execution_count": 51,
     "metadata": {},
     "output_type": "execute_result"
    }
   ],
   "source": [
    "abs(newvalue)"
   ]
  },
  {
   "cell_type": "code",
   "execution_count": 52,
   "metadata": {},
   "outputs": [],
   "source": [
    "mylist = ['a','b']"
   ]
  },
  {
   "cell_type": "code",
   "execution_count": 53,
   "metadata": {},
   "outputs": [
    {
     "data": {
      "text/plain": [
       "['a', 'b']"
      ]
     },
     "execution_count": 53,
     "metadata": {},
     "output_type": "execute_result"
    }
   ],
   "source": [
    "mylist"
   ]
  },
  {
   "cell_type": "code",
   "execution_count": 55,
   "metadata": {},
   "outputs": [
    {
     "data": {
      "text/plain": [
       "'ab'"
      ]
     },
     "execution_count": 55,
     "metadata": {},
     "output_type": "execute_result"
    }
   ],
   "source": [
    "\"\".join(mylist)"
   ]
  },
  {
   "cell_type": "code",
   "execution_count": 56,
   "metadata": {},
   "outputs": [],
   "source": [
    "input_string = 'ab23c'\n",
    "\n",
    "string_reversed = input_string [::-1]"
   ]
  },
  {
   "cell_type": "code",
   "execution_count": 57,
   "metadata": {},
   "outputs": [
    {
     "data": {
      "text/plain": [
       "'c32ba'"
      ]
     },
     "execution_count": 57,
     "metadata": {},
     "output_type": "execute_result"
    }
   ],
   "source": [
    "final_list = []"
   ]
  },
  {
   "cell_type": "code",
   "execution_count": 69,
   "metadata": {},
   "outputs": [
    {
     "name": "stdout",
     "output_type": "stream",
     "text": [
      "CHARACTER FOUND c\n",
      "NUMBER FOUND 3\n",
      "NUMBER FOUND 2\n",
      "CHARACTER FOUND b\n",
      "CHARACTER FOUND a\n"
     ]
    }
   ],
   "source": [
    "import re\n",
    "\n",
    "for char in string_reversed:\n",
    "\n",
    "    if re.search(\"[0-9]\",char):\n",
    "        print(f\"NUMBER FOUND {char}\")\n",
    "    else:\n",
    "        print(f\"CHARACTER FOUND {char}\")\n",
    "\n",
    "    \n",
    "\n"
   ]
  },
  {
   "cell_type": "code",
   "execution_count": 71,
   "metadata": {},
   "outputs": [],
   "source": [
    "def reverse_letter(string):\n",
    "    \n",
    "    import re\n",
    "    \n",
    "    mylist = []\n",
    "    \n",
    "    string_reversed = string[::-1]\n",
    "    \n",
    "    for char in string_reversed:\n",
    "        \n",
    "        if re.search(\"[a-z,A-Z]\",char):\n",
    "            \n",
    "           mylist.append(char)\n",
    "        \n",
    "    return \"\".join(mylist)\n"
   ]
  },
  {
   "cell_type": "code",
   "execution_count": 72,
   "metadata": {},
   "outputs": [
    {
     "data": {
      "text/plain": [
       "'zxepm,fqlw'"
      ]
     },
     "execution_count": 72,
     "metadata": {},
     "output_type": "execute_result"
    }
   ],
   "source": [
    "reverse_letter('wlqf,mpexz')"
   ]
  },
  {
   "cell_type": "code",
   "execution_count": 4,
   "metadata": {},
   "outputs": [
    {
     "name": "stdout",
     "output_type": "stream",
     "text": [
      "How many characters of fib sequence should be calculated? 1\n"
     ]
    }
   ],
   "source": [
    "n = int(input(\"How many characters of fib sequence should be calculated? \"))"
   ]
  },
  {
   "cell_type": "code",
   "execution_count": null,
   "metadata": {},
   "outputs": [],
   "source": []
  },
  {
   "cell_type": "code",
   "execution_count": null,
   "metadata": {},
   "outputs": [],
   "source": []
  }
 ],
 "metadata": {
  "interpreter": {
   "hash": "c463c956dab44f18283dbbfcfc6d3b6b03e67086ca7d5b59e086355a9245719a"
  },
  "kernelspec": {
   "display_name": "Python 3 (ipykernel)",
   "language": "python",
   "name": "python3"
  },
  "language_info": {
   "codemirror_mode": {
    "name": "ipython",
    "version": 3
   },
   "file_extension": ".py",
   "mimetype": "text/x-python",
   "name": "python",
   "nbconvert_exporter": "python",
   "pygments_lexer": "ipython3",
   "version": "3.8.8"
  }
 },
 "nbformat": 4,
 "nbformat_minor": 2
}
