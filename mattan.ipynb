{
 "cells": [
  {
   "cell_type": "code",
   "execution_count": 32,
   "metadata": {},
   "outputs": [],
   "source": [
    "def question():\n",
    "    '''\n",
    "    This function will loop until it collects 3 facts about the user\n",
    "    '''\n",
    "    \n",
    "    ##Placeholder Variables##\n",
    "    facts = []\n",
    "    details_collected = 0\n",
    "\n",
    "    ##Attempt #1\n",
    "    '''while details_collected < 3: #must collect 3 details\n",
    "        answer = input(\"What is your input\")\n",
    "        if len(answer) > 0: #check to make sure they entered something\n",
    "            facts.append(answer)\n",
    "            details_collected += 1\n",
    "        else:\n",
    "            pass'''\n",
    "\n",
    "\n",
    "    ##Attempt #2\n",
    "        \n",
    "\n",
    "\n",
    "\n",
    "\n",
    "\n",
    "\n",
    "\n",
    "\n",
    "    return facts"
   ]
  },
  {
   "cell_type": "code",
   "execution_count": 33,
   "metadata": {},
   "outputs": [
    {
     "data": {
      "text/plain": [
       "[]"
      ]
     },
     "execution_count": 33,
     "metadata": {},
     "output_type": "execute_result"
    }
   ],
   "source": [
    "question()"
   ]
  },
  {
   "cell_type": "code",
   "execution_count": null,
   "metadata": {},
   "outputs": [],
   "source": []
  }
 ],
 "metadata": {
  "interpreter": {
   "hash": "c463c956dab44f18283dbbfcfc6d3b6b03e67086ca7d5b59e086355a9245719a"
  },
  "kernelspec": {
   "display_name": "Python 3.8.8 ('base')",
   "language": "python",
   "name": "python3"
  },
  "language_info": {
   "codemirror_mode": {
    "name": "ipython",
    "version": 3
   },
   "file_extension": ".py",
   "mimetype": "text/x-python",
   "name": "python",
   "nbconvert_exporter": "python",
   "pygments_lexer": "ipython3",
   "version": "3.8.8"
  },
  "orig_nbformat": 4
 },
 "nbformat": 4,
 "nbformat_minor": 2
}
